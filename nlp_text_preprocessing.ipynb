{
 "cells": [
  {
   "cell_type": "code",
   "execution_count": 1,
   "id": "8577b4c9",
   "metadata": {
    "_cell_guid": "b1076dfc-b9ad-4769-8c92-a6c4dae69d19",
    "_uuid": "8f2839f25d086af736a60e9eeb907d3b93b6e0e5",
    "execution": {
     "iopub.execute_input": "2022-02-12T18:04:47.401870Z",
     "iopub.status.busy": "2022-02-12T18:04:47.400667Z",
     "iopub.status.idle": "2022-02-12T18:04:47.410895Z",
     "shell.execute_reply": "2022-02-12T18:04:47.411504Z",
     "shell.execute_reply.started": "2022-02-06T22:08:00.609174Z"
    },
    "papermill": {
     "duration": 0.14029,
     "end_time": "2022-02-12T18:04:47.411795",
     "exception": false,
     "start_time": "2022-02-12T18:04:47.271505",
     "status": "completed"
    },
    "tags": []
   },
   "outputs": [],
   "source": [
    "# This Python 3 environment comes with many helpful analytics libraries installed\n",
    "# It is defined by the kaggle/python Docker image: https://github.com/kaggle/docker-python\n",
    "# For example, here's several helpful packages to load\n",
    "\n",
    "import numpy as np # linear algebra\n",
    "import pandas as pd # data processing, CSV file I/O (e.g. pd.read_csv)\n",
    "\n",
    "# Input data files are available in the read-only \"../input/\" directory\n",
    "# For example, running this (by clicking run or pressing Shift+Enter) will list all files under the input directory\n",
    "\n",
    "import os\n",
    "for dirname, _, filenames in os.walk('/kaggle/input'):\n",
    "    for filename in filenames:\n",
    "        print(os.path.join(dirname, filename))\n",
    "\n",
    "# You can write up to 20GB to the current directory (/kaggle/working/) that gets preserved as output when you create a version using \"Save & Run All\" \n",
    "# You can also write temporary files to /kaggle/temp/, but they won't be saved outside of the current session"
   ]
  },
  {
   "cell_type": "markdown",
   "id": "0589547c",
   "metadata": {
    "papermill": {
     "duration": 0.113578,
     "end_time": "2022-02-12T18:04:47.639959",
     "exception": false,
     "start_time": "2022-02-12T18:04:47.526381",
     "status": "completed"
    },
    "tags": []
   },
   "source": [
    "\n",
    "# Basic String Operations"
   ]
  },
  {
   "cell_type": "code",
   "execution_count": 2,
   "id": "8b537258",
   "metadata": {
    "execution": {
     "iopub.execute_input": "2022-02-12T18:04:47.875490Z",
     "iopub.status.busy": "2022-02-12T18:04:47.874692Z",
     "iopub.status.idle": "2022-02-12T18:04:47.878607Z",
     "shell.execute_reply": "2022-02-12T18:04:47.879144Z",
     "shell.execute_reply.started": "2022-02-06T22:08:00.625949Z"
    },
    "papermill": {
     "duration": 0.125917,
     "end_time": "2022-02-12T18:04:47.879320",
     "exception": false,
     "start_time": "2022-02-12T18:04:47.753403",
     "status": "completed"
    },
    "tags": []
   },
   "outputs": [
    {
     "data": {
      "text/plain": [
       "'mvkmvkmvk'"
      ]
     },
     "execution_count": 2,
     "metadata": {},
     "output_type": "execute_result"
    }
   ],
   "source": [
    "isim = \"mvk\"\n",
    "3 * isim"
   ]
  },
  {
   "cell_type": "code",
   "execution_count": 3,
   "id": "823c46fc",
   "metadata": {
    "execution": {
     "iopub.execute_input": "2022-02-12T18:04:48.115727Z",
     "iopub.status.busy": "2022-02-12T18:04:48.114895Z",
     "iopub.status.idle": "2022-02-12T18:04:48.118040Z",
     "shell.execute_reply": "2022-02-12T18:04:48.118526Z",
     "shell.execute_reply.started": "2022-02-06T22:08:00.651987Z"
    },
    "papermill": {
     "duration": 0.123192,
     "end_time": "2022-02-12T18:04:48.118700",
     "exception": false,
     "start_time": "2022-02-12T18:04:47.995508",
     "status": "completed"
    },
    "tags": []
   },
   "outputs": [
    {
     "data": {
      "text/plain": [
       "'mvkali'"
      ]
     },
     "execution_count": 3,
     "metadata": {},
     "output_type": "execute_result"
    }
   ],
   "source": [
    "\"mvk\" + \"ali\""
   ]
  },
  {
   "cell_type": "code",
   "execution_count": 4,
   "id": "11604ed6",
   "metadata": {
    "execution": {
     "iopub.execute_input": "2022-02-12T18:04:48.350483Z",
     "iopub.status.busy": "2022-02-12T18:04:48.349778Z",
     "iopub.status.idle": "2022-02-12T18:04:48.354009Z",
     "shell.execute_reply": "2022-02-12T18:04:48.354496Z",
     "shell.execute_reply.started": "2022-02-06T22:08:00.705009Z"
    },
    "papermill": {
     "duration": 0.122368,
     "end_time": "2022-02-12T18:04:48.354678",
     "exception": false,
     "start_time": "2022-02-12T18:04:48.232310",
     "status": "completed"
    },
    "tags": []
   },
   "outputs": [
    {
     "data": {
      "text/plain": [
       "'Kvk'"
      ]
     },
     "execution_count": 4,
     "metadata": {},
     "output_type": "execute_result"
    }
   ],
   "source": [
    "\"K\" + isim[1:]"
   ]
  },
  {
   "cell_type": "code",
   "execution_count": 5,
   "id": "2ee88c0e",
   "metadata": {
    "execution": {
     "iopub.execute_input": "2022-02-12T18:04:48.586635Z",
     "iopub.status.busy": "2022-02-12T18:04:48.585918Z",
     "iopub.status.idle": "2022-02-12T18:04:48.589714Z",
     "shell.execute_reply": "2022-02-12T18:04:48.589218Z",
     "shell.execute_reply.started": "2022-02-06T22:08:00.717656Z"
    },
    "papermill": {
     "duration": 0.120347,
     "end_time": "2022-02-12T18:04:48.589866",
     "exception": false,
     "start_time": "2022-02-12T18:04:48.469519",
     "status": "completed"
    },
    "tags": []
   },
   "outputs": [],
   "source": [
    "isimler = [\"ali\",\"veli\",\"ayse\"]"
   ]
  },
  {
   "cell_type": "code",
   "execution_count": 6,
   "id": "ca67d6ad",
   "metadata": {
    "execution": {
     "iopub.execute_input": "2022-02-12T18:04:48.826091Z",
     "iopub.status.busy": "2022-02-12T18:04:48.825151Z",
     "iopub.status.idle": "2022-02-12T18:04:48.828563Z",
     "shell.execute_reply": "2022-02-12T18:04:48.829119Z",
     "shell.execute_reply.started": "2022-02-06T22:08:00.742774Z"
    },
    "papermill": {
     "duration": 0.124806,
     "end_time": "2022-02-12T18:04:48.829301",
     "exception": false,
     "start_time": "2022-02-12T18:04:48.704495",
     "status": "completed"
    },
    "tags": []
   },
   "outputs": [
    {
     "name": "stdout",
     "output_type": "stream",
     "text": [
      "İsim:ali\n",
      "İsim:veli\n",
      "İsim:ayse\n"
     ]
    }
   ],
   "source": [
    "for i in isimler :\n",
    "    print(\"İsim:\",i,sep=\"\")"
   ]
  },
  {
   "cell_type": "code",
   "execution_count": 7,
   "id": "e99a4a48",
   "metadata": {
    "execution": {
     "iopub.execute_input": "2022-02-12T18:04:49.063863Z",
     "iopub.status.busy": "2022-02-12T18:04:49.062936Z",
     "iopub.status.idle": "2022-02-12T18:04:49.066784Z",
     "shell.execute_reply": "2022-02-12T18:04:49.068222Z",
     "shell.execute_reply.started": "2022-02-06T22:08:00.772703Z"
    },
    "papermill": {
     "duration": 0.124784,
     "end_time": "2022-02-12T18:04:49.068411",
     "exception": false,
     "start_time": "2022-02-12T18:04:48.943627",
     "status": "completed"
    },
    "tags": []
   },
   "outputs": [
    {
     "name": "stdout",
     "output_type": "stream",
     "text": [
      "_ali\n",
      "_veli\n",
      "_ayse\n"
     ]
    }
   ],
   "source": [
    "for i in isimler :\n",
    "    print(\"_\",i[0:],sep=\"\")"
   ]
  },
  {
   "cell_type": "code",
   "execution_count": 8,
   "id": "5eb49463",
   "metadata": {
    "execution": {
     "iopub.execute_input": "2022-02-12T18:04:49.301415Z",
     "iopub.status.busy": "2022-02-12T18:04:49.300415Z",
     "iopub.status.idle": "2022-02-12T18:04:49.305714Z",
     "shell.execute_reply": "2022-02-12T18:04:49.306373Z",
     "shell.execute_reply.started": "2022-02-06T22:08:00.806502Z"
    },
    "papermill": {
     "duration": 0.12308,
     "end_time": "2022-02-12T18:04:49.306561",
     "exception": false,
     "start_time": "2022-02-12T18:04:49.183481",
     "status": "completed"
    },
    "tags": []
   },
   "outputs": [
    {
     "name": "stdout",
     "output_type": "stream",
     "text": [
      "(0, 'ali') (1, 'veli') (2, 'ayse')\n"
     ]
    }
   ],
   "source": [
    "print(*enumerate(isimler))"
   ]
  },
  {
   "cell_type": "code",
   "execution_count": 9,
   "id": "efa1007a",
   "metadata": {
    "execution": {
     "iopub.execute_input": "2022-02-12T18:04:49.543313Z",
     "iopub.status.busy": "2022-02-12T18:04:49.542344Z",
     "iopub.status.idle": "2022-02-12T18:04:49.548179Z",
     "shell.execute_reply": "2022-02-12T18:04:49.548641Z",
     "shell.execute_reply.started": "2022-02-06T22:08:00.820648Z"
    },
    "papermill": {
     "duration": 0.125144,
     "end_time": "2022-02-12T18:04:49.548814",
     "exception": false,
     "start_time": "2022-02-12T18:04:49.423670",
     "status": "completed"
    },
    "tags": []
   },
   "outputs": [
    {
     "name": "stdout",
     "output_type": "stream",
     "text": [
      "(0, 'i')\n",
      "(1, 's')\n",
      "(2, 'i')\n",
      "(3, 'm')\n",
      "(4, 'l')\n",
      "(5, 'e')\n",
      "(6, 'r')\n"
     ]
    }
   ],
   "source": [
    "for i in enumerate(\"isimler\"):\n",
    "    print(i)"
   ]
  },
  {
   "cell_type": "code",
   "execution_count": 10,
   "id": "14daff2b",
   "metadata": {
    "execution": {
     "iopub.execute_input": "2022-02-12T18:04:49.782008Z",
     "iopub.status.busy": "2022-02-12T18:04:49.780839Z",
     "iopub.status.idle": "2022-02-12T18:04:49.786382Z",
     "shell.execute_reply": "2022-02-12T18:04:49.787056Z",
     "shell.execute_reply.started": "2022-02-06T22:08:00.855626Z"
    },
    "papermill": {
     "duration": 0.123838,
     "end_time": "2022-02-12T18:04:49.787247",
     "exception": false,
     "start_time": "2022-02-12T18:04:49.663409",
     "status": "completed"
    },
    "tags": []
   },
   "outputs": [
    {
     "name": "stdout",
     "output_type": "stream",
     "text": [
      "(0, 'ali')\n",
      "(1, 'veli')\n",
      "(2, 'ayse')\n"
     ]
    }
   ],
   "source": [
    "for i in enumerate(isimler):\n",
    "    print(i)"
   ]
  },
  {
   "cell_type": "code",
   "execution_count": 11,
   "id": "0b4d9b34",
   "metadata": {
    "execution": {
     "iopub.execute_input": "2022-02-12T18:04:50.024772Z",
     "iopub.status.busy": "2022-02-12T18:04:50.024100Z",
     "iopub.status.idle": "2022-02-12T18:04:50.029289Z",
     "shell.execute_reply": "2022-02-12T18:04:50.029761Z",
     "shell.execute_reply.started": "2022-02-06T22:08:00.882616Z"
    },
    "papermill": {
     "duration": 0.124695,
     "end_time": "2022-02-12T18:04:50.029965",
     "exception": false,
     "start_time": "2022-02-12T18:04:49.905270",
     "status": "completed"
    },
    "tags": []
   },
   "outputs": [
    {
     "name": "stdout",
     "output_type": "stream",
     "text": [
      "(4, 'ali')\n",
      "(5, 'veli')\n",
      "(6, 'ayse')\n"
     ]
    }
   ],
   "source": [
    "for i in enumerate(isimler ,4):\n",
    "    print(i)"
   ]
  },
  {
   "cell_type": "markdown",
   "id": "327a899b",
   "metadata": {
    "papermill": {
     "duration": 0.124068,
     "end_time": "2022-02-12T18:04:50.269556",
     "exception": false,
     "start_time": "2022-02-12T18:04:50.145488",
     "status": "completed"
    },
    "tags": []
   },
   "source": [
    "# In-Array Type Queries"
   ]
  },
  {
   "cell_type": "code",
   "execution_count": 12,
   "id": "2d11f8d8",
   "metadata": {
    "execution": {
     "iopub.execute_input": "2022-02-12T18:04:50.506324Z",
     "iopub.status.busy": "2022-02-12T18:04:50.505565Z",
     "iopub.status.idle": "2022-02-12T18:04:50.510002Z",
     "shell.execute_reply": "2022-02-12T18:04:50.509469Z",
     "shell.execute_reply.started": "2022-02-06T22:08:00.914047Z"
    },
    "papermill": {
     "duration": 0.125341,
     "end_time": "2022-02-12T18:04:50.510185",
     "exception": false,
     "start_time": "2022-02-12T18:04:50.384844",
     "status": "completed"
    },
    "tags": []
   },
   "outputs": [
    {
     "data": {
      "text/plain": [
       "True"
      ]
     },
     "execution_count": 12,
     "metadata": {},
     "output_type": "execute_result"
    }
   ],
   "source": [
    "\"mvk\".isalpha()"
   ]
  },
  {
   "cell_type": "code",
   "execution_count": 13,
   "id": "f15b718b",
   "metadata": {
    "execution": {
     "iopub.execute_input": "2022-02-12T18:04:50.746985Z",
     "iopub.status.busy": "2022-02-12T18:04:50.746040Z",
     "iopub.status.idle": "2022-02-12T18:04:50.750766Z",
     "shell.execute_reply": "2022-02-12T18:04:50.751383Z",
     "shell.execute_reply.started": "2022-02-06T22:08:00.944478Z"
    },
    "papermill": {
     "duration": 0.124432,
     "end_time": "2022-02-12T18:04:50.751554",
     "exception": false,
     "start_time": "2022-02-12T18:04:50.627122",
     "status": "completed"
    },
    "tags": []
   },
   "outputs": [
    {
     "data": {
      "text/plain": [
       "False"
      ]
     },
     "execution_count": 13,
     "metadata": {},
     "output_type": "execute_result"
    }
   ],
   "source": [
    "\"mvk30\".isalpha()"
   ]
  },
  {
   "cell_type": "code",
   "execution_count": 14,
   "id": "5b6a3318",
   "metadata": {
    "execution": {
     "iopub.execute_input": "2022-02-12T18:04:50.989113Z",
     "iopub.status.busy": "2022-02-12T18:04:50.988478Z",
     "iopub.status.idle": "2022-02-12T18:04:50.993108Z",
     "shell.execute_reply": "2022-02-12T18:04:50.993667Z",
     "shell.execute_reply.started": "2022-02-06T22:08:00.976164Z"
    },
    "papermill": {
     "duration": 0.123889,
     "end_time": "2022-02-12T18:04:50.993845",
     "exception": false,
     "start_time": "2022-02-12T18:04:50.869956",
     "status": "completed"
    },
    "tags": []
   },
   "outputs": [
    {
     "data": {
      "text/plain": [
       "True"
      ]
     },
     "execution_count": 14,
     "metadata": {},
     "output_type": "execute_result"
    }
   ],
   "source": [
    "\"123\".isnumeric()"
   ]
  },
  {
   "cell_type": "code",
   "execution_count": 15,
   "id": "ef95fea2",
   "metadata": {
    "execution": {
     "iopub.execute_input": "2022-02-12T18:04:51.231159Z",
     "iopub.status.busy": "2022-02-12T18:04:51.230515Z",
     "iopub.status.idle": "2022-02-12T18:04:51.235399Z",
     "shell.execute_reply": "2022-02-12T18:04:51.236036Z",
     "shell.execute_reply.started": "2022-02-06T22:08:01.00761Z"
    },
    "papermill": {
     "duration": 0.124941,
     "end_time": "2022-02-12T18:04:51.236207",
     "exception": false,
     "start_time": "2022-02-12T18:04:51.111266",
     "status": "completed"
    },
    "tags": []
   },
   "outputs": [
    {
     "data": {
      "text/plain": [
       "True"
      ]
     },
     "execution_count": 15,
     "metadata": {},
     "output_type": "execute_result"
    }
   ],
   "source": [
    "\"123\".isdigit()"
   ]
  },
  {
   "cell_type": "code",
   "execution_count": 16,
   "id": "056b041c",
   "metadata": {
    "execution": {
     "iopub.execute_input": "2022-02-12T18:04:51.472360Z",
     "iopub.status.busy": "2022-02-12T18:04:51.471749Z",
     "iopub.status.idle": "2022-02-12T18:04:51.476702Z",
     "shell.execute_reply": "2022-02-12T18:04:51.477227Z",
     "shell.execute_reply.started": "2022-02-06T22:08:01.034686Z"
    },
    "papermill": {
     "duration": 0.124611,
     "end_time": "2022-02-12T18:04:51.477401",
     "exception": false,
     "start_time": "2022-02-12T18:04:51.352790",
     "status": "completed"
    },
    "tags": []
   },
   "outputs": [
    {
     "data": {
      "text/plain": [
       "True"
      ]
     },
     "execution_count": 16,
     "metadata": {},
     "output_type": "execute_result"
    }
   ],
   "source": [
    "\"mvk30\".isalnum()"
   ]
  },
  {
   "cell_type": "markdown",
   "id": "422ef393",
   "metadata": {
    "papermill": {
     "duration": 0.116571,
     "end_time": "2022-02-12T18:04:51.713470",
     "exception": false,
     "start_time": "2022-02-12T18:04:51.596899",
     "status": "completed"
    },
    "tags": []
   },
   "source": [
    "# Accessing Elements and Element Indexes"
   ]
  },
  {
   "cell_type": "code",
   "execution_count": 17,
   "id": "22ff726c",
   "metadata": {
    "execution": {
     "iopub.execute_input": "2022-02-12T18:04:51.952991Z",
     "iopub.status.busy": "2022-02-12T18:04:51.952303Z",
     "iopub.status.idle": "2022-02-12T18:04:51.957630Z",
     "shell.execute_reply": "2022-02-12T18:04:51.958271Z",
     "shell.execute_reply.started": "2022-02-06T22:08:01.077386Z"
    },
    "papermill": {
     "duration": 0.127023,
     "end_time": "2022-02-12T18:04:51.958441",
     "exception": false,
     "start_time": "2022-02-12T18:04:51.831418",
     "status": "completed"
    },
    "tags": []
   },
   "outputs": [
    {
     "data": {
      "text/plain": [
       "'mü'"
      ]
     },
     "execution_count": 17,
     "metadata": {},
     "output_type": "execute_result"
    }
   ],
   "source": [
    "isim = \"mücahidozcelik\"\n",
    "isim[0:2]"
   ]
  },
  {
   "cell_type": "code",
   "execution_count": 18,
   "id": "0b2c2a2d",
   "metadata": {
    "execution": {
     "iopub.execute_input": "2022-02-12T18:04:52.204707Z",
     "iopub.status.busy": "2022-02-12T18:04:52.204040Z",
     "iopub.status.idle": "2022-02-12T18:04:52.206462Z",
     "shell.execute_reply": "2022-02-12T18:04:52.207078Z",
     "shell.execute_reply.started": "2022-02-06T22:08:01.107585Z"
    },
    "papermill": {
     "duration": 0.127096,
     "end_time": "2022-02-12T18:04:52.207263",
     "exception": false,
     "start_time": "2022-02-12T18:04:52.080167",
     "status": "completed"
    },
    "tags": []
   },
   "outputs": [
    {
     "data": {
      "text/plain": [
       "8"
      ]
     },
     "execution_count": 18,
     "metadata": {},
     "output_type": "execute_result"
    }
   ],
   "source": [
    "isim.index(\"z\")"
   ]
  },
  {
   "cell_type": "markdown",
   "id": "81dbae87",
   "metadata": {
    "papermill": {
     "duration": 0.117014,
     "end_time": "2022-02-12T18:04:52.441629",
     "exception": false,
     "start_time": "2022-02-12T18:04:52.324615",
     "status": "completed"
    },
    "tags": []
   },
   "source": [
    "# Query the start and end characters : startswith() & endswith()"
   ]
  },
  {
   "cell_type": "code",
   "execution_count": 19,
   "id": "6b96bdac",
   "metadata": {
    "execution": {
     "iopub.execute_input": "2022-02-12T18:04:52.680201Z",
     "iopub.status.busy": "2022-02-12T18:04:52.679540Z",
     "iopub.status.idle": "2022-02-12T18:04:52.682597Z",
     "shell.execute_reply": "2022-02-12T18:04:52.683143Z",
     "shell.execute_reply.started": "2022-02-06T22:08:01.127298Z"
    },
    "papermill": {
     "duration": 0.124595,
     "end_time": "2022-02-12T18:04:52.683329",
     "exception": false,
     "start_time": "2022-02-12T18:04:52.558734",
     "status": "completed"
    },
    "tags": []
   },
   "outputs": [],
   "source": [
    "isim = \"Mustafa Vahit Keskin\""
   ]
  },
  {
   "cell_type": "code",
   "execution_count": 20,
   "id": "e4f8ae59",
   "metadata": {
    "execution": {
     "iopub.execute_input": "2022-02-12T18:04:52.925288Z",
     "iopub.status.busy": "2022-02-12T18:04:52.924615Z",
     "iopub.status.idle": "2022-02-12T18:04:52.929378Z",
     "shell.execute_reply": "2022-02-12T18:04:52.929928Z",
     "shell.execute_reply.started": "2022-02-06T22:08:01.147642Z"
    },
    "papermill": {
     "duration": 0.128647,
     "end_time": "2022-02-12T18:04:52.930100",
     "exception": false,
     "start_time": "2022-02-12T18:04:52.801453",
     "status": "completed"
    },
    "tags": []
   },
   "outputs": [
    {
     "data": {
      "text/plain": [
       "False"
      ]
     },
     "execution_count": 20,
     "metadata": {},
     "output_type": "execute_result"
    }
   ],
   "source": [
    "isim.startswith(\"a\")"
   ]
  },
  {
   "cell_type": "code",
   "execution_count": 21,
   "id": "bda347a0",
   "metadata": {
    "execution": {
     "iopub.execute_input": "2022-02-12T18:04:53.171819Z",
     "iopub.status.busy": "2022-02-12T18:04:53.171030Z",
     "iopub.status.idle": "2022-02-12T18:04:53.176062Z",
     "shell.execute_reply": "2022-02-12T18:04:53.176540Z",
     "shell.execute_reply.started": "2022-02-06T22:08:01.172075Z"
    },
    "papermill": {
     "duration": 0.128156,
     "end_time": "2022-02-12T18:04:53.176724",
     "exception": false,
     "start_time": "2022-02-12T18:04:53.048568",
     "status": "completed"
    },
    "tags": []
   },
   "outputs": [
    {
     "data": {
      "text/plain": [
       "True"
      ]
     },
     "execution_count": 21,
     "metadata": {},
     "output_type": "execute_result"
    }
   ],
   "source": [
    "isim.startswith(\"M\")"
   ]
  },
  {
   "cell_type": "code",
   "execution_count": 22,
   "id": "65f85efd",
   "metadata": {
    "execution": {
     "iopub.execute_input": "2022-02-12T18:04:53.421604Z",
     "iopub.status.busy": "2022-02-12T18:04:53.420597Z",
     "iopub.status.idle": "2022-02-12T18:04:53.426848Z",
     "shell.execute_reply": "2022-02-12T18:04:53.426231Z",
     "shell.execute_reply.started": "2022-02-06T22:08:01.201712Z"
    },
    "papermill": {
     "duration": 0.128029,
     "end_time": "2022-02-12T18:04:53.427021",
     "exception": false,
     "start_time": "2022-02-12T18:04:53.298992",
     "status": "completed"
    },
    "tags": []
   },
   "outputs": [
    {
     "data": {
      "text/plain": [
       "3"
      ]
     },
     "execution_count": 22,
     "metadata": {},
     "output_type": "execute_result"
    }
   ],
   "source": [
    "isim.count(\"a\")"
   ]
  },
  {
   "cell_type": "code",
   "execution_count": 23,
   "id": "ce0be977",
   "metadata": {
    "execution": {
     "iopub.execute_input": "2022-02-12T18:04:53.669797Z",
     "iopub.status.busy": "2022-02-12T18:04:53.669100Z",
     "iopub.status.idle": "2022-02-12T18:04:53.671623Z",
     "shell.execute_reply": "2022-02-12T18:04:53.672125Z",
     "shell.execute_reply.started": "2022-02-06T22:08:01.232115Z"
    },
    "papermill": {
     "duration": 0.126205,
     "end_time": "2022-02-12T18:04:53.672308",
     "exception": false,
     "start_time": "2022-02-12T18:04:53.546103",
     "status": "completed"
    },
    "tags": []
   },
   "outputs": [
    {
     "data": {
      "text/plain": [
       "['d', 'e', 'e', 'f', 'r', 't']"
      ]
     },
     "execution_count": 23,
     "metadata": {},
     "output_type": "execute_result"
    }
   ],
   "source": [
    "# sorted \n",
    "\n",
    "sorted(\"defter\")"
   ]
  },
  {
   "cell_type": "code",
   "execution_count": 24,
   "id": "12b17341",
   "metadata": {
    "execution": {
     "iopub.execute_input": "2022-02-12T18:04:53.919343Z",
     "iopub.status.busy": "2022-02-12T18:04:53.918673Z",
     "iopub.status.idle": "2022-02-12T18:04:53.924750Z",
     "shell.execute_reply": "2022-02-12T18:04:53.925436Z",
     "shell.execute_reply.started": "2022-02-06T22:08:01.258274Z"
    },
    "papermill": {
     "duration": 0.130999,
     "end_time": "2022-02-12T18:04:53.925685",
     "exception": false,
     "start_time": "2022-02-12T18:04:53.794686",
     "status": "completed"
    },
    "tags": []
   },
   "outputs": [
    {
     "name": "stdout",
     "output_type": "stream",
     "text": [
      "deefrt\n"
     ]
    }
   ],
   "source": [
    "print(*sorted(\"defter\") , sep = \"\")"
   ]
  },
  {
   "cell_type": "code",
   "execution_count": 25,
   "id": "fba951ee",
   "metadata": {
    "execution": {
     "iopub.execute_input": "2022-02-12T18:04:54.171462Z",
     "iopub.status.busy": "2022-02-12T18:04:54.170569Z",
     "iopub.status.idle": "2022-02-12T18:04:54.174021Z",
     "shell.execute_reply": "2022-02-12T18:04:54.174813Z",
     "shell.execute_reply.started": "2022-02-06T22:08:01.292536Z"
    },
    "papermill": {
     "duration": 0.129361,
     "end_time": "2022-02-12T18:04:54.175017",
     "exception": false,
     "start_time": "2022-02-12T18:04:54.045656",
     "status": "completed"
    },
    "tags": []
   },
   "outputs": [
    {
     "data": {
      "text/plain": [
       "['Mustafa', 'Vahit', 'Keskin']"
      ]
     },
     "execution_count": 25,
     "metadata": {},
     "output_type": "execute_result"
    }
   ],
   "source": [
    "# split characters \n",
    "\n",
    "isim = \"Mustafa Vahit Keskin\"\n",
    "\n",
    "isim.split()"
   ]
  },
  {
   "cell_type": "code",
   "execution_count": 26,
   "id": "04100b86",
   "metadata": {
    "execution": {
     "iopub.execute_input": "2022-02-12T18:04:54.417544Z",
     "iopub.status.busy": "2022-02-12T18:04:54.416520Z",
     "iopub.status.idle": "2022-02-12T18:04:54.421794Z",
     "shell.execute_reply": "2022-02-12T18:04:54.422322Z",
     "shell.execute_reply.started": "2022-02-06T22:08:01.326061Z"
    },
    "papermill": {
     "duration": 0.128002,
     "end_time": "2022-02-12T18:04:54.422508",
     "exception": false,
     "start_time": "2022-02-12T18:04:54.294506",
     "status": "completed"
    },
    "tags": []
   },
   "outputs": [
    {
     "data": {
      "text/plain": [
       "['Must', 'f', ' V', 'hit Keskin']"
      ]
     },
     "execution_count": 26,
     "metadata": {},
     "output_type": "execute_result"
    }
   ],
   "source": [
    "isim.split(\"a\")"
   ]
  },
  {
   "cell_type": "code",
   "execution_count": 27,
   "id": "b39d4a37",
   "metadata": {
    "execution": {
     "iopub.execute_input": "2022-02-12T18:04:54.668939Z",
     "iopub.status.busy": "2022-02-12T18:04:54.667966Z",
     "iopub.status.idle": "2022-02-12T18:04:54.673249Z",
     "shell.execute_reply": "2022-02-12T18:04:54.673691Z",
     "shell.execute_reply.started": "2022-02-06T22:08:01.347351Z"
    },
    "papermill": {
     "duration": 0.130878,
     "end_time": "2022-02-12T18:04:54.673862",
     "exception": false,
     "start_time": "2022-02-12T18:04:54.542984",
     "status": "completed"
    },
    "tags": []
   },
   "outputs": [
    {
     "data": {
      "text/plain": [
       "['Mustafa', 'Vahit', 'Keskin']"
      ]
     },
     "execution_count": 27,
     "metadata": {},
     "output_type": "execute_result"
    }
   ],
   "source": [
    "isim = \"Mustafa_Vahit_Keskin\"\n",
    "isim.split(\"_\")"
   ]
  },
  {
   "cell_type": "markdown",
   "id": "6e67020f",
   "metadata": {
    "papermill": {
     "duration": 0.122093,
     "end_time": "2022-02-12T18:04:54.916370",
     "exception": false,
     "start_time": "2022-02-12T18:04:54.794277",
     "status": "completed"
    },
    "tags": []
   },
   "source": [
    "# Upper and lower case operations"
   ]
  },
  {
   "cell_type": "code",
   "execution_count": 28,
   "id": "718ff3d1",
   "metadata": {
    "execution": {
     "iopub.execute_input": "2022-02-12T18:04:55.161356Z",
     "iopub.status.busy": "2022-02-12T18:04:55.160321Z",
     "iopub.status.idle": "2022-02-12T18:04:55.163639Z",
     "shell.execute_reply": "2022-02-12T18:04:55.164120Z",
     "shell.execute_reply.started": "2022-02-06T22:08:01.378442Z"
    },
    "papermill": {
     "duration": 0.128109,
     "end_time": "2022-02-12T18:04:55.164299",
     "exception": false,
     "start_time": "2022-02-12T18:04:55.036190",
     "status": "completed"
    },
    "tags": []
   },
   "outputs": [],
   "source": [
    "isim = \"Mustafa Vahit Keskin\""
   ]
  },
  {
   "cell_type": "code",
   "execution_count": 29,
   "id": "69e84549",
   "metadata": {
    "execution": {
     "iopub.execute_input": "2022-02-12T18:04:55.412799Z",
     "iopub.status.busy": "2022-02-12T18:04:55.411796Z",
     "iopub.status.idle": "2022-02-12T18:04:55.416838Z",
     "shell.execute_reply": "2022-02-12T18:04:55.417317Z",
     "shell.execute_reply.started": "2022-02-06T22:08:01.399352Z"
    },
    "papermill": {
     "duration": 0.129666,
     "end_time": "2022-02-12T18:04:55.417494",
     "exception": false,
     "start_time": "2022-02-12T18:04:55.287828",
     "status": "completed"
    },
    "tags": []
   },
   "outputs": [
    {
     "data": {
      "text/plain": [
       "'MUSTAFA VAHIT KESKIN'"
      ]
     },
     "execution_count": 29,
     "metadata": {},
     "output_type": "execute_result"
    }
   ],
   "source": [
    "isim.upper()"
   ]
  },
  {
   "cell_type": "code",
   "execution_count": 30,
   "id": "9621ba71",
   "metadata": {
    "execution": {
     "iopub.execute_input": "2022-02-12T18:04:55.662488Z",
     "iopub.status.busy": "2022-02-12T18:04:55.661504Z",
     "iopub.status.idle": "2022-02-12T18:04:55.666679Z",
     "shell.execute_reply": "2022-02-12T18:04:55.667189Z",
     "shell.execute_reply.started": "2022-02-06T22:08:01.43124Z"
    },
    "papermill": {
     "duration": 0.129368,
     "end_time": "2022-02-12T18:04:55.667364",
     "exception": false,
     "start_time": "2022-02-12T18:04:55.537996",
     "status": "completed"
    },
    "tags": []
   },
   "outputs": [
    {
     "data": {
      "text/plain": [
       "'mustafa vahit keskin'"
      ]
     },
     "execution_count": 30,
     "metadata": {},
     "output_type": "execute_result"
    }
   ],
   "source": [
    "isim.lower()"
   ]
  },
  {
   "cell_type": "code",
   "execution_count": 31,
   "id": "5ba708f0",
   "metadata": {
    "execution": {
     "iopub.execute_input": "2022-02-12T18:04:55.915196Z",
     "iopub.status.busy": "2022-02-12T18:04:55.914165Z",
     "iopub.status.idle": "2022-02-12T18:04:55.919566Z",
     "shell.execute_reply": "2022-02-12T18:04:55.920057Z",
     "shell.execute_reply.started": "2022-02-06T22:08:01.464497Z"
    },
    "papermill": {
     "duration": 0.131906,
     "end_time": "2022-02-12T18:04:55.920233",
     "exception": false,
     "start_time": "2022-02-12T18:04:55.788327",
     "status": "completed"
    },
    "tags": []
   },
   "outputs": [
    {
     "data": {
      "text/plain": [
       "'mustafa vahit keskin'"
      ]
     },
     "execution_count": 31,
     "metadata": {},
     "output_type": "execute_result"
    }
   ],
   "source": [
    "isim.upper().lower()"
   ]
  },
  {
   "cell_type": "code",
   "execution_count": 32,
   "id": "1f590285",
   "metadata": {
    "execution": {
     "iopub.execute_input": "2022-02-12T18:04:56.168033Z",
     "iopub.status.busy": "2022-02-12T18:04:56.167342Z",
     "iopub.status.idle": "2022-02-12T18:04:56.170153Z",
     "shell.execute_reply": "2022-02-12T18:04:56.170742Z",
     "shell.execute_reply.started": "2022-02-06T22:08:01.489688Z"
    },
    "papermill": {
     "duration": 0.128227,
     "end_time": "2022-02-12T18:04:56.170929",
     "exception": false,
     "start_time": "2022-02-12T18:04:56.042702",
     "status": "completed"
    },
    "tags": []
   },
   "outputs": [],
   "source": [
    "isim_b = isim.upper()"
   ]
  },
  {
   "cell_type": "code",
   "execution_count": 33,
   "id": "9749f527",
   "metadata": {
    "execution": {
     "iopub.execute_input": "2022-02-12T18:04:56.418304Z",
     "iopub.status.busy": "2022-02-12T18:04:56.417638Z",
     "iopub.status.idle": "2022-02-12T18:04:56.422073Z",
     "shell.execute_reply": "2022-02-12T18:04:56.422648Z",
     "shell.execute_reply.started": "2022-02-06T22:08:01.510639Z"
    },
    "papermill": {
     "duration": 0.129782,
     "end_time": "2022-02-12T18:04:56.422826",
     "exception": false,
     "start_time": "2022-02-12T18:04:56.293044",
     "status": "completed"
    },
    "tags": []
   },
   "outputs": [
    {
     "data": {
      "text/plain": [
       "False"
      ]
     },
     "execution_count": 33,
     "metadata": {},
     "output_type": "execute_result"
    }
   ],
   "source": [
    "isim_b.islower()"
   ]
  },
  {
   "cell_type": "code",
   "execution_count": 34,
   "id": "81aa8aca",
   "metadata": {
    "execution": {
     "iopub.execute_input": "2022-02-12T18:04:56.670944Z",
     "iopub.status.busy": "2022-02-12T18:04:56.670288Z",
     "iopub.status.idle": "2022-02-12T18:04:56.674451Z",
     "shell.execute_reply": "2022-02-12T18:04:56.675038Z",
     "shell.execute_reply.started": "2022-02-06T22:08:01.535556Z"
    },
    "papermill": {
     "duration": 0.130599,
     "end_time": "2022-02-12T18:04:56.675212",
     "exception": false,
     "start_time": "2022-02-12T18:04:56.544613",
     "status": "completed"
    },
    "tags": []
   },
   "outputs": [
    {
     "data": {
      "text/plain": [
       "True"
      ]
     },
     "execution_count": 34,
     "metadata": {},
     "output_type": "execute_result"
    }
   ],
   "source": [
    "isim_b.isupper()"
   ]
  },
  {
   "cell_type": "code",
   "execution_count": 35,
   "id": "b49a9a0d",
   "metadata": {
    "execution": {
     "iopub.execute_input": "2022-02-12T18:04:56.924783Z",
     "iopub.status.busy": "2022-02-12T18:04:56.924108Z",
     "iopub.status.idle": "2022-02-12T18:04:56.927277Z",
     "shell.execute_reply": "2022-02-12T18:04:56.927802Z",
     "shell.execute_reply.started": "2022-02-06T22:08:01.562092Z"
    },
    "papermill": {
     "duration": 0.131011,
     "end_time": "2022-02-12T18:04:56.927981",
     "exception": false,
     "start_time": "2022-02-12T18:04:56.796970",
     "status": "completed"
    },
    "tags": []
   },
   "outputs": [],
   "source": [
    "# capitalize() title() swapcase()\n",
    "isim = \"mustafa vahit keskin\""
   ]
  },
  {
   "cell_type": "code",
   "execution_count": 36,
   "id": "a7a7357f",
   "metadata": {
    "execution": {
     "iopub.execute_input": "2022-02-12T18:04:57.180501Z",
     "iopub.status.busy": "2022-02-12T18:04:57.179845Z",
     "iopub.status.idle": "2022-02-12T18:04:57.184349Z",
     "shell.execute_reply": "2022-02-12T18:04:57.184876Z",
     "shell.execute_reply.started": "2022-02-06T22:08:01.585034Z"
    },
    "papermill": {
     "duration": 0.135403,
     "end_time": "2022-02-12T18:04:57.185072",
     "exception": false,
     "start_time": "2022-02-12T18:04:57.049669",
     "status": "completed"
    },
    "tags": []
   },
   "outputs": [
    {
     "data": {
      "text/plain": [
       "'Mustafa vahit keskin'"
      ]
     },
     "execution_count": 36,
     "metadata": {},
     "output_type": "execute_result"
    }
   ],
   "source": [
    "isim.capitalize()"
   ]
  },
  {
   "cell_type": "code",
   "execution_count": 37,
   "id": "3ace51b2",
   "metadata": {
    "execution": {
     "iopub.execute_input": "2022-02-12T18:04:57.440011Z",
     "iopub.status.busy": "2022-02-12T18:04:57.439389Z",
     "iopub.status.idle": "2022-02-12T18:04:57.443897Z",
     "shell.execute_reply": "2022-02-12T18:04:57.444420Z",
     "shell.execute_reply.started": "2022-02-06T22:08:01.610887Z"
    },
    "papermill": {
     "duration": 0.13112,
     "end_time": "2022-02-12T18:04:57.444589",
     "exception": false,
     "start_time": "2022-02-12T18:04:57.313469",
     "status": "completed"
    },
    "tags": []
   },
   "outputs": [
    {
     "data": {
      "text/plain": [
       "'Mustafa Vahit Keskin'"
      ]
     },
     "execution_count": 37,
     "metadata": {},
     "output_type": "execute_result"
    }
   ],
   "source": [
    "isim.title() "
   ]
  },
  {
   "cell_type": "code",
   "execution_count": 38,
   "id": "0d23e8bb",
   "metadata": {
    "execution": {
     "iopub.execute_input": "2022-02-12T18:04:57.692396Z",
     "iopub.status.busy": "2022-02-12T18:04:57.691428Z",
     "iopub.status.idle": "2022-02-12T18:04:57.696499Z",
     "shell.execute_reply": "2022-02-12T18:04:57.697119Z",
     "shell.execute_reply.started": "2022-02-06T22:08:01.635427Z"
    },
    "papermill": {
     "duration": 0.130644,
     "end_time": "2022-02-12T18:04:57.697289",
     "exception": false,
     "start_time": "2022-02-12T18:04:57.566645",
     "status": "completed"
    },
    "tags": []
   },
   "outputs": [
    {
     "data": {
      "text/plain": [
       "'mustafa VAHIT keskin'"
      ]
     },
     "execution_count": 38,
     "metadata": {},
     "output_type": "execute_result"
    }
   ],
   "source": [
    "isim = \"MUSTAFA vahit KESKIN\"\n",
    "isim.swapcase()  "
   ]
  },
  {
   "cell_type": "markdown",
   "id": "0b95fc89",
   "metadata": {
    "papermill": {
     "duration": 0.124361,
     "end_time": "2022-02-12T18:04:57.944369",
     "exception": false,
     "start_time": "2022-02-12T18:04:57.820008",
     "status": "completed"
    },
    "tags": []
   },
   "source": [
    "# Strip unwanted characters : strip(), lstrip() , rstrip()"
   ]
  },
  {
   "cell_type": "code",
   "execution_count": 39,
   "id": "fc7b92fd",
   "metadata": {
    "execution": {
     "iopub.execute_input": "2022-02-12T18:04:58.194977Z",
     "iopub.status.busy": "2022-02-12T18:04:58.194018Z",
     "iopub.status.idle": "2022-02-12T18:04:58.199147Z",
     "shell.execute_reply": "2022-02-12T18:04:58.199731Z",
     "shell.execute_reply.started": "2022-02-06T22:08:01.661656Z"
    },
    "papermill": {
     "duration": 0.13158,
     "end_time": "2022-02-12T18:04:58.199897",
     "exception": false,
     "start_time": "2022-02-12T18:04:58.068317",
     "status": "completed"
    },
    "tags": []
   },
   "outputs": [
    {
     "data": {
      "text/plain": [
       "'hello'"
      ]
     },
     "execution_count": 39,
     "metadata": {},
     "output_type": "execute_result"
    }
   ],
   "source": [
    "isim = \" hello \"\n",
    "isim.strip()      "
   ]
  },
  {
   "cell_type": "code",
   "execution_count": 40,
   "id": "dda5a42b",
   "metadata": {
    "execution": {
     "iopub.execute_input": "2022-02-12T18:04:58.471838Z",
     "iopub.status.busy": "2022-02-12T18:04:58.470875Z",
     "iopub.status.idle": "2022-02-12T18:04:58.476083Z",
     "shell.execute_reply": "2022-02-12T18:04:58.476666Z",
     "shell.execute_reply.started": "2022-02-06T22:08:01.687298Z"
    },
    "papermill": {
     "duration": 0.13221,
     "end_time": "2022-02-12T18:04:58.476831",
     "exception": false,
     "start_time": "2022-02-12T18:04:58.344621",
     "status": "completed"
    },
    "tags": []
   },
   "outputs": [
    {
     "data": {
      "text/plain": [
       "'hello'"
      ]
     },
     "execution_count": 40,
     "metadata": {},
     "output_type": "execute_result"
    }
   ],
   "source": [
    "isim = \"*hello*\"\n",
    "isim.strip(\"*\")"
   ]
  },
  {
   "cell_type": "code",
   "execution_count": 41,
   "id": "a416d513",
   "metadata": {
    "execution": {
     "iopub.execute_input": "2022-02-12T18:04:58.728240Z",
     "iopub.status.busy": "2022-02-12T18:04:58.727114Z",
     "iopub.status.idle": "2022-02-12T18:04:58.733466Z",
     "shell.execute_reply": "2022-02-12T18:04:58.734112Z",
     "shell.execute_reply.started": "2022-02-06T22:08:01.715842Z"
    },
    "papermill": {
     "duration": 0.134273,
     "end_time": "2022-02-12T18:04:58.734286",
     "exception": false,
     "start_time": "2022-02-12T18:04:58.600013",
     "status": "completed"
    },
    "tags": []
   },
   "outputs": [
    {
     "data": {
      "text/plain": [
       "'hello*'"
      ]
     },
     "execution_count": 41,
     "metadata": {},
     "output_type": "execute_result"
    }
   ],
   "source": [
    "isim = \"*hello*\"\n",
    "isim.rstrip(\"*\")\n",
    "isim.lstrip(\"*\")"
   ]
  },
  {
   "cell_type": "code",
   "execution_count": 42,
   "id": "ca85c66d",
   "metadata": {
    "execution": {
     "iopub.execute_input": "2022-02-12T18:04:58.992710Z",
     "iopub.status.busy": "2022-02-12T18:04:58.991931Z",
     "iopub.status.idle": "2022-02-12T18:04:58.993928Z",
     "shell.execute_reply": "2022-02-12T18:04:58.993385Z",
     "shell.execute_reply.started": "2022-02-06T22:08:01.744138Z"
    },
    "papermill": {
     "duration": 0.135191,
     "end_time": "2022-02-12T18:04:58.994077",
     "exception": false,
     "start_time": "2022-02-12T18:04:58.858886",
     "status": "completed"
    },
    "tags": []
   },
   "outputs": [],
   "source": [
    "# join \n",
    "\n",
    "isim = \"Mustafa Vahit Keskin\"\n",
    "ayrik = isim.split()"
   ]
  },
  {
   "cell_type": "code",
   "execution_count": 43,
   "id": "04f6597c",
   "metadata": {
    "execution": {
     "iopub.execute_input": "2022-02-12T18:04:59.248073Z",
     "iopub.status.busy": "2022-02-12T18:04:59.247014Z",
     "iopub.status.idle": "2022-02-12T18:04:59.252871Z",
     "shell.execute_reply": "2022-02-12T18:04:59.253588Z",
     "shell.execute_reply.started": "2022-02-06T22:08:01.768559Z"
    },
    "papermill": {
     "duration": 0.134698,
     "end_time": "2022-02-12T18:04:59.253792",
     "exception": false,
     "start_time": "2022-02-12T18:04:59.119094",
     "status": "completed"
    },
    "tags": []
   },
   "outputs": [
    {
     "data": {
      "text/plain": [
       "'Mustafa Vahit Keskin'"
      ]
     },
     "execution_count": 43,
     "metadata": {},
     "output_type": "execute_result"
    }
   ],
   "source": [
    "joiner = \" \"\n",
    "joiner.join(ayrik)"
   ]
  },
  {
   "cell_type": "code",
   "execution_count": 44,
   "id": "78ad2d7a",
   "metadata": {
    "execution": {
     "iopub.execute_input": "2022-02-12T18:04:59.508883Z",
     "iopub.status.busy": "2022-02-12T18:04:59.508266Z",
     "iopub.status.idle": "2022-02-12T18:04:59.512675Z",
     "shell.execute_reply": "2022-02-12T18:04:59.513227Z",
     "shell.execute_reply.started": "2022-02-06T22:08:01.797499Z"
    },
    "papermill": {
     "duration": 0.13254,
     "end_time": "2022-02-12T18:04:59.513398",
     "exception": false,
     "start_time": "2022-02-12T18:04:59.380858",
     "status": "completed"
    },
    "tags": []
   },
   "outputs": [
    {
     "data": {
      "text/plain": [
       "'Mustafa*****Vahit*****Keskin'"
      ]
     },
     "execution_count": 44,
     "metadata": {},
     "output_type": "execute_result"
    }
   ],
   "source": [
    "joiner = \"*****\"\n",
    "joiner.join(ayrik)"
   ]
  },
  {
   "cell_type": "markdown",
   "id": "129ecf1d",
   "metadata": {
    "papermill": {
     "duration": 0.125384,
     "end_time": "2022-02-12T18:04:59.764042",
     "exception": false,
     "start_time": "2022-02-12T18:04:59.638658",
     "status": "completed"
    },
    "tags": []
   },
   "source": [
    "# Element Replacement : replace() , str.maketrans() , translate()"
   ]
  },
  {
   "cell_type": "code",
   "execution_count": 45,
   "id": "a7b716ca",
   "metadata": {
    "execution": {
     "iopub.execute_input": "2022-02-12T18:05:00.023218Z",
     "iopub.status.busy": "2022-02-12T18:05:00.022349Z",
     "iopub.status.idle": "2022-02-12T18:05:00.025978Z",
     "shell.execute_reply": "2022-02-12T18:05:00.025456Z",
     "shell.execute_reply.started": "2022-02-06T22:08:01.820991Z"
    },
    "papermill": {
     "duration": 0.135595,
     "end_time": "2022-02-12T18:05:00.026125",
     "exception": false,
     "start_time": "2022-02-12T18:04:59.890530",
     "status": "completed"
    },
    "tags": []
   },
   "outputs": [
    {
     "data": {
      "text/plain": [
       "'Mustafa Vahit Keskin'"
      ]
     },
     "execution_count": 45,
     "metadata": {},
     "output_type": "execute_result"
    }
   ],
   "source": [
    "isim\n",
    "\n",
    "isim.replace(\"V\",\"c\")\n",
    "isim.replace(\"ca\",\"Va\")"
   ]
  },
  {
   "cell_type": "code",
   "execution_count": 46,
   "id": "0b4a85ea",
   "metadata": {
    "execution": {
     "iopub.execute_input": "2022-02-12T18:05:00.281175Z",
     "iopub.status.busy": "2022-02-12T18:05:00.280517Z",
     "iopub.status.idle": "2022-02-12T18:05:00.283553Z",
     "shell.execute_reply": "2022-02-12T18:05:00.284025Z",
     "shell.execute_reply.started": "2022-02-06T22:08:01.847072Z"
    },
    "papermill": {
     "duration": 0.132855,
     "end_time": "2022-02-12T18:05:00.284212",
     "exception": false,
     "start_time": "2022-02-12T18:05:00.151357",
     "status": "completed"
    },
    "tags": []
   },
   "outputs": [],
   "source": [
    "ifade = \"Bu ifade içerisinde bağzı TÜrkçe karakterler vardır\"\n",
    "duzelticek_harfler = \"çÇğĞıİöÖşŞüÜ\"\n",
    "duzeltilmis_harfler = \"cCgGiIoOsSuU\""
   ]
  },
  {
   "cell_type": "code",
   "execution_count": 47,
   "id": "cfcafa35",
   "metadata": {
    "execution": {
     "iopub.execute_input": "2022-02-12T18:05:00.601896Z",
     "iopub.status.busy": "2022-02-12T18:05:00.599090Z",
     "iopub.status.idle": "2022-02-12T18:05:00.605436Z",
     "shell.execute_reply": "2022-02-12T18:05:00.606038Z",
     "shell.execute_reply.started": "2022-02-06T22:08:01.865472Z"
    },
    "papermill": {
     "duration": 0.197037,
     "end_time": "2022-02-12T18:05:00.606208",
     "exception": false,
     "start_time": "2022-02-12T18:05:00.409171",
     "status": "completed"
    },
    "tags": []
   },
   "outputs": [
    {
     "data": {
      "text/plain": [
       "'Bu ifade icerisinde bagzi TUrkce karakterler vardir'"
      ]
     },
     "execution_count": 47,
     "metadata": {},
     "output_type": "execute_result"
    }
   ],
   "source": [
    "alfabe_duzeltme = str.maketrans(duzelticek_harfler,duzeltilmis_harfler)\n",
    "ifade.translate(alfabe_duzeltme)"
   ]
  },
  {
   "cell_type": "code",
   "execution_count": 48,
   "id": "cb8a4e4f",
   "metadata": {
    "execution": {
     "iopub.execute_input": "2022-02-12T18:05:00.863177Z",
     "iopub.status.busy": "2022-02-12T18:05:00.861969Z",
     "iopub.status.idle": "2022-02-12T18:05:00.869886Z",
     "shell.execute_reply": "2022-02-12T18:05:00.870509Z",
     "shell.execute_reply.started": "2022-02-06T22:08:01.890128Z"
    },
    "papermill": {
     "duration": 0.138462,
     "end_time": "2022-02-12T18:05:00.870699",
     "exception": false,
     "start_time": "2022-02-12T18:05:00.732237",
     "status": "completed"
    },
    "tags": []
   },
   "outputs": [],
   "source": [
    "# contains\n",
    "isimler = [\"ayse\",\"Ayşe\",\"ali\",\"aali\",\"Ali\",\"veli\",\"mehmet\",\"berkcan\"]\n",
    "v = pd.Series(isimler)"
   ]
  },
  {
   "cell_type": "code",
   "execution_count": 49,
   "id": "2d727d7c",
   "metadata": {
    "execution": {
     "iopub.execute_input": "2022-02-12T18:05:01.128771Z",
     "iopub.status.busy": "2022-02-12T18:05:01.128091Z",
     "iopub.status.idle": "2022-02-12T18:05:01.134596Z",
     "shell.execute_reply": "2022-02-12T18:05:01.135150Z",
     "shell.execute_reply.started": "2022-02-06T22:08:01.918351Z"
    },
    "papermill": {
     "duration": 0.136315,
     "end_time": "2022-02-12T18:05:01.135325",
     "exception": false,
     "start_time": "2022-02-12T18:05:00.999010",
     "status": "completed"
    },
    "tags": []
   },
   "outputs": [
    {
     "data": {
      "text/plain": [
       "0    False\n",
       "1    False\n",
       "2     True\n",
       "3     True\n",
       "4    False\n",
       "5    False\n",
       "6    False\n",
       "7    False\n",
       "dtype: bool"
      ]
     },
     "execution_count": 49,
     "metadata": {},
     "output_type": "execute_result"
    }
   ],
   "source": [
    "v.str.contains(\"al\")"
   ]
  },
  {
   "cell_type": "code",
   "execution_count": 50,
   "id": "0c1f7d6f",
   "metadata": {
    "execution": {
     "iopub.execute_input": "2022-02-12T18:05:01.390851Z",
     "iopub.status.busy": "2022-02-12T18:05:01.390215Z",
     "iopub.status.idle": "2022-02-12T18:05:01.396596Z",
     "shell.execute_reply": "2022-02-12T18:05:01.397186Z",
     "shell.execute_reply.started": "2022-02-06T22:08:01.948409Z"
    },
    "papermill": {
     "duration": 0.135466,
     "end_time": "2022-02-12T18:05:01.397362",
     "exception": false,
     "start_time": "2022-02-12T18:05:01.261896",
     "status": "completed"
    },
    "tags": []
   },
   "outputs": [
    {
     "data": {
      "text/plain": [
       "2     ali\n",
       "3    aali\n",
       "dtype: object"
      ]
     },
     "execution_count": 50,
     "metadata": {},
     "output_type": "execute_result"
    }
   ],
   "source": [
    "v[v.str.contains(\"al\")]"
   ]
  },
  {
   "cell_type": "code",
   "execution_count": 51,
   "id": "f12767f5",
   "metadata": {
    "execution": {
     "iopub.execute_input": "2022-02-12T18:05:01.654854Z",
     "iopub.status.busy": "2022-02-12T18:05:01.654180Z",
     "iopub.status.idle": "2022-02-12T18:05:01.661697Z",
     "shell.execute_reply": "2022-02-12T18:05:01.661182Z",
     "shell.execute_reply.started": "2022-02-06T22:08:01.975536Z"
    },
    "papermill": {
     "duration": 0.136265,
     "end_time": "2022-02-12T18:05:01.661840",
     "exception": false,
     "start_time": "2022-02-12T18:05:01.525575",
     "status": "completed"
    },
    "tags": []
   },
   "outputs": [
    {
     "data": {
      "text/plain": [
       "2"
      ]
     },
     "execution_count": 51,
     "metadata": {},
     "output_type": "execute_result"
    }
   ],
   "source": [
    "v.str.contains(\"al\").sum()"
   ]
  },
  {
   "cell_type": "code",
   "execution_count": 52,
   "id": "22231943",
   "metadata": {
    "execution": {
     "iopub.execute_input": "2022-02-12T18:05:01.925730Z",
     "iopub.status.busy": "2022-02-12T18:05:01.925029Z",
     "iopub.status.idle": "2022-02-12T18:05:01.928205Z",
     "shell.execute_reply": "2022-02-12T18:05:01.928773Z",
     "shell.execute_reply.started": "2022-02-06T22:08:02.004355Z"
    },
    "papermill": {
     "duration": 0.138221,
     "end_time": "2022-02-12T18:05:01.928973",
     "exception": false,
     "start_time": "2022-02-12T18:05:01.790752",
     "status": "completed"
    },
    "tags": []
   },
   "outputs": [
    {
     "data": {
      "text/plain": [
       "3"
      ]
     },
     "execution_count": 52,
     "metadata": {},
     "output_type": "execute_result"
    }
   ],
   "source": [
    "v.str.contains(\"[aA]li\").sum()"
   ]
  },
  {
   "cell_type": "markdown",
   "id": "8b89ae93",
   "metadata": {
    "papermill": {
     "duration": 0.127345,
     "end_time": "2022-02-12T18:05:02.183979",
     "exception": false,
     "start_time": "2022-02-12T18:05:02.056634",
     "status": "completed"
    },
    "tags": []
   },
   "source": [
    "# Text Mining and Natural Language Processing"
   ]
  },
  {
   "cell_type": "code",
   "execution_count": 53,
   "id": "f0ecd77e",
   "metadata": {
    "execution": {
     "iopub.execute_input": "2022-02-12T18:05:02.444439Z",
     "iopub.status.busy": "2022-02-12T18:05:02.441364Z",
     "iopub.status.idle": "2022-02-12T18:05:02.447867Z",
     "shell.execute_reply": "2022-02-12T18:05:02.447339Z",
     "shell.execute_reply.started": "2022-02-06T22:08:02.026792Z"
    },
    "papermill": {
     "duration": 0.135979,
     "end_time": "2022-02-12T18:05:02.448040",
     "exception": false,
     "start_time": "2022-02-12T18:05:02.312061",
     "status": "completed"
    },
    "tags": []
   },
   "outputs": [
    {
     "data": {
      "text/plain": [
       "\"\\nA Scandal in Bohemia! 01\\nThe Red-headed League,2\\nA Case, of Identity 33\\nThe Boscombe Valley Mystery4\\nThe Five Orange Pips1\\nThe Man with? the Twisted Lip\\nThe Adventure of the Blue Carbuncle\\nThe Adventure of the Speckled Band\\nThe Adventure of the Engineer's Thumb\\nThe Adventure of the Noble Bachelor\\nThe Adventure of the Beryl Coronet\\nThe Adventure of the Copper Beeches\""
      ]
     },
     "execution_count": 53,
     "metadata": {},
     "output_type": "execute_result"
    }
   ],
   "source": [
    "metin = \"\"\"\n",
    "A Scandal in Bohemia! 01\n",
    "The Red-headed League,2\n",
    "A Case, of Identity 33\n",
    "The Boscombe Valley Mystery4\n",
    "The Five Orange Pips1\n",
    "The Man with? the Twisted Lip\n",
    "The Adventure of the Blue Carbuncle\n",
    "The Adventure of the Speckled Band\n",
    "The Adventure of the Engineer's Thumb\n",
    "The Adventure of the Noble Bachelor\n",
    "The Adventure of the Beryl Coronet\n",
    "The Adventure of the Copper Beeches\"\"\"\n",
    "\n",
    "metin"
   ]
  },
  {
   "cell_type": "code",
   "execution_count": 54,
   "id": "63d3db80",
   "metadata": {
    "execution": {
     "iopub.execute_input": "2022-02-12T18:05:02.711613Z",
     "iopub.status.busy": "2022-02-12T18:05:02.710947Z",
     "iopub.status.idle": "2022-02-12T18:05:02.714970Z",
     "shell.execute_reply": "2022-02-12T18:05:02.714442Z",
     "shell.execute_reply.started": "2022-02-06T22:08:02.050602Z"
    },
    "papermill": {
     "duration": 0.138982,
     "end_time": "2022-02-12T18:05:02.715126",
     "exception": false,
     "start_time": "2022-02-12T18:05:02.576144",
     "status": "completed"
    },
    "tags": []
   },
   "outputs": [
    {
     "data": {
      "text/plain": [
       "['A',\n",
       " 'Scandal',\n",
       " 'in',\n",
       " 'Bohemia!',\n",
       " '01',\n",
       " 'The',\n",
       " 'Red-headed',\n",
       " 'League,2',\n",
       " 'A',\n",
       " 'Case,',\n",
       " 'of',\n",
       " 'Identity',\n",
       " '33',\n",
       " 'The',\n",
       " 'Boscombe',\n",
       " 'Valley',\n",
       " 'Mystery4',\n",
       " 'The',\n",
       " 'Five',\n",
       " 'Orange',\n",
       " 'Pips1',\n",
       " 'The',\n",
       " 'Man',\n",
       " 'with?',\n",
       " 'the',\n",
       " 'Twisted',\n",
       " 'Lip',\n",
       " 'The',\n",
       " 'Adventure',\n",
       " 'of',\n",
       " 'the',\n",
       " 'Blue',\n",
       " 'Carbuncle',\n",
       " 'The',\n",
       " 'Adventure',\n",
       " 'of',\n",
       " 'the',\n",
       " 'Speckled',\n",
       " 'Band',\n",
       " 'The',\n",
       " 'Adventure',\n",
       " 'of',\n",
       " 'the',\n",
       " \"Engineer's\",\n",
       " 'Thumb',\n",
       " 'The',\n",
       " 'Adventure',\n",
       " 'of',\n",
       " 'the',\n",
       " 'Noble',\n",
       " 'Bachelor',\n",
       " 'The',\n",
       " 'Adventure',\n",
       " 'of',\n",
       " 'the',\n",
       " 'Beryl',\n",
       " 'Coronet',\n",
       " 'The',\n",
       " 'Adventure',\n",
       " 'of',\n",
       " 'the',\n",
       " 'Copper',\n",
       " 'Beeches']"
      ]
     },
     "execution_count": 54,
     "metadata": {},
     "output_type": "execute_result"
    }
   ],
   "source": [
    "metin.split()"
   ]
  },
  {
   "cell_type": "code",
   "execution_count": 55,
   "id": "010a02d8",
   "metadata": {
    "execution": {
     "iopub.execute_input": "2022-02-12T18:05:02.980478Z",
     "iopub.status.busy": "2022-02-12T18:05:02.979781Z",
     "iopub.status.idle": "2022-02-12T18:05:02.983200Z",
     "shell.execute_reply": "2022-02-12T18:05:02.982540Z",
     "shell.execute_reply.started": "2022-02-06T22:08:02.073011Z"
    },
    "papermill": {
     "duration": 0.139972,
     "end_time": "2022-02-12T18:05:02.983342",
     "exception": false,
     "start_time": "2022-02-12T18:05:02.843370",
     "status": "completed"
    },
    "tags": []
   },
   "outputs": [
    {
     "data": {
      "text/plain": [
       "['',\n",
       " 'A Scandal in Bohemia! 01',\n",
       " 'The Red-headed League,2',\n",
       " 'A Case, of Identity 33',\n",
       " 'The Boscombe Valley Mystery4',\n",
       " 'The Five Orange Pips1',\n",
       " 'The Man with? the Twisted Lip',\n",
       " 'The Adventure of the Blue Carbuncle',\n",
       " 'The Adventure of the Speckled Band',\n",
       " \"The Adventure of the Engineer's Thumb\",\n",
       " 'The Adventure of the Noble Bachelor',\n",
       " 'The Adventure of the Beryl Coronet',\n",
       " 'The Adventure of the Copper Beeches']"
      ]
     },
     "execution_count": 55,
     "metadata": {},
     "output_type": "execute_result"
    }
   ],
   "source": [
    "metin.split(\"\\n\")"
   ]
  },
  {
   "cell_type": "code",
   "execution_count": 56,
   "id": "d592cae5",
   "metadata": {
    "execution": {
     "iopub.execute_input": "2022-02-12T18:05:03.244545Z",
     "iopub.status.busy": "2022-02-12T18:05:03.243796Z",
     "iopub.status.idle": "2022-02-12T18:05:03.247054Z",
     "shell.execute_reply": "2022-02-12T18:05:03.247608Z",
     "shell.execute_reply.started": "2022-02-06T22:08:02.101186Z"
    },
    "papermill": {
     "duration": 0.134342,
     "end_time": "2022-02-12T18:05:03.247790",
     "exception": false,
     "start_time": "2022-02-12T18:05:03.113448",
     "status": "completed"
    },
    "tags": []
   },
   "outputs": [],
   "source": [
    "v_metin = metin.split(\"\\n\")"
   ]
  },
  {
   "cell_type": "code",
   "execution_count": 57,
   "id": "75043b91",
   "metadata": {
    "execution": {
     "iopub.execute_input": "2022-02-12T18:05:03.508333Z",
     "iopub.status.busy": "2022-02-12T18:05:03.507616Z",
     "iopub.status.idle": "2022-02-12T18:05:03.510113Z",
     "shell.execute_reply": "2022-02-12T18:05:03.510561Z",
     "shell.execute_reply.started": "2022-02-06T22:08:02.125461Z"
    },
    "papermill": {
     "duration": 0.134973,
     "end_time": "2022-02-12T18:05:03.510733",
     "exception": false,
     "start_time": "2022-02-12T18:05:03.375760",
     "status": "completed"
    },
    "tags": []
   },
   "outputs": [],
   "source": [
    "import pandas as pd\n",
    "v = pd.Series(v_metin)"
   ]
  },
  {
   "cell_type": "code",
   "execution_count": 58,
   "id": "b7d76e95",
   "metadata": {
    "execution": {
     "iopub.execute_input": "2022-02-12T18:05:03.770652Z",
     "iopub.status.busy": "2022-02-12T18:05:03.769832Z",
     "iopub.status.idle": "2022-02-12T18:05:03.772518Z",
     "shell.execute_reply": "2022-02-12T18:05:03.772990Z",
     "shell.execute_reply.started": "2022-02-06T22:08:02.151289Z"
    },
    "papermill": {
     "duration": 0.13482,
     "end_time": "2022-02-12T18:05:03.773175",
     "exception": false,
     "start_time": "2022-02-12T18:05:03.638355",
     "status": "completed"
    },
    "tags": []
   },
   "outputs": [],
   "source": [
    "metin_vektoru = v[1:len(v)]"
   ]
  },
  {
   "cell_type": "code",
   "execution_count": 59,
   "id": "7625d583",
   "metadata": {
    "execution": {
     "iopub.execute_input": "2022-02-12T18:05:04.037526Z",
     "iopub.status.busy": "2022-02-12T18:05:04.034896Z",
     "iopub.status.idle": "2022-02-12T18:05:04.040447Z",
     "shell.execute_reply": "2022-02-12T18:05:04.039878Z",
     "shell.execute_reply.started": "2022-02-06T22:08:02.174819Z"
    },
    "papermill": {
     "duration": 0.139697,
     "end_time": "2022-02-12T18:05:04.040585",
     "exception": false,
     "start_time": "2022-02-12T18:05:03.900888",
     "status": "completed"
    },
    "tags": []
   },
   "outputs": [],
   "source": [
    "mdf = pd.DataFrame( metin_vektoru , columns= [\"hikayeler\"])"
   ]
  },
  {
   "cell_type": "code",
   "execution_count": 60,
   "id": "5a671ba7",
   "metadata": {
    "execution": {
     "iopub.execute_input": "2022-02-12T18:05:04.327191Z",
     "iopub.status.busy": "2022-02-12T18:05:04.326365Z",
     "iopub.status.idle": "2022-02-12T18:05:04.329639Z",
     "shell.execute_reply": "2022-02-12T18:05:04.329025Z",
     "shell.execute_reply.started": "2022-02-06T22:08:02.235559Z"
    },
    "papermill": {
     "duration": 0.143825,
     "end_time": "2022-02-12T18:05:04.329813",
     "exception": false,
     "start_time": "2022-02-12T18:05:04.185988",
     "status": "completed"
    },
    "tags": []
   },
   "outputs": [],
   "source": [
    "d_mdf = mdf.copy()"
   ]
  },
  {
   "cell_type": "code",
   "execution_count": 61,
   "id": "03981843",
   "metadata": {
    "execution": {
     "iopub.execute_input": "2022-02-12T18:05:04.600039Z",
     "iopub.status.busy": "2022-02-12T18:05:04.599201Z",
     "iopub.status.idle": "2022-02-12T18:05:04.602102Z",
     "shell.execute_reply": "2022-02-12T18:05:04.601515Z",
     "shell.execute_reply.started": "2022-02-06T22:08:02.260385Z"
    },
    "papermill": {
     "duration": 0.136285,
     "end_time": "2022-02-12T18:05:04.602251",
     "exception": false,
     "start_time": "2022-02-12T18:05:04.465966",
     "status": "completed"
    },
    "tags": []
   },
   "outputs": [],
   "source": [
    "list1 = [1,2,3]\n",
    "str1 = \"-\".join(str(i) for i in list1 )"
   ]
  },
  {
   "cell_type": "code",
   "execution_count": 62,
   "id": "894640ae",
   "metadata": {
    "execution": {
     "iopub.execute_input": "2022-02-12T18:05:04.871720Z",
     "iopub.status.busy": "2022-02-12T18:05:04.870685Z",
     "iopub.status.idle": "2022-02-12T18:05:04.876772Z",
     "shell.execute_reply": "2022-02-12T18:05:04.877388Z",
     "shell.execute_reply.started": "2022-02-06T22:08:02.282515Z"
    },
    "papermill": {
     "duration": 0.145953,
     "end_time": "2022-02-12T18:05:04.877565",
     "exception": false,
     "start_time": "2022-02-12T18:05:04.731612",
     "status": "completed"
    },
    "tags": []
   },
   "outputs": [
    {
     "data": {
      "text/plain": [
       "1                  a scandal in bohemia! 01\n",
       "2                   the red-headed league,2\n",
       "3                    a case, of identity 33\n",
       "4              the boscombe valley mystery4\n",
       "5                     the five orange pips1\n",
       "6             the man with? the twisted lip\n",
       "7       the adventure of the blue carbuncle\n",
       "8        the adventure of the speckled band\n",
       "9     the adventure of the engineer's thumb\n",
       "10      the adventure of the noble bachelor\n",
       "11       the adventure of the beryl coronet\n",
       "12      the adventure of the copper beeches\n",
       "Name: hikayeler, dtype: object"
      ]
     },
     "execution_count": 62,
     "metadata": {},
     "output_type": "execute_result"
    }
   ],
   "source": [
    "d_mdf[\"hikayeler\"].apply(lambda x: \" \".join(x.lower() for x in x.split()))"
   ]
  },
  {
   "cell_type": "code",
   "execution_count": 63,
   "id": "089c2531",
   "metadata": {
    "execution": {
     "iopub.execute_input": "2022-02-12T18:05:05.142181Z",
     "iopub.status.busy": "2022-02-12T18:05:05.141474Z",
     "iopub.status.idle": "2022-02-12T18:05:05.145722Z",
     "shell.execute_reply": "2022-02-12T18:05:05.146317Z",
     "shell.execute_reply.started": "2022-02-06T22:08:02.315676Z"
    },
    "papermill": {
     "duration": 0.137519,
     "end_time": "2022-02-12T18:05:05.146493",
     "exception": false,
     "start_time": "2022-02-12T18:05:05.008974",
     "status": "completed"
    },
    "tags": []
   },
   "outputs": [],
   "source": [
    "d_mdf = d_mdf[\"hikayeler\"].apply(lambda x: \" \".join(x.lower() for x in x.split()))"
   ]
  },
  {
   "cell_type": "code",
   "execution_count": 64,
   "id": "fe97ecfa",
   "metadata": {
    "execution": {
     "iopub.execute_input": "2022-02-12T18:05:05.411776Z",
     "iopub.status.busy": "2022-02-12T18:05:05.411126Z",
     "iopub.status.idle": "2022-02-12T18:05:05.417043Z",
     "shell.execute_reply": "2022-02-12T18:05:05.417514Z",
     "shell.execute_reply.started": "2022-02-06T22:08:02.339654Z"
    },
    "papermill": {
     "duration": 0.137464,
     "end_time": "2022-02-12T18:05:05.417704",
     "exception": false,
     "start_time": "2022-02-12T18:05:05.280240",
     "status": "completed"
    },
    "tags": []
   },
   "outputs": [
    {
     "name": "stderr",
     "output_type": "stream",
     "text": [
      "/opt/conda/lib/python3.7/site-packages/ipykernel_launcher.py:1: FutureWarning: The default value of regex will change from True to False in a future version.\n",
      "  \"\"\"Entry point for launching an IPython kernel.\n"
     ]
    }
   ],
   "source": [
    "d_mdf = d_mdf.str.replace(\"[^\\w\\s]\",\"\")"
   ]
  },
  {
   "cell_type": "code",
   "execution_count": 65,
   "id": "927e9a33",
   "metadata": {
    "execution": {
     "iopub.execute_input": "2022-02-12T18:05:05.678088Z",
     "iopub.status.busy": "2022-02-12T18:05:05.677429Z",
     "iopub.status.idle": "2022-02-12T18:05:05.682809Z",
     "shell.execute_reply": "2022-02-12T18:05:05.683450Z",
     "shell.execute_reply.started": "2022-02-06T22:08:02.366518Z"
    },
    "papermill": {
     "duration": 0.137508,
     "end_time": "2022-02-12T18:05:05.683627",
     "exception": false,
     "start_time": "2022-02-12T18:05:05.546119",
     "status": "completed"
    },
    "tags": []
   },
   "outputs": [
    {
     "name": "stderr",
     "output_type": "stream",
     "text": [
      "/opt/conda/lib/python3.7/site-packages/ipykernel_launcher.py:1: FutureWarning: The default value of regex will change from True to False in a future version.\n",
      "  \"\"\"Entry point for launching an IPython kernel.\n"
     ]
    }
   ],
   "source": [
    "d_mdf = d_mdf.str.replace(\"\\d\",\"\")"
   ]
  },
  {
   "cell_type": "markdown",
   "id": "8c1e5bed",
   "metadata": {
    "papermill": {
     "duration": 0.128162,
     "end_time": "2022-02-12T18:05:05.940611",
     "exception": false,
     "start_time": "2022-02-12T18:05:05.812449",
     "status": "completed"
    },
    "tags": []
   },
   "source": [
    "# Stopwords"
   ]
  },
  {
   "cell_type": "code",
   "execution_count": 66,
   "id": "d54f6d45",
   "metadata": {
    "execution": {
     "iopub.execute_input": "2022-02-12T18:05:06.203864Z",
     "iopub.status.busy": "2022-02-12T18:05:06.203249Z",
     "iopub.status.idle": "2022-02-12T18:05:06.208321Z",
     "shell.execute_reply": "2022-02-12T18:05:06.208847Z",
     "shell.execute_reply.started": "2022-02-06T22:08:02.392656Z"
    },
    "papermill": {
     "duration": 0.137826,
     "end_time": "2022-02-12T18:05:06.209037",
     "exception": false,
     "start_time": "2022-02-12T18:05:06.071211",
     "status": "completed"
    },
    "tags": []
   },
   "outputs": [],
   "source": [
    "d_mdf = pd.DataFrame(d_mdf , columns = [\"hikayeler\"])"
   ]
  },
  {
   "cell_type": "code",
   "execution_count": 67,
   "id": "5a2a27ed",
   "metadata": {
    "execution": {
     "iopub.execute_input": "2022-02-12T18:05:06.472445Z",
     "iopub.status.busy": "2022-02-12T18:05:06.471661Z",
     "iopub.status.idle": "2022-02-12T18:05:08.088242Z",
     "shell.execute_reply": "2022-02-12T18:05:08.087446Z",
     "shell.execute_reply.started": "2022-02-06T22:08:02.418637Z"
    },
    "papermill": {
     "duration": 1.75004,
     "end_time": "2022-02-12T18:05:08.088403",
     "exception": false,
     "start_time": "2022-02-12T18:05:06.338363",
     "status": "completed"
    },
    "tags": []
   },
   "outputs": [],
   "source": [
    "import nltk"
   ]
  },
  {
   "cell_type": "code",
   "execution_count": 68,
   "id": "f10ac26f",
   "metadata": {
    "execution": {
     "iopub.execute_input": "2022-02-12T18:05:08.354313Z",
     "iopub.status.busy": "2022-02-12T18:05:08.353446Z",
     "iopub.status.idle": "2022-02-12T18:05:28.399679Z",
     "shell.execute_reply": "2022-02-12T18:05:28.400203Z",
     "shell.execute_reply.started": "2022-02-06T22:08:04.864782Z"
    },
    "papermill": {
     "duration": 20.180892,
     "end_time": "2022-02-12T18:05:28.400382",
     "exception": false,
     "start_time": "2022-02-12T18:05:08.219490",
     "status": "completed"
    },
    "tags": []
   },
   "outputs": [
    {
     "name": "stdout",
     "output_type": "stream",
     "text": [
      "[nltk_data] Error loading stopwords: <urlopen error [Errno -3]\n",
      "[nltk_data]     Temporary failure in name resolution>\n"
     ]
    },
    {
     "data": {
      "text/plain": [
       "False"
      ]
     },
     "execution_count": 68,
     "metadata": {},
     "output_type": "execute_result"
    }
   ],
   "source": [
    "nltk.download(\"stopwords\")"
   ]
  },
  {
   "cell_type": "code",
   "execution_count": 69,
   "id": "1957d1a6",
   "metadata": {
    "execution": {
     "iopub.execute_input": "2022-02-12T18:05:28.668776Z",
     "iopub.status.busy": "2022-02-12T18:05:28.668101Z",
     "iopub.status.idle": "2022-02-12T18:05:28.669607Z",
     "shell.execute_reply": "2022-02-12T18:05:28.670068Z",
     "shell.execute_reply.started": "2022-02-06T22:08:24.917805Z"
    },
    "papermill": {
     "duration": 0.137056,
     "end_time": "2022-02-12T18:05:28.670242",
     "exception": false,
     "start_time": "2022-02-12T18:05:28.533186",
     "status": "completed"
    },
    "tags": []
   },
   "outputs": [],
   "source": [
    "from nltk.corpus import stopwords"
   ]
  },
  {
   "cell_type": "code",
   "execution_count": 70,
   "id": "8301c787",
   "metadata": {
    "execution": {
     "iopub.execute_input": "2022-02-12T18:05:28.934940Z",
     "iopub.status.busy": "2022-02-12T18:05:28.932811Z",
     "iopub.status.idle": "2022-02-12T18:05:28.942820Z",
     "shell.execute_reply": "2022-02-12T18:05:28.942278Z",
     "shell.execute_reply.started": "2022-02-06T22:08:24.930934Z"
    },
    "papermill": {
     "duration": 0.142884,
     "end_time": "2022-02-12T18:05:28.942986",
     "exception": false,
     "start_time": "2022-02-12T18:05:28.800102",
     "status": "completed"
    },
    "tags": []
   },
   "outputs": [],
   "source": [
    "sw = stopwords.words(\"english\")"
   ]
  },
  {
   "cell_type": "code",
   "execution_count": 71,
   "id": "b0c3ded4",
   "metadata": {
    "execution": {
     "iopub.execute_input": "2022-02-12T18:05:29.207407Z",
     "iopub.status.busy": "2022-02-12T18:05:29.206425Z",
     "iopub.status.idle": "2022-02-12T18:05:29.214999Z",
     "shell.execute_reply": "2022-02-12T18:05:29.215594Z",
     "shell.execute_reply.started": "2022-02-06T22:08:24.959726Z"
    },
    "papermill": {
     "duration": 0.1425,
     "end_time": "2022-02-12T18:05:29.215790",
     "exception": false,
     "start_time": "2022-02-12T18:05:29.073290",
     "status": "completed"
    },
    "tags": []
   },
   "outputs": [
    {
     "data": {
      "text/plain": [
       "['i',\n",
       " 'me',\n",
       " 'my',\n",
       " 'myself',\n",
       " 'we',\n",
       " 'our',\n",
       " 'ours',\n",
       " 'ourselves',\n",
       " 'you',\n",
       " \"you're\",\n",
       " \"you've\",\n",
       " \"you'll\",\n",
       " \"you'd\",\n",
       " 'your',\n",
       " 'yours',\n",
       " 'yourself',\n",
       " 'yourselves',\n",
       " 'he',\n",
       " 'him',\n",
       " 'his',\n",
       " 'himself',\n",
       " 'she',\n",
       " \"she's\",\n",
       " 'her',\n",
       " 'hers',\n",
       " 'herself',\n",
       " 'it',\n",
       " \"it's\",\n",
       " 'its',\n",
       " 'itself',\n",
       " 'they',\n",
       " 'them',\n",
       " 'their',\n",
       " 'theirs',\n",
       " 'themselves',\n",
       " 'what',\n",
       " 'which',\n",
       " 'who',\n",
       " 'whom',\n",
       " 'this',\n",
       " 'that',\n",
       " \"that'll\",\n",
       " 'these',\n",
       " 'those',\n",
       " 'am',\n",
       " 'is',\n",
       " 'are',\n",
       " 'was',\n",
       " 'were',\n",
       " 'be',\n",
       " 'been',\n",
       " 'being',\n",
       " 'have',\n",
       " 'has',\n",
       " 'had',\n",
       " 'having',\n",
       " 'do',\n",
       " 'does',\n",
       " 'did',\n",
       " 'doing',\n",
       " 'a',\n",
       " 'an',\n",
       " 'the',\n",
       " 'and',\n",
       " 'but',\n",
       " 'if',\n",
       " 'or',\n",
       " 'because',\n",
       " 'as',\n",
       " 'until',\n",
       " 'while',\n",
       " 'of',\n",
       " 'at',\n",
       " 'by',\n",
       " 'for',\n",
       " 'with',\n",
       " 'about',\n",
       " 'against',\n",
       " 'between',\n",
       " 'into',\n",
       " 'through',\n",
       " 'during',\n",
       " 'before',\n",
       " 'after',\n",
       " 'above',\n",
       " 'below',\n",
       " 'to',\n",
       " 'from',\n",
       " 'up',\n",
       " 'down',\n",
       " 'in',\n",
       " 'out',\n",
       " 'on',\n",
       " 'off',\n",
       " 'over',\n",
       " 'under',\n",
       " 'again',\n",
       " 'further',\n",
       " 'then',\n",
       " 'once',\n",
       " 'here',\n",
       " 'there',\n",
       " 'when',\n",
       " 'where',\n",
       " 'why',\n",
       " 'how',\n",
       " 'all',\n",
       " 'any',\n",
       " 'both',\n",
       " 'each',\n",
       " 'few',\n",
       " 'more',\n",
       " 'most',\n",
       " 'other',\n",
       " 'some',\n",
       " 'such',\n",
       " 'no',\n",
       " 'nor',\n",
       " 'not',\n",
       " 'only',\n",
       " 'own',\n",
       " 'same',\n",
       " 'so',\n",
       " 'than',\n",
       " 'too',\n",
       " 'very',\n",
       " 's',\n",
       " 't',\n",
       " 'can',\n",
       " 'will',\n",
       " 'just',\n",
       " 'don',\n",
       " \"don't\",\n",
       " 'should',\n",
       " \"should've\",\n",
       " 'now',\n",
       " 'd',\n",
       " 'll',\n",
       " 'm',\n",
       " 'o',\n",
       " 're',\n",
       " 've',\n",
       " 'y',\n",
       " 'ain',\n",
       " 'aren',\n",
       " \"aren't\",\n",
       " 'couldn',\n",
       " \"couldn't\",\n",
       " 'didn',\n",
       " \"didn't\",\n",
       " 'doesn',\n",
       " \"doesn't\",\n",
       " 'hadn',\n",
       " \"hadn't\",\n",
       " 'hasn',\n",
       " \"hasn't\",\n",
       " 'haven',\n",
       " \"haven't\",\n",
       " 'isn',\n",
       " \"isn't\",\n",
       " 'ma',\n",
       " 'mightn',\n",
       " \"mightn't\",\n",
       " 'mustn',\n",
       " \"mustn't\",\n",
       " 'needn',\n",
       " \"needn't\",\n",
       " 'shan',\n",
       " \"shan't\",\n",
       " 'shouldn',\n",
       " \"shouldn't\",\n",
       " 'wasn',\n",
       " \"wasn't\",\n",
       " 'weren',\n",
       " \"weren't\",\n",
       " 'won',\n",
       " \"won't\",\n",
       " 'wouldn',\n",
       " \"wouldn't\"]"
      ]
     },
     "execution_count": 71,
     "metadata": {},
     "output_type": "execute_result"
    }
   ],
   "source": [
    "sw"
   ]
  },
  {
   "cell_type": "code",
   "execution_count": 72,
   "id": "4cc899ae",
   "metadata": {
    "execution": {
     "iopub.execute_input": "2022-02-12T18:05:29.484300Z",
     "iopub.status.busy": "2022-02-12T18:05:29.483433Z",
     "iopub.status.idle": "2022-02-12T18:05:29.486681Z",
     "shell.execute_reply": "2022-02-12T18:05:29.487183Z",
     "shell.execute_reply.started": "2022-02-06T22:08:24.981191Z"
    },
    "papermill": {
     "duration": 0.141856,
     "end_time": "2022-02-12T18:05:29.487352",
     "exception": false,
     "start_time": "2022-02-12T18:05:29.345496",
     "status": "completed"
    },
    "tags": []
   },
   "outputs": [
    {
     "data": {
      "text/plain": [
       "1               scandal bohemia\n",
       "2              redheaded league\n",
       "3                 case identity\n",
       "4       boscombe valley mystery\n",
       "5              five orange pips\n",
       "6               man twisted lip\n",
       "7      adventure blue carbuncle\n",
       "8       adventure speckled band\n",
       "9     adventure engineers thumb\n",
       "10     adventure noble bachelor\n",
       "11      adventure beryl coronet\n",
       "12     adventure copper beeches\n",
       "Name: hikayeler, dtype: object"
      ]
     },
     "execution_count": 72,
     "metadata": {},
     "output_type": "execute_result"
    }
   ],
   "source": [
    "d_mdf[\"hikayeler\"].apply(lambda x:\" \".join( x for x in x.split() if x not in sw ))"
   ]
  },
  {
   "cell_type": "code",
   "execution_count": 73,
   "id": "d5361605",
   "metadata": {
    "execution": {
     "iopub.execute_input": "2022-02-12T18:05:29.757296Z",
     "iopub.status.busy": "2022-02-12T18:05:29.756210Z",
     "iopub.status.idle": "2022-02-12T18:05:29.758143Z",
     "shell.execute_reply": "2022-02-12T18:05:29.758686Z",
     "shell.execute_reply.started": "2022-02-06T22:08:25.008088Z"
    },
    "papermill": {
     "duration": 0.141352,
     "end_time": "2022-02-12T18:05:29.758856",
     "exception": false,
     "start_time": "2022-02-12T18:05:29.617504",
     "status": "completed"
    },
    "tags": []
   },
   "outputs": [],
   "source": [
    "d_mdf = d_mdf[\"hikayeler\"].apply(lambda x:\" \".join( x for x in x.split() if x not in sw ))"
   ]
  },
  {
   "cell_type": "code",
   "execution_count": 74,
   "id": "c3137924",
   "metadata": {
    "execution": {
     "iopub.execute_input": "2022-02-12T18:05:30.029863Z",
     "iopub.status.busy": "2022-02-12T18:05:30.029016Z",
     "iopub.status.idle": "2022-02-12T18:05:30.032413Z",
     "shell.execute_reply": "2022-02-12T18:05:30.032958Z",
     "shell.execute_reply.started": "2022-02-06T22:08:25.034837Z"
    },
    "papermill": {
     "duration": 0.144375,
     "end_time": "2022-02-12T18:05:30.033248",
     "exception": false,
     "start_time": "2022-02-12T18:05:29.888873",
     "status": "completed"
    },
    "tags": []
   },
   "outputs": [
    {
     "data": {
      "text/plain": [
       "1               scandal bohemia\n",
       "2              redheaded league\n",
       "3                 case identity\n",
       "4       boscombe valley mystery\n",
       "5              five orange pips\n",
       "6               man twisted lip\n",
       "7      adventure blue carbuncle\n",
       "8       adventure speckled band\n",
       "9     adventure engineers thumb\n",
       "10     adventure noble bachelor\n",
       "11      adventure beryl coronet\n",
       "12     adventure copper beeches\n",
       "Name: hikayeler, dtype: object"
      ]
     },
     "execution_count": 74,
     "metadata": {},
     "output_type": "execute_result"
    }
   ],
   "source": [
    "d_mdf"
   ]
  },
  {
   "cell_type": "markdown",
   "id": "c8a2e977",
   "metadata": {
    "papermill": {
     "duration": 0.131869,
     "end_time": "2022-02-12T18:05:30.299564",
     "exception": false,
     "start_time": "2022-02-12T18:05:30.167695",
     "status": "completed"
    },
    "tags": []
   },
   "source": [
    "# Rarewords"
   ]
  },
  {
   "cell_type": "code",
   "execution_count": 75,
   "id": "38ebe7c4",
   "metadata": {
    "execution": {
     "iopub.execute_input": "2022-02-12T18:05:30.567723Z",
     "iopub.status.busy": "2022-02-12T18:05:30.567029Z",
     "iopub.status.idle": "2022-02-12T18:05:30.569862Z",
     "shell.execute_reply": "2022-02-12T18:05:30.570363Z",
     "shell.execute_reply.started": "2022-02-06T22:08:25.066554Z"
    },
    "papermill": {
     "duration": 0.140382,
     "end_time": "2022-02-12T18:05:30.570533",
     "exception": false,
     "start_time": "2022-02-12T18:05:30.430151",
     "status": "completed"
    },
    "tags": []
   },
   "outputs": [
    {
     "data": {
      "text/plain": [
       "pandas.core.series.Series"
      ]
     },
     "execution_count": 75,
     "metadata": {},
     "output_type": "execute_result"
    }
   ],
   "source": [
    "type(d_mdf)"
   ]
  },
  {
   "cell_type": "code",
   "execution_count": 76,
   "id": "1e06014f",
   "metadata": {
    "execution": {
     "iopub.execute_input": "2022-02-12T18:05:30.839024Z",
     "iopub.status.busy": "2022-02-12T18:05:30.838319Z",
     "iopub.status.idle": "2022-02-12T18:05:30.843800Z",
     "shell.execute_reply": "2022-02-12T18:05:30.844296Z",
     "shell.execute_reply.started": "2022-02-06T22:08:25.094637Z"
    },
    "papermill": {
     "duration": 0.141932,
     "end_time": "2022-02-12T18:05:30.844475",
     "exception": false,
     "start_time": "2022-02-12T18:05:30.702543",
     "status": "completed"
    },
    "tags": []
   },
   "outputs": [],
   "source": [
    "d_mdf = pd.DataFrame(d_mdf , columns = [\"hikayeler\"])"
   ]
  },
  {
   "cell_type": "code",
   "execution_count": 77,
   "id": "822c630d",
   "metadata": {
    "execution": {
     "iopub.execute_input": "2022-02-12T18:05:31.116766Z",
     "iopub.status.busy": "2022-02-12T18:05:31.115768Z",
     "iopub.status.idle": "2022-02-12T18:05:31.127986Z",
     "shell.execute_reply": "2022-02-12T18:05:31.128504Z",
     "shell.execute_reply.started": "2022-02-06T22:08:25.126975Z"
    },
    "papermill": {
     "duration": 0.149198,
     "end_time": "2022-02-12T18:05:31.128674",
     "exception": false,
     "start_time": "2022-02-12T18:05:30.979476",
     "status": "completed"
    },
    "tags": []
   },
   "outputs": [
    {
     "data": {
      "text/plain": [
       "adventure    6\n",
       "scandal      1\n",
       "bohemia      1\n",
       "copper       1\n",
       "coronet      1\n",
       "beryl        1\n",
       "bachelor     1\n",
       "noble        1\n",
       "thumb        1\n",
       "engineers    1\n",
       "band         1\n",
       "speckled     1\n",
       "carbuncle    1\n",
       "blue         1\n",
       "lip          1\n",
       "twisted      1\n",
       "man          1\n",
       "pips         1\n",
       "orange       1\n",
       "five         1\n",
       "mystery      1\n",
       "valley       1\n",
       "boscombe     1\n",
       "identity     1\n",
       "case         1\n",
       "league       1\n",
       "redheaded    1\n",
       "beeches      1\n",
       "dtype: int64"
      ]
     },
     "execution_count": 77,
     "metadata": {},
     "output_type": "execute_result"
    }
   ],
   "source": [
    "pd.Series(\" \".join(d_mdf[\"hikayeler\"]).split()).value_counts()"
   ]
  },
  {
   "cell_type": "code",
   "execution_count": 78,
   "id": "25641ef4",
   "metadata": {
    "execution": {
     "iopub.execute_input": "2022-02-12T18:05:31.425966Z",
     "iopub.status.busy": "2022-02-12T18:05:31.425158Z",
     "iopub.status.idle": "2022-02-12T18:05:31.427881Z",
     "shell.execute_reply": "2022-02-12T18:05:31.428452Z",
     "shell.execute_reply.started": "2022-02-06T22:08:25.156672Z"
    },
    "papermill": {
     "duration": 0.159514,
     "end_time": "2022-02-12T18:05:31.428627",
     "exception": false,
     "start_time": "2022-02-12T18:05:31.269113",
     "status": "completed"
    },
    "tags": []
   },
   "outputs": [],
   "source": [
    "sil = pd.Series(\" \".join(d_mdf[\"hikayeler\"]).split()).value_counts()[-3:]"
   ]
  },
  {
   "cell_type": "code",
   "execution_count": 79,
   "id": "39caf2c9",
   "metadata": {
    "execution": {
     "iopub.execute_input": "2022-02-12T18:05:31.698051Z",
     "iopub.status.busy": "2022-02-12T18:05:31.697317Z",
     "iopub.status.idle": "2022-02-12T18:05:31.700341Z",
     "shell.execute_reply": "2022-02-12T18:05:31.700841Z",
     "shell.execute_reply.started": "2022-02-06T22:08:25.172354Z"
    },
    "papermill": {
     "duration": 0.140682,
     "end_time": "2022-02-12T18:05:31.701033",
     "exception": false,
     "start_time": "2022-02-12T18:05:31.560351",
     "status": "completed"
    },
    "tags": []
   },
   "outputs": [
    {
     "data": {
      "text/plain": [
       "league       1\n",
       "redheaded    1\n",
       "beeches      1\n",
       "dtype: int64"
      ]
     },
     "execution_count": 79,
     "metadata": {},
     "output_type": "execute_result"
    }
   ],
   "source": [
    "sil"
   ]
  },
  {
   "cell_type": "code",
   "execution_count": 80,
   "id": "f3d57bc3",
   "metadata": {
    "execution": {
     "iopub.execute_input": "2022-02-12T18:05:31.976811Z",
     "iopub.status.busy": "2022-02-12T18:05:31.971721Z",
     "iopub.status.idle": "2022-02-12T18:05:31.979272Z",
     "shell.execute_reply": "2022-02-12T18:05:31.979792Z",
     "shell.execute_reply.started": "2022-02-06T22:08:25.211692Z"
    },
    "papermill": {
     "duration": 0.145793,
     "end_time": "2022-02-12T18:05:31.980002",
     "exception": false,
     "start_time": "2022-02-12T18:05:31.834209",
     "status": "completed"
    },
    "tags": []
   },
   "outputs": [
    {
     "data": {
      "text/plain": [
       "1               scandal bohemia\n",
       "2                              \n",
       "3                 case identity\n",
       "4       boscombe valley mystery\n",
       "5              five orange pips\n",
       "6               man twisted lip\n",
       "7      adventure blue carbuncle\n",
       "8       adventure speckled band\n",
       "9     adventure engineers thumb\n",
       "10     adventure noble bachelor\n",
       "11      adventure beryl coronet\n",
       "12             adventure copper\n",
       "Name: hikayeler, dtype: object"
      ]
     },
     "execution_count": 80,
     "metadata": {},
     "output_type": "execute_result"
    }
   ],
   "source": [
    "d_mdf[\"hikayeler\"].apply(lambda x:\" \".join( i for i in x.split() if i not in sil ))\n",
    "# sil deki kelimeler silinmiş oldu "
   ]
  },
  {
   "cell_type": "markdown",
   "id": "ecf82144",
   "metadata": {
    "papermill": {
     "duration": 0.131386,
     "end_time": "2022-02-12T18:05:32.244462",
     "exception": false,
     "start_time": "2022-02-12T18:05:32.113076",
     "status": "completed"
    },
    "tags": []
   },
   "source": [
    "# Tokenization\n"
   ]
  },
  {
   "cell_type": "code",
   "execution_count": 81,
   "id": "b0ccd0d6",
   "metadata": {
    "execution": {
     "iopub.execute_input": "2022-02-12T18:05:32.515577Z",
     "iopub.status.busy": "2022-02-12T18:05:32.514859Z",
     "iopub.status.idle": "2022-02-12T18:06:03.131381Z",
     "shell.execute_reply": "2022-02-12T18:06:03.130634Z",
     "shell.execute_reply.started": "2022-02-06T22:08:25.23573Z"
    },
    "papermill": {
     "duration": 30.753601,
     "end_time": "2022-02-12T18:06:03.131541",
     "exception": false,
     "start_time": "2022-02-12T18:05:32.377940",
     "status": "completed"
    },
    "tags": []
   },
   "outputs": [
    {
     "name": "stdout",
     "output_type": "stream",
     "text": [
      "Requirement already satisfied: nltk in /opt/conda/lib/python3.7/site-packages (3.2.4)\r\n",
      "Requirement already satisfied: six in /opt/conda/lib/python3.7/site-packages (from nltk) (1.16.0)\r\n",
      "\u001b[33mWARNING: Running pip as the 'root' user can result in broken permissions and conflicting behaviour with the system package manager. It is recommended to use a virtual environment instead: https://pip.pypa.io/warnings/venv\u001b[0m\r\n"
     ]
    }
   ],
   "source": [
    "!pip install nltk"
   ]
  },
  {
   "cell_type": "code",
   "execution_count": 82,
   "id": "e9c1beb2",
   "metadata": {
    "execution": {
     "iopub.execute_input": "2022-02-12T18:06:03.414159Z",
     "iopub.status.busy": "2022-02-12T18:06:03.403231Z",
     "iopub.status.idle": "2022-02-12T18:06:23.443883Z",
     "shell.execute_reply": "2022-02-12T18:06:23.443350Z",
     "shell.execute_reply.started": "2022-02-06T22:08:59.505172Z"
    },
    "papermill": {
     "duration": 20.176915,
     "end_time": "2022-02-12T18:06:23.444078",
     "exception": false,
     "start_time": "2022-02-12T18:06:03.267163",
     "status": "completed"
    },
    "tags": []
   },
   "outputs": [
    {
     "name": "stdout",
     "output_type": "stream",
     "text": [
      "[nltk_data] Error loading punkt: <urlopen error [Errno -3] Temporary\n",
      "[nltk_data]     failure in name resolution>\n"
     ]
    },
    {
     "data": {
      "text/plain": [
       "False"
      ]
     },
     "execution_count": 82,
     "metadata": {},
     "output_type": "execute_result"
    }
   ],
   "source": [
    "nltk.download(\"punkt\")"
   ]
  },
  {
   "cell_type": "code",
   "execution_count": 83,
   "id": "ad6cb32b",
   "metadata": {
    "execution": {
     "iopub.execute_input": "2022-02-12T18:06:23.716512Z",
     "iopub.status.busy": "2022-02-12T18:06:23.715842Z",
     "iopub.status.idle": "2022-02-12T18:06:52.586511Z",
     "shell.execute_reply": "2022-02-12T18:06:52.585938Z",
     "shell.execute_reply.started": "2022-02-06T22:09:19.54671Z"
    },
    "papermill": {
     "duration": 29.006908,
     "end_time": "2022-02-12T18:06:52.586677",
     "exception": false,
     "start_time": "2022-02-12T18:06:23.579769",
     "status": "completed"
    },
    "tags": []
   },
   "outputs": [
    {
     "name": "stdout",
     "output_type": "stream",
     "text": [
      "Requirement already satisfied: textblob in /opt/conda/lib/python3.7/site-packages (0.17.1)\r\n",
      "Requirement already satisfied: nltk>=3.1 in /opt/conda/lib/python3.7/site-packages (from textblob) (3.2.4)\r\n",
      "Requirement already satisfied: six in /opt/conda/lib/python3.7/site-packages (from nltk>=3.1->textblob) (1.16.0)\r\n",
      "\u001b[33mWARNING: Running pip as the 'root' user can result in broken permissions and conflicting behaviour with the system package manager. It is recommended to use a virtual environment instead: https://pip.pypa.io/warnings/venv\u001b[0m\r\n"
     ]
    }
   ],
   "source": [
    "!pip install textblob"
   ]
  },
  {
   "cell_type": "code",
   "execution_count": 84,
   "id": "0eaaf6aa",
   "metadata": {
    "execution": {
     "iopub.execute_input": "2022-02-12T18:06:52.864467Z",
     "iopub.status.busy": "2022-02-12T18:06:52.862424Z",
     "iopub.status.idle": "2022-02-12T18:06:52.918275Z",
     "shell.execute_reply": "2022-02-12T18:06:52.917624Z",
     "shell.execute_reply.started": "2022-02-06T22:09:49.780993Z"
    },
    "papermill": {
     "duration": 0.195965,
     "end_time": "2022-02-12T18:06:52.918423",
     "exception": false,
     "start_time": "2022-02-12T18:06:52.722458",
     "status": "completed"
    },
    "tags": []
   },
   "outputs": [],
   "source": [
    "import textblob"
   ]
  },
  {
   "cell_type": "code",
   "execution_count": 85,
   "id": "d1ffe102",
   "metadata": {
    "execution": {
     "iopub.execute_input": "2022-02-12T18:06:53.198115Z",
     "iopub.status.busy": "2022-02-12T18:06:53.197274Z",
     "iopub.status.idle": "2022-02-12T18:06:53.200648Z",
     "shell.execute_reply": "2022-02-12T18:06:53.201202Z",
     "shell.execute_reply.started": "2022-02-06T22:09:49.870513Z"
    },
    "papermill": {
     "duration": 0.146193,
     "end_time": "2022-02-12T18:06:53.201384",
     "exception": false,
     "start_time": "2022-02-12T18:06:53.055191",
     "status": "completed"
    },
    "tags": []
   },
   "outputs": [],
   "source": [
    "from textblob import TextBlob"
   ]
  },
  {
   "cell_type": "code",
   "execution_count": 86,
   "id": "32f33209",
   "metadata": {
    "execution": {
     "iopub.execute_input": "2022-02-12T18:06:53.480056Z",
     "iopub.status.busy": "2022-02-12T18:06:53.479332Z",
     "iopub.status.idle": "2022-02-12T18:06:53.484458Z",
     "shell.execute_reply": "2022-02-12T18:06:53.485029Z",
     "shell.execute_reply.started": "2022-02-06T22:09:49.88055Z"
    },
    "papermill": {
     "duration": 0.146088,
     "end_time": "2022-02-12T18:06:53.485229",
     "exception": false,
     "start_time": "2022-02-12T18:06:53.339141",
     "status": "completed"
    },
    "tags": []
   },
   "outputs": [
    {
     "data": {
      "text/plain": [
       "'scandal bohemia'"
      ]
     },
     "execution_count": 86,
     "metadata": {},
     "output_type": "execute_result"
    }
   ],
   "source": [
    "d_mdf[\"hikayeler\"][1]"
   ]
  },
  {
   "cell_type": "code",
   "execution_count": 87,
   "id": "59cfed28",
   "metadata": {
    "execution": {
     "iopub.execute_input": "2022-02-12T18:06:53.760687Z",
     "iopub.status.busy": "2022-02-12T18:06:53.759947Z",
     "iopub.status.idle": "2022-02-12T18:06:53.780236Z",
     "shell.execute_reply": "2022-02-12T18:06:53.781011Z",
     "shell.execute_reply.started": "2022-02-06T22:09:49.909162Z"
    },
    "papermill": {
     "duration": 0.160292,
     "end_time": "2022-02-12T18:06:53.781349",
     "exception": false,
     "start_time": "2022-02-12T18:06:53.621057",
     "status": "completed"
    },
    "tags": []
   },
   "outputs": [
    {
     "data": {
      "text/plain": [
       "WordList(['scandal', 'bohemia'])"
      ]
     },
     "execution_count": 87,
     "metadata": {},
     "output_type": "execute_result"
    }
   ],
   "source": [
    "TextBlob(d_mdf[\"hikayeler\"][1]).words"
   ]
  },
  {
   "cell_type": "code",
   "execution_count": 88,
   "id": "89cd5fa9",
   "metadata": {
    "execution": {
     "iopub.execute_input": "2022-02-12T18:06:54.060227Z",
     "iopub.status.busy": "2022-02-12T18:06:54.059537Z",
     "iopub.status.idle": "2022-02-12T18:06:54.073071Z",
     "shell.execute_reply": "2022-02-12T18:06:54.072536Z",
     "shell.execute_reply.started": "2022-02-06T22:09:49.955665Z"
    },
    "papermill": {
     "duration": 0.154689,
     "end_time": "2022-02-12T18:06:54.073225",
     "exception": false,
     "start_time": "2022-02-12T18:06:53.918536",
     "status": "completed"
    },
    "tags": []
   },
   "outputs": [
    {
     "data": {
      "text/plain": [
       "1                [scandal, bohemia]\n",
       "2               [redheaded, league]\n",
       "3                  [case, identity]\n",
       "4       [boscombe, valley, mystery]\n",
       "5              [five, orange, pips]\n",
       "6               [man, twisted, lip]\n",
       "7      [adventure, blue, carbuncle]\n",
       "8       [adventure, speckled, band]\n",
       "9     [adventure, engineers, thumb]\n",
       "10     [adventure, noble, bachelor]\n",
       "11      [adventure, beryl, coronet]\n",
       "12     [adventure, copper, beeches]\n",
       "Name: hikayeler, dtype: object"
      ]
     },
     "execution_count": 88,
     "metadata": {},
     "output_type": "execute_result"
    }
   ],
   "source": [
    "d_mdf[\"hikayeler\"].apply(lambda x: TextBlob(x).words)"
   ]
  },
  {
   "cell_type": "markdown",
   "id": "cde37312",
   "metadata": {
    "papermill": {
     "duration": 0.136822,
     "end_time": "2022-02-12T18:06:54.352384",
     "exception": false,
     "start_time": "2022-02-12T18:06:54.215562",
     "status": "completed"
    },
    "tags": []
   },
   "source": [
    "# Stemming\n"
   ]
  },
  {
   "cell_type": "code",
   "execution_count": 89,
   "id": "4efa6ecc",
   "metadata": {
    "execution": {
     "iopub.execute_input": "2022-02-12T18:06:54.628570Z",
     "iopub.status.busy": "2022-02-12T18:06:54.627890Z",
     "iopub.status.idle": "2022-02-12T18:06:54.629595Z",
     "shell.execute_reply": "2022-02-12T18:06:54.630098Z",
     "shell.execute_reply.started": "2022-02-06T22:09:49.97144Z"
    },
    "papermill": {
     "duration": 0.142227,
     "end_time": "2022-02-12T18:06:54.630275",
     "exception": false,
     "start_time": "2022-02-12T18:06:54.488048",
     "status": "completed"
    },
    "tags": []
   },
   "outputs": [],
   "source": [
    "from nltk.stem import PorterStemmer\n",
    "st = PorterStemmer()"
   ]
  },
  {
   "cell_type": "code",
   "execution_count": 90,
   "id": "c33fc027",
   "metadata": {
    "execution": {
     "iopub.execute_input": "2022-02-12T18:06:54.908086Z",
     "iopub.status.busy": "2022-02-12T18:06:54.907380Z",
     "iopub.status.idle": "2022-02-12T18:06:54.916143Z",
     "shell.execute_reply": "2022-02-12T18:06:54.916638Z",
     "shell.execute_reply.started": "2022-02-06T22:09:49.987362Z"
    },
    "papermill": {
     "duration": 0.148969,
     "end_time": "2022-02-12T18:06:54.916803",
     "exception": false,
     "start_time": "2022-02-12T18:06:54.767834",
     "status": "completed"
    },
    "tags": []
   },
   "outputs": [
    {
     "data": {
      "text/plain": [
       "1            scandal bohemia\n",
       "2              redhead leagu\n",
       "3                 case ident\n",
       "4     boscomb valley mysteri\n",
       "5             five orang pip\n",
       "6              man twist lip\n",
       "7     adventur blue carbuncl\n",
       "8       adventur speckl band\n",
       "9       adventur engin thumb\n",
       "10    adventur nobl bachelor\n",
       "11    adventur beryl coronet\n",
       "12     adventur copper beech\n",
       "Name: hikayeler, dtype: object"
      ]
     },
     "execution_count": 90,
     "metadata": {},
     "output_type": "execute_result"
    }
   ],
   "source": [
    "d_mdf[\"hikayeler\"].apply(lambda x:\" \".join([st.stem(i) for i in x.split()]))"
   ]
  },
  {
   "cell_type": "markdown",
   "id": "de162428",
   "metadata": {
    "papermill": {
     "duration": 0.13757,
     "end_time": "2022-02-12T18:06:55.191099",
     "exception": false,
     "start_time": "2022-02-12T18:06:55.053529",
     "status": "completed"
    },
    "tags": []
   },
   "source": [
    "# Lemmatization"
   ]
  },
  {
   "cell_type": "code",
   "execution_count": 91,
   "id": "93902164",
   "metadata": {
    "execution": {
     "iopub.execute_input": "2022-02-12T18:06:55.472306Z",
     "iopub.status.busy": "2022-02-12T18:06:55.471562Z",
     "iopub.status.idle": "2022-02-12T18:07:15.509684Z",
     "shell.execute_reply": "2022-02-12T18:07:15.509036Z",
     "shell.execute_reply.started": "2022-02-06T22:09:50.010977Z"
    },
    "papermill": {
     "duration": 20.177216,
     "end_time": "2022-02-12T18:07:15.509823",
     "exception": false,
     "start_time": "2022-02-12T18:06:55.332607",
     "status": "completed"
    },
    "tags": []
   },
   "outputs": [
    {
     "name": "stdout",
     "output_type": "stream",
     "text": [
      "[nltk_data] Error loading wordnet: <urlopen error [Errno -3] Temporary\n",
      "[nltk_data]     failure in name resolution>\n"
     ]
    },
    {
     "data": {
      "text/plain": [
       "False"
      ]
     },
     "execution_count": 91,
     "metadata": {},
     "output_type": "execute_result"
    }
   ],
   "source": [
    "from textblob import Word\n",
    "nltk.download(\"wordnet\")"
   ]
  },
  {
   "cell_type": "code",
   "execution_count": 92,
   "id": "4bf9ef64",
   "metadata": {
    "execution": {
     "iopub.execute_input": "2022-02-12T18:07:15.787546Z",
     "iopub.status.busy": "2022-02-12T18:07:15.786890Z",
     "iopub.status.idle": "2022-02-12T18:07:18.031852Z",
     "shell.execute_reply": "2022-02-12T18:07:18.032352Z",
     "shell.execute_reply.started": "2022-02-06T22:10:10.062066Z"
    },
    "papermill": {
     "duration": 2.38574,
     "end_time": "2022-02-12T18:07:18.032528",
     "exception": false,
     "start_time": "2022-02-12T18:07:15.646788",
     "status": "completed"
    },
    "tags": []
   },
   "outputs": [
    {
     "data": {
      "text/plain": [
       "1              scandal bohemia\n",
       "2             redheaded league\n",
       "3                case identity\n",
       "4      boscombe valley mystery\n",
       "5              five orange pip\n",
       "6              man twisted lip\n",
       "7     adventure blue carbuncle\n",
       "8      adventure speckled band\n",
       "9     adventure engineer thumb\n",
       "10    adventure noble bachelor\n",
       "11     adventure beryl coronet\n",
       "12      adventure copper beech\n",
       "Name: hikayeler, dtype: object"
      ]
     },
     "execution_count": 92,
     "metadata": {},
     "output_type": "execute_result"
    }
   ],
   "source": [
    "d_mdf[\"hikayeler\"].apply(lambda x:\" \".join([Word(i).lemmatize() for i in x.split()]))"
   ]
  },
  {
   "cell_type": "code",
   "execution_count": 93,
   "id": "f997795a",
   "metadata": {
    "execution": {
     "iopub.execute_input": "2022-02-12T18:07:18.314327Z",
     "iopub.status.busy": "2022-02-12T18:07:18.313636Z",
     "iopub.status.idle": "2022-02-12T18:07:18.316162Z",
     "shell.execute_reply": "2022-02-12T18:07:18.316635Z",
     "shell.execute_reply.started": "2022-02-06T22:10:12.464093Z"
    },
    "papermill": {
     "duration": 0.146221,
     "end_time": "2022-02-12T18:07:18.316796",
     "exception": false,
     "start_time": "2022-02-12T18:07:18.170575",
     "status": "completed"
    },
    "tags": []
   },
   "outputs": [
    {
     "data": {
      "text/plain": [
       "1        A Scandal in Bohemia! 01\n",
       "2         The Red-headed League,2\n",
       "3          A Case, of Identity 33\n",
       "4    The Boscombe Valley Mystery4\n",
       "5           The Five Orange Pips1\n",
       "Name: hikayeler, dtype: object"
      ]
     },
     "execution_count": 93,
     "metadata": {},
     "output_type": "execute_result"
    }
   ],
   "source": [
    "mdf[\"hikayeler\"][0:5]"
   ]
  },
  {
   "cell_type": "code",
   "execution_count": 94,
   "id": "7bb0f923",
   "metadata": {
    "execution": {
     "iopub.execute_input": "2022-02-12T18:07:18.593835Z",
     "iopub.status.busy": "2022-02-12T18:07:18.593225Z",
     "iopub.status.idle": "2022-02-12T18:07:18.599629Z",
     "shell.execute_reply": "2022-02-12T18:07:18.600245Z",
     "shell.execute_reply.started": "2022-02-06T22:10:12.475323Z"
    },
    "papermill": {
     "duration": 0.147386,
     "end_time": "2022-02-12T18:07:18.600418",
     "exception": false,
     "start_time": "2022-02-12T18:07:18.453032",
     "status": "completed"
    },
    "tags": []
   },
   "outputs": [
    {
     "data": {
      "text/plain": [
       "1            scandal bohemia\n",
       "2           redheaded league\n",
       "3              case identity\n",
       "4    boscombe valley mystery\n",
       "5           five orange pips\n",
       "Name: hikayeler, dtype: object"
      ]
     },
     "execution_count": 94,
     "metadata": {},
     "output_type": "execute_result"
    }
   ],
   "source": [
    "d_mdf[\"hikayeler\"][0:5]"
   ]
  },
  {
   "cell_type": "markdown",
   "id": "12c7a170",
   "metadata": {
    "papermill": {
     "duration": 0.140014,
     "end_time": "2022-02-12T18:07:18.879291",
     "exception": false,
     "start_time": "2022-02-12T18:07:18.739277",
     "status": "completed"
    },
    "tags": []
   },
   "source": [
    "# NLP UYGULAMALARI"
   ]
  },
  {
   "cell_type": "code",
   "execution_count": 95,
   "id": "7e256eed",
   "metadata": {
    "execution": {
     "iopub.execute_input": "2022-02-12T18:07:19.162084Z",
     "iopub.status.busy": "2022-02-12T18:07:19.161340Z",
     "iopub.status.idle": "2022-02-12T18:07:19.164894Z",
     "shell.execute_reply": "2022-02-12T18:07:19.165476Z",
     "shell.execute_reply.started": "2022-02-06T22:10:12.502039Z"
    },
    "papermill": {
     "duration": 0.14818,
     "end_time": "2022-02-12T18:07:19.165648",
     "exception": false,
     "start_time": "2022-02-12T18:07:19.017468",
     "status": "completed"
    },
    "tags": []
   },
   "outputs": [],
   "source": [
    "a = \"\"\"Bu örneği anlaşılabilmesi için daha uzun bir metin üzerinden göstereceğim.\n",
    "N-gram'lar birlikte kullanılan kelimelerin kombinasyonunu gösterir\"\"\""
   ]
  },
  {
   "cell_type": "code",
   "execution_count": 96,
   "id": "cd3b5364",
   "metadata": {
    "execution": {
     "iopub.execute_input": "2022-02-12T18:07:19.444204Z",
     "iopub.status.busy": "2022-02-12T18:07:19.443526Z",
     "iopub.status.idle": "2022-02-12T18:07:19.446801Z",
     "shell.execute_reply": "2022-02-12T18:07:19.447343Z",
     "shell.execute_reply.started": "2022-02-06T22:10:12.524356Z"
    },
    "papermill": {
     "duration": 0.143256,
     "end_time": "2022-02-12T18:07:19.447521",
     "exception": false,
     "start_time": "2022-02-12T18:07:19.304265",
     "status": "completed"
    },
    "tags": []
   },
   "outputs": [],
   "source": [
    "import textblob \n",
    "from textblob import TextBlob"
   ]
  },
  {
   "cell_type": "code",
   "execution_count": 97,
   "id": "84291668",
   "metadata": {
    "execution": {
     "iopub.execute_input": "2022-02-12T18:07:19.725248Z",
     "iopub.status.busy": "2022-02-12T18:07:19.724611Z",
     "iopub.status.idle": "2022-02-12T18:07:19.731962Z",
     "shell.execute_reply": "2022-02-12T18:07:19.732562Z",
     "shell.execute_reply.started": "2022-02-06T22:10:12.551675Z"
    },
    "papermill": {
     "duration": 0.147634,
     "end_time": "2022-02-12T18:07:19.732741",
     "exception": false,
     "start_time": "2022-02-12T18:07:19.585107",
     "status": "completed"
    },
    "tags": []
   },
   "outputs": [
    {
     "data": {
      "text/plain": [
       "[WordList(['Bu']),\n",
       " WordList(['örneği']),\n",
       " WordList(['anlaşılabilmesi']),\n",
       " WordList(['için']),\n",
       " WordList(['daha']),\n",
       " WordList(['uzun']),\n",
       " WordList(['bir']),\n",
       " WordList(['metin']),\n",
       " WordList(['üzerinden']),\n",
       " WordList(['göstereceğim']),\n",
       " WordList([\"N-gram'lar\"]),\n",
       " WordList(['birlikte']),\n",
       " WordList(['kullanılan']),\n",
       " WordList(['kelimelerin']),\n",
       " WordList(['kombinasyonunu']),\n",
       " WordList(['gösterir'])]"
      ]
     },
     "execution_count": 97,
     "metadata": {},
     "output_type": "execute_result"
    }
   ],
   "source": [
    "TextBlob(a).ngrams(1)"
   ]
  },
  {
   "cell_type": "code",
   "execution_count": 98,
   "id": "dee63f44",
   "metadata": {
    "execution": {
     "iopub.execute_input": "2022-02-12T18:07:20.013286Z",
     "iopub.status.busy": "2022-02-12T18:07:20.012646Z",
     "iopub.status.idle": "2022-02-12T18:07:20.018532Z",
     "shell.execute_reply": "2022-02-12T18:07:20.019127Z",
     "shell.execute_reply.started": "2022-02-06T22:10:12.577305Z"
    },
    "papermill": {
     "duration": 0.14889,
     "end_time": "2022-02-12T18:07:20.019304",
     "exception": false,
     "start_time": "2022-02-12T18:07:19.870414",
     "status": "completed"
    },
    "tags": []
   },
   "outputs": [
    {
     "data": {
      "text/plain": [
       "[WordList(['Bu', 'örneği']),\n",
       " WordList(['örneği', 'anlaşılabilmesi']),\n",
       " WordList(['anlaşılabilmesi', 'için']),\n",
       " WordList(['için', 'daha']),\n",
       " WordList(['daha', 'uzun']),\n",
       " WordList(['uzun', 'bir']),\n",
       " WordList(['bir', 'metin']),\n",
       " WordList(['metin', 'üzerinden']),\n",
       " WordList(['üzerinden', 'göstereceğim']),\n",
       " WordList(['göstereceğim', \"N-gram'lar\"]),\n",
       " WordList([\"N-gram'lar\", 'birlikte']),\n",
       " WordList(['birlikte', 'kullanılan']),\n",
       " WordList(['kullanılan', 'kelimelerin']),\n",
       " WordList(['kelimelerin', 'kombinasyonunu']),\n",
       " WordList(['kombinasyonunu', 'gösterir'])]"
      ]
     },
     "execution_count": 98,
     "metadata": {},
     "output_type": "execute_result"
    }
   ],
   "source": [
    "TextBlob(a).ngrams(2)"
   ]
  },
  {
   "cell_type": "code",
   "execution_count": 99,
   "id": "7877a149",
   "metadata": {
    "execution": {
     "iopub.execute_input": "2022-02-12T18:07:20.301492Z",
     "iopub.status.busy": "2022-02-12T18:07:20.300843Z",
     "iopub.status.idle": "2022-02-12T18:07:20.307062Z",
     "shell.execute_reply": "2022-02-12T18:07:20.307576Z",
     "shell.execute_reply.started": "2022-02-06T22:10:12.598921Z"
    },
    "papermill": {
     "duration": 0.150213,
     "end_time": "2022-02-12T18:07:20.307748",
     "exception": false,
     "start_time": "2022-02-12T18:07:20.157535",
     "status": "completed"
    },
    "tags": []
   },
   "outputs": [
    {
     "data": {
      "text/plain": [
       "[WordList(['Bu', 'örneği', 'anlaşılabilmesi']),\n",
       " WordList(['örneği', 'anlaşılabilmesi', 'için']),\n",
       " WordList(['anlaşılabilmesi', 'için', 'daha']),\n",
       " WordList(['için', 'daha', 'uzun']),\n",
       " WordList(['daha', 'uzun', 'bir']),\n",
       " WordList(['uzun', 'bir', 'metin']),\n",
       " WordList(['bir', 'metin', 'üzerinden']),\n",
       " WordList(['metin', 'üzerinden', 'göstereceğim']),\n",
       " WordList(['üzerinden', 'göstereceğim', \"N-gram'lar\"]),\n",
       " WordList(['göstereceğim', \"N-gram'lar\", 'birlikte']),\n",
       " WordList([\"N-gram'lar\", 'birlikte', 'kullanılan']),\n",
       " WordList(['birlikte', 'kullanılan', 'kelimelerin']),\n",
       " WordList(['kullanılan', 'kelimelerin', 'kombinasyonunu']),\n",
       " WordList(['kelimelerin', 'kombinasyonunu', 'gösterir'])]"
      ]
     },
     "execution_count": 99,
     "metadata": {},
     "output_type": "execute_result"
    }
   ],
   "source": [
    "TextBlob(a).ngrams(3)"
   ]
  },
  {
   "cell_type": "markdown",
   "id": "5f22cc15",
   "metadata": {
    "papermill": {
     "duration": 0.138005,
     "end_time": "2022-02-12T18:07:20.583431",
     "exception": false,
     "start_time": "2022-02-12T18:07:20.445426",
     "status": "completed"
    },
    "tags": []
   },
   "source": [
    "# Part of Speech tagging (POS)"
   ]
  },
  {
   "cell_type": "code",
   "execution_count": 100,
   "id": "f8614bc3",
   "metadata": {
    "execution": {
     "iopub.execute_input": "2022-02-12T18:07:20.868981Z",
     "iopub.status.busy": "2022-02-12T18:07:20.867985Z",
     "iopub.status.idle": "2022-02-12T18:07:20.871583Z",
     "shell.execute_reply": "2022-02-12T18:07:20.872190Z",
     "shell.execute_reply.started": "2022-02-06T22:10:12.623331Z"
    },
    "papermill": {
     "duration": 0.147106,
     "end_time": "2022-02-12T18:07:20.872359",
     "exception": false,
     "start_time": "2022-02-12T18:07:20.725253",
     "status": "completed"
    },
    "tags": []
   },
   "outputs": [],
   "source": [
    "import nltk"
   ]
  },
  {
   "cell_type": "code",
   "execution_count": 101,
   "id": "ebc9f2df",
   "metadata": {
    "execution": {
     "iopub.execute_input": "2022-02-12T18:07:21.153716Z",
     "iopub.status.busy": "2022-02-12T18:07:21.152686Z",
     "iopub.status.idle": "2022-02-12T18:07:41.191104Z",
     "shell.execute_reply": "2022-02-12T18:07:41.190549Z",
     "shell.execute_reply.started": "2022-02-06T22:10:12.641012Z"
    },
    "papermill": {
     "duration": 20.180109,
     "end_time": "2022-02-12T18:07:41.191262",
     "exception": false,
     "start_time": "2022-02-12T18:07:21.011153",
     "status": "completed"
    },
    "tags": []
   },
   "outputs": [
    {
     "name": "stdout",
     "output_type": "stream",
     "text": [
      "[nltk_data] Error loading averaged_perceptron_tagger: <urlopen error\n",
      "[nltk_data]     [Errno -3] Temporary failure in name resolution>\n"
     ]
    },
    {
     "data": {
      "text/plain": [
       "False"
      ]
     },
     "execution_count": 101,
     "metadata": {},
     "output_type": "execute_result"
    }
   ],
   "source": [
    "nltk.download(\"averaged_perceptron_tagger\")"
   ]
  },
  {
   "cell_type": "code",
   "execution_count": 102,
   "id": "dc2c3463",
   "metadata": {
    "execution": {
     "iopub.execute_input": "2022-02-12T18:07:41.476516Z",
     "iopub.status.busy": "2022-02-12T18:07:41.475789Z",
     "iopub.status.idle": "2022-02-12T18:07:41.482169Z",
     "shell.execute_reply": "2022-02-12T18:07:41.481572Z",
     "shell.execute_reply.started": "2022-02-06T22:10:32.699624Z"
    },
    "papermill": {
     "duration": 0.149952,
     "end_time": "2022-02-12T18:07:41.482326",
     "exception": false,
     "start_time": "2022-02-12T18:07:41.332374",
     "status": "completed"
    },
    "tags": []
   },
   "outputs": [
    {
     "data": {
      "text/plain": [
       "'redheaded league'"
      ]
     },
     "execution_count": 102,
     "metadata": {},
     "output_type": "execute_result"
    }
   ],
   "source": [
    "d_mdf[\"hikayeler\"][2]"
   ]
  },
  {
   "cell_type": "code",
   "execution_count": 103,
   "id": "569fd7c9",
   "metadata": {
    "execution": {
     "iopub.execute_input": "2022-02-12T18:07:41.769198Z",
     "iopub.status.busy": "2022-02-12T18:07:41.768322Z",
     "iopub.status.idle": "2022-02-12T18:07:41.925455Z",
     "shell.execute_reply": "2022-02-12T18:07:41.924809Z",
     "shell.execute_reply.started": "2022-02-06T22:10:32.711981Z"
    },
    "papermill": {
     "duration": 0.30247,
     "end_time": "2022-02-12T18:07:41.925605",
     "exception": false,
     "start_time": "2022-02-12T18:07:41.623135",
     "status": "completed"
    },
    "tags": []
   },
   "outputs": [
    {
     "data": {
      "text/plain": [
       "[('redheaded', 'VBN'), ('league', 'NN')]"
      ]
     },
     "execution_count": 103,
     "metadata": {},
     "output_type": "execute_result"
    }
   ],
   "source": [
    "TextBlob(d_mdf[\"hikayeler\"][2]).tags"
   ]
  },
  {
   "cell_type": "code",
   "execution_count": 104,
   "id": "783766e6",
   "metadata": {
    "execution": {
     "iopub.execute_input": "2022-02-12T18:07:42.213502Z",
     "iopub.status.busy": "2022-02-12T18:07:42.212773Z",
     "iopub.status.idle": "2022-02-12T18:07:42.235214Z",
     "shell.execute_reply": "2022-02-12T18:07:42.235795Z",
     "shell.execute_reply.started": "2022-02-06T22:10:32.901004Z"
    },
    "papermill": {
     "duration": 0.167654,
     "end_time": "2022-02-12T18:07:42.236002",
     "exception": false,
     "start_time": "2022-02-12T18:07:42.068348",
     "status": "completed"
    },
    "tags": []
   },
   "outputs": [
    {
     "data": {
      "text/plain": [
       "1                        [(scandal, NN), (bohemia, NN)]\n",
       "2                      [(redheaded, VBN), (league, NN)]\n",
       "3                          [(case, NN), (identity, NN)]\n",
       "4         [(boscombe, NN), (valley, NN), (mystery, NN)]\n",
       "5               [(five, CD), (orange, NN), (pips, NNS)]\n",
       "6                [(man, NN), (twisted, VBD), (lip, NN)]\n",
       "7        [(adventure, NN), (blue, JJ), (carbuncle, NN)]\n",
       "8        [(adventure, NN), (speckled, VBD), (band, NN)]\n",
       "9     [(adventure, NN), (engineers, NNS), (thumb, VBP)]\n",
       "10       [(adventure, NN), (noble, JJ), (bachelor, NN)]\n",
       "11        [(adventure, NN), (beryl, NN), (coronet, NN)]\n",
       "12      [(adventure, NN), (copper, NN), (beeches, NNS)]\n",
       "Name: hikayeler, dtype: object"
      ]
     },
     "execution_count": 104,
     "metadata": {},
     "output_type": "execute_result"
    }
   ],
   "source": [
    "d_mdf[\"hikayeler\"].apply(lambda x: TextBlob(x).tags)"
   ]
  },
  {
   "cell_type": "markdown",
   "id": "6af61537",
   "metadata": {
    "papermill": {
     "duration": 0.140575,
     "end_time": "2022-02-12T18:07:42.516898",
     "exception": false,
     "start_time": "2022-02-12T18:07:42.376323",
     "status": "completed"
    },
    "tags": []
   },
   "source": [
    "# Chunking (shallow parsing)"
   ]
  },
  {
   "cell_type": "code",
   "execution_count": 105,
   "id": "5b5c99f1",
   "metadata": {
    "execution": {
     "iopub.execute_input": "2022-02-12T18:07:42.800657Z",
     "iopub.status.busy": "2022-02-12T18:07:42.799646Z",
     "iopub.status.idle": "2022-02-12T18:07:42.813135Z",
     "shell.execute_reply": "2022-02-12T18:07:42.813673Z",
     "shell.execute_reply.started": "2022-02-06T22:10:32.932334Z"
    },
    "papermill": {
     "duration": 0.156296,
     "end_time": "2022-02-12T18:07:42.813852",
     "exception": false,
     "start_time": "2022-02-12T18:07:42.657556",
     "status": "completed"
    },
    "tags": []
   },
   "outputs": [],
   "source": [
    "pos = d_mdf[\"hikayeler\"].apply(lambda x: TextBlob(x).tags)"
   ]
  },
  {
   "cell_type": "code",
   "execution_count": 106,
   "id": "8e3bf48e",
   "metadata": {
    "execution": {
     "iopub.execute_input": "2022-02-12T18:07:43.098251Z",
     "iopub.status.busy": "2022-02-12T18:07:43.097539Z",
     "iopub.status.idle": "2022-02-12T18:07:43.110784Z",
     "shell.execute_reply": "2022-02-12T18:07:43.111276Z",
     "shell.execute_reply.started": "2022-02-06T22:10:32.952411Z"
    },
    "papermill": {
     "duration": 0.157946,
     "end_time": "2022-02-12T18:07:43.111460",
     "exception": false,
     "start_time": "2022-02-12T18:07:42.953514",
     "status": "completed"
    },
    "tags": []
   },
   "outputs": [
    {
     "data": {
      "text/plain": [
       "1                        [(scandal, NN), (bohemia, NN)]\n",
       "2                      [(redheaded, VBN), (league, NN)]\n",
       "3                          [(case, NN), (identity, NN)]\n",
       "4         [(boscombe, NN), (valley, NN), (mystery, NN)]\n",
       "5               [(five, CD), (orange, NN), (pips, NNS)]\n",
       "6                [(man, NN), (twisted, VBD), (lip, NN)]\n",
       "7        [(adventure, NN), (blue, JJ), (carbuncle, NN)]\n",
       "8        [(adventure, NN), (speckled, VBD), (band, NN)]\n",
       "9     [(adventure, NN), (engineers, NNS), (thumb, VBP)]\n",
       "10       [(adventure, NN), (noble, JJ), (bachelor, NN)]\n",
       "11        [(adventure, NN), (beryl, NN), (coronet, NN)]\n",
       "12      [(adventure, NN), (copper, NN), (beeches, NNS)]\n",
       "Name: hikayeler, dtype: object"
      ]
     },
     "execution_count": 106,
     "metadata": {},
     "output_type": "execute_result"
    }
   ],
   "source": [
    "pos"
   ]
  },
  {
   "cell_type": "code",
   "execution_count": 107,
   "id": "f2a1bdb3",
   "metadata": {
    "execution": {
     "iopub.execute_input": "2022-02-12T18:07:43.423026Z",
     "iopub.status.busy": "2022-02-12T18:07:43.422373Z",
     "iopub.status.idle": "2022-02-12T18:07:43.425333Z",
     "shell.execute_reply": "2022-02-12T18:07:43.425811Z",
     "shell.execute_reply.started": "2022-02-06T22:10:32.970871Z"
    },
    "papermill": {
     "duration": 0.164667,
     "end_time": "2022-02-12T18:07:43.425991",
     "exception": false,
     "start_time": "2022-02-12T18:07:43.261324",
     "status": "completed"
    },
    "tags": []
   },
   "outputs": [],
   "source": [
    "cumle = \"R and Python are useful data science tools for the new or old data scientists who eager to do efficient data science task\""
   ]
  },
  {
   "cell_type": "code",
   "execution_count": 108,
   "id": "625acfde",
   "metadata": {
    "execution": {
     "iopub.execute_input": "2022-02-12T18:07:43.711876Z",
     "iopub.status.busy": "2022-02-12T18:07:43.711244Z",
     "iopub.status.idle": "2022-02-12T18:07:43.716768Z",
     "shell.execute_reply": "2022-02-12T18:07:43.717247Z",
     "shell.execute_reply.started": "2022-02-06T22:10:32.979114Z"
    },
    "papermill": {
     "duration": 0.150257,
     "end_time": "2022-02-12T18:07:43.717424",
     "exception": false,
     "start_time": "2022-02-12T18:07:43.567167",
     "status": "completed"
    },
    "tags": []
   },
   "outputs": [],
   "source": [
    "pos = TextBlob(cumle).tags"
   ]
  },
  {
   "cell_type": "code",
   "execution_count": 109,
   "id": "bca98d91",
   "metadata": {
    "execution": {
     "iopub.execute_input": "2022-02-12T18:07:44.005623Z",
     "iopub.status.busy": "2022-02-12T18:07:44.002345Z",
     "iopub.status.idle": "2022-02-12T18:07:44.009416Z",
     "shell.execute_reply": "2022-02-12T18:07:44.008865Z",
     "shell.execute_reply.started": "2022-02-06T22:10:33.001141Z"
    },
    "papermill": {
     "duration": 0.150426,
     "end_time": "2022-02-12T18:07:44.009561",
     "exception": false,
     "start_time": "2022-02-12T18:07:43.859135",
     "status": "completed"
    },
    "tags": []
   },
   "outputs": [
    {
     "data": {
      "text/plain": [
       "[('R', 'NNP'),\n",
       " ('and', 'CC'),\n",
       " ('Python', 'NNP'),\n",
       " ('are', 'VBP'),\n",
       " ('useful', 'JJ'),\n",
       " ('data', 'NNS'),\n",
       " ('science', 'NN'),\n",
       " ('tools', 'NNS'),\n",
       " ('for', 'IN'),\n",
       " ('the', 'DT'),\n",
       " ('new', 'JJ'),\n",
       " ('or', 'CC'),\n",
       " ('old', 'JJ'),\n",
       " ('data', 'NNS'),\n",
       " ('scientists', 'NNS'),\n",
       " ('who', 'WP'),\n",
       " ('eager', 'VBP'),\n",
       " ('to', 'TO'),\n",
       " ('do', 'VB'),\n",
       " ('efficient', 'JJ'),\n",
       " ('data', 'NNS'),\n",
       " ('science', 'NN'),\n",
       " ('task', 'NN')]"
      ]
     },
     "execution_count": 109,
     "metadata": {},
     "output_type": "execute_result"
    }
   ],
   "source": [
    "pos"
   ]
  },
  {
   "cell_type": "code",
   "execution_count": 110,
   "id": "8989e925",
   "metadata": {
    "execution": {
     "iopub.execute_input": "2022-02-12T18:07:44.299059Z",
     "iopub.status.busy": "2022-02-12T18:07:44.298386Z",
     "iopub.status.idle": "2022-02-12T18:07:44.300135Z",
     "shell.execute_reply": "2022-02-12T18:07:44.300648Z",
     "shell.execute_reply.started": "2022-02-06T22:10:33.029001Z"
    },
    "papermill": {
     "duration": 0.150206,
     "end_time": "2022-02-12T18:07:44.300813",
     "exception": false,
     "start_time": "2022-02-12T18:07:44.150607",
     "status": "completed"
    },
    "tags": []
   },
   "outputs": [],
   "source": [
    "reg_exp = \"NP: {<DT>?<JJ>*<NN>}\"\n",
    "rp = nltk.RegexpParser(reg_exp)"
   ]
  },
  {
   "cell_type": "code",
   "execution_count": 111,
   "id": "3ab81018",
   "metadata": {
    "execution": {
     "iopub.execute_input": "2022-02-12T18:07:44.585468Z",
     "iopub.status.busy": "2022-02-12T18:07:44.584819Z",
     "iopub.status.idle": "2022-02-12T18:07:44.588695Z",
     "shell.execute_reply": "2022-02-12T18:07:44.589252Z",
     "shell.execute_reply.started": "2022-02-06T22:10:33.054638Z"
    },
    "papermill": {
     "duration": 0.147899,
     "end_time": "2022-02-12T18:07:44.589419",
     "exception": false,
     "start_time": "2022-02-12T18:07:44.441520",
     "status": "completed"
    },
    "tags": []
   },
   "outputs": [],
   "source": [
    "sonuclar = rp.parse(pos)"
   ]
  },
  {
   "cell_type": "code",
   "execution_count": 112,
   "id": "626fdfd2",
   "metadata": {
    "execution": {
     "iopub.execute_input": "2022-02-12T18:07:44.877016Z",
     "iopub.status.busy": "2022-02-12T18:07:44.876327Z",
     "iopub.status.idle": "2022-02-12T18:07:44.881121Z",
     "shell.execute_reply": "2022-02-12T18:07:44.881629Z",
     "shell.execute_reply.started": "2022-02-06T22:10:33.119435Z"
    },
    "papermill": {
     "duration": 0.150307,
     "end_time": "2022-02-12T18:07:44.881808",
     "exception": false,
     "start_time": "2022-02-12T18:07:44.731501",
     "status": "completed"
    },
    "tags": []
   },
   "outputs": [
    {
     "data": {
      "text/plain": [
       "<bound method Tree.draw of Tree('S', [('R', 'NNP'), ('and', 'CC'), ('Python', 'NNP'), ('are', 'VBP'), ('useful', 'JJ'), ('data', 'NNS'), Tree('NP', [('science', 'NN')]), ('tools', 'NNS'), ('for', 'IN'), ('the', 'DT'), ('new', 'JJ'), ('or', 'CC'), ('old', 'JJ'), ('data', 'NNS'), ('scientists', 'NNS'), ('who', 'WP'), ('eager', 'VBP'), ('to', 'TO'), ('do', 'VB'), ('efficient', 'JJ'), ('data', 'NNS'), Tree('NP', [('science', 'NN')]), Tree('NP', [('task', 'NN')])])>"
      ]
     },
     "execution_count": 112,
     "metadata": {},
     "output_type": "execute_result"
    }
   ],
   "source": [
    "sonuclar.draw"
   ]
  },
  {
   "cell_type": "markdown",
   "id": "d7ce7e94",
   "metadata": {
    "papermill": {
     "duration": 0.142647,
     "end_time": "2022-02-12T18:07:45.167089",
     "exception": false,
     "start_time": "2022-02-12T18:07:45.024442",
     "status": "completed"
    },
    "tags": []
   },
   "source": [
    "# Named Entity Recognition"
   ]
  },
  {
   "cell_type": "code",
   "execution_count": 113,
   "id": "bc6d9b3e",
   "metadata": {
    "execution": {
     "iopub.execute_input": "2022-02-12T18:07:45.458302Z",
     "iopub.status.busy": "2022-02-12T18:07:45.457630Z",
     "iopub.status.idle": "2022-02-12T18:08:25.667463Z",
     "shell.execute_reply": "2022-02-12T18:08:25.666696Z",
     "shell.execute_reply.started": "2022-02-06T22:10:33.129152Z"
    },
    "papermill": {
     "duration": 40.35487,
     "end_time": "2022-02-12T18:08:25.667659",
     "exception": false,
     "start_time": "2022-02-12T18:07:45.312789",
     "status": "completed"
    },
    "tags": []
   },
   "outputs": [
    {
     "name": "stdout",
     "output_type": "stream",
     "text": [
      "[nltk_data] Error loading maxent_ne_chunker: <urlopen error [Errno -3]\n",
      "[nltk_data]     Temporary failure in name resolution>\n",
      "[nltk_data] Error loading words: <urlopen error [Errno -3] Temporary\n",
      "[nltk_data]     failure in name resolution>\n"
     ]
    },
    {
     "data": {
      "text/plain": [
       "False"
      ]
     },
     "execution_count": 113,
     "metadata": {},
     "output_type": "execute_result"
    }
   ],
   "source": [
    "from nltk import word_tokenize, pos_tag, ne_chunk\n",
    "nltk.download(\"maxent_ne_chunker\")\n",
    "nltk.download(\"words\")"
   ]
  },
  {
   "cell_type": "code",
   "execution_count": 114,
   "id": "3bf82f90",
   "metadata": {
    "execution": {
     "iopub.execute_input": "2022-02-12T18:08:25.964837Z",
     "iopub.status.busy": "2022-02-12T18:08:25.964127Z",
     "iopub.status.idle": "2022-02-12T18:08:26.125068Z",
     "shell.execute_reply": "2022-02-12T18:08:26.125920Z",
     "shell.execute_reply.started": "2022-02-06T22:11:13.219673Z"
    },
    "papermill": {
     "duration": 0.314635,
     "end_time": "2022-02-12T18:08:26.126113",
     "exception": false,
     "start_time": "2022-02-12T18:08:25.811478",
     "status": "completed"
    },
    "tags": []
   },
   "outputs": [
    {
     "name": "stdout",
     "output_type": "stream",
     "text": [
      "(S\n",
      "  (GPE Hadley/NNP)\n",
      "  is/VBZ\n",
      "  creative/JJ\n",
      "  people/NNS\n",
      "  who/WP\n",
      "  work/VBP\n",
      "  for/IN\n",
      "  (ORGANIZATION R/NNP Studio/NNP)\n",
      "  AND/CC\n",
      "  he/PRP\n",
      "  attented/VBD\n",
      "  conference/NN\n",
      "  at/IN\n",
      "  (ORGANIZATION Newyork/NNP)\n",
      "  last/JJ\n",
      "  year/NN)\n"
     ]
    }
   ],
   "source": [
    "cumle = \"Hadley is creative people who work for R Studio AND he attented conference at Newyork last year\"\n",
    "print(ne_chunk(pos_tag(word_tokenize(cumle))))"
   ]
  },
  {
   "cell_type": "markdown",
   "id": "450c787d",
   "metadata": {
    "papermill": {
     "duration": 0.143639,
     "end_time": "2022-02-12T18:08:26.414857",
     "exception": false,
     "start_time": "2022-02-12T18:08:26.271218",
     "status": "completed"
    },
    "tags": []
   },
   "source": [
    "# Matematiksel İşlemler ve Basit Özellik Çıkarımı"
   ]
  },
  {
   "cell_type": "markdown",
   "id": "a9d7b811",
   "metadata": {
    "papermill": {
     "duration": 0.141516,
     "end_time": "2022-02-12T18:08:26.699052",
     "exception": false,
     "start_time": "2022-02-12T18:08:26.557536",
     "status": "completed"
    },
    "tags": []
   },
   "source": [
    "## Harf/Karakter Sayısı"
   ]
  },
  {
   "cell_type": "code",
   "execution_count": 115,
   "id": "2570f764",
   "metadata": {
    "execution": {
     "iopub.execute_input": "2022-02-12T18:08:26.991665Z",
     "iopub.status.busy": "2022-02-12T18:08:26.990762Z",
     "iopub.status.idle": "2022-02-12T18:08:26.993546Z",
     "shell.execute_reply": "2022-02-12T18:08:26.993026Z",
     "shell.execute_reply.started": "2022-02-06T22:17:19.369383Z"
    },
    "papermill": {
     "duration": 0.151239,
     "end_time": "2022-02-12T18:08:26.993685",
     "exception": false,
     "start_time": "2022-02-12T18:08:26.842446",
     "status": "completed"
    },
    "tags": []
   },
   "outputs": [],
   "source": [
    "o_df = d_mdf.copy()"
   ]
  },
  {
   "cell_type": "code",
   "execution_count": 116,
   "id": "b5175c2b",
   "metadata": {
    "execution": {
     "iopub.execute_input": "2022-02-12T18:08:27.300549Z",
     "iopub.status.busy": "2022-02-12T18:08:27.299600Z",
     "iopub.status.idle": "2022-02-12T18:08:27.306673Z",
     "shell.execute_reply": "2022-02-12T18:08:27.307252Z",
     "shell.execute_reply.started": "2022-02-06T22:17:21.682398Z"
    },
    "papermill": {
     "duration": 0.171099,
     "end_time": "2022-02-12T18:08:27.307428",
     "exception": false,
     "start_time": "2022-02-12T18:08:27.136329",
     "status": "completed"
    },
    "tags": []
   },
   "outputs": [
    {
     "data": {
      "text/plain": [
       "1               scandal bohemia\n",
       "2              redheaded league\n",
       "3                 case identity\n",
       "4       boscombe valley mystery\n",
       "5              five orange pips\n",
       "6               man twisted lip\n",
       "7      adventure blue carbuncle\n",
       "8       adventure speckled band\n",
       "9     adventure engineers thumb\n",
       "10     adventure noble bachelor\n",
       "11      adventure beryl coronet\n",
       "12     adventure copper beeches\n",
       "Name: hikayeler, dtype: object"
      ]
     },
     "execution_count": 116,
     "metadata": {},
     "output_type": "execute_result"
    }
   ],
   "source": [
    "o_df[\"hikayeler\"]"
   ]
  },
  {
   "cell_type": "code",
   "execution_count": 117,
   "id": "a4dc5b1c",
   "metadata": {
    "execution": {
     "iopub.execute_input": "2022-02-12T18:08:27.607011Z",
     "iopub.status.busy": "2022-02-12T18:08:27.606348Z",
     "iopub.status.idle": "2022-02-12T18:08:27.612965Z",
     "shell.execute_reply": "2022-02-12T18:08:27.613506Z",
     "shell.execute_reply.started": "2022-02-06T22:17:24.983349Z"
    },
    "papermill": {
     "duration": 0.154544,
     "end_time": "2022-02-12T18:08:27.613686",
     "exception": false,
     "start_time": "2022-02-12T18:08:27.459142",
     "status": "completed"
    },
    "tags": []
   },
   "outputs": [
    {
     "data": {
      "text/plain": [
       "1     15\n",
       "2     16\n",
       "3     13\n",
       "4     23\n",
       "5     16\n",
       "6     15\n",
       "7     24\n",
       "8     23\n",
       "9     25\n",
       "10    24\n",
       "11    23\n",
       "12    24\n",
       "Name: hikayeler, dtype: int64"
      ]
     },
     "execution_count": 117,
     "metadata": {},
     "output_type": "execute_result"
    }
   ],
   "source": [
    "o_df[\"hikayeler\"].str.len()\n",
    "# boşlukları da sayıyor"
   ]
  },
  {
   "cell_type": "code",
   "execution_count": 118,
   "id": "1c7e67a0",
   "metadata": {
    "execution": {
     "iopub.execute_input": "2022-02-12T18:08:27.907069Z",
     "iopub.status.busy": "2022-02-12T18:08:27.903887Z",
     "iopub.status.idle": "2022-02-12T18:08:27.909999Z",
     "shell.execute_reply": "2022-02-12T18:08:27.909475Z",
     "shell.execute_reply.started": "2022-02-06T22:17:27.702313Z"
    },
    "papermill": {
     "duration": 0.152551,
     "end_time": "2022-02-12T18:08:27.910178",
     "exception": false,
     "start_time": "2022-02-12T18:08:27.757627",
     "status": "completed"
    },
    "tags": []
   },
   "outputs": [],
   "source": [
    "o_df[\"harf_sayisi\"] = o_df[\"hikayeler\"].str.len()"
   ]
  },
  {
   "cell_type": "code",
   "execution_count": 119,
   "id": "db40ad1b",
   "metadata": {
    "execution": {
     "iopub.execute_input": "2022-02-12T18:08:28.202470Z",
     "iopub.status.busy": "2022-02-12T18:08:28.201756Z",
     "iopub.status.idle": "2022-02-12T18:08:28.214995Z",
     "shell.execute_reply": "2022-02-12T18:08:28.214127Z",
     "shell.execute_reply.started": "2022-02-06T22:17:30.803163Z"
    },
    "papermill": {
     "duration": 0.159988,
     "end_time": "2022-02-12T18:08:28.215166",
     "exception": false,
     "start_time": "2022-02-12T18:08:28.055178",
     "status": "completed"
    },
    "tags": []
   },
   "outputs": [
    {
     "data": {
      "text/html": [
       "<div>\n",
       "<style scoped>\n",
       "    .dataframe tbody tr th:only-of-type {\n",
       "        vertical-align: middle;\n",
       "    }\n",
       "\n",
       "    .dataframe tbody tr th {\n",
       "        vertical-align: top;\n",
       "    }\n",
       "\n",
       "    .dataframe thead th {\n",
       "        text-align: right;\n",
       "    }\n",
       "</style>\n",
       "<table border=\"1\" class=\"dataframe\">\n",
       "  <thead>\n",
       "    <tr style=\"text-align: right;\">\n",
       "      <th></th>\n",
       "      <th>hikayeler</th>\n",
       "      <th>harf_sayisi</th>\n",
       "    </tr>\n",
       "  </thead>\n",
       "  <tbody>\n",
       "    <tr>\n",
       "      <th>1</th>\n",
       "      <td>scandal bohemia</td>\n",
       "      <td>15</td>\n",
       "    </tr>\n",
       "    <tr>\n",
       "      <th>2</th>\n",
       "      <td>redheaded league</td>\n",
       "      <td>16</td>\n",
       "    </tr>\n",
       "    <tr>\n",
       "      <th>3</th>\n",
       "      <td>case identity</td>\n",
       "      <td>13</td>\n",
       "    </tr>\n",
       "    <tr>\n",
       "      <th>4</th>\n",
       "      <td>boscombe valley mystery</td>\n",
       "      <td>23</td>\n",
       "    </tr>\n",
       "    <tr>\n",
       "      <th>5</th>\n",
       "      <td>five orange pips</td>\n",
       "      <td>16</td>\n",
       "    </tr>\n",
       "    <tr>\n",
       "      <th>6</th>\n",
       "      <td>man twisted lip</td>\n",
       "      <td>15</td>\n",
       "    </tr>\n",
       "    <tr>\n",
       "      <th>7</th>\n",
       "      <td>adventure blue carbuncle</td>\n",
       "      <td>24</td>\n",
       "    </tr>\n",
       "    <tr>\n",
       "      <th>8</th>\n",
       "      <td>adventure speckled band</td>\n",
       "      <td>23</td>\n",
       "    </tr>\n",
       "    <tr>\n",
       "      <th>9</th>\n",
       "      <td>adventure engineers thumb</td>\n",
       "      <td>25</td>\n",
       "    </tr>\n",
       "    <tr>\n",
       "      <th>10</th>\n",
       "      <td>adventure noble bachelor</td>\n",
       "      <td>24</td>\n",
       "    </tr>\n",
       "    <tr>\n",
       "      <th>11</th>\n",
       "      <td>adventure beryl coronet</td>\n",
       "      <td>23</td>\n",
       "    </tr>\n",
       "    <tr>\n",
       "      <th>12</th>\n",
       "      <td>adventure copper beeches</td>\n",
       "      <td>24</td>\n",
       "    </tr>\n",
       "  </tbody>\n",
       "</table>\n",
       "</div>"
      ],
      "text/plain": [
       "                    hikayeler  harf_sayisi\n",
       "1             scandal bohemia           15\n",
       "2            redheaded league           16\n",
       "3               case identity           13\n",
       "4     boscombe valley mystery           23\n",
       "5            five orange pips           16\n",
       "6             man twisted lip           15\n",
       "7    adventure blue carbuncle           24\n",
       "8     adventure speckled band           23\n",
       "9   adventure engineers thumb           25\n",
       "10   adventure noble bachelor           24\n",
       "11    adventure beryl coronet           23\n",
       "12   adventure copper beeches           24"
      ]
     },
     "execution_count": 119,
     "metadata": {},
     "output_type": "execute_result"
    }
   ],
   "source": [
    "o_df"
   ]
  },
  {
   "cell_type": "markdown",
   "id": "9a3d1c9a",
   "metadata": {
    "papermill": {
     "duration": 0.143665,
     "end_time": "2022-02-12T18:08:28.507193",
     "exception": false,
     "start_time": "2022-02-12T18:08:28.363528",
     "status": "completed"
    },
    "tags": []
   },
   "source": [
    "## Kelime Sayısı "
   ]
  },
  {
   "cell_type": "code",
   "execution_count": 120,
   "id": "0c2a51ae",
   "metadata": {
    "execution": {
     "iopub.execute_input": "2022-02-12T18:08:28.801346Z",
     "iopub.status.busy": "2022-02-12T18:08:28.800382Z",
     "iopub.status.idle": "2022-02-12T18:08:28.802603Z",
     "shell.execute_reply": "2022-02-12T18:08:28.803143Z",
     "shell.execute_reply.started": "2022-02-06T22:17:36.290483Z"
    },
    "papermill": {
     "duration": 0.151127,
     "end_time": "2022-02-12T18:08:28.803331",
     "exception": false,
     "start_time": "2022-02-12T18:08:28.652204",
     "status": "completed"
    },
    "tags": []
   },
   "outputs": [],
   "source": [
    "a = \"scandal in a bohemia\""
   ]
  },
  {
   "cell_type": "code",
   "execution_count": 121,
   "id": "76eaaac7",
   "metadata": {
    "execution": {
     "iopub.execute_input": "2022-02-12T18:08:29.102672Z",
     "iopub.status.busy": "2022-02-12T18:08:29.101815Z",
     "iopub.status.idle": "2022-02-12T18:08:29.105009Z",
     "shell.execute_reply": "2022-02-12T18:08:29.105502Z"
    },
    "papermill": {
     "duration": 0.153942,
     "end_time": "2022-02-12T18:08:29.105676",
     "exception": false,
     "start_time": "2022-02-12T18:08:28.951734",
     "status": "completed"
    },
    "tags": []
   },
   "outputs": [
    {
     "data": {
      "text/plain": [
       "['scandal', 'in', 'a', 'bohemia']"
      ]
     },
     "execution_count": 121,
     "metadata": {},
     "output_type": "execute_result"
    }
   ],
   "source": [
    "a.split()"
   ]
  },
  {
   "cell_type": "code",
   "execution_count": 122,
   "id": "98cd2e2a",
   "metadata": {
    "execution": {
     "iopub.execute_input": "2022-02-12T18:08:29.401565Z",
     "iopub.status.busy": "2022-02-12T18:08:29.400486Z",
     "iopub.status.idle": "2022-02-12T18:08:29.405965Z",
     "shell.execute_reply": "2022-02-12T18:08:29.406478Z",
     "shell.execute_reply.started": "2022-02-06T22:17:44.649352Z"
    },
    "papermill": {
     "duration": 0.155166,
     "end_time": "2022-02-12T18:08:29.406651",
     "exception": false,
     "start_time": "2022-02-12T18:08:29.251485",
     "status": "completed"
    },
    "tags": []
   },
   "outputs": [
    {
     "data": {
      "text/plain": [
       "4"
      ]
     },
     "execution_count": 122,
     "metadata": {},
     "output_type": "execute_result"
    }
   ],
   "source": [
    "len(a.split())"
   ]
  },
  {
   "cell_type": "code",
   "execution_count": 123,
   "id": "8edea4d2",
   "metadata": {
    "execution": {
     "iopub.execute_input": "2022-02-12T18:08:29.708375Z",
     "iopub.status.busy": "2022-02-12T18:08:29.707507Z",
     "iopub.status.idle": "2022-02-12T18:08:29.710710Z",
     "shell.execute_reply": "2022-02-12T18:08:29.711245Z",
     "shell.execute_reply.started": "2022-02-06T22:17:53.01024Z"
    },
    "papermill": {
     "duration": 0.158359,
     "end_time": "2022-02-12T18:08:29.711424",
     "exception": false,
     "start_time": "2022-02-12T18:08:29.553065",
     "status": "completed"
    },
    "tags": []
   },
   "outputs": [
    {
     "data": {
      "text/html": [
       "<div>\n",
       "<style scoped>\n",
       "    .dataframe tbody tr th:only-of-type {\n",
       "        vertical-align: middle;\n",
       "    }\n",
       "\n",
       "    .dataframe tbody tr th {\n",
       "        vertical-align: top;\n",
       "    }\n",
       "\n",
       "    .dataframe thead th {\n",
       "        text-align: right;\n",
       "    }\n",
       "</style>\n",
       "<table border=\"1\" class=\"dataframe\">\n",
       "  <thead>\n",
       "    <tr style=\"text-align: right;\">\n",
       "      <th></th>\n",
       "      <th>hikayeler</th>\n",
       "    </tr>\n",
       "  </thead>\n",
       "  <tbody>\n",
       "    <tr>\n",
       "      <th>1</th>\n",
       "      <td>scandal bohemia</td>\n",
       "    </tr>\n",
       "  </tbody>\n",
       "</table>\n",
       "</div>"
      ],
      "text/plain": [
       "         hikayeler\n",
       "1  scandal bohemia"
      ]
     },
     "execution_count": 123,
     "metadata": {},
     "output_type": "execute_result"
    }
   ],
   "source": [
    "o_df.iloc[0:1,0:1]"
   ]
  },
  {
   "cell_type": "code",
   "execution_count": 124,
   "id": "1e24309e",
   "metadata": {
    "execution": {
     "iopub.execute_input": "2022-02-12T18:08:30.006504Z",
     "iopub.status.busy": "2022-02-12T18:08:30.005432Z",
     "iopub.status.idle": "2022-02-12T18:08:30.013520Z",
     "shell.execute_reply": "2022-02-12T18:08:30.013996Z",
     "shell.execute_reply.started": "2022-02-06T22:18:25.088322Z"
    },
    "papermill": {
     "duration": 0.156903,
     "end_time": "2022-02-12T18:08:30.014174",
     "exception": false,
     "start_time": "2022-02-12T18:08:29.857271",
     "status": "completed"
    },
    "tags": []
   },
   "outputs": [
    {
     "data": {
      "text/plain": [
       "hikayeler      141\n",
       "harf_sayisi     61\n",
       "dtype: int64"
      ]
     },
     "execution_count": 124,
     "metadata": {},
     "output_type": "execute_result"
    }
   ],
   "source": [
    "o_df.apply(lambda x: len(str(x).split(\" \")))"
   ]
  },
  {
   "cell_type": "code",
   "execution_count": 125,
   "id": "5552ef32",
   "metadata": {
    "execution": {
     "iopub.execute_input": "2022-02-12T18:08:30.310750Z",
     "iopub.status.busy": "2022-02-12T18:08:30.309746Z",
     "iopub.status.idle": "2022-02-12T18:08:30.316718Z",
     "shell.execute_reply": "2022-02-12T18:08:30.317196Z",
     "shell.execute_reply.started": "2022-02-06T22:18:37.074631Z"
    },
    "papermill": {
     "duration": 0.156098,
     "end_time": "2022-02-12T18:08:30.317372",
     "exception": false,
     "start_time": "2022-02-12T18:08:30.161274",
     "status": "completed"
    },
    "tags": []
   },
   "outputs": [
    {
     "data": {
      "text/plain": [
       "1     2\n",
       "2     2\n",
       "3     2\n",
       "4     3\n",
       "5     3\n",
       "6     3\n",
       "7     3\n",
       "8     3\n",
       "9     3\n",
       "10    3\n",
       "11    3\n",
       "12    3\n",
       "Name: hikayeler, dtype: int64"
      ]
     },
     "execution_count": 125,
     "metadata": {},
     "output_type": "execute_result"
    }
   ],
   "source": [
    "o_df[\"hikayeler\"].apply(lambda x: len(str(x).split(\" \")))"
   ]
  },
  {
   "cell_type": "code",
   "execution_count": 126,
   "id": "daa4973b",
   "metadata": {
    "execution": {
     "iopub.execute_input": "2022-02-12T18:08:30.619858Z",
     "iopub.status.busy": "2022-02-12T18:08:30.618811Z",
     "iopub.status.idle": "2022-02-12T18:08:30.624484Z",
     "shell.execute_reply": "2022-02-12T18:08:30.625052Z",
     "shell.execute_reply.started": "2022-02-06T22:19:40.152994Z"
    },
    "papermill": {
     "duration": 0.159525,
     "end_time": "2022-02-12T18:08:30.625229",
     "exception": false,
     "start_time": "2022-02-12T18:08:30.465704",
     "status": "completed"
    },
    "tags": []
   },
   "outputs": [],
   "source": [
    "o_df[\"kelime sayisi\"] = o_df[\"hikayeler\"].apply(lambda x: len(str(x).split(\" \")))"
   ]
  },
  {
   "cell_type": "code",
   "execution_count": 127,
   "id": "4b1a5dec",
   "metadata": {
    "execution": {
     "iopub.execute_input": "2022-02-12T18:08:30.980208Z",
     "iopub.status.busy": "2022-02-12T18:08:30.979540Z",
     "iopub.status.idle": "2022-02-12T18:08:30.988100Z",
     "shell.execute_reply": "2022-02-12T18:08:30.988643Z",
     "shell.execute_reply.started": "2022-02-06T22:19:42.976525Z"
    },
    "papermill": {
     "duration": 0.216369,
     "end_time": "2022-02-12T18:08:30.988810",
     "exception": false,
     "start_time": "2022-02-12T18:08:30.772441",
     "status": "completed"
    },
    "tags": []
   },
   "outputs": [
    {
     "data": {
      "text/html": [
       "<div>\n",
       "<style scoped>\n",
       "    .dataframe tbody tr th:only-of-type {\n",
       "        vertical-align: middle;\n",
       "    }\n",
       "\n",
       "    .dataframe tbody tr th {\n",
       "        vertical-align: top;\n",
       "    }\n",
       "\n",
       "    .dataframe thead th {\n",
       "        text-align: right;\n",
       "    }\n",
       "</style>\n",
       "<table border=\"1\" class=\"dataframe\">\n",
       "  <thead>\n",
       "    <tr style=\"text-align: right;\">\n",
       "      <th></th>\n",
       "      <th>hikayeler</th>\n",
       "      <th>harf_sayisi</th>\n",
       "      <th>kelime sayisi</th>\n",
       "    </tr>\n",
       "  </thead>\n",
       "  <tbody>\n",
       "    <tr>\n",
       "      <th>1</th>\n",
       "      <td>scandal bohemia</td>\n",
       "      <td>15</td>\n",
       "      <td>2</td>\n",
       "    </tr>\n",
       "    <tr>\n",
       "      <th>2</th>\n",
       "      <td>redheaded league</td>\n",
       "      <td>16</td>\n",
       "      <td>2</td>\n",
       "    </tr>\n",
       "    <tr>\n",
       "      <th>3</th>\n",
       "      <td>case identity</td>\n",
       "      <td>13</td>\n",
       "      <td>2</td>\n",
       "    </tr>\n",
       "    <tr>\n",
       "      <th>4</th>\n",
       "      <td>boscombe valley mystery</td>\n",
       "      <td>23</td>\n",
       "      <td>3</td>\n",
       "    </tr>\n",
       "    <tr>\n",
       "      <th>5</th>\n",
       "      <td>five orange pips</td>\n",
       "      <td>16</td>\n",
       "      <td>3</td>\n",
       "    </tr>\n",
       "    <tr>\n",
       "      <th>6</th>\n",
       "      <td>man twisted lip</td>\n",
       "      <td>15</td>\n",
       "      <td>3</td>\n",
       "    </tr>\n",
       "    <tr>\n",
       "      <th>7</th>\n",
       "      <td>adventure blue carbuncle</td>\n",
       "      <td>24</td>\n",
       "      <td>3</td>\n",
       "    </tr>\n",
       "    <tr>\n",
       "      <th>8</th>\n",
       "      <td>adventure speckled band</td>\n",
       "      <td>23</td>\n",
       "      <td>3</td>\n",
       "    </tr>\n",
       "    <tr>\n",
       "      <th>9</th>\n",
       "      <td>adventure engineers thumb</td>\n",
       "      <td>25</td>\n",
       "      <td>3</td>\n",
       "    </tr>\n",
       "    <tr>\n",
       "      <th>10</th>\n",
       "      <td>adventure noble bachelor</td>\n",
       "      <td>24</td>\n",
       "      <td>3</td>\n",
       "    </tr>\n",
       "    <tr>\n",
       "      <th>11</th>\n",
       "      <td>adventure beryl coronet</td>\n",
       "      <td>23</td>\n",
       "      <td>3</td>\n",
       "    </tr>\n",
       "    <tr>\n",
       "      <th>12</th>\n",
       "      <td>adventure copper beeches</td>\n",
       "      <td>24</td>\n",
       "      <td>3</td>\n",
       "    </tr>\n",
       "  </tbody>\n",
       "</table>\n",
       "</div>"
      ],
      "text/plain": [
       "                    hikayeler  harf_sayisi  kelime sayisi\n",
       "1             scandal bohemia           15              2\n",
       "2            redheaded league           16              2\n",
       "3               case identity           13              2\n",
       "4     boscombe valley mystery           23              3\n",
       "5            five orange pips           16              3\n",
       "6             man twisted lip           15              3\n",
       "7    adventure blue carbuncle           24              3\n",
       "8     adventure speckled band           23              3\n",
       "9   adventure engineers thumb           25              3\n",
       "10   adventure noble bachelor           24              3\n",
       "11    adventure beryl coronet           23              3\n",
       "12   adventure copper beeches           24              3"
      ]
     },
     "execution_count": 127,
     "metadata": {},
     "output_type": "execute_result"
    }
   ],
   "source": [
    "o_df"
   ]
  },
  {
   "cell_type": "markdown",
   "id": "d667730f",
   "metadata": {
    "papermill": {
     "duration": 0.145541,
     "end_time": "2022-02-12T18:08:31.280244",
     "exception": false,
     "start_time": "2022-02-12T18:08:31.134703",
     "status": "completed"
    },
    "tags": []
   },
   "source": [
    "## Özel Karakterleri Yakalamak & Saydırmak"
   ]
  },
  {
   "cell_type": "code",
   "execution_count": 128,
   "id": "becb7a9f",
   "metadata": {
    "execution": {
     "iopub.execute_input": "2022-02-12T18:08:31.578212Z",
     "iopub.status.busy": "2022-02-12T18:08:31.577470Z",
     "iopub.status.idle": "2022-02-12T18:08:31.584705Z",
     "shell.execute_reply": "2022-02-12T18:08:31.585221Z",
     "shell.execute_reply.started": "2022-02-06T22:20:06.38707Z"
    },
    "papermill": {
     "duration": 0.1571,
     "end_time": "2022-02-12T18:08:31.585394",
     "exception": false,
     "start_time": "2022-02-12T18:08:31.428294",
     "status": "completed"
    },
    "tags": []
   },
   "outputs": [
    {
     "data": {
      "text/plain": [
       "1     0\n",
       "2     0\n",
       "3     0\n",
       "4     0\n",
       "5     0\n",
       "6     0\n",
       "7     1\n",
       "8     1\n",
       "9     1\n",
       "10    1\n",
       "11    1\n",
       "12    1\n",
       "Name: hikayeler, dtype: int64"
      ]
     },
     "execution_count": 128,
     "metadata": {},
     "output_type": "execute_result"
    }
   ],
   "source": [
    "o_df[\"hikayeler\"].apply(lambda x: len([x for x in x.split() \n",
    "                                       if x.startswith(\"adventure\")]))"
   ]
  },
  {
   "cell_type": "code",
   "execution_count": 129,
   "id": "8ecee672",
   "metadata": {
    "execution": {
     "iopub.execute_input": "2022-02-12T18:08:31.887787Z",
     "iopub.status.busy": "2022-02-12T18:08:31.887069Z",
     "iopub.status.idle": "2022-02-12T18:08:31.888515Z",
     "shell.execute_reply": "2022-02-12T18:08:31.889012Z",
     "shell.execute_reply.started": "2022-02-06T22:23:52.836034Z"
    },
    "papermill": {
     "duration": 0.155712,
     "end_time": "2022-02-12T18:08:31.889181",
     "exception": false,
     "start_time": "2022-02-12T18:08:31.733469",
     "status": "completed"
    },
    "tags": []
   },
   "outputs": [],
   "source": [
    "o_df[\"ozel karakter sayisi\"] = o_df[\"hikayeler\"].apply(lambda x: len([x for x in x.split() \n",
    "                                       if x.startswith(\"adventure\")]))"
   ]
  },
  {
   "cell_type": "code",
   "execution_count": 130,
   "id": "baafb6c3",
   "metadata": {
    "execution": {
     "iopub.execute_input": "2022-02-12T18:08:32.189613Z",
     "iopub.status.busy": "2022-02-12T18:08:32.188004Z",
     "iopub.status.idle": "2022-02-12T18:08:32.196576Z",
     "shell.execute_reply": "2022-02-12T18:08:32.197047Z",
     "shell.execute_reply.started": "2022-02-06T22:24:01.405044Z"
    },
    "papermill": {
     "duration": 0.159324,
     "end_time": "2022-02-12T18:08:32.197222",
     "exception": false,
     "start_time": "2022-02-12T18:08:32.037898",
     "status": "completed"
    },
    "tags": []
   },
   "outputs": [
    {
     "data": {
      "text/html": [
       "<div>\n",
       "<style scoped>\n",
       "    .dataframe tbody tr th:only-of-type {\n",
       "        vertical-align: middle;\n",
       "    }\n",
       "\n",
       "    .dataframe tbody tr th {\n",
       "        vertical-align: top;\n",
       "    }\n",
       "\n",
       "    .dataframe thead th {\n",
       "        text-align: right;\n",
       "    }\n",
       "</style>\n",
       "<table border=\"1\" class=\"dataframe\">\n",
       "  <thead>\n",
       "    <tr style=\"text-align: right;\">\n",
       "      <th></th>\n",
       "      <th>hikayeler</th>\n",
       "      <th>harf_sayisi</th>\n",
       "      <th>kelime sayisi</th>\n",
       "      <th>ozel karakter sayisi</th>\n",
       "    </tr>\n",
       "  </thead>\n",
       "  <tbody>\n",
       "    <tr>\n",
       "      <th>1</th>\n",
       "      <td>scandal bohemia</td>\n",
       "      <td>15</td>\n",
       "      <td>2</td>\n",
       "      <td>0</td>\n",
       "    </tr>\n",
       "    <tr>\n",
       "      <th>2</th>\n",
       "      <td>redheaded league</td>\n",
       "      <td>16</td>\n",
       "      <td>2</td>\n",
       "      <td>0</td>\n",
       "    </tr>\n",
       "    <tr>\n",
       "      <th>3</th>\n",
       "      <td>case identity</td>\n",
       "      <td>13</td>\n",
       "      <td>2</td>\n",
       "      <td>0</td>\n",
       "    </tr>\n",
       "    <tr>\n",
       "      <th>4</th>\n",
       "      <td>boscombe valley mystery</td>\n",
       "      <td>23</td>\n",
       "      <td>3</td>\n",
       "      <td>0</td>\n",
       "    </tr>\n",
       "    <tr>\n",
       "      <th>5</th>\n",
       "      <td>five orange pips</td>\n",
       "      <td>16</td>\n",
       "      <td>3</td>\n",
       "      <td>0</td>\n",
       "    </tr>\n",
       "    <tr>\n",
       "      <th>6</th>\n",
       "      <td>man twisted lip</td>\n",
       "      <td>15</td>\n",
       "      <td>3</td>\n",
       "      <td>0</td>\n",
       "    </tr>\n",
       "    <tr>\n",
       "      <th>7</th>\n",
       "      <td>adventure blue carbuncle</td>\n",
       "      <td>24</td>\n",
       "      <td>3</td>\n",
       "      <td>1</td>\n",
       "    </tr>\n",
       "    <tr>\n",
       "      <th>8</th>\n",
       "      <td>adventure speckled band</td>\n",
       "      <td>23</td>\n",
       "      <td>3</td>\n",
       "      <td>1</td>\n",
       "    </tr>\n",
       "    <tr>\n",
       "      <th>9</th>\n",
       "      <td>adventure engineers thumb</td>\n",
       "      <td>25</td>\n",
       "      <td>3</td>\n",
       "      <td>1</td>\n",
       "    </tr>\n",
       "    <tr>\n",
       "      <th>10</th>\n",
       "      <td>adventure noble bachelor</td>\n",
       "      <td>24</td>\n",
       "      <td>3</td>\n",
       "      <td>1</td>\n",
       "    </tr>\n",
       "    <tr>\n",
       "      <th>11</th>\n",
       "      <td>adventure beryl coronet</td>\n",
       "      <td>23</td>\n",
       "      <td>3</td>\n",
       "      <td>1</td>\n",
       "    </tr>\n",
       "    <tr>\n",
       "      <th>12</th>\n",
       "      <td>adventure copper beeches</td>\n",
       "      <td>24</td>\n",
       "      <td>3</td>\n",
       "      <td>1</td>\n",
       "    </tr>\n",
       "  </tbody>\n",
       "</table>\n",
       "</div>"
      ],
      "text/plain": [
       "                    hikayeler  harf_sayisi  kelime sayisi  \\\n",
       "1             scandal bohemia           15              2   \n",
       "2            redheaded league           16              2   \n",
       "3               case identity           13              2   \n",
       "4     boscombe valley mystery           23              3   \n",
       "5            five orange pips           16              3   \n",
       "6             man twisted lip           15              3   \n",
       "7    adventure blue carbuncle           24              3   \n",
       "8     adventure speckled band           23              3   \n",
       "9   adventure engineers thumb           25              3   \n",
       "10   adventure noble bachelor           24              3   \n",
       "11    adventure beryl coronet           23              3   \n",
       "12   adventure copper beeches           24              3   \n",
       "\n",
       "    ozel karakter sayisi  \n",
       "1                      0  \n",
       "2                      0  \n",
       "3                      0  \n",
       "4                      0  \n",
       "5                      0  \n",
       "6                      0  \n",
       "7                      1  \n",
       "8                      1  \n",
       "9                      1  \n",
       "10                     1  \n",
       "11                     1  \n",
       "12                     1  "
      ]
     },
     "execution_count": 130,
     "metadata": {},
     "output_type": "execute_result"
    }
   ],
   "source": [
    "o_df"
   ]
  },
  {
   "cell_type": "markdown",
   "id": "67aa7833",
   "metadata": {
    "papermill": {
     "duration": 0.148223,
     "end_time": "2022-02-12T18:08:32.494209",
     "exception": false,
     "start_time": "2022-02-12T18:08:32.345986",
     "status": "completed"
    },
    "tags": []
   },
   "source": [
    "## Sayıları Yakalamak & Saydırmak"
   ]
  },
  {
   "cell_type": "code",
   "execution_count": 131,
   "id": "631c83b0",
   "metadata": {
    "execution": {
     "iopub.execute_input": "2022-02-12T18:08:32.796630Z",
     "iopub.status.busy": "2022-02-12T18:08:32.795851Z",
     "iopub.status.idle": "2022-02-12T18:08:32.798832Z",
     "shell.execute_reply": "2022-02-12T18:08:32.799338Z",
     "shell.execute_reply.started": "2022-02-06T22:25:21.456394Z"
    },
    "papermill": {
     "duration": 0.157138,
     "end_time": "2022-02-12T18:08:32.799504",
     "exception": false,
     "start_time": "2022-02-12T18:08:32.642366",
     "status": "completed"
    },
    "tags": []
   },
   "outputs": [
    {
     "data": {
      "text/plain": [
       "1     1\n",
       "2     0\n",
       "3     1\n",
       "4     0\n",
       "5     0\n",
       "6     0\n",
       "7     0\n",
       "8     0\n",
       "9     0\n",
       "10    0\n",
       "11    0\n",
       "12    0\n",
       "Name: hikayeler, dtype: int64"
      ]
     },
     "execution_count": 131,
     "metadata": {},
     "output_type": "execute_result"
    }
   ],
   "source": [
    "mdf[\"hikayeler\"].apply(lambda x: len([x for x in x.split() \n",
    "                                       if x.isdigit()]))"
   ]
  },
  {
   "cell_type": "code",
   "execution_count": 132,
   "id": "ab2ea0d8",
   "metadata": {
    "execution": {
     "iopub.execute_input": "2022-02-12T18:08:33.101402Z",
     "iopub.status.busy": "2022-02-12T18:08:33.100364Z",
     "iopub.status.idle": "2022-02-12T18:08:33.106031Z",
     "shell.execute_reply": "2022-02-12T18:08:33.106552Z",
     "shell.execute_reply.started": "2022-02-06T22:26:01.369851Z"
    },
    "papermill": {
     "duration": 0.15786,
     "end_time": "2022-02-12T18:08:33.106723",
     "exception": false,
     "start_time": "2022-02-12T18:08:32.948863",
     "status": "completed"
    },
    "tags": []
   },
   "outputs": [],
   "source": [
    "o_df[\"sayi sayisi\"] = mdf[\"hikayeler\"].apply(lambda x: len([x for x in x.split() \n",
    "                                       if x.isdigit()]))"
   ]
  },
  {
   "cell_type": "code",
   "execution_count": 133,
   "id": "6bbe940f",
   "metadata": {
    "execution": {
     "iopub.execute_input": "2022-02-12T18:08:33.407489Z",
     "iopub.status.busy": "2022-02-12T18:08:33.406513Z",
     "iopub.status.idle": "2022-02-12T18:08:33.417398Z",
     "shell.execute_reply": "2022-02-12T18:08:33.417970Z",
     "shell.execute_reply.started": "2022-02-06T22:26:06.985685Z"
    },
    "papermill": {
     "duration": 0.162298,
     "end_time": "2022-02-12T18:08:33.418151",
     "exception": false,
     "start_time": "2022-02-12T18:08:33.255853",
     "status": "completed"
    },
    "tags": []
   },
   "outputs": [
    {
     "data": {
      "text/html": [
       "<div>\n",
       "<style scoped>\n",
       "    .dataframe tbody tr th:only-of-type {\n",
       "        vertical-align: middle;\n",
       "    }\n",
       "\n",
       "    .dataframe tbody tr th {\n",
       "        vertical-align: top;\n",
       "    }\n",
       "\n",
       "    .dataframe thead th {\n",
       "        text-align: right;\n",
       "    }\n",
       "</style>\n",
       "<table border=\"1\" class=\"dataframe\">\n",
       "  <thead>\n",
       "    <tr style=\"text-align: right;\">\n",
       "      <th></th>\n",
       "      <th>hikayeler</th>\n",
       "      <th>harf_sayisi</th>\n",
       "      <th>kelime sayisi</th>\n",
       "      <th>ozel karakter sayisi</th>\n",
       "      <th>sayi sayisi</th>\n",
       "    </tr>\n",
       "  </thead>\n",
       "  <tbody>\n",
       "    <tr>\n",
       "      <th>1</th>\n",
       "      <td>scandal bohemia</td>\n",
       "      <td>15</td>\n",
       "      <td>2</td>\n",
       "      <td>0</td>\n",
       "      <td>1</td>\n",
       "    </tr>\n",
       "    <tr>\n",
       "      <th>2</th>\n",
       "      <td>redheaded league</td>\n",
       "      <td>16</td>\n",
       "      <td>2</td>\n",
       "      <td>0</td>\n",
       "      <td>0</td>\n",
       "    </tr>\n",
       "    <tr>\n",
       "      <th>3</th>\n",
       "      <td>case identity</td>\n",
       "      <td>13</td>\n",
       "      <td>2</td>\n",
       "      <td>0</td>\n",
       "      <td>1</td>\n",
       "    </tr>\n",
       "    <tr>\n",
       "      <th>4</th>\n",
       "      <td>boscombe valley mystery</td>\n",
       "      <td>23</td>\n",
       "      <td>3</td>\n",
       "      <td>0</td>\n",
       "      <td>0</td>\n",
       "    </tr>\n",
       "    <tr>\n",
       "      <th>5</th>\n",
       "      <td>five orange pips</td>\n",
       "      <td>16</td>\n",
       "      <td>3</td>\n",
       "      <td>0</td>\n",
       "      <td>0</td>\n",
       "    </tr>\n",
       "    <tr>\n",
       "      <th>6</th>\n",
       "      <td>man twisted lip</td>\n",
       "      <td>15</td>\n",
       "      <td>3</td>\n",
       "      <td>0</td>\n",
       "      <td>0</td>\n",
       "    </tr>\n",
       "    <tr>\n",
       "      <th>7</th>\n",
       "      <td>adventure blue carbuncle</td>\n",
       "      <td>24</td>\n",
       "      <td>3</td>\n",
       "      <td>1</td>\n",
       "      <td>0</td>\n",
       "    </tr>\n",
       "    <tr>\n",
       "      <th>8</th>\n",
       "      <td>adventure speckled band</td>\n",
       "      <td>23</td>\n",
       "      <td>3</td>\n",
       "      <td>1</td>\n",
       "      <td>0</td>\n",
       "    </tr>\n",
       "    <tr>\n",
       "      <th>9</th>\n",
       "      <td>adventure engineers thumb</td>\n",
       "      <td>25</td>\n",
       "      <td>3</td>\n",
       "      <td>1</td>\n",
       "      <td>0</td>\n",
       "    </tr>\n",
       "    <tr>\n",
       "      <th>10</th>\n",
       "      <td>adventure noble bachelor</td>\n",
       "      <td>24</td>\n",
       "      <td>3</td>\n",
       "      <td>1</td>\n",
       "      <td>0</td>\n",
       "    </tr>\n",
       "    <tr>\n",
       "      <th>11</th>\n",
       "      <td>adventure beryl coronet</td>\n",
       "      <td>23</td>\n",
       "      <td>3</td>\n",
       "      <td>1</td>\n",
       "      <td>0</td>\n",
       "    </tr>\n",
       "    <tr>\n",
       "      <th>12</th>\n",
       "      <td>adventure copper beeches</td>\n",
       "      <td>24</td>\n",
       "      <td>3</td>\n",
       "      <td>1</td>\n",
       "      <td>0</td>\n",
       "    </tr>\n",
       "  </tbody>\n",
       "</table>\n",
       "</div>"
      ],
      "text/plain": [
       "                    hikayeler  harf_sayisi  kelime sayisi  \\\n",
       "1             scandal bohemia           15              2   \n",
       "2            redheaded league           16              2   \n",
       "3               case identity           13              2   \n",
       "4     boscombe valley mystery           23              3   \n",
       "5            five orange pips           16              3   \n",
       "6             man twisted lip           15              3   \n",
       "7    adventure blue carbuncle           24              3   \n",
       "8     adventure speckled band           23              3   \n",
       "9   adventure engineers thumb           25              3   \n",
       "10   adventure noble bachelor           24              3   \n",
       "11    adventure beryl coronet           23              3   \n",
       "12   adventure copper beeches           24              3   \n",
       "\n",
       "    ozel karakter sayisi  sayi sayisi  \n",
       "1                      0            1  \n",
       "2                      0            0  \n",
       "3                      0            1  \n",
       "4                      0            0  \n",
       "5                      0            0  \n",
       "6                      0            0  \n",
       "7                      1            0  \n",
       "8                      1            0  \n",
       "9                      1            0  \n",
       "10                     1            0  \n",
       "11                     1            0  \n",
       "12                     1            0  "
      ]
     },
     "execution_count": 133,
     "metadata": {},
     "output_type": "execute_result"
    }
   ],
   "source": [
    "o_df"
   ]
  }
 ],
 "metadata": {
  "kernelspec": {
   "display_name": "Python 3",
   "language": "python",
   "name": "python3"
  },
  "language_info": {
   "codemirror_mode": {
    "name": "ipython",
    "version": 3
   },
   "file_extension": ".py",
   "mimetype": "text/x-python",
   "name": "python",
   "nbconvert_exporter": "python",
   "pygments_lexer": "ipython3",
   "version": "3.7.12"
  },
  "papermill": {
   "default_parameters": {},
   "duration": 237.606914,
   "end_time": "2022-02-12T18:08:34.583269",
   "environment_variables": {},
   "exception": null,
   "input_path": "__notebook__.ipynb",
   "output_path": "__notebook__.ipynb",
   "parameters": {},
   "start_time": "2022-02-12T18:04:36.976355",
   "version": "2.3.3"
  }
 },
 "nbformat": 4,
 "nbformat_minor": 5
}
