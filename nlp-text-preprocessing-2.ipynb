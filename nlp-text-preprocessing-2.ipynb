{
 "cells": [
  {
   "cell_type": "code",
   "execution_count": 1,
   "id": "cdf6e9be",
   "metadata": {
    "_cell_guid": "b1076dfc-b9ad-4769-8c92-a6c4dae69d19",
    "_uuid": "8f2839f25d086af736a60e9eeb907d3b93b6e0e5",
    "execution": {
     "iopub.execute_input": "2022-02-12T17:55:48.956853Z",
     "iopub.status.busy": "2022-02-12T17:55:48.955532Z",
     "iopub.status.idle": "2022-02-12T17:55:48.966838Z",
     "shell.execute_reply": "2022-02-12T17:55:48.967519Z",
     "shell.execute_reply.started": "2022-02-06T22:08:00.609174Z"
    },
    "papermill": {
     "duration": 0.135595,
     "end_time": "2022-02-12T17:55:48.967822",
     "exception": false,
     "start_time": "2022-02-12T17:55:48.832227",
     "status": "completed"
    },
    "tags": []
   },
   "outputs": [],
   "source": [
    "# This Python 3 environment comes with many helpful analytics libraries installed\n",
    "# It is defined by the kaggle/python Docker image: https://github.com/kaggle/docker-python\n",
    "# For example, here's several helpful packages to load\n",
    "\n",
    "import numpy as np # linear algebra\n",
    "import pandas as pd # data processing, CSV file I/O (e.g. pd.read_csv)\n",
    "\n",
    "# Input data files are available in the read-only \"../input/\" directory\n",
    "# For example, running this (by clicking run or pressing Shift+Enter) will list all files under the input directory\n",
    "\n",
    "import os\n",
    "for dirname, _, filenames in os.walk('/kaggle/input'):\n",
    "    for filename in filenames:\n",
    "        print(os.path.join(dirname, filename))\n",
    "\n",
    "# You can write up to 20GB to the current directory (/kaggle/working/) that gets preserved as output when you create a version using \"Save & Run All\" \n",
    "# You can also write temporary files to /kaggle/temp/, but they won't be saved outside of the current session"
   ]
  },
  {
   "cell_type": "markdown",
   "id": "5b4ec948",
   "metadata": {
    "papermill": {
     "duration": 0.128786,
     "end_time": "2022-02-12T17:55:49.221113",
     "exception": false,
     "start_time": "2022-02-12T17:55:49.092327",
     "status": "completed"
    },
    "tags": []
   },
   "source": [
    "\n",
    "# Basic String Operations"
   ]
  },
  {
   "cell_type": "code",
   "execution_count": 2,
   "id": "ab34f2f6",
   "metadata": {
    "execution": {
     "iopub.execute_input": "2022-02-12T17:55:49.482355Z",
     "iopub.status.busy": "2022-02-12T17:55:49.481620Z",
     "iopub.status.idle": "2022-02-12T17:55:49.484858Z",
     "shell.execute_reply": "2022-02-12T17:55:49.485366Z",
     "shell.execute_reply.started": "2022-02-06T22:08:00.625949Z"
    },
    "papermill": {
     "duration": 0.135171,
     "end_time": "2022-02-12T17:55:49.485532",
     "exception": false,
     "start_time": "2022-02-12T17:55:49.350361",
     "status": "completed"
    },
    "tags": []
   },
   "outputs": [
    {
     "data": {
      "text/plain": [
       "'mvkmvkmvk'"
      ]
     },
     "execution_count": 2,
     "metadata": {},
     "output_type": "execute_result"
    }
   ],
   "source": [
    "isim = \"mvk\"\n",
    "3 * isim"
   ]
  },
  {
   "cell_type": "code",
   "execution_count": 3,
   "id": "874b7477",
   "metadata": {
    "execution": {
     "iopub.execute_input": "2022-02-12T17:55:49.724292Z",
     "iopub.status.busy": "2022-02-12T17:55:49.723157Z",
     "iopub.status.idle": "2022-02-12T17:55:49.726633Z",
     "shell.execute_reply": "2022-02-12T17:55:49.727124Z",
     "shell.execute_reply.started": "2022-02-06T22:08:00.651987Z"
    },
    "papermill": {
     "duration": 0.126588,
     "end_time": "2022-02-12T17:55:49.727326",
     "exception": false,
     "start_time": "2022-02-12T17:55:49.600738",
     "status": "completed"
    },
    "tags": []
   },
   "outputs": [
    {
     "data": {
      "text/plain": [
       "'mvkali'"
      ]
     },
     "execution_count": 3,
     "metadata": {},
     "output_type": "execute_result"
    }
   ],
   "source": [
    "\"mvk\" + \"ali\""
   ]
  },
  {
   "cell_type": "code",
   "execution_count": 4,
   "id": "adf0933d",
   "metadata": {
    "execution": {
     "iopub.execute_input": "2022-02-12T17:55:49.974054Z",
     "iopub.status.busy": "2022-02-12T17:55:49.973340Z",
     "iopub.status.idle": "2022-02-12T17:55:49.978023Z",
     "shell.execute_reply": "2022-02-12T17:55:49.978656Z",
     "shell.execute_reply.started": "2022-02-06T22:08:00.705009Z"
    },
    "papermill": {
     "duration": 0.130383,
     "end_time": "2022-02-12T17:55:49.978837",
     "exception": false,
     "start_time": "2022-02-12T17:55:49.848454",
     "status": "completed"
    },
    "tags": []
   },
   "outputs": [
    {
     "data": {
      "text/plain": [
       "'Kvk'"
      ]
     },
     "execution_count": 4,
     "metadata": {},
     "output_type": "execute_result"
    }
   ],
   "source": [
    "\"K\" + isim[1:]"
   ]
  },
  {
   "cell_type": "code",
   "execution_count": 5,
   "id": "19e83524",
   "metadata": {
    "execution": {
     "iopub.execute_input": "2022-02-12T17:55:50.221103Z",
     "iopub.status.busy": "2022-02-12T17:55:50.220482Z",
     "iopub.status.idle": "2022-02-12T17:55:50.224032Z",
     "shell.execute_reply": "2022-02-12T17:55:50.224604Z",
     "shell.execute_reply.started": "2022-02-06T22:08:00.717656Z"
    },
    "papermill": {
     "duration": 0.125681,
     "end_time": "2022-02-12T17:55:50.224771",
     "exception": false,
     "start_time": "2022-02-12T17:55:50.099090",
     "status": "completed"
    },
    "tags": []
   },
   "outputs": [],
   "source": [
    "isimler = [\"ali\",\"veli\",\"ayse\"]"
   ]
  },
  {
   "cell_type": "code",
   "execution_count": 6,
   "id": "a891d6e3",
   "metadata": {
    "execution": {
     "iopub.execute_input": "2022-02-12T17:55:50.460353Z",
     "iopub.status.busy": "2022-02-12T17:55:50.459604Z",
     "iopub.status.idle": "2022-02-12T17:55:50.465278Z",
     "shell.execute_reply": "2022-02-12T17:55:50.466313Z",
     "shell.execute_reply.started": "2022-02-06T22:08:00.742774Z"
    },
    "papermill": {
     "duration": 0.125009,
     "end_time": "2022-02-12T17:55:50.466644",
     "exception": false,
     "start_time": "2022-02-12T17:55:50.341635",
     "status": "completed"
    },
    "tags": []
   },
   "outputs": [
    {
     "name": "stdout",
     "output_type": "stream",
     "text": [
      "İsim:ali\n",
      "İsim:veli\n",
      "İsim:ayse\n"
     ]
    }
   ],
   "source": [
    "for i in isimler :\n",
    "    print(\"İsim:\",i,sep=\"\")"
   ]
  },
  {
   "cell_type": "code",
   "execution_count": 7,
   "id": "bdeca160",
   "metadata": {
    "execution": {
     "iopub.execute_input": "2022-02-12T17:55:50.701174Z",
     "iopub.status.busy": "2022-02-12T17:55:50.700494Z",
     "iopub.status.idle": "2022-02-12T17:55:50.706809Z",
     "shell.execute_reply": "2022-02-12T17:55:50.706310Z",
     "shell.execute_reply.started": "2022-02-06T22:08:00.772703Z"
    },
    "papermill": {
     "duration": 0.125274,
     "end_time": "2022-02-12T17:55:50.706949",
     "exception": false,
     "start_time": "2022-02-12T17:55:50.581675",
     "status": "completed"
    },
    "tags": []
   },
   "outputs": [
    {
     "name": "stdout",
     "output_type": "stream",
     "text": [
      "_ali\n",
      "_veli\n",
      "_ayse\n"
     ]
    }
   ],
   "source": [
    "for i in isimler :\n",
    "    print(\"_\",i[0:],sep=\"\")"
   ]
  },
  {
   "cell_type": "code",
   "execution_count": 8,
   "id": "8e1459e2",
   "metadata": {
    "execution": {
     "iopub.execute_input": "2022-02-12T17:55:50.942201Z",
     "iopub.status.busy": "2022-02-12T17:55:50.941528Z",
     "iopub.status.idle": "2022-02-12T17:55:50.946603Z",
     "shell.execute_reply": "2022-02-12T17:55:50.947252Z",
     "shell.execute_reply.started": "2022-02-06T22:08:00.806502Z"
    },
    "papermill": {
     "duration": 0.124647,
     "end_time": "2022-02-12T17:55:50.947439",
     "exception": false,
     "start_time": "2022-02-12T17:55:50.822792",
     "status": "completed"
    },
    "tags": []
   },
   "outputs": [
    {
     "name": "stdout",
     "output_type": "stream",
     "text": [
      "(0, 'ali') (1, 'veli') (2, 'ayse')\n"
     ]
    }
   ],
   "source": [
    "print(*enumerate(isimler))"
   ]
  },
  {
   "cell_type": "code",
   "execution_count": 9,
   "id": "78ead2cf",
   "metadata": {
    "execution": {
     "iopub.execute_input": "2022-02-12T17:55:51.186625Z",
     "iopub.status.busy": "2022-02-12T17:55:51.185918Z",
     "iopub.status.idle": "2022-02-12T17:55:51.190083Z",
     "shell.execute_reply": "2022-02-12T17:55:51.190626Z",
     "shell.execute_reply.started": "2022-02-06T22:08:00.820648Z"
    },
    "papermill": {
     "duration": 0.126437,
     "end_time": "2022-02-12T17:55:51.190792",
     "exception": false,
     "start_time": "2022-02-12T17:55:51.064355",
     "status": "completed"
    },
    "tags": []
   },
   "outputs": [
    {
     "name": "stdout",
     "output_type": "stream",
     "text": [
      "(0, 'i')\n",
      "(1, 's')\n",
      "(2, 'i')\n",
      "(3, 'm')\n",
      "(4, 'l')\n",
      "(5, 'e')\n",
      "(6, 'r')\n"
     ]
    }
   ],
   "source": [
    "for i in enumerate(\"isimler\"):\n",
    "    print(i)"
   ]
  },
  {
   "cell_type": "code",
   "execution_count": 10,
   "id": "8483af55",
   "metadata": {
    "execution": {
     "iopub.execute_input": "2022-02-12T17:55:51.425623Z",
     "iopub.status.busy": "2022-02-12T17:55:51.424697Z",
     "iopub.status.idle": "2022-02-12T17:55:51.429908Z",
     "shell.execute_reply": "2022-02-12T17:55:51.429260Z",
     "shell.execute_reply.started": "2022-02-06T22:08:00.855626Z"
    },
    "papermill": {
     "duration": 0.122666,
     "end_time": "2022-02-12T17:55:51.430050",
     "exception": false,
     "start_time": "2022-02-12T17:55:51.307384",
     "status": "completed"
    },
    "tags": []
   },
   "outputs": [
    {
     "name": "stdout",
     "output_type": "stream",
     "text": [
      "(0, 'ali')\n",
      "(1, 'veli')\n",
      "(2, 'ayse')\n"
     ]
    }
   ],
   "source": [
    "for i in enumerate(isimler):\n",
    "    print(i)"
   ]
  },
  {
   "cell_type": "code",
   "execution_count": 11,
   "id": "1c52daf0",
   "metadata": {
    "execution": {
     "iopub.execute_input": "2022-02-12T17:55:51.666897Z",
     "iopub.status.busy": "2022-02-12T17:55:51.666271Z",
     "iopub.status.idle": "2022-02-12T17:55:51.671560Z",
     "shell.execute_reply": "2022-02-12T17:55:51.672068Z",
     "shell.execute_reply.started": "2022-02-06T22:08:00.882616Z"
    },
    "papermill": {
     "duration": 0.1248,
     "end_time": "2022-02-12T17:55:51.672297",
     "exception": false,
     "start_time": "2022-02-12T17:55:51.547497",
     "status": "completed"
    },
    "tags": []
   },
   "outputs": [
    {
     "name": "stdout",
     "output_type": "stream",
     "text": [
      "(4, 'ali')\n",
      "(5, 'veli')\n",
      "(6, 'ayse')\n"
     ]
    }
   ],
   "source": [
    "for i in enumerate(isimler ,4):\n",
    "    print(i)"
   ]
  },
  {
   "cell_type": "markdown",
   "id": "ac810080",
   "metadata": {
    "papermill": {
     "duration": 0.116917,
     "end_time": "2022-02-12T17:55:51.902978",
     "exception": false,
     "start_time": "2022-02-12T17:55:51.786061",
     "status": "completed"
    },
    "tags": []
   },
   "source": [
    "# In-Array Type Queries"
   ]
  },
  {
   "cell_type": "code",
   "execution_count": 12,
   "id": "8dc9e2ba",
   "metadata": {
    "execution": {
     "iopub.execute_input": "2022-02-12T17:55:52.142138Z",
     "iopub.status.busy": "2022-02-12T17:55:52.141424Z",
     "iopub.status.idle": "2022-02-12T17:55:52.143973Z",
     "shell.execute_reply": "2022-02-12T17:55:52.144481Z",
     "shell.execute_reply.started": "2022-02-06T22:08:00.914047Z"
    },
    "papermill": {
     "duration": 0.125654,
     "end_time": "2022-02-12T17:55:52.144647",
     "exception": false,
     "start_time": "2022-02-12T17:55:52.018993",
     "status": "completed"
    },
    "tags": []
   },
   "outputs": [
    {
     "data": {
      "text/plain": [
       "True"
      ]
     },
     "execution_count": 12,
     "metadata": {},
     "output_type": "execute_result"
    }
   ],
   "source": [
    "\"mvk\".isalpha()"
   ]
  },
  {
   "cell_type": "code",
   "execution_count": 13,
   "id": "3cd5cfb7",
   "metadata": {
    "execution": {
     "iopub.execute_input": "2022-02-12T17:55:52.382872Z",
     "iopub.status.busy": "2022-02-12T17:55:52.382237Z",
     "iopub.status.idle": "2022-02-12T17:55:52.387833Z",
     "shell.execute_reply": "2022-02-12T17:55:52.387327Z",
     "shell.execute_reply.started": "2022-02-06T22:08:00.944478Z"
    },
    "papermill": {
     "duration": 0.12682,
     "end_time": "2022-02-12T17:55:52.387984",
     "exception": false,
     "start_time": "2022-02-12T17:55:52.261164",
     "status": "completed"
    },
    "tags": []
   },
   "outputs": [
    {
     "data": {
      "text/plain": [
       "False"
      ]
     },
     "execution_count": 13,
     "metadata": {},
     "output_type": "execute_result"
    }
   ],
   "source": [
    "\"mvk30\".isalpha()"
   ]
  },
  {
   "cell_type": "code",
   "execution_count": 14,
   "id": "ea4a6a74",
   "metadata": {
    "execution": {
     "iopub.execute_input": "2022-02-12T17:55:52.627224Z",
     "iopub.status.busy": "2022-02-12T17:55:52.626579Z",
     "iopub.status.idle": "2022-02-12T17:55:52.631356Z",
     "shell.execute_reply": "2022-02-12T17:55:52.631950Z",
     "shell.execute_reply.started": "2022-02-06T22:08:00.976164Z"
    },
    "papermill": {
     "duration": 0.126286,
     "end_time": "2022-02-12T17:55:52.632131",
     "exception": false,
     "start_time": "2022-02-12T17:55:52.505845",
     "status": "completed"
    },
    "tags": []
   },
   "outputs": [
    {
     "data": {
      "text/plain": [
       "True"
      ]
     },
     "execution_count": 14,
     "metadata": {},
     "output_type": "execute_result"
    }
   ],
   "source": [
    "\"123\".isnumeric()"
   ]
  },
  {
   "cell_type": "code",
   "execution_count": 15,
   "id": "c137dc66",
   "metadata": {
    "execution": {
     "iopub.execute_input": "2022-02-12T17:55:52.876086Z",
     "iopub.status.busy": "2022-02-12T17:55:52.875407Z",
     "iopub.status.idle": "2022-02-12T17:55:52.880876Z",
     "shell.execute_reply": "2022-02-12T17:55:52.880235Z",
     "shell.execute_reply.started": "2022-02-06T22:08:01.00761Z"
    },
    "papermill": {
     "duration": 0.128629,
     "end_time": "2022-02-12T17:55:52.881018",
     "exception": false,
     "start_time": "2022-02-12T17:55:52.752389",
     "status": "completed"
    },
    "tags": []
   },
   "outputs": [
    {
     "data": {
      "text/plain": [
       "True"
      ]
     },
     "execution_count": 15,
     "metadata": {},
     "output_type": "execute_result"
    }
   ],
   "source": [
    "\"123\".isdigit()"
   ]
  },
  {
   "cell_type": "code",
   "execution_count": 16,
   "id": "430b4d2f",
   "metadata": {
    "execution": {
     "iopub.execute_input": "2022-02-12T17:55:53.126447Z",
     "iopub.status.busy": "2022-02-12T17:55:53.125738Z",
     "iopub.status.idle": "2022-02-12T17:55:53.129585Z",
     "shell.execute_reply": "2022-02-12T17:55:53.128914Z",
     "shell.execute_reply.started": "2022-02-06T22:08:01.034686Z"
    },
    "papermill": {
     "duration": 0.129803,
     "end_time": "2022-02-12T17:55:53.129731",
     "exception": false,
     "start_time": "2022-02-12T17:55:52.999928",
     "status": "completed"
    },
    "tags": []
   },
   "outputs": [
    {
     "data": {
      "text/plain": [
       "True"
      ]
     },
     "execution_count": 16,
     "metadata": {},
     "output_type": "execute_result"
    }
   ],
   "source": [
    "\"mvk30\".isalnum()"
   ]
  },
  {
   "cell_type": "markdown",
   "id": "bcfb2260",
   "metadata": {
    "papermill": {
     "duration": 0.11863,
     "end_time": "2022-02-12T17:55:53.365170",
     "exception": false,
     "start_time": "2022-02-12T17:55:53.246540",
     "status": "completed"
    },
    "tags": []
   },
   "source": [
    "# Accessing Elements and Element Indexes"
   ]
  },
  {
   "cell_type": "code",
   "execution_count": 17,
   "id": "cb0f732b",
   "metadata": {
    "execution": {
     "iopub.execute_input": "2022-02-12T17:55:53.607923Z",
     "iopub.status.busy": "2022-02-12T17:55:53.607120Z",
     "iopub.status.idle": "2022-02-12T17:55:53.610357Z",
     "shell.execute_reply": "2022-02-12T17:55:53.611001Z",
     "shell.execute_reply.started": "2022-02-06T22:08:01.077386Z"
    },
    "papermill": {
     "duration": 0.128435,
     "end_time": "2022-02-12T17:55:53.611230",
     "exception": false,
     "start_time": "2022-02-12T17:55:53.482795",
     "status": "completed"
    },
    "tags": []
   },
   "outputs": [
    {
     "data": {
      "text/plain": [
       "'mü'"
      ]
     },
     "execution_count": 17,
     "metadata": {},
     "output_type": "execute_result"
    }
   ],
   "source": [
    "isim = \"mücahidozcelik\"\n",
    "isim[0:2]"
   ]
  },
  {
   "cell_type": "code",
   "execution_count": 18,
   "id": "8d61483a",
   "metadata": {
    "execution": {
     "iopub.execute_input": "2022-02-12T17:55:53.855010Z",
     "iopub.status.busy": "2022-02-12T17:55:53.852998Z",
     "iopub.status.idle": "2022-02-12T17:55:53.858960Z",
     "shell.execute_reply": "2022-02-12T17:55:53.858408Z",
     "shell.execute_reply.started": "2022-02-06T22:08:01.107585Z"
    },
    "papermill": {
     "duration": 0.128029,
     "end_time": "2022-02-12T17:55:53.859116",
     "exception": false,
     "start_time": "2022-02-12T17:55:53.731087",
     "status": "completed"
    },
    "tags": []
   },
   "outputs": [
    {
     "data": {
      "text/plain": [
       "8"
      ]
     },
     "execution_count": 18,
     "metadata": {},
     "output_type": "execute_result"
    }
   ],
   "source": [
    "isim.index(\"z\")"
   ]
  },
  {
   "cell_type": "markdown",
   "id": "794cf2ee",
   "metadata": {
    "papermill": {
     "duration": 0.118839,
     "end_time": "2022-02-12T17:55:54.100397",
     "exception": false,
     "start_time": "2022-02-12T17:55:53.981558",
     "status": "completed"
    },
    "tags": []
   },
   "source": [
    "# Query the start and end characters : startswith() & endswith()"
   ]
  },
  {
   "cell_type": "code",
   "execution_count": 19,
   "id": "5c0c3344",
   "metadata": {
    "execution": {
     "iopub.execute_input": "2022-02-12T17:55:54.348989Z",
     "iopub.status.busy": "2022-02-12T17:55:54.348340Z",
     "iopub.status.idle": "2022-02-12T17:55:54.351234Z",
     "shell.execute_reply": "2022-02-12T17:55:54.350668Z",
     "shell.execute_reply.started": "2022-02-06T22:08:01.127298Z"
    },
    "papermill": {
     "duration": 0.128671,
     "end_time": "2022-02-12T17:55:54.351388",
     "exception": false,
     "start_time": "2022-02-12T17:55:54.222717",
     "status": "completed"
    },
    "tags": []
   },
   "outputs": [],
   "source": [
    "isim = \"Mustafa Vahit Keskin\""
   ]
  },
  {
   "cell_type": "code",
   "execution_count": 20,
   "id": "17bbb993",
   "metadata": {
    "execution": {
     "iopub.execute_input": "2022-02-12T17:55:54.598331Z",
     "iopub.status.busy": "2022-02-12T17:55:54.597678Z",
     "iopub.status.idle": "2022-02-12T17:55:54.600782Z",
     "shell.execute_reply": "2022-02-12T17:55:54.600147Z",
     "shell.execute_reply.started": "2022-02-06T22:08:01.147642Z"
    },
    "papermill": {
     "duration": 0.129765,
     "end_time": "2022-02-12T17:55:54.600921",
     "exception": false,
     "start_time": "2022-02-12T17:55:54.471156",
     "status": "completed"
    },
    "tags": []
   },
   "outputs": [
    {
     "data": {
      "text/plain": [
       "False"
      ]
     },
     "execution_count": 20,
     "metadata": {},
     "output_type": "execute_result"
    }
   ],
   "source": [
    "isim.startswith(\"a\")"
   ]
  },
  {
   "cell_type": "code",
   "execution_count": 21,
   "id": "7c55d8da",
   "metadata": {
    "execution": {
     "iopub.execute_input": "2022-02-12T17:55:54.841533Z",
     "iopub.status.busy": "2022-02-12T17:55:54.840788Z",
     "iopub.status.idle": "2022-02-12T17:55:54.844094Z",
     "shell.execute_reply": "2022-02-12T17:55:54.843469Z",
     "shell.execute_reply.started": "2022-02-06T22:08:01.172075Z"
    },
    "papermill": {
     "duration": 0.125745,
     "end_time": "2022-02-12T17:55:54.844251",
     "exception": false,
     "start_time": "2022-02-12T17:55:54.718506",
     "status": "completed"
    },
    "tags": []
   },
   "outputs": [
    {
     "data": {
      "text/plain": [
       "True"
      ]
     },
     "execution_count": 21,
     "metadata": {},
     "output_type": "execute_result"
    }
   ],
   "source": [
    "isim.startswith(\"M\")"
   ]
  },
  {
   "cell_type": "code",
   "execution_count": 22,
   "id": "dde62bd9",
   "metadata": {
    "execution": {
     "iopub.execute_input": "2022-02-12T17:55:55.086607Z",
     "iopub.status.busy": "2022-02-12T17:55:55.085911Z",
     "iopub.status.idle": "2022-02-12T17:55:55.090388Z",
     "shell.execute_reply": "2022-02-12T17:55:55.090909Z",
     "shell.execute_reply.started": "2022-02-06T22:08:01.201712Z"
    },
    "papermill": {
     "duration": 0.125403,
     "end_time": "2022-02-12T17:55:55.091083",
     "exception": false,
     "start_time": "2022-02-12T17:55:54.965680",
     "status": "completed"
    },
    "tags": []
   },
   "outputs": [
    {
     "data": {
      "text/plain": [
       "3"
      ]
     },
     "execution_count": 22,
     "metadata": {},
     "output_type": "execute_result"
    }
   ],
   "source": [
    "isim.count(\"a\")"
   ]
  },
  {
   "cell_type": "code",
   "execution_count": 23,
   "id": "fd113b99",
   "metadata": {
    "execution": {
     "iopub.execute_input": "2022-02-12T17:55:55.331079Z",
     "iopub.status.busy": "2022-02-12T17:55:55.330436Z",
     "iopub.status.idle": "2022-02-12T17:55:55.335012Z",
     "shell.execute_reply": "2022-02-12T17:55:55.335553Z",
     "shell.execute_reply.started": "2022-02-06T22:08:01.232115Z"
    },
    "papermill": {
     "duration": 0.126715,
     "end_time": "2022-02-12T17:55:55.335718",
     "exception": false,
     "start_time": "2022-02-12T17:55:55.209003",
     "status": "completed"
    },
    "tags": []
   },
   "outputs": [
    {
     "data": {
      "text/plain": [
       "['d', 'e', 'e', 'f', 'r', 't']"
      ]
     },
     "execution_count": 23,
     "metadata": {},
     "output_type": "execute_result"
    }
   ],
   "source": [
    "# sorted \n",
    "\n",
    "sorted(\"defter\")"
   ]
  },
  {
   "cell_type": "code",
   "execution_count": 24,
   "id": "d130bcf6",
   "metadata": {
    "execution": {
     "iopub.execute_input": "2022-02-12T17:55:55.581397Z",
     "iopub.status.busy": "2022-02-12T17:55:55.580645Z",
     "iopub.status.idle": "2022-02-12T17:55:55.586061Z",
     "shell.execute_reply": "2022-02-12T17:55:55.586616Z",
     "shell.execute_reply.started": "2022-02-06T22:08:01.258274Z"
    },
    "papermill": {
     "duration": 0.130939,
     "end_time": "2022-02-12T17:55:55.586794",
     "exception": false,
     "start_time": "2022-02-12T17:55:55.455855",
     "status": "completed"
    },
    "tags": []
   },
   "outputs": [
    {
     "name": "stdout",
     "output_type": "stream",
     "text": [
      "deefrt\n"
     ]
    }
   ],
   "source": [
    "print(*sorted(\"defter\") , sep = \"\")"
   ]
  },
  {
   "cell_type": "code",
   "execution_count": 25,
   "id": "1b134f14",
   "metadata": {
    "execution": {
     "iopub.execute_input": "2022-02-12T17:55:55.839940Z",
     "iopub.status.busy": "2022-02-12T17:55:55.838911Z",
     "iopub.status.idle": "2022-02-12T17:55:55.842767Z",
     "shell.execute_reply": "2022-02-12T17:55:55.843590Z",
     "shell.execute_reply.started": "2022-02-06T22:08:01.292536Z"
    },
    "papermill": {
     "duration": 0.132486,
     "end_time": "2022-02-12T17:55:55.843823",
     "exception": false,
     "start_time": "2022-02-12T17:55:55.711337",
     "status": "completed"
    },
    "tags": []
   },
   "outputs": [
    {
     "data": {
      "text/plain": [
       "['Mustafa', 'Vahit', 'Keskin']"
      ]
     },
     "execution_count": 25,
     "metadata": {},
     "output_type": "execute_result"
    }
   ],
   "source": [
    "# split characters \n",
    "\n",
    "isim = \"Mustafa Vahit Keskin\"\n",
    "\n",
    "isim.split()"
   ]
  },
  {
   "cell_type": "code",
   "execution_count": 26,
   "id": "315159a3",
   "metadata": {
    "execution": {
     "iopub.execute_input": "2022-02-12T17:55:56.088799Z",
     "iopub.status.busy": "2022-02-12T17:55:56.088127Z",
     "iopub.status.idle": "2022-02-12T17:55:56.092543Z",
     "shell.execute_reply": "2022-02-12T17:55:56.093135Z",
     "shell.execute_reply.started": "2022-02-06T22:08:01.326061Z"
    },
    "papermill": {
     "duration": 0.1283,
     "end_time": "2022-02-12T17:55:56.093337",
     "exception": false,
     "start_time": "2022-02-12T17:55:55.965037",
     "status": "completed"
    },
    "tags": []
   },
   "outputs": [
    {
     "data": {
      "text/plain": [
       "['Must', 'f', ' V', 'hit Keskin']"
      ]
     },
     "execution_count": 26,
     "metadata": {},
     "output_type": "execute_result"
    }
   ],
   "source": [
    "isim.split(\"a\")"
   ]
  },
  {
   "cell_type": "code",
   "execution_count": 27,
   "id": "2525ad47",
   "metadata": {
    "execution": {
     "iopub.execute_input": "2022-02-12T17:55:56.340452Z",
     "iopub.status.busy": "2022-02-12T17:55:56.339603Z",
     "iopub.status.idle": "2022-02-12T17:55:56.342808Z",
     "shell.execute_reply": "2022-02-12T17:55:56.343320Z",
     "shell.execute_reply.started": "2022-02-06T22:08:01.347351Z"
    },
    "papermill": {
     "duration": 0.130107,
     "end_time": "2022-02-12T17:55:56.343503",
     "exception": false,
     "start_time": "2022-02-12T17:55:56.213396",
     "status": "completed"
    },
    "tags": []
   },
   "outputs": [
    {
     "data": {
      "text/plain": [
       "['Mustafa', 'Vahit', 'Keskin']"
      ]
     },
     "execution_count": 27,
     "metadata": {},
     "output_type": "execute_result"
    }
   ],
   "source": [
    "isim = \"Mustafa_Vahit_Keskin\"\n",
    "isim.split(\"_\")"
   ]
  },
  {
   "cell_type": "markdown",
   "id": "5048b18d",
   "metadata": {
    "papermill": {
     "duration": 0.12385,
     "end_time": "2022-02-12T17:55:56.591528",
     "exception": false,
     "start_time": "2022-02-12T17:55:56.467678",
     "status": "completed"
    },
    "tags": []
   },
   "source": [
    "# Upper and lower case operations"
   ]
  },
  {
   "cell_type": "code",
   "execution_count": 28,
   "id": "3f0a6e1a",
   "metadata": {
    "execution": {
     "iopub.execute_input": "2022-02-12T17:55:56.841450Z",
     "iopub.status.busy": "2022-02-12T17:55:56.840552Z",
     "iopub.status.idle": "2022-02-12T17:55:56.843421Z",
     "shell.execute_reply": "2022-02-12T17:55:56.842756Z",
     "shell.execute_reply.started": "2022-02-06T22:08:01.378442Z"
    },
    "papermill": {
     "duration": 0.130019,
     "end_time": "2022-02-12T17:55:56.843563",
     "exception": false,
     "start_time": "2022-02-12T17:55:56.713544",
     "status": "completed"
    },
    "tags": []
   },
   "outputs": [],
   "source": [
    "isim = \"Mustafa Vahit Keskin\""
   ]
  },
  {
   "cell_type": "code",
   "execution_count": 29,
   "id": "8fec012e",
   "metadata": {
    "execution": {
     "iopub.execute_input": "2022-02-12T17:55:57.095675Z",
     "iopub.status.busy": "2022-02-12T17:55:57.094752Z",
     "iopub.status.idle": "2022-02-12T17:55:57.098020Z",
     "shell.execute_reply": "2022-02-12T17:55:57.098569Z",
     "shell.execute_reply.started": "2022-02-06T22:08:01.399352Z"
    },
    "papermill": {
     "duration": 0.132954,
     "end_time": "2022-02-12T17:55:57.098757",
     "exception": false,
     "start_time": "2022-02-12T17:55:56.965803",
     "status": "completed"
    },
    "tags": []
   },
   "outputs": [
    {
     "data": {
      "text/plain": [
       "'MUSTAFA VAHIT KESKIN'"
      ]
     },
     "execution_count": 29,
     "metadata": {},
     "output_type": "execute_result"
    }
   ],
   "source": [
    "isim.upper()"
   ]
  },
  {
   "cell_type": "code",
   "execution_count": 30,
   "id": "07ba0be8",
   "metadata": {
    "execution": {
     "iopub.execute_input": "2022-02-12T17:55:57.351164Z",
     "iopub.status.busy": "2022-02-12T17:55:57.350215Z",
     "iopub.status.idle": "2022-02-12T17:55:57.355307Z",
     "shell.execute_reply": "2022-02-12T17:55:57.355878Z",
     "shell.execute_reply.started": "2022-02-06T22:08:01.43124Z"
    },
    "papermill": {
     "duration": 0.132946,
     "end_time": "2022-02-12T17:55:57.356054",
     "exception": false,
     "start_time": "2022-02-12T17:55:57.223108",
     "status": "completed"
    },
    "tags": []
   },
   "outputs": [
    {
     "data": {
      "text/plain": [
       "'mustafa vahit keskin'"
      ]
     },
     "execution_count": 30,
     "metadata": {},
     "output_type": "execute_result"
    }
   ],
   "source": [
    "isim.lower()"
   ]
  },
  {
   "cell_type": "code",
   "execution_count": 31,
   "id": "586df563",
   "metadata": {
    "execution": {
     "iopub.execute_input": "2022-02-12T17:55:57.612647Z",
     "iopub.status.busy": "2022-02-12T17:55:57.611923Z",
     "iopub.status.idle": "2022-02-12T17:55:57.617841Z",
     "shell.execute_reply": "2022-02-12T17:55:57.618462Z",
     "shell.execute_reply.started": "2022-02-06T22:08:01.464497Z"
    },
    "papermill": {
     "duration": 0.136124,
     "end_time": "2022-02-12T17:55:57.618635",
     "exception": false,
     "start_time": "2022-02-12T17:55:57.482511",
     "status": "completed"
    },
    "tags": []
   },
   "outputs": [
    {
     "data": {
      "text/plain": [
       "'mustafa vahit keskin'"
      ]
     },
     "execution_count": 31,
     "metadata": {},
     "output_type": "execute_result"
    }
   ],
   "source": [
    "isim.upper().lower()"
   ]
  },
  {
   "cell_type": "code",
   "execution_count": 32,
   "id": "c2a6db26",
   "metadata": {
    "execution": {
     "iopub.execute_input": "2022-02-12T17:55:57.877563Z",
     "iopub.status.busy": "2022-02-12T17:55:57.876883Z",
     "iopub.status.idle": "2022-02-12T17:55:57.880753Z",
     "shell.execute_reply": "2022-02-12T17:55:57.881296Z",
     "shell.execute_reply.started": "2022-02-06T22:08:01.489688Z"
    },
    "papermill": {
     "duration": 0.134674,
     "end_time": "2022-02-12T17:55:57.881478",
     "exception": false,
     "start_time": "2022-02-12T17:55:57.746804",
     "status": "completed"
    },
    "tags": []
   },
   "outputs": [],
   "source": [
    "isim_b = isim.upper()"
   ]
  },
  {
   "cell_type": "code",
   "execution_count": 33,
   "id": "cd62fcbf",
   "metadata": {
    "execution": {
     "iopub.execute_input": "2022-02-12T17:55:58.133620Z",
     "iopub.status.busy": "2022-02-12T17:55:58.132937Z",
     "iopub.status.idle": "2022-02-12T17:55:58.138021Z",
     "shell.execute_reply": "2022-02-12T17:55:58.138671Z",
     "shell.execute_reply.started": "2022-02-06T22:08:01.510639Z"
    },
    "papermill": {
     "duration": 0.133154,
     "end_time": "2022-02-12T17:55:58.138841",
     "exception": false,
     "start_time": "2022-02-12T17:55:58.005687",
     "status": "completed"
    },
    "tags": []
   },
   "outputs": [
    {
     "data": {
      "text/plain": [
       "False"
      ]
     },
     "execution_count": 33,
     "metadata": {},
     "output_type": "execute_result"
    }
   ],
   "source": [
    "isim_b.islower()"
   ]
  },
  {
   "cell_type": "code",
   "execution_count": 34,
   "id": "c1aaabeb",
   "metadata": {
    "execution": {
     "iopub.execute_input": "2022-02-12T17:55:58.395156Z",
     "iopub.status.busy": "2022-02-12T17:55:58.394531Z",
     "iopub.status.idle": "2022-02-12T17:55:58.399321Z",
     "shell.execute_reply": "2022-02-12T17:55:58.399885Z",
     "shell.execute_reply.started": "2022-02-06T22:08:01.535556Z"
    },
    "papermill": {
     "duration": 0.136047,
     "end_time": "2022-02-12T17:55:58.400064",
     "exception": false,
     "start_time": "2022-02-12T17:55:58.264017",
     "status": "completed"
    },
    "tags": []
   },
   "outputs": [
    {
     "data": {
      "text/plain": [
       "True"
      ]
     },
     "execution_count": 34,
     "metadata": {},
     "output_type": "execute_result"
    }
   ],
   "source": [
    "isim_b.isupper()"
   ]
  },
  {
   "cell_type": "code",
   "execution_count": 35,
   "id": "fd430d8e",
   "metadata": {
    "execution": {
     "iopub.execute_input": "2022-02-12T17:55:58.659725Z",
     "iopub.status.busy": "2022-02-12T17:55:58.659044Z",
     "iopub.status.idle": "2022-02-12T17:55:58.662040Z",
     "shell.execute_reply": "2022-02-12T17:55:58.662616Z",
     "shell.execute_reply.started": "2022-02-06T22:08:01.562092Z"
    },
    "papermill": {
     "duration": 0.134798,
     "end_time": "2022-02-12T17:55:58.662790",
     "exception": false,
     "start_time": "2022-02-12T17:55:58.527992",
     "status": "completed"
    },
    "tags": []
   },
   "outputs": [],
   "source": [
    "# capitalize() title() swapcase()\n",
    "isim = \"mustafa vahit keskin\""
   ]
  },
  {
   "cell_type": "code",
   "execution_count": 36,
   "id": "85be4ccb",
   "metadata": {
    "execution": {
     "iopub.execute_input": "2022-02-12T17:55:58.931406Z",
     "iopub.status.busy": "2022-02-12T17:55:58.930369Z",
     "iopub.status.idle": "2022-02-12T17:55:58.936503Z",
     "shell.execute_reply": "2022-02-12T17:55:58.937321Z",
     "shell.execute_reply.started": "2022-02-06T22:08:01.585034Z"
    },
    "papermill": {
     "duration": 0.150198,
     "end_time": "2022-02-12T17:55:58.937531",
     "exception": false,
     "start_time": "2022-02-12T17:55:58.787333",
     "status": "completed"
    },
    "tags": []
   },
   "outputs": [
    {
     "data": {
      "text/plain": [
       "'Mustafa vahit keskin'"
      ]
     },
     "execution_count": 36,
     "metadata": {},
     "output_type": "execute_result"
    }
   ],
   "source": [
    "isim.capitalize()"
   ]
  },
  {
   "cell_type": "code",
   "execution_count": 37,
   "id": "80455fa9",
   "metadata": {
    "execution": {
     "iopub.execute_input": "2022-02-12T17:55:59.203094Z",
     "iopub.status.busy": "2022-02-12T17:55:59.202296Z",
     "iopub.status.idle": "2022-02-12T17:55:59.206074Z",
     "shell.execute_reply": "2022-02-12T17:55:59.205447Z",
     "shell.execute_reply.started": "2022-02-06T22:08:01.610887Z"
    },
    "papermill": {
     "duration": 0.13474,
     "end_time": "2022-02-12T17:55:59.206250",
     "exception": false,
     "start_time": "2022-02-12T17:55:59.071510",
     "status": "completed"
    },
    "tags": []
   },
   "outputs": [
    {
     "data": {
      "text/plain": [
       "'Mustafa Vahit Keskin'"
      ]
     },
     "execution_count": 37,
     "metadata": {},
     "output_type": "execute_result"
    }
   ],
   "source": [
    "isim.title() "
   ]
  },
  {
   "cell_type": "code",
   "execution_count": 38,
   "id": "70b5b15b",
   "metadata": {
    "execution": {
     "iopub.execute_input": "2022-02-12T17:55:59.463526Z",
     "iopub.status.busy": "2022-02-12T17:55:59.462530Z",
     "iopub.status.idle": "2022-02-12T17:55:59.466579Z",
     "shell.execute_reply": "2022-02-12T17:55:59.465909Z",
     "shell.execute_reply.started": "2022-02-06T22:08:01.635427Z"
    },
    "papermill": {
     "duration": 0.13367,
     "end_time": "2022-02-12T17:55:59.466723",
     "exception": false,
     "start_time": "2022-02-12T17:55:59.333053",
     "status": "completed"
    },
    "tags": []
   },
   "outputs": [
    {
     "data": {
      "text/plain": [
       "'mustafa VAHIT keskin'"
      ]
     },
     "execution_count": 38,
     "metadata": {},
     "output_type": "execute_result"
    }
   ],
   "source": [
    "isim = \"MUSTAFA vahit KESKIN\"\n",
    "isim.swapcase()  "
   ]
  },
  {
   "cell_type": "markdown",
   "id": "253ceffb",
   "metadata": {
    "papermill": {
     "duration": 0.12721,
     "end_time": "2022-02-12T17:55:59.724136",
     "exception": false,
     "start_time": "2022-02-12T17:55:59.596926",
     "status": "completed"
    },
    "tags": []
   },
   "source": [
    "# Strip unwanted characters : strip(), lstrip() , rstrip()"
   ]
  },
  {
   "cell_type": "code",
   "execution_count": 39,
   "id": "c017c1ad",
   "metadata": {
    "execution": {
     "iopub.execute_input": "2022-02-12T17:55:59.987088Z",
     "iopub.status.busy": "2022-02-12T17:55:59.986246Z",
     "iopub.status.idle": "2022-02-12T17:55:59.990071Z",
     "shell.execute_reply": "2022-02-12T17:55:59.989462Z",
     "shell.execute_reply.started": "2022-02-06T22:08:01.661656Z"
    },
    "papermill": {
     "duration": 0.138206,
     "end_time": "2022-02-12T17:55:59.990226",
     "exception": false,
     "start_time": "2022-02-12T17:55:59.852020",
     "status": "completed"
    },
    "tags": []
   },
   "outputs": [
    {
     "data": {
      "text/plain": [
       "'hello'"
      ]
     },
     "execution_count": 39,
     "metadata": {},
     "output_type": "execute_result"
    }
   ],
   "source": [
    "isim = \" hello \"\n",
    "isim.strip()      "
   ]
  },
  {
   "cell_type": "code",
   "execution_count": 40,
   "id": "d178730a",
   "metadata": {
    "execution": {
     "iopub.execute_input": "2022-02-12T17:56:00.248494Z",
     "iopub.status.busy": "2022-02-12T17:56:00.247822Z",
     "iopub.status.idle": "2022-02-12T17:56:00.252734Z",
     "shell.execute_reply": "2022-02-12T17:56:00.253510Z",
     "shell.execute_reply.started": "2022-02-06T22:08:01.687298Z"
    },
    "papermill": {
     "duration": 0.134837,
     "end_time": "2022-02-12T17:56:00.253691",
     "exception": false,
     "start_time": "2022-02-12T17:56:00.118854",
     "status": "completed"
    },
    "tags": []
   },
   "outputs": [
    {
     "data": {
      "text/plain": [
       "'hello'"
      ]
     },
     "execution_count": 40,
     "metadata": {},
     "output_type": "execute_result"
    }
   ],
   "source": [
    "isim = \"*hello*\"\n",
    "isim.strip(\"*\")"
   ]
  },
  {
   "cell_type": "code",
   "execution_count": 41,
   "id": "49164505",
   "metadata": {
    "execution": {
     "iopub.execute_input": "2022-02-12T17:56:00.518915Z",
     "iopub.status.busy": "2022-02-12T17:56:00.518225Z",
     "iopub.status.idle": "2022-02-12T17:56:00.523347Z",
     "shell.execute_reply": "2022-02-12T17:56:00.523891Z",
     "shell.execute_reply.started": "2022-02-06T22:08:01.715842Z"
    },
    "papermill": {
     "duration": 0.142795,
     "end_time": "2022-02-12T17:56:00.524062",
     "exception": false,
     "start_time": "2022-02-12T17:56:00.381267",
     "status": "completed"
    },
    "tags": []
   },
   "outputs": [
    {
     "data": {
      "text/plain": [
       "'hello*'"
      ]
     },
     "execution_count": 41,
     "metadata": {},
     "output_type": "execute_result"
    }
   ],
   "source": [
    "isim = \"*hello*\"\n",
    "isim.rstrip(\"*\")\n",
    "isim.lstrip(\"*\")"
   ]
  },
  {
   "cell_type": "code",
   "execution_count": 42,
   "id": "df1c98b7",
   "metadata": {
    "execution": {
     "iopub.execute_input": "2022-02-12T17:56:00.784678Z",
     "iopub.status.busy": "2022-02-12T17:56:00.783739Z",
     "iopub.status.idle": "2022-02-12T17:56:00.788463Z",
     "shell.execute_reply": "2022-02-12T17:56:00.787733Z",
     "shell.execute_reply.started": "2022-02-06T22:08:01.744138Z"
    },
    "papermill": {
     "duration": 0.134901,
     "end_time": "2022-02-12T17:56:00.788616",
     "exception": false,
     "start_time": "2022-02-12T17:56:00.653715",
     "status": "completed"
    },
    "tags": []
   },
   "outputs": [],
   "source": [
    "# join \n",
    "\n",
    "isim = \"Mustafa Vahit Keskin\"\n",
    "ayrik = isim.split()"
   ]
  },
  {
   "cell_type": "code",
   "execution_count": 43,
   "id": "c02c8df7",
   "metadata": {
    "execution": {
     "iopub.execute_input": "2022-02-12T17:56:01.051131Z",
     "iopub.status.busy": "2022-02-12T17:56:01.050329Z",
     "iopub.status.idle": "2022-02-12T17:56:01.053497Z",
     "shell.execute_reply": "2022-02-12T17:56:01.053997Z",
     "shell.execute_reply.started": "2022-02-06T22:08:01.768559Z"
    },
    "papermill": {
     "duration": 0.134359,
     "end_time": "2022-02-12T17:56:01.054166",
     "exception": false,
     "start_time": "2022-02-12T17:56:00.919807",
     "status": "completed"
    },
    "tags": []
   },
   "outputs": [
    {
     "data": {
      "text/plain": [
       "'Mustafa Vahit Keskin'"
      ]
     },
     "execution_count": 43,
     "metadata": {},
     "output_type": "execute_result"
    }
   ],
   "source": [
    "joiner = \" \"\n",
    "joiner.join(ayrik)"
   ]
  },
  {
   "cell_type": "code",
   "execution_count": 44,
   "id": "458a0700",
   "metadata": {
    "execution": {
     "iopub.execute_input": "2022-02-12T17:56:01.314555Z",
     "iopub.status.busy": "2022-02-12T17:56:01.313518Z",
     "iopub.status.idle": "2022-02-12T17:56:01.318897Z",
     "shell.execute_reply": "2022-02-12T17:56:01.319376Z",
     "shell.execute_reply.started": "2022-02-06T22:08:01.797499Z"
    },
    "papermill": {
     "duration": 0.136493,
     "end_time": "2022-02-12T17:56:01.319554",
     "exception": false,
     "start_time": "2022-02-12T17:56:01.183061",
     "status": "completed"
    },
    "tags": []
   },
   "outputs": [
    {
     "data": {
      "text/plain": [
       "'Mustafa*****Vahit*****Keskin'"
      ]
     },
     "execution_count": 44,
     "metadata": {},
     "output_type": "execute_result"
    }
   ],
   "source": [
    "joiner = \"*****\"\n",
    "joiner.join(ayrik)"
   ]
  },
  {
   "cell_type": "markdown",
   "id": "396fe183",
   "metadata": {
    "papermill": {
     "duration": 0.132209,
     "end_time": "2022-02-12T17:56:01.578389",
     "exception": false,
     "start_time": "2022-02-12T17:56:01.446180",
     "status": "completed"
    },
    "tags": []
   },
   "source": [
    "# Element Replacement : replace() , str.maketrans() , translate()"
   ]
  },
  {
   "cell_type": "code",
   "execution_count": 45,
   "id": "7485b86d",
   "metadata": {
    "execution": {
     "iopub.execute_input": "2022-02-12T17:56:01.846383Z",
     "iopub.status.busy": "2022-02-12T17:56:01.845361Z",
     "iopub.status.idle": "2022-02-12T17:56:01.851105Z",
     "shell.execute_reply": "2022-02-12T17:56:01.851751Z",
     "shell.execute_reply.started": "2022-02-06T22:08:01.820991Z"
    },
    "papermill": {
     "duration": 0.13731,
     "end_time": "2022-02-12T17:56:01.851955",
     "exception": false,
     "start_time": "2022-02-12T17:56:01.714645",
     "status": "completed"
    },
    "tags": []
   },
   "outputs": [
    {
     "data": {
      "text/plain": [
       "'Mustafa Vahit Keskin'"
      ]
     },
     "execution_count": 45,
     "metadata": {},
     "output_type": "execute_result"
    }
   ],
   "source": [
    "isim\n",
    "\n",
    "isim.replace(\"V\",\"c\")\n",
    "isim.replace(\"ca\",\"Va\")"
   ]
  },
  {
   "cell_type": "code",
   "execution_count": 46,
   "id": "2bde1437",
   "metadata": {
    "execution": {
     "iopub.execute_input": "2022-02-12T17:56:02.113925Z",
     "iopub.status.busy": "2022-02-12T17:56:02.112894Z",
     "iopub.status.idle": "2022-02-12T17:56:02.116707Z",
     "shell.execute_reply": "2022-02-12T17:56:02.117163Z",
     "shell.execute_reply.started": "2022-02-06T22:08:01.847072Z"
    },
    "papermill": {
     "duration": 0.133471,
     "end_time": "2022-02-12T17:56:02.117370",
     "exception": false,
     "start_time": "2022-02-12T17:56:01.983899",
     "status": "completed"
    },
    "tags": []
   },
   "outputs": [],
   "source": [
    "ifade = \"Bu ifade içerisinde bağzı TÜrkçe karakterler vardır\"\n",
    "duzelticek_harfler = \"çÇğĞıİöÖşŞüÜ\"\n",
    "duzeltilmis_harfler = \"cCgGiIoOsSuU\""
   ]
  },
  {
   "cell_type": "code",
   "execution_count": 47,
   "id": "53090bad",
   "metadata": {
    "execution": {
     "iopub.execute_input": "2022-02-12T17:56:02.384116Z",
     "iopub.status.busy": "2022-02-12T17:56:02.383272Z",
     "iopub.status.idle": "2022-02-12T17:56:02.386697Z",
     "shell.execute_reply": "2022-02-12T17:56:02.387212Z",
     "shell.execute_reply.started": "2022-02-06T22:08:01.865472Z"
    },
    "papermill": {
     "duration": 0.13966,
     "end_time": "2022-02-12T17:56:02.387383",
     "exception": false,
     "start_time": "2022-02-12T17:56:02.247723",
     "status": "completed"
    },
    "tags": []
   },
   "outputs": [
    {
     "data": {
      "text/plain": [
       "'Bu ifade icerisinde bagzi TUrkce karakterler vardir'"
      ]
     },
     "execution_count": 47,
     "metadata": {},
     "output_type": "execute_result"
    }
   ],
   "source": [
    "alfabe_duzeltme = str.maketrans(duzelticek_harfler,duzeltilmis_harfler)\n",
    "ifade.translate(alfabe_duzeltme)"
   ]
  },
  {
   "cell_type": "code",
   "execution_count": 48,
   "id": "7156463b",
   "metadata": {
    "execution": {
     "iopub.execute_input": "2022-02-12T17:56:02.653711Z",
     "iopub.status.busy": "2022-02-12T17:56:02.652990Z",
     "iopub.status.idle": "2022-02-12T17:56:02.655381Z",
     "shell.execute_reply": "2022-02-12T17:56:02.655845Z",
     "shell.execute_reply.started": "2022-02-06T22:08:01.890128Z"
    },
    "papermill": {
     "duration": 0.143511,
     "end_time": "2022-02-12T17:56:02.656038",
     "exception": false,
     "start_time": "2022-02-12T17:56:02.512527",
     "status": "completed"
    },
    "tags": []
   },
   "outputs": [],
   "source": [
    "# contains\n",
    "isimler = [\"ayse\",\"Ayşe\",\"ali\",\"aali\",\"Ali\",\"veli\",\"mehmet\",\"berkcan\"]\n",
    "v = pd.Series(isimler)"
   ]
  },
  {
   "cell_type": "code",
   "execution_count": 49,
   "id": "f67f524c",
   "metadata": {
    "execution": {
     "iopub.execute_input": "2022-02-12T17:56:02.915413Z",
     "iopub.status.busy": "2022-02-12T17:56:02.914722Z",
     "iopub.status.idle": "2022-02-12T17:56:02.921133Z",
     "shell.execute_reply": "2022-02-12T17:56:02.921630Z",
     "shell.execute_reply.started": "2022-02-06T22:08:01.918351Z"
    },
    "papermill": {
     "duration": 0.136252,
     "end_time": "2022-02-12T17:56:02.921809",
     "exception": false,
     "start_time": "2022-02-12T17:56:02.785557",
     "status": "completed"
    },
    "tags": []
   },
   "outputs": [
    {
     "data": {
      "text/plain": [
       "0    False\n",
       "1    False\n",
       "2     True\n",
       "3     True\n",
       "4    False\n",
       "5    False\n",
       "6    False\n",
       "7    False\n",
       "dtype: bool"
      ]
     },
     "execution_count": 49,
     "metadata": {},
     "output_type": "execute_result"
    }
   ],
   "source": [
    "v.str.contains(\"al\")"
   ]
  },
  {
   "cell_type": "code",
   "execution_count": 50,
   "id": "25a805fa",
   "metadata": {
    "execution": {
     "iopub.execute_input": "2022-02-12T17:56:03.204134Z",
     "iopub.status.busy": "2022-02-12T17:56:03.203076Z",
     "iopub.status.idle": "2022-02-12T17:56:03.206745Z",
     "shell.execute_reply": "2022-02-12T17:56:03.207268Z",
     "shell.execute_reply.started": "2022-02-06T22:08:01.948409Z"
    },
    "papermill": {
     "duration": 0.156975,
     "end_time": "2022-02-12T17:56:03.207457",
     "exception": false,
     "start_time": "2022-02-12T17:56:03.050482",
     "status": "completed"
    },
    "tags": []
   },
   "outputs": [
    {
     "data": {
      "text/plain": [
       "2     ali\n",
       "3    aali\n",
       "dtype: object"
      ]
     },
     "execution_count": 50,
     "metadata": {},
     "output_type": "execute_result"
    }
   ],
   "source": [
    "v[v.str.contains(\"al\")]"
   ]
  },
  {
   "cell_type": "code",
   "execution_count": 51,
   "id": "6f586276",
   "metadata": {
    "execution": {
     "iopub.execute_input": "2022-02-12T17:56:03.496095Z",
     "iopub.status.busy": "2022-02-12T17:56:03.495421Z",
     "iopub.status.idle": "2022-02-12T17:56:03.498539Z",
     "shell.execute_reply": "2022-02-12T17:56:03.499133Z",
     "shell.execute_reply.started": "2022-02-06T22:08:01.975536Z"
    },
    "papermill": {
     "duration": 0.155703,
     "end_time": "2022-02-12T17:56:03.499322",
     "exception": false,
     "start_time": "2022-02-12T17:56:03.343619",
     "status": "completed"
    },
    "tags": []
   },
   "outputs": [
    {
     "data": {
      "text/plain": [
       "2"
      ]
     },
     "execution_count": 51,
     "metadata": {},
     "output_type": "execute_result"
    }
   ],
   "source": [
    "v.str.contains(\"al\").sum()"
   ]
  },
  {
   "cell_type": "code",
   "execution_count": 52,
   "id": "795a96c4",
   "metadata": {
    "execution": {
     "iopub.execute_input": "2022-02-12T17:56:03.761621Z",
     "iopub.status.busy": "2022-02-12T17:56:03.760827Z",
     "iopub.status.idle": "2022-02-12T17:56:03.768382Z",
     "shell.execute_reply": "2022-02-12T17:56:03.768980Z",
     "shell.execute_reply.started": "2022-02-06T22:08:02.004355Z"
    },
    "papermill": {
     "duration": 0.139319,
     "end_time": "2022-02-12T17:56:03.769148",
     "exception": false,
     "start_time": "2022-02-12T17:56:03.629829",
     "status": "completed"
    },
    "tags": []
   },
   "outputs": [
    {
     "data": {
      "text/plain": [
       "3"
      ]
     },
     "execution_count": 52,
     "metadata": {},
     "output_type": "execute_result"
    }
   ],
   "source": [
    "v.str.contains(\"[aA]li\").sum()"
   ]
  },
  {
   "cell_type": "markdown",
   "id": "531d3b81",
   "metadata": {
    "papermill": {
     "duration": 0.132813,
     "end_time": "2022-02-12T17:56:04.036101",
     "exception": false,
     "start_time": "2022-02-12T17:56:03.903288",
     "status": "completed"
    },
    "tags": []
   },
   "source": [
    "# Text Mining and Natural Language Processing"
   ]
  },
  {
   "cell_type": "code",
   "execution_count": 53,
   "id": "8b43ba00",
   "metadata": {
    "execution": {
     "iopub.execute_input": "2022-02-12T17:56:04.297625Z",
     "iopub.status.busy": "2022-02-12T17:56:04.296964Z",
     "iopub.status.idle": "2022-02-12T17:56:04.302932Z",
     "shell.execute_reply": "2022-02-12T17:56:04.303491Z",
     "shell.execute_reply.started": "2022-02-06T22:08:02.026792Z"
    },
    "papermill": {
     "duration": 0.137375,
     "end_time": "2022-02-12T17:56:04.303660",
     "exception": false,
     "start_time": "2022-02-12T17:56:04.166285",
     "status": "completed"
    },
    "tags": []
   },
   "outputs": [
    {
     "data": {
      "text/plain": [
       "\"\\nA Scandal in Bohemia! 01\\nThe Red-headed League,2\\nA Case, of Identity 33\\nThe Boscombe Valley Mystery4\\nThe Five Orange Pips1\\nThe Man with? the Twisted Lip\\nThe Adventure of the Blue Carbuncle\\nThe Adventure of the Speckled Band\\nThe Adventure of the Engineer's Thumb\\nThe Adventure of the Noble Bachelor\\nThe Adventure of the Beryl Coronet\\nThe Adventure of the Copper Beeches\""
      ]
     },
     "execution_count": 53,
     "metadata": {},
     "output_type": "execute_result"
    }
   ],
   "source": [
    "metin = \"\"\"\n",
    "A Scandal in Bohemia! 01\n",
    "The Red-headed League,2\n",
    "A Case, of Identity 33\n",
    "The Boscombe Valley Mystery4\n",
    "The Five Orange Pips1\n",
    "The Man with? the Twisted Lip\n",
    "The Adventure of the Blue Carbuncle\n",
    "The Adventure of the Speckled Band\n",
    "The Adventure of the Engineer's Thumb\n",
    "The Adventure of the Noble Bachelor\n",
    "The Adventure of the Beryl Coronet\n",
    "The Adventure of the Copper Beeches\"\"\"\n",
    "\n",
    "metin"
   ]
  },
  {
   "cell_type": "code",
   "execution_count": 54,
   "id": "c3cc19a5",
   "metadata": {
    "execution": {
     "iopub.execute_input": "2022-02-12T17:56:04.562470Z",
     "iopub.status.busy": "2022-02-12T17:56:04.561838Z",
     "iopub.status.idle": "2022-02-12T17:56:04.567520Z",
     "shell.execute_reply": "2022-02-12T17:56:04.568241Z",
     "shell.execute_reply.started": "2022-02-06T22:08:02.050602Z"
    },
    "papermill": {
     "duration": 0.136652,
     "end_time": "2022-02-12T17:56:04.568438",
     "exception": false,
     "start_time": "2022-02-12T17:56:04.431786",
     "status": "completed"
    },
    "tags": []
   },
   "outputs": [
    {
     "data": {
      "text/plain": [
       "['A',\n",
       " 'Scandal',\n",
       " 'in',\n",
       " 'Bohemia!',\n",
       " '01',\n",
       " 'The',\n",
       " 'Red-headed',\n",
       " 'League,2',\n",
       " 'A',\n",
       " 'Case,',\n",
       " 'of',\n",
       " 'Identity',\n",
       " '33',\n",
       " 'The',\n",
       " 'Boscombe',\n",
       " 'Valley',\n",
       " 'Mystery4',\n",
       " 'The',\n",
       " 'Five',\n",
       " 'Orange',\n",
       " 'Pips1',\n",
       " 'The',\n",
       " 'Man',\n",
       " 'with?',\n",
       " 'the',\n",
       " 'Twisted',\n",
       " 'Lip',\n",
       " 'The',\n",
       " 'Adventure',\n",
       " 'of',\n",
       " 'the',\n",
       " 'Blue',\n",
       " 'Carbuncle',\n",
       " 'The',\n",
       " 'Adventure',\n",
       " 'of',\n",
       " 'the',\n",
       " 'Speckled',\n",
       " 'Band',\n",
       " 'The',\n",
       " 'Adventure',\n",
       " 'of',\n",
       " 'the',\n",
       " \"Engineer's\",\n",
       " 'Thumb',\n",
       " 'The',\n",
       " 'Adventure',\n",
       " 'of',\n",
       " 'the',\n",
       " 'Noble',\n",
       " 'Bachelor',\n",
       " 'The',\n",
       " 'Adventure',\n",
       " 'of',\n",
       " 'the',\n",
       " 'Beryl',\n",
       " 'Coronet',\n",
       " 'The',\n",
       " 'Adventure',\n",
       " 'of',\n",
       " 'the',\n",
       " 'Copper',\n",
       " 'Beeches']"
      ]
     },
     "execution_count": 54,
     "metadata": {},
     "output_type": "execute_result"
    }
   ],
   "source": [
    "metin.split()"
   ]
  },
  {
   "cell_type": "code",
   "execution_count": 55,
   "id": "493eaee6",
   "metadata": {
    "execution": {
     "iopub.execute_input": "2022-02-12T17:56:04.838026Z",
     "iopub.status.busy": "2022-02-12T17:56:04.837162Z",
     "iopub.status.idle": "2022-02-12T17:56:04.840917Z",
     "shell.execute_reply": "2022-02-12T17:56:04.840432Z",
     "shell.execute_reply.started": "2022-02-06T22:08:02.073011Z"
    },
    "papermill": {
     "duration": 0.139289,
     "end_time": "2022-02-12T17:56:04.841056",
     "exception": false,
     "start_time": "2022-02-12T17:56:04.701767",
     "status": "completed"
    },
    "tags": []
   },
   "outputs": [
    {
     "data": {
      "text/plain": [
       "['',\n",
       " 'A Scandal in Bohemia! 01',\n",
       " 'The Red-headed League,2',\n",
       " 'A Case, of Identity 33',\n",
       " 'The Boscombe Valley Mystery4',\n",
       " 'The Five Orange Pips1',\n",
       " 'The Man with? the Twisted Lip',\n",
       " 'The Adventure of the Blue Carbuncle',\n",
       " 'The Adventure of the Speckled Band',\n",
       " \"The Adventure of the Engineer's Thumb\",\n",
       " 'The Adventure of the Noble Bachelor',\n",
       " 'The Adventure of the Beryl Coronet',\n",
       " 'The Adventure of the Copper Beeches']"
      ]
     },
     "execution_count": 55,
     "metadata": {},
     "output_type": "execute_result"
    }
   ],
   "source": [
    "metin.split(\"\\n\")"
   ]
  },
  {
   "cell_type": "code",
   "execution_count": 56,
   "id": "e509c2fb",
   "metadata": {
    "execution": {
     "iopub.execute_input": "2022-02-12T17:56:05.110021Z",
     "iopub.status.busy": "2022-02-12T17:56:05.109318Z",
     "iopub.status.idle": "2022-02-12T17:56:05.111615Z",
     "shell.execute_reply": "2022-02-12T17:56:05.112257Z",
     "shell.execute_reply.started": "2022-02-06T22:08:02.101186Z"
    },
    "papermill": {
     "duration": 0.136006,
     "end_time": "2022-02-12T17:56:05.112434",
     "exception": false,
     "start_time": "2022-02-12T17:56:04.976428",
     "status": "completed"
    },
    "tags": []
   },
   "outputs": [],
   "source": [
    "v_metin = metin.split(\"\\n\")"
   ]
  },
  {
   "cell_type": "code",
   "execution_count": 57,
   "id": "3b74f07a",
   "metadata": {
    "execution": {
     "iopub.execute_input": "2022-02-12T17:56:05.372719Z",
     "iopub.status.busy": "2022-02-12T17:56:05.372052Z",
     "iopub.status.idle": "2022-02-12T17:56:05.375905Z",
     "shell.execute_reply": "2022-02-12T17:56:05.376438Z",
     "shell.execute_reply.started": "2022-02-06T22:08:02.125461Z"
    },
    "papermill": {
     "duration": 0.135046,
     "end_time": "2022-02-12T17:56:05.376609",
     "exception": false,
     "start_time": "2022-02-12T17:56:05.241563",
     "status": "completed"
    },
    "tags": []
   },
   "outputs": [],
   "source": [
    "import pandas as pd\n",
    "v = pd.Series(v_metin)"
   ]
  },
  {
   "cell_type": "code",
   "execution_count": 58,
   "id": "4c374cd8",
   "metadata": {
    "execution": {
     "iopub.execute_input": "2022-02-12T17:56:05.637568Z",
     "iopub.status.busy": "2022-02-12T17:56:05.636865Z",
     "iopub.status.idle": "2022-02-12T17:56:05.640991Z",
     "shell.execute_reply": "2022-02-12T17:56:05.641518Z",
     "shell.execute_reply.started": "2022-02-06T22:08:02.151289Z"
    },
    "papermill": {
     "duration": 0.138416,
     "end_time": "2022-02-12T17:56:05.641690",
     "exception": false,
     "start_time": "2022-02-12T17:56:05.503274",
     "status": "completed"
    },
    "tags": []
   },
   "outputs": [],
   "source": [
    "metin_vektoru = v[1:len(v)]"
   ]
  },
  {
   "cell_type": "code",
   "execution_count": 59,
   "id": "8791d328",
   "metadata": {
    "execution": {
     "iopub.execute_input": "2022-02-12T17:56:05.920015Z",
     "iopub.status.busy": "2022-02-12T17:56:05.919340Z",
     "iopub.status.idle": "2022-02-12T17:56:05.920906Z",
     "shell.execute_reply": "2022-02-12T17:56:05.921436Z",
     "shell.execute_reply.started": "2022-02-06T22:08:02.174819Z"
    },
    "papermill": {
     "duration": 0.14387,
     "end_time": "2022-02-12T17:56:05.921616",
     "exception": false,
     "start_time": "2022-02-12T17:56:05.777746",
     "status": "completed"
    },
    "tags": []
   },
   "outputs": [],
   "source": [
    "mdf = pd.DataFrame( metin_vektoru , columns= [\"hikayeler\"])"
   ]
  },
  {
   "cell_type": "code",
   "execution_count": 60,
   "id": "09bb1791",
   "metadata": {
    "execution": {
     "iopub.execute_input": "2022-02-12T17:56:06.250209Z",
     "iopub.status.busy": "2022-02-12T17:56:06.249472Z",
     "iopub.status.idle": "2022-02-12T17:56:06.251974Z",
     "shell.execute_reply": "2022-02-12T17:56:06.252495Z",
     "shell.execute_reply.started": "2022-02-06T22:08:02.235559Z"
    },
    "papermill": {
     "duration": 0.135449,
     "end_time": "2022-02-12T17:56:06.252663",
     "exception": false,
     "start_time": "2022-02-12T17:56:06.117214",
     "status": "completed"
    },
    "tags": []
   },
   "outputs": [],
   "source": [
    "d_mdf = mdf.copy()"
   ]
  },
  {
   "cell_type": "code",
   "execution_count": 61,
   "id": "29553d94",
   "metadata": {
    "execution": {
     "iopub.execute_input": "2022-02-12T17:56:06.515783Z",
     "iopub.status.busy": "2022-02-12T17:56:06.515002Z",
     "iopub.status.idle": "2022-02-12T17:56:06.519181Z",
     "shell.execute_reply": "2022-02-12T17:56:06.519757Z",
     "shell.execute_reply.started": "2022-02-06T22:08:02.260385Z"
    },
    "papermill": {
     "duration": 0.139158,
     "end_time": "2022-02-12T17:56:06.519926",
     "exception": false,
     "start_time": "2022-02-12T17:56:06.380768",
     "status": "completed"
    },
    "tags": []
   },
   "outputs": [],
   "source": [
    "list1 = [1,2,3]\n",
    "str1 = \"-\".join(str(i) for i in list1 )"
   ]
  },
  {
   "cell_type": "code",
   "execution_count": 62,
   "id": "917e7b07",
   "metadata": {
    "execution": {
     "iopub.execute_input": "2022-02-12T17:56:06.795974Z",
     "iopub.status.busy": "2022-02-12T17:56:06.795242Z",
     "iopub.status.idle": "2022-02-12T17:56:06.801114Z",
     "shell.execute_reply": "2022-02-12T17:56:06.801651Z",
     "shell.execute_reply.started": "2022-02-06T22:08:02.282515Z"
    },
    "papermill": {
     "duration": 0.150414,
     "end_time": "2022-02-12T17:56:06.801831",
     "exception": false,
     "start_time": "2022-02-12T17:56:06.651417",
     "status": "completed"
    },
    "tags": []
   },
   "outputs": [
    {
     "data": {
      "text/plain": [
       "1                  a scandal in bohemia! 01\n",
       "2                   the red-headed league,2\n",
       "3                    a case, of identity 33\n",
       "4              the boscombe valley mystery4\n",
       "5                     the five orange pips1\n",
       "6             the man with? the twisted lip\n",
       "7       the adventure of the blue carbuncle\n",
       "8        the adventure of the speckled band\n",
       "9     the adventure of the engineer's thumb\n",
       "10      the adventure of the noble bachelor\n",
       "11       the adventure of the beryl coronet\n",
       "12      the adventure of the copper beeches\n",
       "Name: hikayeler, dtype: object"
      ]
     },
     "execution_count": 62,
     "metadata": {},
     "output_type": "execute_result"
    }
   ],
   "source": [
    "d_mdf[\"hikayeler\"].apply(lambda x: \" \".join(x.lower() for x in x.split()))"
   ]
  },
  {
   "cell_type": "code",
   "execution_count": 63,
   "id": "f93f6592",
   "metadata": {
    "execution": {
     "iopub.execute_input": "2022-02-12T17:56:07.073110Z",
     "iopub.status.busy": "2022-02-12T17:56:07.072415Z",
     "iopub.status.idle": "2022-02-12T17:56:07.074070Z",
     "shell.execute_reply": "2022-02-12T17:56:07.074536Z",
     "shell.execute_reply.started": "2022-02-06T22:08:02.315676Z"
    },
    "papermill": {
     "duration": 0.142988,
     "end_time": "2022-02-12T17:56:07.074714",
     "exception": false,
     "start_time": "2022-02-12T17:56:06.931726",
     "status": "completed"
    },
    "tags": []
   },
   "outputs": [],
   "source": [
    "d_mdf = d_mdf[\"hikayeler\"].apply(lambda x: \" \".join(x.lower() for x in x.split()))"
   ]
  },
  {
   "cell_type": "code",
   "execution_count": 64,
   "id": "c44f0a7c",
   "metadata": {
    "execution": {
     "iopub.execute_input": "2022-02-12T17:56:07.353934Z",
     "iopub.status.busy": "2022-02-12T17:56:07.350975Z",
     "iopub.status.idle": "2022-02-12T17:56:07.356010Z",
     "shell.execute_reply": "2022-02-12T17:56:07.356661Z",
     "shell.execute_reply.started": "2022-02-06T22:08:02.339654Z"
    },
    "papermill": {
     "duration": 0.1456,
     "end_time": "2022-02-12T17:56:07.356833",
     "exception": false,
     "start_time": "2022-02-12T17:56:07.211233",
     "status": "completed"
    },
    "tags": []
   },
   "outputs": [
    {
     "name": "stderr",
     "output_type": "stream",
     "text": [
      "/opt/conda/lib/python3.7/site-packages/ipykernel_launcher.py:1: FutureWarning: The default value of regex will change from True to False in a future version.\n",
      "  \"\"\"Entry point for launching an IPython kernel.\n"
     ]
    }
   ],
   "source": [
    "d_mdf = d_mdf.str.replace(\"[^\\w\\s]\",\"\")"
   ]
  },
  {
   "cell_type": "code",
   "execution_count": 65,
   "id": "169d9427",
   "metadata": {
    "execution": {
     "iopub.execute_input": "2022-02-12T17:56:07.641760Z",
     "iopub.status.busy": "2022-02-12T17:56:07.640961Z",
     "iopub.status.idle": "2022-02-12T17:56:07.643748Z",
     "shell.execute_reply": "2022-02-12T17:56:07.644341Z",
     "shell.execute_reply.started": "2022-02-06T22:08:02.366518Z"
    },
    "papermill": {
     "duration": 0.148576,
     "end_time": "2022-02-12T17:56:07.644515",
     "exception": false,
     "start_time": "2022-02-12T17:56:07.495939",
     "status": "completed"
    },
    "tags": []
   },
   "outputs": [
    {
     "name": "stderr",
     "output_type": "stream",
     "text": [
      "/opt/conda/lib/python3.7/site-packages/ipykernel_launcher.py:1: FutureWarning: The default value of regex will change from True to False in a future version.\n",
      "  \"\"\"Entry point for launching an IPython kernel.\n"
     ]
    }
   ],
   "source": [
    "d_mdf = d_mdf.str.replace(\"\\d\",\"\")"
   ]
  },
  {
   "cell_type": "markdown",
   "id": "013b6ba5",
   "metadata": {
    "papermill": {
     "duration": 0.132264,
     "end_time": "2022-02-12T17:56:07.911513",
     "exception": false,
     "start_time": "2022-02-12T17:56:07.779249",
     "status": "completed"
    },
    "tags": []
   },
   "source": [
    "# Stopwords"
   ]
  },
  {
   "cell_type": "code",
   "execution_count": 66,
   "id": "f80d10ca",
   "metadata": {
    "execution": {
     "iopub.execute_input": "2022-02-12T17:56:08.187281Z",
     "iopub.status.busy": "2022-02-12T17:56:08.185485Z",
     "iopub.status.idle": "2022-02-12T17:56:08.191044Z",
     "shell.execute_reply": "2022-02-12T17:56:08.191648Z",
     "shell.execute_reply.started": "2022-02-06T22:08:02.392656Z"
    },
    "papermill": {
     "duration": 0.146115,
     "end_time": "2022-02-12T17:56:08.191858",
     "exception": false,
     "start_time": "2022-02-12T17:56:08.045743",
     "status": "completed"
    },
    "tags": []
   },
   "outputs": [],
   "source": [
    "d_mdf = pd.DataFrame(d_mdf , columns = [\"hikayeler\"])"
   ]
  },
  {
   "cell_type": "code",
   "execution_count": 67,
   "id": "7df28b2f",
   "metadata": {
    "execution": {
     "iopub.execute_input": "2022-02-12T17:56:08.465809Z",
     "iopub.status.busy": "2022-02-12T17:56:08.464714Z",
     "iopub.status.idle": "2022-02-12T17:56:10.382396Z",
     "shell.execute_reply": "2022-02-12T17:56:10.383052Z",
     "shell.execute_reply.started": "2022-02-06T22:08:02.418637Z"
    },
    "papermill": {
     "duration": 2.055238,
     "end_time": "2022-02-12T17:56:10.383301",
     "exception": false,
     "start_time": "2022-02-12T17:56:08.328063",
     "status": "completed"
    },
    "tags": []
   },
   "outputs": [],
   "source": [
    "import nltk"
   ]
  },
  {
   "cell_type": "code",
   "execution_count": 68,
   "id": "837d0ae1",
   "metadata": {
    "execution": {
     "iopub.execute_input": "2022-02-12T17:56:10.651776Z",
     "iopub.status.busy": "2022-02-12T17:56:10.651093Z",
     "iopub.status.idle": "2022-02-12T17:56:30.696026Z",
     "shell.execute_reply": "2022-02-12T17:56:30.696801Z",
     "shell.execute_reply.started": "2022-02-06T22:08:04.864782Z"
    },
    "papermill": {
     "duration": 20.181569,
     "end_time": "2022-02-12T17:56:30.697070",
     "exception": false,
     "start_time": "2022-02-12T17:56:10.515501",
     "status": "completed"
    },
    "tags": []
   },
   "outputs": [
    {
     "name": "stdout",
     "output_type": "stream",
     "text": [
      "[nltk_data] Error loading stopwords: <urlopen error [Errno -3]\n",
      "[nltk_data]     Temporary failure in name resolution>\n"
     ]
    },
    {
     "data": {
      "text/plain": [
       "False"
      ]
     },
     "execution_count": 68,
     "metadata": {},
     "output_type": "execute_result"
    }
   ],
   "source": [
    "nltk.download(\"stopwords\")"
   ]
  },
  {
   "cell_type": "code",
   "execution_count": 69,
   "id": "4ac4f0b0",
   "metadata": {
    "execution": {
     "iopub.execute_input": "2022-02-12T17:56:30.969571Z",
     "iopub.status.busy": "2022-02-12T17:56:30.968879Z",
     "iopub.status.idle": "2022-02-12T17:56:30.972085Z",
     "shell.execute_reply": "2022-02-12T17:56:30.972648Z",
     "shell.execute_reply.started": "2022-02-06T22:08:24.917805Z"
    },
    "papermill": {
     "duration": 0.139037,
     "end_time": "2022-02-12T17:56:30.972866",
     "exception": false,
     "start_time": "2022-02-12T17:56:30.833829",
     "status": "completed"
    },
    "tags": []
   },
   "outputs": [],
   "source": [
    "from nltk.corpus import stopwords"
   ]
  },
  {
   "cell_type": "code",
   "execution_count": 70,
   "id": "3ea1d05c",
   "metadata": {
    "execution": {
     "iopub.execute_input": "2022-02-12T17:56:31.247480Z",
     "iopub.status.busy": "2022-02-12T17:56:31.246796Z",
     "iopub.status.idle": "2022-02-12T17:56:31.254606Z",
     "shell.execute_reply": "2022-02-12T17:56:31.255096Z",
     "shell.execute_reply.started": "2022-02-06T22:08:24.930934Z"
    },
    "papermill": {
     "duration": 0.146089,
     "end_time": "2022-02-12T17:56:31.255307",
     "exception": false,
     "start_time": "2022-02-12T17:56:31.109218",
     "status": "completed"
    },
    "tags": []
   },
   "outputs": [],
   "source": [
    "sw = stopwords.words(\"english\")"
   ]
  },
  {
   "cell_type": "code",
   "execution_count": 71,
   "id": "defbf802",
   "metadata": {
    "execution": {
     "iopub.execute_input": "2022-02-12T17:56:31.525899Z",
     "iopub.status.busy": "2022-02-12T17:56:31.525203Z",
     "iopub.status.idle": "2022-02-12T17:56:31.528081Z",
     "shell.execute_reply": "2022-02-12T17:56:31.528600Z",
     "shell.execute_reply.started": "2022-02-06T22:08:24.959726Z"
    },
    "papermill": {
     "duration": 0.14262,
     "end_time": "2022-02-12T17:56:31.528775",
     "exception": false,
     "start_time": "2022-02-12T17:56:31.386155",
     "status": "completed"
    },
    "tags": []
   },
   "outputs": [
    {
     "data": {
      "text/plain": [
       "['i',\n",
       " 'me',\n",
       " 'my',\n",
       " 'myself',\n",
       " 'we',\n",
       " 'our',\n",
       " 'ours',\n",
       " 'ourselves',\n",
       " 'you',\n",
       " \"you're\",\n",
       " \"you've\",\n",
       " \"you'll\",\n",
       " \"you'd\",\n",
       " 'your',\n",
       " 'yours',\n",
       " 'yourself',\n",
       " 'yourselves',\n",
       " 'he',\n",
       " 'him',\n",
       " 'his',\n",
       " 'himself',\n",
       " 'she',\n",
       " \"she's\",\n",
       " 'her',\n",
       " 'hers',\n",
       " 'herself',\n",
       " 'it',\n",
       " \"it's\",\n",
       " 'its',\n",
       " 'itself',\n",
       " 'they',\n",
       " 'them',\n",
       " 'their',\n",
       " 'theirs',\n",
       " 'themselves',\n",
       " 'what',\n",
       " 'which',\n",
       " 'who',\n",
       " 'whom',\n",
       " 'this',\n",
       " 'that',\n",
       " \"that'll\",\n",
       " 'these',\n",
       " 'those',\n",
       " 'am',\n",
       " 'is',\n",
       " 'are',\n",
       " 'was',\n",
       " 'were',\n",
       " 'be',\n",
       " 'been',\n",
       " 'being',\n",
       " 'have',\n",
       " 'has',\n",
       " 'had',\n",
       " 'having',\n",
       " 'do',\n",
       " 'does',\n",
       " 'did',\n",
       " 'doing',\n",
       " 'a',\n",
       " 'an',\n",
       " 'the',\n",
       " 'and',\n",
       " 'but',\n",
       " 'if',\n",
       " 'or',\n",
       " 'because',\n",
       " 'as',\n",
       " 'until',\n",
       " 'while',\n",
       " 'of',\n",
       " 'at',\n",
       " 'by',\n",
       " 'for',\n",
       " 'with',\n",
       " 'about',\n",
       " 'against',\n",
       " 'between',\n",
       " 'into',\n",
       " 'through',\n",
       " 'during',\n",
       " 'before',\n",
       " 'after',\n",
       " 'above',\n",
       " 'below',\n",
       " 'to',\n",
       " 'from',\n",
       " 'up',\n",
       " 'down',\n",
       " 'in',\n",
       " 'out',\n",
       " 'on',\n",
       " 'off',\n",
       " 'over',\n",
       " 'under',\n",
       " 'again',\n",
       " 'further',\n",
       " 'then',\n",
       " 'once',\n",
       " 'here',\n",
       " 'there',\n",
       " 'when',\n",
       " 'where',\n",
       " 'why',\n",
       " 'how',\n",
       " 'all',\n",
       " 'any',\n",
       " 'both',\n",
       " 'each',\n",
       " 'few',\n",
       " 'more',\n",
       " 'most',\n",
       " 'other',\n",
       " 'some',\n",
       " 'such',\n",
       " 'no',\n",
       " 'nor',\n",
       " 'not',\n",
       " 'only',\n",
       " 'own',\n",
       " 'same',\n",
       " 'so',\n",
       " 'than',\n",
       " 'too',\n",
       " 'very',\n",
       " 's',\n",
       " 't',\n",
       " 'can',\n",
       " 'will',\n",
       " 'just',\n",
       " 'don',\n",
       " \"don't\",\n",
       " 'should',\n",
       " \"should've\",\n",
       " 'now',\n",
       " 'd',\n",
       " 'll',\n",
       " 'm',\n",
       " 'o',\n",
       " 're',\n",
       " 've',\n",
       " 'y',\n",
       " 'ain',\n",
       " 'aren',\n",
       " \"aren't\",\n",
       " 'couldn',\n",
       " \"couldn't\",\n",
       " 'didn',\n",
       " \"didn't\",\n",
       " 'doesn',\n",
       " \"doesn't\",\n",
       " 'hadn',\n",
       " \"hadn't\",\n",
       " 'hasn',\n",
       " \"hasn't\",\n",
       " 'haven',\n",
       " \"haven't\",\n",
       " 'isn',\n",
       " \"isn't\",\n",
       " 'ma',\n",
       " 'mightn',\n",
       " \"mightn't\",\n",
       " 'mustn',\n",
       " \"mustn't\",\n",
       " 'needn',\n",
       " \"needn't\",\n",
       " 'shan',\n",
       " \"shan't\",\n",
       " 'shouldn',\n",
       " \"shouldn't\",\n",
       " 'wasn',\n",
       " \"wasn't\",\n",
       " 'weren',\n",
       " \"weren't\",\n",
       " 'won',\n",
       " \"won't\",\n",
       " 'wouldn',\n",
       " \"wouldn't\"]"
      ]
     },
     "execution_count": 71,
     "metadata": {},
     "output_type": "execute_result"
    }
   ],
   "source": [
    "sw"
   ]
  },
  {
   "cell_type": "code",
   "execution_count": 72,
   "id": "8753c4b7",
   "metadata": {
    "execution": {
     "iopub.execute_input": "2022-02-12T17:56:31.809626Z",
     "iopub.status.busy": "2022-02-12T17:56:31.808960Z",
     "iopub.status.idle": "2022-02-12T17:56:31.817312Z",
     "shell.execute_reply": "2022-02-12T17:56:31.817871Z",
     "shell.execute_reply.started": "2022-02-06T22:08:24.981191Z"
    },
    "papermill": {
     "duration": 0.152015,
     "end_time": "2022-02-12T17:56:31.818057",
     "exception": false,
     "start_time": "2022-02-12T17:56:31.666042",
     "status": "completed"
    },
    "tags": []
   },
   "outputs": [
    {
     "data": {
      "text/plain": [
       "1               scandal bohemia\n",
       "2              redheaded league\n",
       "3                 case identity\n",
       "4       boscombe valley mystery\n",
       "5              five orange pips\n",
       "6               man twisted lip\n",
       "7      adventure blue carbuncle\n",
       "8       adventure speckled band\n",
       "9     adventure engineers thumb\n",
       "10     adventure noble bachelor\n",
       "11      adventure beryl coronet\n",
       "12     adventure copper beeches\n",
       "Name: hikayeler, dtype: object"
      ]
     },
     "execution_count": 72,
     "metadata": {},
     "output_type": "execute_result"
    }
   ],
   "source": [
    "d_mdf[\"hikayeler\"].apply(lambda x:\" \".join( x for x in x.split() if x not in sw ))"
   ]
  },
  {
   "cell_type": "code",
   "execution_count": 73,
   "id": "1bc470ba",
   "metadata": {
    "execution": {
     "iopub.execute_input": "2022-02-12T17:56:32.117161Z",
     "iopub.status.busy": "2022-02-12T17:56:32.115832Z",
     "iopub.status.idle": "2022-02-12T17:56:32.123446Z",
     "shell.execute_reply": "2022-02-12T17:56:32.123987Z",
     "shell.execute_reply.started": "2022-02-06T22:08:25.008088Z"
    },
    "papermill": {
     "duration": 0.148469,
     "end_time": "2022-02-12T17:56:32.124166",
     "exception": false,
     "start_time": "2022-02-12T17:56:31.975697",
     "status": "completed"
    },
    "tags": []
   },
   "outputs": [],
   "source": [
    "d_mdf = d_mdf[\"hikayeler\"].apply(lambda x:\" \".join( x for x in x.split() if x not in sw ))"
   ]
  },
  {
   "cell_type": "code",
   "execution_count": 74,
   "id": "db2ba2b3",
   "metadata": {
    "execution": {
     "iopub.execute_input": "2022-02-12T17:56:32.402760Z",
     "iopub.status.busy": "2022-02-12T17:56:32.401794Z",
     "iopub.status.idle": "2022-02-12T17:56:32.407972Z",
     "shell.execute_reply": "2022-02-12T17:56:32.408593Z",
     "shell.execute_reply.started": "2022-02-06T22:08:25.034837Z"
    },
    "papermill": {
     "duration": 0.150963,
     "end_time": "2022-02-12T17:56:32.408765",
     "exception": false,
     "start_time": "2022-02-12T17:56:32.257802",
     "status": "completed"
    },
    "tags": []
   },
   "outputs": [
    {
     "data": {
      "text/plain": [
       "1               scandal bohemia\n",
       "2              redheaded league\n",
       "3                 case identity\n",
       "4       boscombe valley mystery\n",
       "5              five orange pips\n",
       "6               man twisted lip\n",
       "7      adventure blue carbuncle\n",
       "8       adventure speckled band\n",
       "9     adventure engineers thumb\n",
       "10     adventure noble bachelor\n",
       "11      adventure beryl coronet\n",
       "12     adventure copper beeches\n",
       "Name: hikayeler, dtype: object"
      ]
     },
     "execution_count": 74,
     "metadata": {},
     "output_type": "execute_result"
    }
   ],
   "source": [
    "d_mdf"
   ]
  },
  {
   "cell_type": "markdown",
   "id": "ab15cf8d",
   "metadata": {
    "papermill": {
     "duration": 0.144869,
     "end_time": "2022-02-12T17:56:32.692471",
     "exception": false,
     "start_time": "2022-02-12T17:56:32.547602",
     "status": "completed"
    },
    "tags": []
   },
   "source": [
    "# Rarewords"
   ]
  },
  {
   "cell_type": "code",
   "execution_count": 75,
   "id": "9ac629df",
   "metadata": {
    "execution": {
     "iopub.execute_input": "2022-02-12T17:56:32.975575Z",
     "iopub.status.busy": "2022-02-12T17:56:32.974458Z",
     "iopub.status.idle": "2022-02-12T17:56:32.980014Z",
     "shell.execute_reply": "2022-02-12T17:56:32.980642Z",
     "shell.execute_reply.started": "2022-02-06T22:08:25.066554Z"
    },
    "papermill": {
     "duration": 0.147242,
     "end_time": "2022-02-12T17:56:32.980810",
     "exception": false,
     "start_time": "2022-02-12T17:56:32.833568",
     "status": "completed"
    },
    "tags": []
   },
   "outputs": [
    {
     "data": {
      "text/plain": [
       "pandas.core.series.Series"
      ]
     },
     "execution_count": 75,
     "metadata": {},
     "output_type": "execute_result"
    }
   ],
   "source": [
    "type(d_mdf)"
   ]
  },
  {
   "cell_type": "code",
   "execution_count": 76,
   "id": "42ac8264",
   "metadata": {
    "execution": {
     "iopub.execute_input": "2022-02-12T17:56:33.267108Z",
     "iopub.status.busy": "2022-02-12T17:56:33.266115Z",
     "iopub.status.idle": "2022-02-12T17:56:33.271887Z",
     "shell.execute_reply": "2022-02-12T17:56:33.272384Z",
     "shell.execute_reply.started": "2022-02-06T22:08:25.094637Z"
    },
    "papermill": {
     "duration": 0.147395,
     "end_time": "2022-02-12T17:56:33.272565",
     "exception": false,
     "start_time": "2022-02-12T17:56:33.125170",
     "status": "completed"
    },
    "tags": []
   },
   "outputs": [],
   "source": [
    "d_mdf = pd.DataFrame(d_mdf , columns = [\"hikayeler\"])"
   ]
  },
  {
   "cell_type": "code",
   "execution_count": 77,
   "id": "0cf260ec",
   "metadata": {
    "execution": {
     "iopub.execute_input": "2022-02-12T17:56:33.562493Z",
     "iopub.status.busy": "2022-02-12T17:56:33.561657Z",
     "iopub.status.idle": "2022-02-12T17:56:33.565780Z",
     "shell.execute_reply": "2022-02-12T17:56:33.565115Z",
     "shell.execute_reply.started": "2022-02-06T22:08:25.126975Z"
    },
    "papermill": {
     "duration": 0.156144,
     "end_time": "2022-02-12T17:56:33.565931",
     "exception": false,
     "start_time": "2022-02-12T17:56:33.409787",
     "status": "completed"
    },
    "tags": []
   },
   "outputs": [
    {
     "data": {
      "text/plain": [
       "adventure    6\n",
       "scandal      1\n",
       "bohemia      1\n",
       "copper       1\n",
       "coronet      1\n",
       "beryl        1\n",
       "bachelor     1\n",
       "noble        1\n",
       "thumb        1\n",
       "engineers    1\n",
       "band         1\n",
       "speckled     1\n",
       "carbuncle    1\n",
       "blue         1\n",
       "lip          1\n",
       "twisted      1\n",
       "man          1\n",
       "pips         1\n",
       "orange       1\n",
       "five         1\n",
       "mystery      1\n",
       "valley       1\n",
       "boscombe     1\n",
       "identity     1\n",
       "case         1\n",
       "league       1\n",
       "redheaded    1\n",
       "beeches      1\n",
       "dtype: int64"
      ]
     },
     "execution_count": 77,
     "metadata": {},
     "output_type": "execute_result"
    }
   ],
   "source": [
    "pd.Series(\" \".join(d_mdf[\"hikayeler\"]).split()).value_counts()"
   ]
  },
  {
   "cell_type": "code",
   "execution_count": 78,
   "id": "165ce3ab",
   "metadata": {
    "execution": {
     "iopub.execute_input": "2022-02-12T17:56:33.847000Z",
     "iopub.status.busy": "2022-02-12T17:56:33.846211Z",
     "iopub.status.idle": "2022-02-12T17:56:33.848529Z",
     "shell.execute_reply": "2022-02-12T17:56:33.849052Z",
     "shell.execute_reply.started": "2022-02-06T22:08:25.156672Z"
    },
    "papermill": {
     "duration": 0.144659,
     "end_time": "2022-02-12T17:56:33.849237",
     "exception": false,
     "start_time": "2022-02-12T17:56:33.704578",
     "status": "completed"
    },
    "tags": []
   },
   "outputs": [],
   "source": [
    "sil = pd.Series(\" \".join(d_mdf[\"hikayeler\"]).split()).value_counts()[-3:]"
   ]
  },
  {
   "cell_type": "code",
   "execution_count": 79,
   "id": "13a2c4d1",
   "metadata": {
    "execution": {
     "iopub.execute_input": "2022-02-12T17:56:34.128883Z",
     "iopub.status.busy": "2022-02-12T17:56:34.127875Z",
     "iopub.status.idle": "2022-02-12T17:56:34.135043Z",
     "shell.execute_reply": "2022-02-12T17:56:34.135641Z",
     "shell.execute_reply.started": "2022-02-06T22:08:25.172354Z"
    },
    "papermill": {
     "duration": 0.151465,
     "end_time": "2022-02-12T17:56:34.135820",
     "exception": false,
     "start_time": "2022-02-12T17:56:33.984355",
     "status": "completed"
    },
    "tags": []
   },
   "outputs": [
    {
     "data": {
      "text/plain": [
       "league       1\n",
       "redheaded    1\n",
       "beeches      1\n",
       "dtype: int64"
      ]
     },
     "execution_count": 79,
     "metadata": {},
     "output_type": "execute_result"
    }
   ],
   "source": [
    "sil"
   ]
  },
  {
   "cell_type": "code",
   "execution_count": 80,
   "id": "27583b73",
   "metadata": {
    "execution": {
     "iopub.execute_input": "2022-02-12T17:56:34.414109Z",
     "iopub.status.busy": "2022-02-12T17:56:34.413065Z",
     "iopub.status.idle": "2022-02-12T17:56:34.421765Z",
     "shell.execute_reply": "2022-02-12T17:56:34.422378Z",
     "shell.execute_reply.started": "2022-02-06T22:08:25.211692Z"
    },
    "papermill": {
     "duration": 0.150442,
     "end_time": "2022-02-12T17:56:34.422573",
     "exception": false,
     "start_time": "2022-02-12T17:56:34.272131",
     "status": "completed"
    },
    "tags": []
   },
   "outputs": [
    {
     "data": {
      "text/plain": [
       "1               scandal bohemia\n",
       "2                              \n",
       "3                 case identity\n",
       "4       boscombe valley mystery\n",
       "5              five orange pips\n",
       "6               man twisted lip\n",
       "7      adventure blue carbuncle\n",
       "8       adventure speckled band\n",
       "9     adventure engineers thumb\n",
       "10     adventure noble bachelor\n",
       "11      adventure beryl coronet\n",
       "12             adventure copper\n",
       "Name: hikayeler, dtype: object"
      ]
     },
     "execution_count": 80,
     "metadata": {},
     "output_type": "execute_result"
    }
   ],
   "source": [
    "d_mdf[\"hikayeler\"].apply(lambda x:\" \".join( i for i in x.split() if i not in sil ))\n",
    "# sil deki kelimeler silinmiş oldu "
   ]
  },
  {
   "cell_type": "markdown",
   "id": "391d6639",
   "metadata": {
    "papermill": {
     "duration": 0.135478,
     "end_time": "2022-02-12T17:56:34.691361",
     "exception": false,
     "start_time": "2022-02-12T17:56:34.555883",
     "status": "completed"
    },
    "tags": []
   },
   "source": [
    "# Tokenization\n"
   ]
  },
  {
   "cell_type": "code",
   "execution_count": 81,
   "id": "8feb2295",
   "metadata": {
    "execution": {
     "iopub.execute_input": "2022-02-12T17:56:34.990256Z",
     "iopub.status.busy": "2022-02-12T17:56:34.989493Z",
     "iopub.status.idle": "2022-02-12T17:57:06.082341Z",
     "shell.execute_reply": "2022-02-12T17:57:06.082832Z",
     "shell.execute_reply.started": "2022-02-06T22:08:25.23573Z"
    },
    "papermill": {
     "duration": 31.254213,
     "end_time": "2022-02-12T17:57:06.083036",
     "exception": false,
     "start_time": "2022-02-12T17:56:34.828823",
     "status": "completed"
    },
    "tags": []
   },
   "outputs": [
    {
     "name": "stdout",
     "output_type": "stream",
     "text": [
      "Requirement already satisfied: nltk in /opt/conda/lib/python3.7/site-packages (3.2.4)\r\n",
      "Requirement already satisfied: six in /opt/conda/lib/python3.7/site-packages (from nltk) (1.16.0)\r\n",
      "\u001b[33mWARNING: Running pip as the 'root' user can result in broken permissions and conflicting behaviour with the system package manager. It is recommended to use a virtual environment instead: https://pip.pypa.io/warnings/venv\u001b[0m\r\n"
     ]
    }
   ],
   "source": [
    "!pip install nltk"
   ]
  },
  {
   "cell_type": "code",
   "execution_count": 82,
   "id": "86ad0b27",
   "metadata": {
    "execution": {
     "iopub.execute_input": "2022-02-12T17:57:06.365708Z",
     "iopub.status.busy": "2022-02-12T17:57:06.365023Z",
     "iopub.status.idle": "2022-02-12T17:57:26.404467Z",
     "shell.execute_reply": "2022-02-12T17:57:26.403869Z",
     "shell.execute_reply.started": "2022-02-06T22:08:59.505172Z"
    },
    "papermill": {
     "duration": 20.1837,
     "end_time": "2022-02-12T17:57:26.404609",
     "exception": false,
     "start_time": "2022-02-12T17:57:06.220909",
     "status": "completed"
    },
    "tags": []
   },
   "outputs": [
    {
     "name": "stdout",
     "output_type": "stream",
     "text": [
      "[nltk_data] Error loading punkt: <urlopen error [Errno -3] Temporary\n",
      "[nltk_data]     failure in name resolution>\n"
     ]
    },
    {
     "data": {
      "text/plain": [
       "False"
      ]
     },
     "execution_count": 82,
     "metadata": {},
     "output_type": "execute_result"
    }
   ],
   "source": [
    "nltk.download(\"punkt\")"
   ]
  },
  {
   "cell_type": "code",
   "execution_count": 83,
   "id": "144dc274",
   "metadata": {
    "execution": {
     "iopub.execute_input": "2022-02-12T17:57:26.689276Z",
     "iopub.status.busy": "2022-02-12T17:57:26.688588Z",
     "iopub.status.idle": "2022-02-12T17:57:55.979859Z",
     "shell.execute_reply": "2022-02-12T17:57:55.978965Z",
     "shell.execute_reply.started": "2022-02-06T22:09:19.54671Z"
    },
    "papermill": {
     "duration": 29.43825,
     "end_time": "2022-02-12T17:57:55.980044",
     "exception": false,
     "start_time": "2022-02-12T17:57:26.541794",
     "status": "completed"
    },
    "tags": []
   },
   "outputs": [
    {
     "name": "stdout",
     "output_type": "stream",
     "text": [
      "Requirement already satisfied: textblob in /opt/conda/lib/python3.7/site-packages (0.17.1)\r\n",
      "Requirement already satisfied: nltk>=3.1 in /opt/conda/lib/python3.7/site-packages (from textblob) (3.2.4)\r\n",
      "Requirement already satisfied: six in /opt/conda/lib/python3.7/site-packages (from nltk>=3.1->textblob) (1.16.0)\r\n",
      "\u001b[33mWARNING: Running pip as the 'root' user can result in broken permissions and conflicting behaviour with the system package manager. It is recommended to use a virtual environment instead: https://pip.pypa.io/warnings/venv\u001b[0m\r\n"
     ]
    }
   ],
   "source": [
    "!pip install textblob"
   ]
  },
  {
   "cell_type": "code",
   "execution_count": 84,
   "id": "60aba7e6",
   "metadata": {
    "execution": {
     "iopub.execute_input": "2022-02-12T17:57:56.259482Z",
     "iopub.status.busy": "2022-02-12T17:57:56.258709Z",
     "iopub.status.idle": "2022-02-12T17:57:56.311553Z",
     "shell.execute_reply": "2022-02-12T17:57:56.310807Z",
     "shell.execute_reply.started": "2022-02-06T22:09:49.780993Z"
    },
    "papermill": {
     "duration": 0.193413,
     "end_time": "2022-02-12T17:57:56.311713",
     "exception": false,
     "start_time": "2022-02-12T17:57:56.118300",
     "status": "completed"
    },
    "tags": []
   },
   "outputs": [],
   "source": [
    "import textblob"
   ]
  },
  {
   "cell_type": "code",
   "execution_count": 85,
   "id": "ffd502ef",
   "metadata": {
    "execution": {
     "iopub.execute_input": "2022-02-12T17:57:56.589728Z",
     "iopub.status.busy": "2022-02-12T17:57:56.589030Z",
     "iopub.status.idle": "2022-02-12T17:57:56.591399Z",
     "shell.execute_reply": "2022-02-12T17:57:56.590789Z",
     "shell.execute_reply.started": "2022-02-06T22:09:49.870513Z"
    },
    "papermill": {
     "duration": 0.144265,
     "end_time": "2022-02-12T17:57:56.591541",
     "exception": false,
     "start_time": "2022-02-12T17:57:56.447276",
     "status": "completed"
    },
    "tags": []
   },
   "outputs": [],
   "source": [
    "from textblob import TextBlob"
   ]
  },
  {
   "cell_type": "code",
   "execution_count": 86,
   "id": "fa3731be",
   "metadata": {
    "execution": {
     "iopub.execute_input": "2022-02-12T17:57:56.872798Z",
     "iopub.status.busy": "2022-02-12T17:57:56.871758Z",
     "iopub.status.idle": "2022-02-12T17:57:56.875513Z",
     "shell.execute_reply": "2022-02-12T17:57:56.874874Z",
     "shell.execute_reply.started": "2022-02-06T22:09:49.88055Z"
    },
    "papermill": {
     "duration": 0.148101,
     "end_time": "2022-02-12T17:57:56.875653",
     "exception": false,
     "start_time": "2022-02-12T17:57:56.727552",
     "status": "completed"
    },
    "tags": []
   },
   "outputs": [
    {
     "data": {
      "text/plain": [
       "'scandal bohemia'"
      ]
     },
     "execution_count": 86,
     "metadata": {},
     "output_type": "execute_result"
    }
   ],
   "source": [
    "d_mdf[\"hikayeler\"][1]"
   ]
  },
  {
   "cell_type": "code",
   "execution_count": 87,
   "id": "c45ded52",
   "metadata": {
    "execution": {
     "iopub.execute_input": "2022-02-12T17:57:57.155482Z",
     "iopub.status.busy": "2022-02-12T17:57:57.153627Z",
     "iopub.status.idle": "2022-02-12T17:57:57.176005Z",
     "shell.execute_reply": "2022-02-12T17:57:57.175421Z",
     "shell.execute_reply.started": "2022-02-06T22:09:49.909162Z"
    },
    "papermill": {
     "duration": 0.162893,
     "end_time": "2022-02-12T17:57:57.176153",
     "exception": false,
     "start_time": "2022-02-12T17:57:57.013260",
     "status": "completed"
    },
    "tags": []
   },
   "outputs": [
    {
     "data": {
      "text/plain": [
       "WordList(['scandal', 'bohemia'])"
      ]
     },
     "execution_count": 87,
     "metadata": {},
     "output_type": "execute_result"
    }
   ],
   "source": [
    "TextBlob(d_mdf[\"hikayeler\"][1]).words"
   ]
  },
  {
   "cell_type": "code",
   "execution_count": 88,
   "id": "a8577701",
   "metadata": {
    "execution": {
     "iopub.execute_input": "2022-02-12T17:57:57.459589Z",
     "iopub.status.busy": "2022-02-12T17:57:57.458900Z",
     "iopub.status.idle": "2022-02-12T17:57:57.466033Z",
     "shell.execute_reply": "2022-02-12T17:57:57.465529Z",
     "shell.execute_reply.started": "2022-02-06T22:09:49.955665Z"
    },
    "papermill": {
     "duration": 0.151087,
     "end_time": "2022-02-12T17:57:57.466176",
     "exception": false,
     "start_time": "2022-02-12T17:57:57.315089",
     "status": "completed"
    },
    "tags": []
   },
   "outputs": [
    {
     "data": {
      "text/plain": [
       "1                [scandal, bohemia]\n",
       "2               [redheaded, league]\n",
       "3                  [case, identity]\n",
       "4       [boscombe, valley, mystery]\n",
       "5              [five, orange, pips]\n",
       "6               [man, twisted, lip]\n",
       "7      [adventure, blue, carbuncle]\n",
       "8       [adventure, speckled, band]\n",
       "9     [adventure, engineers, thumb]\n",
       "10     [adventure, noble, bachelor]\n",
       "11      [adventure, beryl, coronet]\n",
       "12     [adventure, copper, beeches]\n",
       "Name: hikayeler, dtype: object"
      ]
     },
     "execution_count": 88,
     "metadata": {},
     "output_type": "execute_result"
    }
   ],
   "source": [
    "d_mdf[\"hikayeler\"].apply(lambda x: TextBlob(x).words)"
   ]
  },
  {
   "cell_type": "markdown",
   "id": "eca7bc51",
   "metadata": {
    "papermill": {
     "duration": 0.135439,
     "end_time": "2022-02-12T17:57:57.740146",
     "exception": false,
     "start_time": "2022-02-12T17:57:57.604707",
     "status": "completed"
    },
    "tags": []
   },
   "source": [
    "# Stemming\n"
   ]
  },
  {
   "cell_type": "code",
   "execution_count": 89,
   "id": "19077c77",
   "metadata": {
    "execution": {
     "iopub.execute_input": "2022-02-12T17:57:58.016155Z",
     "iopub.status.busy": "2022-02-12T17:57:58.015496Z",
     "iopub.status.idle": "2022-02-12T17:57:58.018673Z",
     "shell.execute_reply": "2022-02-12T17:57:58.018168Z",
     "shell.execute_reply.started": "2022-02-06T22:09:49.97144Z"
    },
    "papermill": {
     "duration": 0.141771,
     "end_time": "2022-02-12T17:57:58.018814",
     "exception": false,
     "start_time": "2022-02-12T17:57:57.877043",
     "status": "completed"
    },
    "tags": []
   },
   "outputs": [],
   "source": [
    "from nltk.stem import PorterStemmer\n",
    "st = PorterStemmer()"
   ]
  },
  {
   "cell_type": "code",
   "execution_count": 90,
   "id": "1d7f3829",
   "metadata": {
    "execution": {
     "iopub.execute_input": "2022-02-12T17:57:58.297306Z",
     "iopub.status.busy": "2022-02-12T17:57:58.296650Z",
     "iopub.status.idle": "2022-02-12T17:57:58.305442Z",
     "shell.execute_reply": "2022-02-12T17:57:58.305984Z",
     "shell.execute_reply.started": "2022-02-06T22:09:49.987362Z"
    },
    "papermill": {
     "duration": 0.150226,
     "end_time": "2022-02-12T17:57:58.306155",
     "exception": false,
     "start_time": "2022-02-12T17:57:58.155929",
     "status": "completed"
    },
    "tags": []
   },
   "outputs": [
    {
     "data": {
      "text/plain": [
       "1            scandal bohemia\n",
       "2              redhead leagu\n",
       "3                 case ident\n",
       "4     boscomb valley mysteri\n",
       "5             five orang pip\n",
       "6              man twist lip\n",
       "7     adventur blue carbuncl\n",
       "8       adventur speckl band\n",
       "9       adventur engin thumb\n",
       "10    adventur nobl bachelor\n",
       "11    adventur beryl coronet\n",
       "12     adventur copper beech\n",
       "Name: hikayeler, dtype: object"
      ]
     },
     "execution_count": 90,
     "metadata": {},
     "output_type": "execute_result"
    }
   ],
   "source": [
    "d_mdf[\"hikayeler\"].apply(lambda x:\" \".join([st.stem(i) for i in x.split()]))"
   ]
  },
  {
   "cell_type": "markdown",
   "id": "ca1824fe",
   "metadata": {
    "papermill": {
     "duration": 0.136323,
     "end_time": "2022-02-12T17:57:58.579404",
     "exception": false,
     "start_time": "2022-02-12T17:57:58.443081",
     "status": "completed"
    },
    "tags": []
   },
   "source": [
    "# Lemmatization"
   ]
  },
  {
   "cell_type": "code",
   "execution_count": 91,
   "id": "8ad3c51d",
   "metadata": {
    "execution": {
     "iopub.execute_input": "2022-02-12T17:57:58.857666Z",
     "iopub.status.busy": "2022-02-12T17:57:58.856815Z",
     "iopub.status.idle": "2022-02-12T17:58:18.895712Z",
     "shell.execute_reply": "2022-02-12T17:58:18.896293Z",
     "shell.execute_reply.started": "2022-02-06T22:09:50.010977Z"
    },
    "papermill": {
     "duration": 20.180806,
     "end_time": "2022-02-12T17:58:18.896501",
     "exception": false,
     "start_time": "2022-02-12T17:57:58.715695",
     "status": "completed"
    },
    "tags": []
   },
   "outputs": [
    {
     "name": "stdout",
     "output_type": "stream",
     "text": [
      "[nltk_data] Error loading wordnet: <urlopen error [Errno -3] Temporary\n",
      "[nltk_data]     failure in name resolution>\n"
     ]
    },
    {
     "data": {
      "text/plain": [
       "False"
      ]
     },
     "execution_count": 91,
     "metadata": {},
     "output_type": "execute_result"
    }
   ],
   "source": [
    "from textblob import Word\n",
    "nltk.download(\"wordnet\")"
   ]
  },
  {
   "cell_type": "code",
   "execution_count": 92,
   "id": "04d52147",
   "metadata": {
    "execution": {
     "iopub.execute_input": "2022-02-12T17:58:19.197386Z",
     "iopub.status.busy": "2022-02-12T17:58:19.196355Z",
     "iopub.status.idle": "2022-02-12T17:58:21.466001Z",
     "shell.execute_reply": "2022-02-12T17:58:21.465348Z",
     "shell.execute_reply.started": "2022-02-06T22:10:10.062066Z"
    },
    "papermill": {
     "duration": 2.425893,
     "end_time": "2022-02-12T17:58:21.466154",
     "exception": false,
     "start_time": "2022-02-12T17:58:19.040261",
     "status": "completed"
    },
    "tags": []
   },
   "outputs": [
    {
     "data": {
      "text/plain": [
       "1              scandal bohemia\n",
       "2             redheaded league\n",
       "3                case identity\n",
       "4      boscombe valley mystery\n",
       "5              five orange pip\n",
       "6              man twisted lip\n",
       "7     adventure blue carbuncle\n",
       "8      adventure speckled band\n",
       "9     adventure engineer thumb\n",
       "10    adventure noble bachelor\n",
       "11     adventure beryl coronet\n",
       "12      adventure copper beech\n",
       "Name: hikayeler, dtype: object"
      ]
     },
     "execution_count": 92,
     "metadata": {},
     "output_type": "execute_result"
    }
   ],
   "source": [
    "d_mdf[\"hikayeler\"].apply(lambda x:\" \".join([Word(i).lemmatize() for i in x.split()]))"
   ]
  },
  {
   "cell_type": "code",
   "execution_count": 93,
   "id": "a262c416",
   "metadata": {
    "execution": {
     "iopub.execute_input": "2022-02-12T17:58:21.756982Z",
     "iopub.status.busy": "2022-02-12T17:58:21.755967Z",
     "iopub.status.idle": "2022-02-12T17:58:21.760027Z",
     "shell.execute_reply": "2022-02-12T17:58:21.760614Z",
     "shell.execute_reply.started": "2022-02-06T22:10:12.464093Z"
    },
    "papermill": {
     "duration": 0.14898,
     "end_time": "2022-02-12T17:58:21.760793",
     "exception": false,
     "start_time": "2022-02-12T17:58:21.611813",
     "status": "completed"
    },
    "tags": []
   },
   "outputs": [
    {
     "data": {
      "text/plain": [
       "1        A Scandal in Bohemia! 01\n",
       "2         The Red-headed League,2\n",
       "3          A Case, of Identity 33\n",
       "4    The Boscombe Valley Mystery4\n",
       "5           The Five Orange Pips1\n",
       "Name: hikayeler, dtype: object"
      ]
     },
     "execution_count": 93,
     "metadata": {},
     "output_type": "execute_result"
    }
   ],
   "source": [
    "mdf[\"hikayeler\"][0:5]"
   ]
  },
  {
   "cell_type": "code",
   "execution_count": 94,
   "id": "f5be366f",
   "metadata": {
    "execution": {
     "iopub.execute_input": "2022-02-12T17:58:22.092634Z",
     "iopub.status.busy": "2022-02-12T17:58:22.091762Z",
     "iopub.status.idle": "2022-02-12T17:58:22.094984Z",
     "shell.execute_reply": "2022-02-12T17:58:22.095476Z",
     "shell.execute_reply.started": "2022-02-06T22:10:12.475323Z"
    },
    "papermill": {
     "duration": 0.165352,
     "end_time": "2022-02-12T17:58:22.095637",
     "exception": false,
     "start_time": "2022-02-12T17:58:21.930285",
     "status": "completed"
    },
    "tags": []
   },
   "outputs": [
    {
     "data": {
      "text/plain": [
       "1            scandal bohemia\n",
       "2           redheaded league\n",
       "3              case identity\n",
       "4    boscombe valley mystery\n",
       "5           five orange pips\n",
       "Name: hikayeler, dtype: object"
      ]
     },
     "execution_count": 94,
     "metadata": {},
     "output_type": "execute_result"
    }
   ],
   "source": [
    "d_mdf[\"hikayeler\"][0:5]"
   ]
  },
  {
   "cell_type": "markdown",
   "id": "28a1cca3",
   "metadata": {
    "papermill": {
     "duration": 0.143487,
     "end_time": "2022-02-12T17:58:22.381037",
     "exception": false,
     "start_time": "2022-02-12T17:58:22.237550",
     "status": "completed"
    },
    "tags": []
   },
   "source": [
    "# NLP UYGULAMALARI"
   ]
  },
  {
   "cell_type": "code",
   "execution_count": 95,
   "id": "d070a14e",
   "metadata": {
    "execution": {
     "iopub.execute_input": "2022-02-12T17:58:22.679798Z",
     "iopub.status.busy": "2022-02-12T17:58:22.678907Z",
     "iopub.status.idle": "2022-02-12T17:58:22.681989Z",
     "shell.execute_reply": "2022-02-12T17:58:22.681346Z",
     "shell.execute_reply.started": "2022-02-06T22:10:12.502039Z"
    },
    "papermill": {
     "duration": 0.155736,
     "end_time": "2022-02-12T17:58:22.682133",
     "exception": false,
     "start_time": "2022-02-12T17:58:22.526397",
     "status": "completed"
    },
    "tags": []
   },
   "outputs": [],
   "source": [
    "a = \"\"\"Bu örneği anlaşılabilmesi için daha uzun bir metin üzerinden göstereceğim.\n",
    "N-gram'lar birlikte kullanılan kelimelerin kombinasyonunu gösterir\"\"\""
   ]
  },
  {
   "cell_type": "code",
   "execution_count": 96,
   "id": "7b818573",
   "metadata": {
    "execution": {
     "iopub.execute_input": "2022-02-12T17:58:22.970909Z",
     "iopub.status.busy": "2022-02-12T17:58:22.970092Z",
     "iopub.status.idle": "2022-02-12T17:58:22.973494Z",
     "shell.execute_reply": "2022-02-12T17:58:22.974028Z",
     "shell.execute_reply.started": "2022-02-06T22:10:12.524356Z"
    },
    "papermill": {
     "duration": 0.152409,
     "end_time": "2022-02-12T17:58:22.974217",
     "exception": false,
     "start_time": "2022-02-12T17:58:22.821808",
     "status": "completed"
    },
    "tags": []
   },
   "outputs": [],
   "source": [
    "import textblob \n",
    "from textblob import TextBlob"
   ]
  },
  {
   "cell_type": "code",
   "execution_count": 97,
   "id": "d967feb9",
   "metadata": {
    "execution": {
     "iopub.execute_input": "2022-02-12T17:58:23.266612Z",
     "iopub.status.busy": "2022-02-12T17:58:23.265874Z",
     "iopub.status.idle": "2022-02-12T17:58:23.273863Z",
     "shell.execute_reply": "2022-02-12T17:58:23.274499Z",
     "shell.execute_reply.started": "2022-02-06T22:10:12.551675Z"
    },
    "papermill": {
     "duration": 0.156145,
     "end_time": "2022-02-12T17:58:23.274671",
     "exception": false,
     "start_time": "2022-02-12T17:58:23.118526",
     "status": "completed"
    },
    "tags": []
   },
   "outputs": [
    {
     "data": {
      "text/plain": [
       "[WordList(['Bu']),\n",
       " WordList(['örneği']),\n",
       " WordList(['anlaşılabilmesi']),\n",
       " WordList(['için']),\n",
       " WordList(['daha']),\n",
       " WordList(['uzun']),\n",
       " WordList(['bir']),\n",
       " WordList(['metin']),\n",
       " WordList(['üzerinden']),\n",
       " WordList(['göstereceğim']),\n",
       " WordList([\"N-gram'lar\"]),\n",
       " WordList(['birlikte']),\n",
       " WordList(['kullanılan']),\n",
       " WordList(['kelimelerin']),\n",
       " WordList(['kombinasyonunu']),\n",
       " WordList(['gösterir'])]"
      ]
     },
     "execution_count": 97,
     "metadata": {},
     "output_type": "execute_result"
    }
   ],
   "source": [
    "TextBlob(a).ngrams(1)"
   ]
  },
  {
   "cell_type": "code",
   "execution_count": 98,
   "id": "f058e763",
   "metadata": {
    "execution": {
     "iopub.execute_input": "2022-02-12T17:58:23.567661Z",
     "iopub.status.busy": "2022-02-12T17:58:23.566932Z",
     "iopub.status.idle": "2022-02-12T17:58:23.575459Z",
     "shell.execute_reply": "2022-02-12T17:58:23.574922Z",
     "shell.execute_reply.started": "2022-02-06T22:10:12.577305Z"
    },
    "papermill": {
     "duration": 0.160073,
     "end_time": "2022-02-12T17:58:23.575626",
     "exception": false,
     "start_time": "2022-02-12T17:58:23.415553",
     "status": "completed"
    },
    "tags": []
   },
   "outputs": [
    {
     "data": {
      "text/plain": [
       "[WordList(['Bu', 'örneği']),\n",
       " WordList(['örneği', 'anlaşılabilmesi']),\n",
       " WordList(['anlaşılabilmesi', 'için']),\n",
       " WordList(['için', 'daha']),\n",
       " WordList(['daha', 'uzun']),\n",
       " WordList(['uzun', 'bir']),\n",
       " WordList(['bir', 'metin']),\n",
       " WordList(['metin', 'üzerinden']),\n",
       " WordList(['üzerinden', 'göstereceğim']),\n",
       " WordList(['göstereceğim', \"N-gram'lar\"]),\n",
       " WordList([\"N-gram'lar\", 'birlikte']),\n",
       " WordList(['birlikte', 'kullanılan']),\n",
       " WordList(['kullanılan', 'kelimelerin']),\n",
       " WordList(['kelimelerin', 'kombinasyonunu']),\n",
       " WordList(['kombinasyonunu', 'gösterir'])]"
      ]
     },
     "execution_count": 98,
     "metadata": {},
     "output_type": "execute_result"
    }
   ],
   "source": [
    "TextBlob(a).ngrams(2)"
   ]
  },
  {
   "cell_type": "code",
   "execution_count": 99,
   "id": "6c188dee",
   "metadata": {
    "execution": {
     "iopub.execute_input": "2022-02-12T17:58:23.878396Z",
     "iopub.status.busy": "2022-02-12T17:58:23.877693Z",
     "iopub.status.idle": "2022-02-12T17:58:23.880308Z",
     "shell.execute_reply": "2022-02-12T17:58:23.880783Z",
     "shell.execute_reply.started": "2022-02-06T22:10:12.598921Z"
    },
    "papermill": {
     "duration": 0.150151,
     "end_time": "2022-02-12T17:58:23.880953",
     "exception": false,
     "start_time": "2022-02-12T17:58:23.730802",
     "status": "completed"
    },
    "tags": []
   },
   "outputs": [
    {
     "data": {
      "text/plain": [
       "[WordList(['Bu', 'örneği', 'anlaşılabilmesi']),\n",
       " WordList(['örneği', 'anlaşılabilmesi', 'için']),\n",
       " WordList(['anlaşılabilmesi', 'için', 'daha']),\n",
       " WordList(['için', 'daha', 'uzun']),\n",
       " WordList(['daha', 'uzun', 'bir']),\n",
       " WordList(['uzun', 'bir', 'metin']),\n",
       " WordList(['bir', 'metin', 'üzerinden']),\n",
       " WordList(['metin', 'üzerinden', 'göstereceğim']),\n",
       " WordList(['üzerinden', 'göstereceğim', \"N-gram'lar\"]),\n",
       " WordList(['göstereceğim', \"N-gram'lar\", 'birlikte']),\n",
       " WordList([\"N-gram'lar\", 'birlikte', 'kullanılan']),\n",
       " WordList(['birlikte', 'kullanılan', 'kelimelerin']),\n",
       " WordList(['kullanılan', 'kelimelerin', 'kombinasyonunu']),\n",
       " WordList(['kelimelerin', 'kombinasyonunu', 'gösterir'])]"
      ]
     },
     "execution_count": 99,
     "metadata": {},
     "output_type": "execute_result"
    }
   ],
   "source": [
    "TextBlob(a).ngrams(3)"
   ]
  },
  {
   "cell_type": "markdown",
   "id": "1a50d59e",
   "metadata": {
    "papermill": {
     "duration": 0.147337,
     "end_time": "2022-02-12T17:58:24.174616",
     "exception": false,
     "start_time": "2022-02-12T17:58:24.027279",
     "status": "completed"
    },
    "tags": []
   },
   "source": [
    "# Part of Speech tagging (POS)"
   ]
  },
  {
   "cell_type": "code",
   "execution_count": 100,
   "id": "d24274a8",
   "metadata": {
    "execution": {
     "iopub.execute_input": "2022-02-12T17:58:24.458939Z",
     "iopub.status.busy": "2022-02-12T17:58:24.458280Z",
     "iopub.status.idle": "2022-02-12T17:58:24.460807Z",
     "shell.execute_reply": "2022-02-12T17:58:24.460281Z",
     "shell.execute_reply.started": "2022-02-06T22:10:12.623331Z"
    },
    "papermill": {
     "duration": 0.145699,
     "end_time": "2022-02-12T17:58:24.460954",
     "exception": false,
     "start_time": "2022-02-12T17:58:24.315255",
     "status": "completed"
    },
    "tags": []
   },
   "outputs": [],
   "source": [
    "import nltk"
   ]
  },
  {
   "cell_type": "code",
   "execution_count": 101,
   "id": "9590d137",
   "metadata": {
    "execution": {
     "iopub.execute_input": "2022-02-12T17:58:24.764110Z",
     "iopub.status.busy": "2022-02-12T17:58:24.763404Z",
     "iopub.status.idle": "2022-02-12T17:58:44.794460Z",
     "shell.execute_reply": "2022-02-12T17:58:44.793840Z",
     "shell.execute_reply.started": "2022-02-06T22:10:12.641012Z"
    },
    "papermill": {
     "duration": 20.187528,
     "end_time": "2022-02-12T17:58:44.794605",
     "exception": false,
     "start_time": "2022-02-12T17:58:24.607077",
     "status": "completed"
    },
    "tags": []
   },
   "outputs": [
    {
     "name": "stdout",
     "output_type": "stream",
     "text": [
      "[nltk_data] Error loading averaged_perceptron_tagger: <urlopen error\n",
      "[nltk_data]     [Errno -3] Temporary failure in name resolution>\n"
     ]
    },
    {
     "data": {
      "text/plain": [
       "False"
      ]
     },
     "execution_count": 101,
     "metadata": {},
     "output_type": "execute_result"
    }
   ],
   "source": [
    "nltk.download(\"averaged_perceptron_tagger\")"
   ]
  },
  {
   "cell_type": "code",
   "execution_count": 102,
   "id": "77f297e8",
   "metadata": {
    "execution": {
     "iopub.execute_input": "2022-02-12T17:58:45.087010Z",
     "iopub.status.busy": "2022-02-12T17:58:45.084830Z",
     "iopub.status.idle": "2022-02-12T17:58:45.091345Z",
     "shell.execute_reply": "2022-02-12T17:58:45.091827Z",
     "shell.execute_reply.started": "2022-02-06T22:10:32.699624Z"
    },
    "papermill": {
     "duration": 0.152072,
     "end_time": "2022-02-12T17:58:45.092029",
     "exception": false,
     "start_time": "2022-02-12T17:58:44.939957",
     "status": "completed"
    },
    "tags": []
   },
   "outputs": [
    {
     "data": {
      "text/plain": [
       "'redheaded league'"
      ]
     },
     "execution_count": 102,
     "metadata": {},
     "output_type": "execute_result"
    }
   ],
   "source": [
    "d_mdf[\"hikayeler\"][2]"
   ]
  },
  {
   "cell_type": "code",
   "execution_count": 103,
   "id": "cea6dacf",
   "metadata": {
    "execution": {
     "iopub.execute_input": "2022-02-12T17:58:45.383107Z",
     "iopub.status.busy": "2022-02-12T17:58:45.382422Z",
     "iopub.status.idle": "2022-02-12T17:58:45.535085Z",
     "shell.execute_reply": "2022-02-12T17:58:45.534506Z",
     "shell.execute_reply.started": "2022-02-06T22:10:32.711981Z"
    },
    "papermill": {
     "duration": 0.30145,
     "end_time": "2022-02-12T17:58:45.535263",
     "exception": false,
     "start_time": "2022-02-12T17:58:45.233813",
     "status": "completed"
    },
    "tags": []
   },
   "outputs": [
    {
     "data": {
      "text/plain": [
       "[('redheaded', 'VBN'), ('league', 'NN')]"
      ]
     },
     "execution_count": 103,
     "metadata": {},
     "output_type": "execute_result"
    }
   ],
   "source": [
    "TextBlob(d_mdf[\"hikayeler\"][2]).tags"
   ]
  },
  {
   "cell_type": "code",
   "execution_count": 104,
   "id": "e868563e",
   "metadata": {
    "execution": {
     "iopub.execute_input": "2022-02-12T17:58:45.826282Z",
     "iopub.status.busy": "2022-02-12T17:58:45.824900Z",
     "iopub.status.idle": "2022-02-12T17:58:45.850866Z",
     "shell.execute_reply": "2022-02-12T17:58:45.850317Z",
     "shell.execute_reply.started": "2022-02-06T22:10:32.901004Z"
    },
    "papermill": {
     "duration": 0.17429,
     "end_time": "2022-02-12T17:58:45.851023",
     "exception": false,
     "start_time": "2022-02-12T17:58:45.676733",
     "status": "completed"
    },
    "tags": []
   },
   "outputs": [
    {
     "data": {
      "text/plain": [
       "1                        [(scandal, NN), (bohemia, NN)]\n",
       "2                      [(redheaded, VBN), (league, NN)]\n",
       "3                          [(case, NN), (identity, NN)]\n",
       "4         [(boscombe, NN), (valley, NN), (mystery, NN)]\n",
       "5               [(five, CD), (orange, NN), (pips, NNS)]\n",
       "6                [(man, NN), (twisted, VBD), (lip, NN)]\n",
       "7        [(adventure, NN), (blue, JJ), (carbuncle, NN)]\n",
       "8        [(adventure, NN), (speckled, VBD), (band, NN)]\n",
       "9     [(adventure, NN), (engineers, NNS), (thumb, VBP)]\n",
       "10       [(adventure, NN), (noble, JJ), (bachelor, NN)]\n",
       "11        [(adventure, NN), (beryl, NN), (coronet, NN)]\n",
       "12      [(adventure, NN), (copper, NN), (beeches, NNS)]\n",
       "Name: hikayeler, dtype: object"
      ]
     },
     "execution_count": 104,
     "metadata": {},
     "output_type": "execute_result"
    }
   ],
   "source": [
    "d_mdf[\"hikayeler\"].apply(lambda x: TextBlob(x).tags)"
   ]
  },
  {
   "cell_type": "markdown",
   "id": "653a4fff",
   "metadata": {
    "papermill": {
     "duration": 0.145096,
     "end_time": "2022-02-12T17:58:46.138814",
     "exception": false,
     "start_time": "2022-02-12T17:58:45.993718",
     "status": "completed"
    },
    "tags": []
   },
   "source": [
    "# Chunking (shallow parsing)"
   ]
  },
  {
   "cell_type": "code",
   "execution_count": 105,
   "id": "0df97b3e",
   "metadata": {
    "execution": {
     "iopub.execute_input": "2022-02-12T17:58:46.425930Z",
     "iopub.status.busy": "2022-02-12T17:58:46.425267Z",
     "iopub.status.idle": "2022-02-12T17:58:46.437556Z",
     "shell.execute_reply": "2022-02-12T17:58:46.438076Z",
     "shell.execute_reply.started": "2022-02-06T22:10:32.932334Z"
    },
    "papermill": {
     "duration": 0.159839,
     "end_time": "2022-02-12T17:58:46.438267",
     "exception": false,
     "start_time": "2022-02-12T17:58:46.278428",
     "status": "completed"
    },
    "tags": []
   },
   "outputs": [],
   "source": [
    "pos = d_mdf[\"hikayeler\"].apply(lambda x: TextBlob(x).tags)"
   ]
  },
  {
   "cell_type": "code",
   "execution_count": 106,
   "id": "6bb57fc2",
   "metadata": {
    "execution": {
     "iopub.execute_input": "2022-02-12T17:58:46.729063Z",
     "iopub.status.busy": "2022-02-12T17:58:46.728446Z",
     "iopub.status.idle": "2022-02-12T17:58:46.741549Z",
     "shell.execute_reply": "2022-02-12T17:58:46.742159Z",
     "shell.execute_reply.started": "2022-02-06T22:10:32.952411Z"
    },
    "papermill": {
     "duration": 0.164803,
     "end_time": "2022-02-12T17:58:46.742345",
     "exception": false,
     "start_time": "2022-02-12T17:58:46.577542",
     "status": "completed"
    },
    "tags": []
   },
   "outputs": [
    {
     "data": {
      "text/plain": [
       "1                        [(scandal, NN), (bohemia, NN)]\n",
       "2                      [(redheaded, VBN), (league, NN)]\n",
       "3                          [(case, NN), (identity, NN)]\n",
       "4         [(boscombe, NN), (valley, NN), (mystery, NN)]\n",
       "5               [(five, CD), (orange, NN), (pips, NNS)]\n",
       "6                [(man, NN), (twisted, VBD), (lip, NN)]\n",
       "7        [(adventure, NN), (blue, JJ), (carbuncle, NN)]\n",
       "8        [(adventure, NN), (speckled, VBD), (band, NN)]\n",
       "9     [(adventure, NN), (engineers, NNS), (thumb, VBP)]\n",
       "10       [(adventure, NN), (noble, JJ), (bachelor, NN)]\n",
       "11        [(adventure, NN), (beryl, NN), (coronet, NN)]\n",
       "12      [(adventure, NN), (copper, NN), (beeches, NNS)]\n",
       "Name: hikayeler, dtype: object"
      ]
     },
     "execution_count": 106,
     "metadata": {},
     "output_type": "execute_result"
    }
   ],
   "source": [
    "pos"
   ]
  },
  {
   "cell_type": "code",
   "execution_count": 107,
   "id": "9d3469a5",
   "metadata": {
    "execution": {
     "iopub.execute_input": "2022-02-12T17:58:47.033872Z",
     "iopub.status.busy": "2022-02-12T17:58:47.033258Z",
     "iopub.status.idle": "2022-02-12T17:58:47.036705Z",
     "shell.execute_reply": "2022-02-12T17:58:47.037217Z",
     "shell.execute_reply.started": "2022-02-06T22:10:32.970871Z"
    },
    "papermill": {
     "duration": 0.149998,
     "end_time": "2022-02-12T17:58:47.037389",
     "exception": false,
     "start_time": "2022-02-12T17:58:46.887391",
     "status": "completed"
    },
    "tags": []
   },
   "outputs": [],
   "source": [
    "cumle = \"R and Python are useful data science tools for the new or old data scientists who eager to do efficient data science task\""
   ]
  },
  {
   "cell_type": "code",
   "execution_count": 108,
   "id": "ccfd361c",
   "metadata": {
    "execution": {
     "iopub.execute_input": "2022-02-12T17:58:47.336346Z",
     "iopub.status.busy": "2022-02-12T17:58:47.333785Z",
     "iopub.status.idle": "2022-02-12T17:58:47.339049Z",
     "shell.execute_reply": "2022-02-12T17:58:47.338530Z",
     "shell.execute_reply.started": "2022-02-06T22:10:32.979114Z"
    },
    "papermill": {
     "duration": 0.158719,
     "end_time": "2022-02-12T17:58:47.339212",
     "exception": false,
     "start_time": "2022-02-12T17:58:47.180493",
     "status": "completed"
    },
    "tags": []
   },
   "outputs": [],
   "source": [
    "pos = TextBlob(cumle).tags"
   ]
  },
  {
   "cell_type": "code",
   "execution_count": 109,
   "id": "cd0b5aab",
   "metadata": {
    "execution": {
     "iopub.execute_input": "2022-02-12T17:58:47.640252Z",
     "iopub.status.busy": "2022-02-12T17:58:47.639426Z",
     "iopub.status.idle": "2022-02-12T17:58:47.642879Z",
     "shell.execute_reply": "2022-02-12T17:58:47.643474Z",
     "shell.execute_reply.started": "2022-02-06T22:10:33.001141Z"
    },
    "papermill": {
     "duration": 0.160897,
     "end_time": "2022-02-12T17:58:47.643645",
     "exception": false,
     "start_time": "2022-02-12T17:58:47.482748",
     "status": "completed"
    },
    "tags": []
   },
   "outputs": [
    {
     "data": {
      "text/plain": [
       "[('R', 'NNP'),\n",
       " ('and', 'CC'),\n",
       " ('Python', 'NNP'),\n",
       " ('are', 'VBP'),\n",
       " ('useful', 'JJ'),\n",
       " ('data', 'NNS'),\n",
       " ('science', 'NN'),\n",
       " ('tools', 'NNS'),\n",
       " ('for', 'IN'),\n",
       " ('the', 'DT'),\n",
       " ('new', 'JJ'),\n",
       " ('or', 'CC'),\n",
       " ('old', 'JJ'),\n",
       " ('data', 'NNS'),\n",
       " ('scientists', 'NNS'),\n",
       " ('who', 'WP'),\n",
       " ('eager', 'VBP'),\n",
       " ('to', 'TO'),\n",
       " ('do', 'VB'),\n",
       " ('efficient', 'JJ'),\n",
       " ('data', 'NNS'),\n",
       " ('science', 'NN'),\n",
       " ('task', 'NN')]"
      ]
     },
     "execution_count": 109,
     "metadata": {},
     "output_type": "execute_result"
    }
   ],
   "source": [
    "pos"
   ]
  },
  {
   "cell_type": "code",
   "execution_count": 110,
   "id": "bc297575",
   "metadata": {
    "execution": {
     "iopub.execute_input": "2022-02-12T17:58:47.941090Z",
     "iopub.status.busy": "2022-02-12T17:58:47.940403Z",
     "iopub.status.idle": "2022-02-12T17:58:47.945417Z",
     "shell.execute_reply": "2022-02-12T17:58:47.945956Z",
     "shell.execute_reply.started": "2022-02-06T22:10:33.029001Z"
    },
    "papermill": {
     "duration": 0.154764,
     "end_time": "2022-02-12T17:58:47.946133",
     "exception": false,
     "start_time": "2022-02-12T17:58:47.791369",
     "status": "completed"
    },
    "tags": []
   },
   "outputs": [],
   "source": [
    "reg_exp = \"NP: {<DT>?<JJ>*<NN>}\"\n",
    "rp = nltk.RegexpParser(reg_exp)"
   ]
  },
  {
   "cell_type": "code",
   "execution_count": 111,
   "id": "fa836ecf",
   "metadata": {
    "execution": {
     "iopub.execute_input": "2022-02-12T17:58:48.248413Z",
     "iopub.status.busy": "2022-02-12T17:58:48.247724Z",
     "iopub.status.idle": "2022-02-12T17:58:48.285488Z",
     "shell.execute_reply": "2022-02-12T17:58:48.286021Z",
     "shell.execute_reply.started": "2022-02-06T22:10:33.054638Z"
    },
    "papermill": {
     "duration": 0.188266,
     "end_time": "2022-02-12T17:58:48.286204",
     "exception": false,
     "start_time": "2022-02-12T17:58:48.097938",
     "status": "completed"
    },
    "tags": []
   },
   "outputs": [
    {
     "ename": "TclError",
     "evalue": "no display name and no $DISPLAY environment variable",
     "output_type": "error",
     "traceback": [
      "\u001b[0;31m---------------------------------------------------------------------------\u001b[0m",
      "\u001b[0;31mTclError\u001b[0m                                  Traceback (most recent call last)",
      "\u001b[0;32m/opt/conda/lib/python3.7/site-packages/IPython/core/formatters.py\u001b[0m in \u001b[0;36m__call__\u001b[0;34m(self, obj)\u001b[0m\n\u001b[1;32m    343\u001b[0m             \u001b[0mmethod\u001b[0m \u001b[0;34m=\u001b[0m \u001b[0mget_real_method\u001b[0m\u001b[0;34m(\u001b[0m\u001b[0mobj\u001b[0m\u001b[0;34m,\u001b[0m \u001b[0mself\u001b[0m\u001b[0;34m.\u001b[0m\u001b[0mprint_method\u001b[0m\u001b[0;34m)\u001b[0m\u001b[0;34m\u001b[0m\u001b[0;34m\u001b[0m\u001b[0m\n\u001b[1;32m    344\u001b[0m             \u001b[0;32mif\u001b[0m \u001b[0mmethod\u001b[0m \u001b[0;32mis\u001b[0m \u001b[0;32mnot\u001b[0m \u001b[0;32mNone\u001b[0m\u001b[0;34m:\u001b[0m\u001b[0;34m\u001b[0m\u001b[0;34m\u001b[0m\u001b[0m\n\u001b[0;32m--> 345\u001b[0;31m                 \u001b[0;32mreturn\u001b[0m \u001b[0mmethod\u001b[0m\u001b[0;34m(\u001b[0m\u001b[0;34m)\u001b[0m\u001b[0;34m\u001b[0m\u001b[0;34m\u001b[0m\u001b[0m\n\u001b[0m\u001b[1;32m    346\u001b[0m             \u001b[0;32mreturn\u001b[0m \u001b[0;32mNone\u001b[0m\u001b[0;34m\u001b[0m\u001b[0;34m\u001b[0m\u001b[0m\n\u001b[1;32m    347\u001b[0m         \u001b[0;32melse\u001b[0m\u001b[0;34m:\u001b[0m\u001b[0;34m\u001b[0m\u001b[0;34m\u001b[0m\u001b[0m\n",
      "\u001b[0;32m/opt/conda/lib/python3.7/site-packages/nltk/tree.py\u001b[0m in \u001b[0;36m_repr_png_\u001b[0;34m(self)\u001b[0m\n\u001b[1;32m    717\u001b[0m         \u001b[0;32mfrom\u001b[0m \u001b[0mnltk\u001b[0m\u001b[0;34m.\u001b[0m\u001b[0mdraw\u001b[0m\u001b[0;34m.\u001b[0m\u001b[0mutil\u001b[0m \u001b[0;32mimport\u001b[0m \u001b[0mCanvasFrame\u001b[0m\u001b[0;34m\u001b[0m\u001b[0;34m\u001b[0m\u001b[0m\n\u001b[1;32m    718\u001b[0m         \u001b[0;32mfrom\u001b[0m \u001b[0mnltk\u001b[0m\u001b[0;34m.\u001b[0m\u001b[0minternals\u001b[0m \u001b[0;32mimport\u001b[0m \u001b[0mfind_binary\u001b[0m\u001b[0;34m\u001b[0m\u001b[0;34m\u001b[0m\u001b[0m\n\u001b[0;32m--> 719\u001b[0;31m         \u001b[0m_canvas_frame\u001b[0m \u001b[0;34m=\u001b[0m \u001b[0mCanvasFrame\u001b[0m\u001b[0;34m(\u001b[0m\u001b[0;34m)\u001b[0m\u001b[0;34m\u001b[0m\u001b[0;34m\u001b[0m\u001b[0m\n\u001b[0m\u001b[1;32m    720\u001b[0m         \u001b[0mwidget\u001b[0m \u001b[0;34m=\u001b[0m \u001b[0mtree_to_treesegment\u001b[0m\u001b[0;34m(\u001b[0m\u001b[0m_canvas_frame\u001b[0m\u001b[0;34m.\u001b[0m\u001b[0mcanvas\u001b[0m\u001b[0;34m(\u001b[0m\u001b[0;34m)\u001b[0m\u001b[0;34m,\u001b[0m \u001b[0mself\u001b[0m\u001b[0;34m)\u001b[0m\u001b[0;34m\u001b[0m\u001b[0;34m\u001b[0m\u001b[0m\n\u001b[1;32m    721\u001b[0m         \u001b[0m_canvas_frame\u001b[0m\u001b[0;34m.\u001b[0m\u001b[0madd_widget\u001b[0m\u001b[0;34m(\u001b[0m\u001b[0mwidget\u001b[0m\u001b[0;34m)\u001b[0m\u001b[0;34m\u001b[0m\u001b[0;34m\u001b[0m\u001b[0m\n",
      "\u001b[0;32m/opt/conda/lib/python3.7/site-packages/nltk/draw/util.py\u001b[0m in \u001b[0;36m__init__\u001b[0;34m(self, parent, **kw)\u001b[0m\n\u001b[1;32m   1651\u001b[0m         \u001b[0;31m# If no parent was given, set up a top-level window.\u001b[0m\u001b[0;34m\u001b[0m\u001b[0;34m\u001b[0m\u001b[0;34m\u001b[0m\u001b[0m\n\u001b[1;32m   1652\u001b[0m         \u001b[0;32mif\u001b[0m \u001b[0mparent\u001b[0m \u001b[0;32mis\u001b[0m \u001b[0;32mNone\u001b[0m\u001b[0;34m:\u001b[0m\u001b[0;34m\u001b[0m\u001b[0;34m\u001b[0m\u001b[0m\n\u001b[0;32m-> 1653\u001b[0;31m             \u001b[0mself\u001b[0m\u001b[0;34m.\u001b[0m\u001b[0m_parent\u001b[0m \u001b[0;34m=\u001b[0m \u001b[0mTk\u001b[0m\u001b[0;34m(\u001b[0m\u001b[0;34m)\u001b[0m\u001b[0;34m\u001b[0m\u001b[0;34m\u001b[0m\u001b[0m\n\u001b[0m\u001b[1;32m   1654\u001b[0m             \u001b[0mself\u001b[0m\u001b[0;34m.\u001b[0m\u001b[0m_parent\u001b[0m\u001b[0;34m.\u001b[0m\u001b[0mtitle\u001b[0m\u001b[0;34m(\u001b[0m\u001b[0;34m'NLTK'\u001b[0m\u001b[0;34m)\u001b[0m\u001b[0;34m\u001b[0m\u001b[0;34m\u001b[0m\u001b[0m\n\u001b[1;32m   1655\u001b[0m             \u001b[0mself\u001b[0m\u001b[0;34m.\u001b[0m\u001b[0m_parent\u001b[0m\u001b[0;34m.\u001b[0m\u001b[0mbind\u001b[0m\u001b[0;34m(\u001b[0m\u001b[0;34m'<Control-p>'\u001b[0m\u001b[0;34m,\u001b[0m \u001b[0;32mlambda\u001b[0m \u001b[0me\u001b[0m\u001b[0;34m:\u001b[0m \u001b[0mself\u001b[0m\u001b[0;34m.\u001b[0m\u001b[0mprint_to_file\u001b[0m\u001b[0;34m(\u001b[0m\u001b[0;34m)\u001b[0m\u001b[0;34m)\u001b[0m\u001b[0;34m\u001b[0m\u001b[0;34m\u001b[0m\u001b[0m\n",
      "\u001b[0;32m/opt/conda/lib/python3.7/tkinter/__init__.py\u001b[0m in \u001b[0;36m__init__\u001b[0;34m(self, screenName, baseName, className, useTk, sync, use)\u001b[0m\n\u001b[1;32m   2021\u001b[0m                 \u001b[0mbaseName\u001b[0m \u001b[0;34m=\u001b[0m \u001b[0mbaseName\u001b[0m \u001b[0;34m+\u001b[0m \u001b[0mext\u001b[0m\u001b[0;34m\u001b[0m\u001b[0;34m\u001b[0m\u001b[0m\n\u001b[1;32m   2022\u001b[0m         \u001b[0minteractive\u001b[0m \u001b[0;34m=\u001b[0m \u001b[0;36m0\u001b[0m\u001b[0;34m\u001b[0m\u001b[0;34m\u001b[0m\u001b[0m\n\u001b[0;32m-> 2023\u001b[0;31m         \u001b[0mself\u001b[0m\u001b[0;34m.\u001b[0m\u001b[0mtk\u001b[0m \u001b[0;34m=\u001b[0m \u001b[0m_tkinter\u001b[0m\u001b[0;34m.\u001b[0m\u001b[0mcreate\u001b[0m\u001b[0;34m(\u001b[0m\u001b[0mscreenName\u001b[0m\u001b[0;34m,\u001b[0m \u001b[0mbaseName\u001b[0m\u001b[0;34m,\u001b[0m \u001b[0mclassName\u001b[0m\u001b[0;34m,\u001b[0m \u001b[0minteractive\u001b[0m\u001b[0;34m,\u001b[0m \u001b[0mwantobjects\u001b[0m\u001b[0;34m,\u001b[0m \u001b[0museTk\u001b[0m\u001b[0;34m,\u001b[0m \u001b[0msync\u001b[0m\u001b[0;34m,\u001b[0m \u001b[0muse\u001b[0m\u001b[0;34m)\u001b[0m\u001b[0;34m\u001b[0m\u001b[0;34m\u001b[0m\u001b[0m\n\u001b[0m\u001b[1;32m   2024\u001b[0m         \u001b[0;32mif\u001b[0m \u001b[0museTk\u001b[0m\u001b[0;34m:\u001b[0m\u001b[0;34m\u001b[0m\u001b[0;34m\u001b[0m\u001b[0m\n\u001b[1;32m   2025\u001b[0m             \u001b[0mself\u001b[0m\u001b[0;34m.\u001b[0m\u001b[0m_loadtk\u001b[0m\u001b[0;34m(\u001b[0m\u001b[0;34m)\u001b[0m\u001b[0;34m\u001b[0m\u001b[0;34m\u001b[0m\u001b[0m\n",
      "\u001b[0;31mTclError\u001b[0m: no display name and no $DISPLAY environment variable"
     ]
    },
    {
     "data": {
      "text/plain": [
       "Tree('S', [('R', 'NNP'), ('and', 'CC'), ('Python', 'NNP'), ('are', 'VBP'), ('useful', 'JJ'), ('data', 'NNS'), Tree('NP', [('science', 'NN')]), ('tools', 'NNS'), ('for', 'IN'), ('the', 'DT'), ('new', 'JJ'), ('or', 'CC'), ('old', 'JJ'), ('data', 'NNS'), ('scientists', 'NNS'), ('who', 'WP'), ('eager', 'VBP'), ('to', 'TO'), ('do', 'VB'), ('efficient', 'JJ'), ('data', 'NNS'), Tree('NP', [('science', 'NN')]), Tree('NP', [('task', 'NN')])])"
      ]
     },
     "execution_count": 111,
     "metadata": {},
     "output_type": "execute_result"
    }
   ],
   "source": [
    "sonuclar = rp.parse(pos)\n",
    "sonuclar"
   ]
  },
  {
   "cell_type": "code",
   "execution_count": 112,
   "id": "74bb8b8d",
   "metadata": {
    "execution": {
     "iopub.execute_input": "2022-02-12T17:58:48.586524Z",
     "iopub.status.busy": "2022-02-12T17:58:48.585807Z",
     "iopub.status.idle": "2022-02-12T17:58:48.734997Z",
     "shell.execute_reply": "2022-02-12T17:58:48.733730Z",
     "shell.execute_reply.started": "2022-02-06T22:10:33.119435Z"
    },
    "papermill": {
     "duration": 0.30293,
     "end_time": "2022-02-12T17:58:48.735340",
     "exception": true,
     "start_time": "2022-02-12T17:58:48.432410",
     "status": "failed"
    },
    "tags": []
   },
   "outputs": [
    {
     "ename": "TclError",
     "evalue": "no display name and no $DISPLAY environment variable",
     "output_type": "error",
     "traceback": [
      "\u001b[0;31m---------------------------------------------------------------------------\u001b[0m",
      "\u001b[0;31mTclError\u001b[0m                                  Traceback (most recent call last)",
      "\u001b[0;32m/tmp/ipykernel_19/1727945904.py\u001b[0m in \u001b[0;36m<module>\u001b[0;34m\u001b[0m\n\u001b[0;32m----> 1\u001b[0;31m \u001b[0msonuclar\u001b[0m\u001b[0;34m.\u001b[0m\u001b[0mdraw\u001b[0m\u001b[0;34m(\u001b[0m\u001b[0;34m)\u001b[0m\u001b[0;34m\u001b[0m\u001b[0;34m\u001b[0m\u001b[0m\n\u001b[0m",
      "\u001b[0;32m/opt/conda/lib/python3.7/site-packages/nltk/tree.py\u001b[0m in \u001b[0;36mdraw\u001b[0;34m(self)\u001b[0m\n\u001b[1;32m    688\u001b[0m         \"\"\"\n\u001b[1;32m    689\u001b[0m         \u001b[0;32mfrom\u001b[0m \u001b[0mnltk\u001b[0m\u001b[0;34m.\u001b[0m\u001b[0mdraw\u001b[0m\u001b[0;34m.\u001b[0m\u001b[0mtree\u001b[0m \u001b[0;32mimport\u001b[0m \u001b[0mdraw_trees\u001b[0m\u001b[0;34m\u001b[0m\u001b[0;34m\u001b[0m\u001b[0m\n\u001b[0;32m--> 690\u001b[0;31m         \u001b[0mdraw_trees\u001b[0m\u001b[0;34m(\u001b[0m\u001b[0mself\u001b[0m\u001b[0;34m)\u001b[0m\u001b[0;34m\u001b[0m\u001b[0;34m\u001b[0m\u001b[0m\n\u001b[0m\u001b[1;32m    691\u001b[0m \u001b[0;34m\u001b[0m\u001b[0m\n\u001b[1;32m    692\u001b[0m     \u001b[0;32mdef\u001b[0m \u001b[0mpretty_print\u001b[0m\u001b[0;34m(\u001b[0m\u001b[0mself\u001b[0m\u001b[0;34m,\u001b[0m \u001b[0msentence\u001b[0m\u001b[0;34m=\u001b[0m\u001b[0;32mNone\u001b[0m\u001b[0;34m,\u001b[0m \u001b[0mhighlight\u001b[0m\u001b[0;34m=\u001b[0m\u001b[0;34m(\u001b[0m\u001b[0;34m)\u001b[0m\u001b[0;34m,\u001b[0m \u001b[0mstream\u001b[0m\u001b[0;34m=\u001b[0m\u001b[0;32mNone\u001b[0m\u001b[0;34m,\u001b[0m \u001b[0;34m**\u001b[0m\u001b[0mkwargs\u001b[0m\u001b[0;34m)\u001b[0m\u001b[0;34m:\u001b[0m\u001b[0;34m\u001b[0m\u001b[0;34m\u001b[0m\u001b[0m\n",
      "\u001b[0;32m/opt/conda/lib/python3.7/site-packages/nltk/draw/tree.py\u001b[0m in \u001b[0;36mdraw_trees\u001b[0;34m(*trees)\u001b[0m\n\u001b[1;32m    861\u001b[0m     \u001b[0;34m:\u001b[0m\u001b[0mrtype\u001b[0m\u001b[0;34m:\u001b[0m \u001b[0;32mNone\u001b[0m\u001b[0;34m\u001b[0m\u001b[0;34m\u001b[0m\u001b[0m\n\u001b[1;32m    862\u001b[0m     \"\"\"\n\u001b[0;32m--> 863\u001b[0;31m     \u001b[0mTreeView\u001b[0m\u001b[0;34m(\u001b[0m\u001b[0;34m*\u001b[0m\u001b[0mtrees\u001b[0m\u001b[0;34m)\u001b[0m\u001b[0;34m.\u001b[0m\u001b[0mmainloop\u001b[0m\u001b[0;34m(\u001b[0m\u001b[0;34m)\u001b[0m\u001b[0;34m\u001b[0m\u001b[0;34m\u001b[0m\u001b[0m\n\u001b[0m\u001b[1;32m    864\u001b[0m     \u001b[0;32mreturn\u001b[0m\u001b[0;34m\u001b[0m\u001b[0;34m\u001b[0m\u001b[0m\n\u001b[1;32m    865\u001b[0m \u001b[0;34m\u001b[0m\u001b[0m\n",
      "\u001b[0;32m/opt/conda/lib/python3.7/site-packages/nltk/draw/tree.py\u001b[0m in \u001b[0;36m__init__\u001b[0;34m(self, *trees)\u001b[0m\n\u001b[1;32m    754\u001b[0m         \u001b[0mself\u001b[0m\u001b[0;34m.\u001b[0m\u001b[0m_trees\u001b[0m \u001b[0;34m=\u001b[0m \u001b[0mtrees\u001b[0m\u001b[0;34m\u001b[0m\u001b[0;34m\u001b[0m\u001b[0m\n\u001b[1;32m    755\u001b[0m \u001b[0;34m\u001b[0m\u001b[0m\n\u001b[0;32m--> 756\u001b[0;31m         \u001b[0mself\u001b[0m\u001b[0;34m.\u001b[0m\u001b[0m_top\u001b[0m \u001b[0;34m=\u001b[0m \u001b[0mTk\u001b[0m\u001b[0;34m(\u001b[0m\u001b[0;34m)\u001b[0m\u001b[0;34m\u001b[0m\u001b[0;34m\u001b[0m\u001b[0m\n\u001b[0m\u001b[1;32m    757\u001b[0m         \u001b[0mself\u001b[0m\u001b[0;34m.\u001b[0m\u001b[0m_top\u001b[0m\u001b[0;34m.\u001b[0m\u001b[0mtitle\u001b[0m\u001b[0;34m(\u001b[0m\u001b[0;34m'NLTK'\u001b[0m\u001b[0;34m)\u001b[0m\u001b[0;34m\u001b[0m\u001b[0;34m\u001b[0m\u001b[0m\n\u001b[1;32m    758\u001b[0m         \u001b[0mself\u001b[0m\u001b[0;34m.\u001b[0m\u001b[0m_top\u001b[0m\u001b[0;34m.\u001b[0m\u001b[0mbind\u001b[0m\u001b[0;34m(\u001b[0m\u001b[0;34m'<Control-x>'\u001b[0m\u001b[0;34m,\u001b[0m \u001b[0mself\u001b[0m\u001b[0;34m.\u001b[0m\u001b[0mdestroy\u001b[0m\u001b[0;34m)\u001b[0m\u001b[0;34m\u001b[0m\u001b[0;34m\u001b[0m\u001b[0m\n",
      "\u001b[0;32m/opt/conda/lib/python3.7/tkinter/__init__.py\u001b[0m in \u001b[0;36m__init__\u001b[0;34m(self, screenName, baseName, className, useTk, sync, use)\u001b[0m\n\u001b[1;32m   2021\u001b[0m                 \u001b[0mbaseName\u001b[0m \u001b[0;34m=\u001b[0m \u001b[0mbaseName\u001b[0m \u001b[0;34m+\u001b[0m \u001b[0mext\u001b[0m\u001b[0;34m\u001b[0m\u001b[0;34m\u001b[0m\u001b[0m\n\u001b[1;32m   2022\u001b[0m         \u001b[0minteractive\u001b[0m \u001b[0;34m=\u001b[0m \u001b[0;36m0\u001b[0m\u001b[0;34m\u001b[0m\u001b[0;34m\u001b[0m\u001b[0m\n\u001b[0;32m-> 2023\u001b[0;31m         \u001b[0mself\u001b[0m\u001b[0;34m.\u001b[0m\u001b[0mtk\u001b[0m \u001b[0;34m=\u001b[0m \u001b[0m_tkinter\u001b[0m\u001b[0;34m.\u001b[0m\u001b[0mcreate\u001b[0m\u001b[0;34m(\u001b[0m\u001b[0mscreenName\u001b[0m\u001b[0;34m,\u001b[0m \u001b[0mbaseName\u001b[0m\u001b[0;34m,\u001b[0m \u001b[0mclassName\u001b[0m\u001b[0;34m,\u001b[0m \u001b[0minteractive\u001b[0m\u001b[0;34m,\u001b[0m \u001b[0mwantobjects\u001b[0m\u001b[0;34m,\u001b[0m \u001b[0museTk\u001b[0m\u001b[0;34m,\u001b[0m \u001b[0msync\u001b[0m\u001b[0;34m,\u001b[0m \u001b[0muse\u001b[0m\u001b[0;34m)\u001b[0m\u001b[0;34m\u001b[0m\u001b[0;34m\u001b[0m\u001b[0m\n\u001b[0m\u001b[1;32m   2024\u001b[0m         \u001b[0;32mif\u001b[0m \u001b[0museTk\u001b[0m\u001b[0;34m:\u001b[0m\u001b[0;34m\u001b[0m\u001b[0;34m\u001b[0m\u001b[0m\n\u001b[1;32m   2025\u001b[0m             \u001b[0mself\u001b[0m\u001b[0;34m.\u001b[0m\u001b[0m_loadtk\u001b[0m\u001b[0;34m(\u001b[0m\u001b[0;34m)\u001b[0m\u001b[0;34m\u001b[0m\u001b[0;34m\u001b[0m\u001b[0m\n",
      "\u001b[0;31mTclError\u001b[0m: no display name and no $DISPLAY environment variable"
     ]
    }
   ],
   "source": [
    "sonuclar.draw()"
   ]
  },
  {
   "cell_type": "markdown",
   "id": "0e82754e",
   "metadata": {
    "papermill": {
     "duration": null,
     "end_time": null,
     "exception": null,
     "start_time": null,
     "status": "pending"
    },
    "tags": []
   },
   "source": [
    "# Named Entity Recognition"
   ]
  },
  {
   "cell_type": "code",
   "execution_count": null,
   "id": "e95c416b",
   "metadata": {
    "execution": {
     "iopub.execute_input": "2022-02-06T22:10:33.129184Z",
     "iopub.status.busy": "2022-02-06T22:10:33.128895Z",
     "iopub.status.idle": "2022-02-06T22:11:13.216548Z",
     "shell.execute_reply": "2022-02-06T22:11:13.215643Z",
     "shell.execute_reply.started": "2022-02-06T22:10:33.129152Z"
    },
    "papermill": {
     "duration": null,
     "end_time": null,
     "exception": null,
     "start_time": null,
     "status": "pending"
    },
    "tags": []
   },
   "outputs": [],
   "source": [
    "from nltk import word_tokenize, pos_tag, ne_chunk\n",
    "nltk.download(\"maxent_ne_chunker\")\n",
    "nltk.download(\"words\")"
   ]
  },
  {
   "cell_type": "code",
   "execution_count": null,
   "id": "5d04c179",
   "metadata": {
    "execution": {
     "iopub.execute_input": "2022-02-06T22:11:13.219732Z",
     "iopub.status.busy": "2022-02-06T22:11:13.218302Z",
     "iopub.status.idle": "2022-02-06T22:11:13.431603Z",
     "shell.execute_reply": "2022-02-06T22:11:13.43016Z",
     "shell.execute_reply.started": "2022-02-06T22:11:13.219673Z"
    },
    "papermill": {
     "duration": null,
     "end_time": null,
     "exception": null,
     "start_time": null,
     "status": "pending"
    },
    "tags": []
   },
   "outputs": [],
   "source": [
    "cumle = \"Hadley is creative people who work for R Studio AND he attented conference at Newyork last year\"\n",
    "print(ne_chunk(pos_tag(word_tokenize(cumle))))"
   ]
  },
  {
   "cell_type": "markdown",
   "id": "4bb7f649",
   "metadata": {
    "papermill": {
     "duration": null,
     "end_time": null,
     "exception": null,
     "start_time": null,
     "status": "pending"
    },
    "tags": []
   },
   "source": [
    "# Matematiksel İşlemler ve Basit Özellik Çıkarımı"
   ]
  },
  {
   "cell_type": "markdown",
   "id": "0113cc00",
   "metadata": {
    "papermill": {
     "duration": null,
     "end_time": null,
     "exception": null,
     "start_time": null,
     "status": "pending"
    },
    "tags": []
   },
   "source": [
    "## Harf/Karakter Sayısı"
   ]
  },
  {
   "cell_type": "code",
   "execution_count": null,
   "id": "0a04e717",
   "metadata": {
    "execution": {
     "iopub.execute_input": "2022-02-06T22:17:19.369433Z",
     "iopub.status.busy": "2022-02-06T22:17:19.368934Z",
     "iopub.status.idle": "2022-02-06T22:17:19.373872Z",
     "shell.execute_reply": "2022-02-06T22:17:19.373257Z",
     "shell.execute_reply.started": "2022-02-06T22:17:19.369383Z"
    },
    "papermill": {
     "duration": null,
     "end_time": null,
     "exception": null,
     "start_time": null,
     "status": "pending"
    },
    "tags": []
   },
   "outputs": [],
   "source": [
    "o_df = d_mdf.copy()"
   ]
  },
  {
   "cell_type": "code",
   "execution_count": null,
   "id": "cb57ba3f",
   "metadata": {
    "execution": {
     "iopub.execute_input": "2022-02-06T22:17:21.682445Z",
     "iopub.status.busy": "2022-02-06T22:17:21.681945Z",
     "iopub.status.idle": "2022-02-06T22:17:21.6928Z",
     "shell.execute_reply": "2022-02-06T22:17:21.691652Z",
     "shell.execute_reply.started": "2022-02-06T22:17:21.682398Z"
    },
    "papermill": {
     "duration": null,
     "end_time": null,
     "exception": null,
     "start_time": null,
     "status": "pending"
    },
    "tags": []
   },
   "outputs": [],
   "source": [
    "o_df[\"hikayeler\"]"
   ]
  },
  {
   "cell_type": "code",
   "execution_count": null,
   "id": "6bc7074e",
   "metadata": {
    "execution": {
     "iopub.execute_input": "2022-02-06T22:17:24.983386Z",
     "iopub.status.busy": "2022-02-06T22:17:24.983057Z",
     "iopub.status.idle": "2022-02-06T22:17:24.991799Z",
     "shell.execute_reply": "2022-02-06T22:17:24.990689Z",
     "shell.execute_reply.started": "2022-02-06T22:17:24.983349Z"
    },
    "papermill": {
     "duration": null,
     "end_time": null,
     "exception": null,
     "start_time": null,
     "status": "pending"
    },
    "tags": []
   },
   "outputs": [],
   "source": [
    "o_df[\"hikayeler\"].str.len()\n",
    "# boşlukları da sayıyor"
   ]
  },
  {
   "cell_type": "code",
   "execution_count": null,
   "id": "504a5e5c",
   "metadata": {
    "execution": {
     "iopub.execute_input": "2022-02-06T22:17:27.702386Z",
     "iopub.status.busy": "2022-02-06T22:17:27.701134Z",
     "iopub.status.idle": "2022-02-06T22:17:27.710315Z",
     "shell.execute_reply": "2022-02-06T22:17:27.709319Z",
     "shell.execute_reply.started": "2022-02-06T22:17:27.702313Z"
    },
    "papermill": {
     "duration": null,
     "end_time": null,
     "exception": null,
     "start_time": null,
     "status": "pending"
    },
    "tags": []
   },
   "outputs": [],
   "source": [
    "o_df[\"harf_sayisi\"] = o_df[\"hikayeler\"].str.len()"
   ]
  },
  {
   "cell_type": "code",
   "execution_count": null,
   "id": "91350f34",
   "metadata": {
    "execution": {
     "iopub.execute_input": "2022-02-06T22:17:30.803209Z",
     "iopub.status.busy": "2022-02-06T22:17:30.802866Z",
     "iopub.status.idle": "2022-02-06T22:17:30.816913Z",
     "shell.execute_reply": "2022-02-06T22:17:30.815336Z",
     "shell.execute_reply.started": "2022-02-06T22:17:30.803163Z"
    },
    "papermill": {
     "duration": null,
     "end_time": null,
     "exception": null,
     "start_time": null,
     "status": "pending"
    },
    "tags": []
   },
   "outputs": [],
   "source": [
    "o_df"
   ]
  },
  {
   "cell_type": "markdown",
   "id": "fa1b6b65",
   "metadata": {
    "papermill": {
     "duration": null,
     "end_time": null,
     "exception": null,
     "start_time": null,
     "status": "pending"
    },
    "tags": []
   },
   "source": [
    "## Kelime Sayısı "
   ]
  },
  {
   "cell_type": "code",
   "execution_count": null,
   "id": "7b610cf8",
   "metadata": {
    "execution": {
     "iopub.execute_input": "2022-02-06T22:17:36.290515Z",
     "iopub.status.busy": "2022-02-06T22:17:36.290186Z",
     "iopub.status.idle": "2022-02-06T22:17:36.294818Z",
     "shell.execute_reply": "2022-02-06T22:17:36.293825Z",
     "shell.execute_reply.started": "2022-02-06T22:17:36.290483Z"
    },
    "papermill": {
     "duration": null,
     "end_time": null,
     "exception": null,
     "start_time": null,
     "status": "pending"
    },
    "tags": []
   },
   "outputs": [],
   "source": [
    "a = \"scandal in a bohemia\""
   ]
  },
  {
   "cell_type": "code",
   "execution_count": null,
   "id": "cbb242de",
   "metadata": {
    "papermill": {
     "duration": null,
     "end_time": null,
     "exception": null,
     "start_time": null,
     "status": "pending"
    },
    "tags": []
   },
   "outputs": [],
   "source": [
    "a.split()"
   ]
  },
  {
   "cell_type": "code",
   "execution_count": null,
   "id": "e1113037",
   "metadata": {
    "execution": {
     "iopub.execute_input": "2022-02-06T22:17:44.649384Z",
     "iopub.status.busy": "2022-02-06T22:17:44.649079Z",
     "iopub.status.idle": "2022-02-06T22:17:44.656714Z",
     "shell.execute_reply": "2022-02-06T22:17:44.655796Z",
     "shell.execute_reply.started": "2022-02-06T22:17:44.649352Z"
    },
    "papermill": {
     "duration": null,
     "end_time": null,
     "exception": null,
     "start_time": null,
     "status": "pending"
    },
    "tags": []
   },
   "outputs": [],
   "source": [
    "len(a.split())"
   ]
  },
  {
   "cell_type": "code",
   "execution_count": null,
   "id": "50511586",
   "metadata": {
    "execution": {
     "iopub.execute_input": "2022-02-06T22:17:53.01029Z",
     "iopub.status.busy": "2022-02-06T22:17:53.009639Z",
     "iopub.status.idle": "2022-02-06T22:17:53.022839Z",
     "shell.execute_reply": "2022-02-06T22:17:53.021717Z",
     "shell.execute_reply.started": "2022-02-06T22:17:53.01024Z"
    },
    "papermill": {
     "duration": null,
     "end_time": null,
     "exception": null,
     "start_time": null,
     "status": "pending"
    },
    "tags": []
   },
   "outputs": [],
   "source": [
    "o_df.iloc[0:1,0:1]"
   ]
  },
  {
   "cell_type": "code",
   "execution_count": null,
   "id": "df36d264",
   "metadata": {
    "execution": {
     "iopub.execute_input": "2022-02-06T22:18:25.088353Z",
     "iopub.status.busy": "2022-02-06T22:18:25.087954Z",
     "iopub.status.idle": "2022-02-06T22:18:25.101712Z",
     "shell.execute_reply": "2022-02-06T22:18:25.100345Z",
     "shell.execute_reply.started": "2022-02-06T22:18:25.088322Z"
    },
    "papermill": {
     "duration": null,
     "end_time": null,
     "exception": null,
     "start_time": null,
     "status": "pending"
    },
    "tags": []
   },
   "outputs": [],
   "source": [
    "o_df.apply(lambda x: len(str(x).split(\" \")))"
   ]
  },
  {
   "cell_type": "code",
   "execution_count": null,
   "id": "69cb8a2d",
   "metadata": {
    "execution": {
     "iopub.execute_input": "2022-02-06T22:18:37.074689Z",
     "iopub.status.busy": "2022-02-06T22:18:37.073694Z",
     "iopub.status.idle": "2022-02-06T22:18:37.083238Z",
     "shell.execute_reply": "2022-02-06T22:18:37.081877Z",
     "shell.execute_reply.started": "2022-02-06T22:18:37.074631Z"
    },
    "papermill": {
     "duration": null,
     "end_time": null,
     "exception": null,
     "start_time": null,
     "status": "pending"
    },
    "tags": []
   },
   "outputs": [],
   "source": [
    "o_df[\"hikayeler\"].apply(lambda x: len(str(x).split(\" \")))"
   ]
  },
  {
   "cell_type": "code",
   "execution_count": null,
   "id": "4ce1b8d8",
   "metadata": {
    "execution": {
     "iopub.execute_input": "2022-02-06T22:19:40.153025Z",
     "iopub.status.busy": "2022-02-06T22:19:40.15262Z",
     "iopub.status.idle": "2022-02-06T22:19:40.158723Z",
     "shell.execute_reply": "2022-02-06T22:19:40.157979Z",
     "shell.execute_reply.started": "2022-02-06T22:19:40.152994Z"
    },
    "papermill": {
     "duration": null,
     "end_time": null,
     "exception": null,
     "start_time": null,
     "status": "pending"
    },
    "tags": []
   },
   "outputs": [],
   "source": [
    "o_df[\"kelime sayisi\"] = o_df[\"hikayeler\"].apply(lambda x: len(str(x).split(\" \")))"
   ]
  },
  {
   "cell_type": "code",
   "execution_count": null,
   "id": "9c04ab53",
   "metadata": {
    "execution": {
     "iopub.execute_input": "2022-02-06T22:19:42.976634Z",
     "iopub.status.busy": "2022-02-06T22:19:42.975979Z",
     "iopub.status.idle": "2022-02-06T22:19:42.988529Z",
     "shell.execute_reply": "2022-02-06T22:19:42.987821Z",
     "shell.execute_reply.started": "2022-02-06T22:19:42.976525Z"
    },
    "papermill": {
     "duration": null,
     "end_time": null,
     "exception": null,
     "start_time": null,
     "status": "pending"
    },
    "tags": []
   },
   "outputs": [],
   "source": [
    "o_df"
   ]
  },
  {
   "cell_type": "markdown",
   "id": "0573d16c",
   "metadata": {
    "papermill": {
     "duration": null,
     "end_time": null,
     "exception": null,
     "start_time": null,
     "status": "pending"
    },
    "tags": []
   },
   "source": [
    "## Özel Karakterleri Yakalamak & Saydırmak"
   ]
  },
  {
   "cell_type": "code",
   "execution_count": null,
   "id": "8ee9bf2d",
   "metadata": {
    "execution": {
     "iopub.execute_input": "2022-02-06T22:20:06.387115Z",
     "iopub.status.busy": "2022-02-06T22:20:06.386009Z",
     "iopub.status.idle": "2022-02-06T22:20:06.395767Z",
     "shell.execute_reply": "2022-02-06T22:20:06.394699Z",
     "shell.execute_reply.started": "2022-02-06T22:20:06.38707Z"
    },
    "papermill": {
     "duration": null,
     "end_time": null,
     "exception": null,
     "start_time": null,
     "status": "pending"
    },
    "tags": []
   },
   "outputs": [],
   "source": [
    "o_df[\"hikayeler\"].apply(lambda x: len([x for x in x.split() \n",
    "                                       if x.startswith(\"adventure\")]))"
   ]
  },
  {
   "cell_type": "code",
   "execution_count": null,
   "id": "56439d0e",
   "metadata": {
    "execution": {
     "iopub.execute_input": "2022-02-06T22:23:52.836082Z",
     "iopub.status.busy": "2022-02-06T22:23:52.83561Z",
     "iopub.status.idle": "2022-02-06T22:23:52.845541Z",
     "shell.execute_reply": "2022-02-06T22:23:52.843966Z",
     "shell.execute_reply.started": "2022-02-06T22:23:52.836034Z"
    },
    "papermill": {
     "duration": null,
     "end_time": null,
     "exception": null,
     "start_time": null,
     "status": "pending"
    },
    "tags": []
   },
   "outputs": [],
   "source": [
    "o_df[\"ozel karakter sayisi\"] = o_df[\"hikayeler\"].apply(lambda x: len([x for x in x.split() \n",
    "                                       if x.startswith(\"adventure\")]))"
   ]
  },
  {
   "cell_type": "code",
   "execution_count": null,
   "id": "2da03fd4",
   "metadata": {
    "execution": {
     "iopub.execute_input": "2022-02-06T22:24:01.405098Z",
     "iopub.status.busy": "2022-02-06T22:24:01.404015Z",
     "iopub.status.idle": "2022-02-06T22:24:01.4223Z",
     "shell.execute_reply": "2022-02-06T22:24:01.421277Z",
     "shell.execute_reply.started": "2022-02-06T22:24:01.405044Z"
    },
    "papermill": {
     "duration": null,
     "end_time": null,
     "exception": null,
     "start_time": null,
     "status": "pending"
    },
    "tags": []
   },
   "outputs": [],
   "source": [
    "o_df"
   ]
  },
  {
   "cell_type": "markdown",
   "id": "a8fc1276",
   "metadata": {
    "papermill": {
     "duration": null,
     "end_time": null,
     "exception": null,
     "start_time": null,
     "status": "pending"
    },
    "tags": []
   },
   "source": [
    "## Sayıları Yakalamak & Saydırmak"
   ]
  },
  {
   "cell_type": "code",
   "execution_count": null,
   "id": "6752da84",
   "metadata": {
    "execution": {
     "iopub.execute_input": "2022-02-06T22:25:21.456436Z",
     "iopub.status.busy": "2022-02-06T22:25:21.455561Z",
     "iopub.status.idle": "2022-02-06T22:25:21.46697Z",
     "shell.execute_reply": "2022-02-06T22:25:21.466158Z",
     "shell.execute_reply.started": "2022-02-06T22:25:21.456394Z"
    },
    "papermill": {
     "duration": null,
     "end_time": null,
     "exception": null,
     "start_time": null,
     "status": "pending"
    },
    "tags": []
   },
   "outputs": [],
   "source": [
    "mdf[\"hikayeler\"].apply(lambda x: len([x for x in x.split() \n",
    "                                       if x.isdigit()]))"
   ]
  },
  {
   "cell_type": "code",
   "execution_count": null,
   "id": "4d1ba205",
   "metadata": {
    "execution": {
     "iopub.execute_input": "2022-02-06T22:26:01.369884Z",
     "iopub.status.busy": "2022-02-06T22:26:01.369535Z",
     "iopub.status.idle": "2022-02-06T22:26:01.379098Z",
     "shell.execute_reply": "2022-02-06T22:26:01.377478Z",
     "shell.execute_reply.started": "2022-02-06T22:26:01.369851Z"
    },
    "papermill": {
     "duration": null,
     "end_time": null,
     "exception": null,
     "start_time": null,
     "status": "pending"
    },
    "tags": []
   },
   "outputs": [],
   "source": [
    "o_df[\"sayi sayisi\"] = mdf[\"hikayeler\"].apply(lambda x: len([x for x in x.split() \n",
    "                                       if x.isdigit()]))"
   ]
  },
  {
   "cell_type": "code",
   "execution_count": null,
   "id": "ade22287",
   "metadata": {
    "execution": {
     "iopub.execute_input": "2022-02-06T22:26:06.985726Z",
     "iopub.status.busy": "2022-02-06T22:26:06.9849Z",
     "iopub.status.idle": "2022-02-06T22:26:06.998275Z",
     "shell.execute_reply": "2022-02-06T22:26:06.99699Z",
     "shell.execute_reply.started": "2022-02-06T22:26:06.985685Z"
    },
    "papermill": {
     "duration": null,
     "end_time": null,
     "exception": null,
     "start_time": null,
     "status": "pending"
    },
    "tags": []
   },
   "outputs": [],
   "source": [
    "o_df"
   ]
  }
 ],
 "metadata": {
  "kernelspec": {
   "display_name": "Python 3",
   "language": "python",
   "name": "python3"
  },
  "language_info": {
   "codemirror_mode": {
    "name": "ipython",
    "version": 3
   },
   "file_extension": ".py",
   "mimetype": "text/x-python",
   "name": "python",
   "nbconvert_exporter": "python",
   "pygments_lexer": "ipython3",
   "version": "3.7.12"
  },
  "papermill": {
   "default_parameters": {},
   "duration": 192.048995,
   "end_time": "2022-02-12T17:58:49.998243",
   "environment_variables": {},
   "exception": true,
   "input_path": "__notebook__.ipynb",
   "output_path": "__notebook__.ipynb",
   "parameters": {},
   "start_time": "2022-02-12T17:55:37.949248",
   "version": "2.3.3"
  }
 },
 "nbformat": 4,
 "nbformat_minor": 5
}
