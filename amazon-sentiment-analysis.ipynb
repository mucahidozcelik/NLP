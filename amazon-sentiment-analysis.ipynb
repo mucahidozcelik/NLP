{
 "cells": [
  {
   "cell_type": "code",
   "execution_count": 1,
   "id": "94fa2ecc",
   "metadata": {
    "_cell_guid": "c233d77a-64cf-44cd-a82b-54275631ddbf",
    "_uuid": "369d98f6-ce90-466d-9c2a-0eb711fc5a3d",
    "collapsed": false,
    "execution": {
     "iopub.execute_input": "2022-02-13T18:03:16.401227Z",
     "iopub.status.busy": "2022-02-13T18:03:16.399494Z",
     "iopub.status.idle": "2022-02-13T18:03:18.350893Z",
     "shell.execute_reply": "2022-02-13T18:03:18.350335Z",
     "shell.execute_reply.started": "2022-02-13T17:44:39.437788Z"
    },
    "jupyter": {
     "outputs_hidden": false
    },
    "papermill": {
     "duration": 1.988096,
     "end_time": "2022-02-13T18:03:18.351075",
     "exception": false,
     "start_time": "2022-02-13T18:03:16.362979",
     "status": "completed"
    },
    "tags": []
   },
   "outputs": [
    {
     "name": "stderr",
     "output_type": "stream",
     "text": [
      "/opt/conda/lib/python3.7/site-packages/nltk/twitter/__init__.py:20: UserWarning: The twython library has not been installed. Some functionality from the twitter package will not be available.\n",
      "  warnings.warn(\"The twython library has not been installed. \"\n"
     ]
    }
   ],
   "source": [
    "##################################################\n",
    "# Sentiment Analysis and Sentiment Modeling for Amazon Reviews\n",
    "##################################################\n",
    "\n",
    "# 1. Text Preprocessing\n",
    "# 2. Sentiment Analysis\n",
    "# 3. Feature Engineering\n",
    "# 4. Sentiment Modeling\n",
    "\n",
    "\n",
    "# !pip install nltk\n",
    "# !pip install textblob\n",
    "# !pip install wordcloud\n",
    "\n",
    "\n",
    "from warnings import filterwarnings\n",
    "import matplotlib.pyplot as plt\n",
    "import numpy as np\n",
    "import pandas as pd\n",
    "from PIL import Image\n",
    "from nltk.corpus import stopwords\n",
    "from nltk.sentiment import SentimentIntensityAnalyzer\n",
    "from sklearn.ensemble import RandomForestClassifier\n",
    "from sklearn.linear_model import LogisticRegression\n",
    "from sklearn.model_selection import cross_val_score, GridSearchCV, cross_validate\n",
    "from sklearn.preprocessing import LabelEncoder\n",
    "from textblob import Word, TextBlob\n",
    "from wordcloud import WordCloud\n",
    "\n",
    "filterwarnings('ignore')\n",
    "pd.set_option('display.max_columns', None)\n",
    "pd.set_option('display.width', 200)\n",
    "pd.set_option('display.float_format', lambda x: '%.2f' % x)"
   ]
  },
  {
   "cell_type": "code",
   "execution_count": 2,
   "id": "be3d3942",
   "metadata": {
    "execution": {
     "iopub.execute_input": "2022-02-13T18:03:18.419150Z",
     "iopub.status.busy": "2022-02-13T18:03:18.418490Z",
     "iopub.status.idle": "2022-02-13T18:03:18.494980Z",
     "shell.execute_reply": "2022-02-13T18:03:18.495513Z",
     "shell.execute_reply.started": "2022-02-13T17:44:47.144339Z"
    },
    "papermill": {
     "duration": 0.112176,
     "end_time": "2022-02-13T18:03:18.495683",
     "exception": false,
     "start_time": "2022-02-13T18:03:18.383507",
     "status": "completed"
    },
    "tags": []
   },
   "outputs": [
    {
     "data": {
      "text/html": [
       "<div>\n",
       "<style scoped>\n",
       "    .dataframe tbody tr th:only-of-type {\n",
       "        vertical-align: middle;\n",
       "    }\n",
       "\n",
       "    .dataframe tbody tr th {\n",
       "        vertical-align: top;\n",
       "    }\n",
       "\n",
       "    .dataframe thead th {\n",
       "        text-align: right;\n",
       "    }\n",
       "</style>\n",
       "<table border=\"1\" class=\"dataframe\">\n",
       "  <thead>\n",
       "    <tr style=\"text-align: right;\">\n",
       "      <th></th>\n",
       "      <th>reviewerID</th>\n",
       "      <th>asin</th>\n",
       "      <th>reviewerName</th>\n",
       "      <th>helpful</th>\n",
       "      <th>reviewText</th>\n",
       "      <th>overall</th>\n",
       "      <th>summary</th>\n",
       "      <th>unixReviewTime</th>\n",
       "      <th>reviewTime</th>\n",
       "      <th>day_diff</th>\n",
       "      <th>helpful_yes</th>\n",
       "      <th>total_vote</th>\n",
       "    </tr>\n",
       "  </thead>\n",
       "  <tbody>\n",
       "    <tr>\n",
       "      <th>0</th>\n",
       "      <td>A3SBTW3WS4IQSN</td>\n",
       "      <td>B007WTAJTO</td>\n",
       "      <td>NaN</td>\n",
       "      <td>[0, 0]</td>\n",
       "      <td>No issues.</td>\n",
       "      <td>4.00</td>\n",
       "      <td>Four Stars</td>\n",
       "      <td>1406073600</td>\n",
       "      <td>2014-07-23</td>\n",
       "      <td>138</td>\n",
       "      <td>0</td>\n",
       "      <td>0</td>\n",
       "    </tr>\n",
       "    <tr>\n",
       "      <th>1</th>\n",
       "      <td>A18K1ODH1I2MVB</td>\n",
       "      <td>B007WTAJTO</td>\n",
       "      <td>0mie</td>\n",
       "      <td>[0, 0]</td>\n",
       "      <td>Purchased this for my device, it worked as adv...</td>\n",
       "      <td>5.00</td>\n",
       "      <td>MOAR SPACE!!!</td>\n",
       "      <td>1382659200</td>\n",
       "      <td>2013-10-25</td>\n",
       "      <td>409</td>\n",
       "      <td>0</td>\n",
       "      <td>0</td>\n",
       "    </tr>\n",
       "    <tr>\n",
       "      <th>2</th>\n",
       "      <td>A2FII3I2MBMUIA</td>\n",
       "      <td>B007WTAJTO</td>\n",
       "      <td>1K3</td>\n",
       "      <td>[0, 0]</td>\n",
       "      <td>it works as expected. I should have sprung for...</td>\n",
       "      <td>4.00</td>\n",
       "      <td>nothing to really say....</td>\n",
       "      <td>1356220800</td>\n",
       "      <td>2012-12-23</td>\n",
       "      <td>715</td>\n",
       "      <td>0</td>\n",
       "      <td>0</td>\n",
       "    </tr>\n",
       "    <tr>\n",
       "      <th>3</th>\n",
       "      <td>A3H99DFEG68SR</td>\n",
       "      <td>B007WTAJTO</td>\n",
       "      <td>1m2</td>\n",
       "      <td>[0, 0]</td>\n",
       "      <td>This think has worked out great.Had a diff. br...</td>\n",
       "      <td>5.00</td>\n",
       "      <td>Great buy at this price!!!  *** UPDATE</td>\n",
       "      <td>1384992000</td>\n",
       "      <td>2013-11-21</td>\n",
       "      <td>382</td>\n",
       "      <td>0</td>\n",
       "      <td>0</td>\n",
       "    </tr>\n",
       "    <tr>\n",
       "      <th>4</th>\n",
       "      <td>A375ZM4U047O79</td>\n",
       "      <td>B007WTAJTO</td>\n",
       "      <td>2&amp;amp;1/2Men</td>\n",
       "      <td>[0, 0]</td>\n",
       "      <td>Bought it with Retail Packaging, arrived legit...</td>\n",
       "      <td>5.00</td>\n",
       "      <td>best deal around</td>\n",
       "      <td>1373673600</td>\n",
       "      <td>2013-07-13</td>\n",
       "      <td>513</td>\n",
       "      <td>0</td>\n",
       "      <td>0</td>\n",
       "    </tr>\n",
       "  </tbody>\n",
       "</table>\n",
       "</div>"
      ],
      "text/plain": [
       "       reviewerID        asin  reviewerName helpful                                         reviewText  overall                                 summary  unixReviewTime  reviewTime  day_diff  \\\n",
       "0  A3SBTW3WS4IQSN  B007WTAJTO           NaN  [0, 0]                                         No issues.     4.00                              Four Stars      1406073600  2014-07-23       138   \n",
       "1  A18K1ODH1I2MVB  B007WTAJTO          0mie  [0, 0]  Purchased this for my device, it worked as adv...     5.00                           MOAR SPACE!!!      1382659200  2013-10-25       409   \n",
       "2  A2FII3I2MBMUIA  B007WTAJTO           1K3  [0, 0]  it works as expected. I should have sprung for...     4.00               nothing to really say....      1356220800  2012-12-23       715   \n",
       "3   A3H99DFEG68SR  B007WTAJTO           1m2  [0, 0]  This think has worked out great.Had a diff. br...     5.00  Great buy at this price!!!  *** UPDATE      1384992000  2013-11-21       382   \n",
       "4  A375ZM4U047O79  B007WTAJTO  2&amp;1/2Men  [0, 0]  Bought it with Retail Packaging, arrived legit...     5.00                        best deal around      1373673600  2013-07-13       513   \n",
       "\n",
       "   helpful_yes  total_vote  \n",
       "0            0           0  \n",
       "1            0           0  \n",
       "2            0           0  \n",
       "3            0           0  \n",
       "4            0           0  "
      ]
     },
     "execution_count": 2,
     "metadata": {},
     "output_type": "execute_result"
    }
   ],
   "source": [
    "##################################################\n",
    "# 1. Text Preprocessing\n",
    "##################################################\n",
    "\n",
    "df = pd.read_csv(\"../input/amazon-reviews/amazon_reviews.csv\", sep=\",\")\n",
    "df.head()"
   ]
  },
  {
   "cell_type": "code",
   "execution_count": 3,
   "id": "28b14a83",
   "metadata": {
    "_cell_guid": "c233d77a-64cf-44cd-a82b-54275631ddbf",
    "_uuid": "369d98f6-ce90-466d-9c2a-0eb711fc5a3d",
    "collapsed": false,
    "execution": {
     "iopub.execute_input": "2022-02-13T18:03:18.564152Z",
     "iopub.status.busy": "2022-02-13T18:03:18.563189Z",
     "iopub.status.idle": "2022-02-13T18:03:18.578354Z",
     "shell.execute_reply": "2022-02-13T18:03:18.578837Z",
     "shell.execute_reply.started": "2022-02-13T17:45:27.034131Z"
    },
    "jupyter": {
     "outputs_hidden": false
    },
    "papermill": {
     "duration": 0.050232,
     "end_time": "2022-02-13T18:03:18.579002",
     "exception": false,
     "start_time": "2022-02-13T18:03:18.528770",
     "status": "completed"
    },
    "tags": []
   },
   "outputs": [
    {
     "data": {
      "text/plain": [
       "0                                              no issues.\n",
       "1       purchased this for my device, it worked as adv...\n",
       "2       it works as expected. i should have sprung for...\n",
       "3       this think has worked out great.had a diff. br...\n",
       "4       bought it with retail packaging, arrived legit...\n",
       "                              ...                        \n",
       "4910    i bought this sandisk 16gb class 10 to use wit...\n",
       "4911    used this for extending the capabilities of my...\n",
       "4912    great card that is very fast and reliable. it ...\n",
       "4913    good amount of space for the stuff i want to d...\n",
       "4914    i've heard bad things about this 64gb micro sd...\n",
       "Name: reviewText, Length: 4915, dtype: object"
      ]
     },
     "execution_count": 3,
     "metadata": {},
     "output_type": "execute_result"
    }
   ],
   "source": [
    "###############################\n",
    "# Normalizing Case Folding\n",
    "###############################\n",
    "\n",
    "df['reviewText'] = df['reviewText'].str.lower()\n",
    "df['reviewText']"
   ]
  },
  {
   "cell_type": "code",
   "execution_count": 4,
   "id": "cf57af60",
   "metadata": {
    "execution": {
     "iopub.execute_input": "2022-02-13T18:03:18.644593Z",
     "iopub.status.busy": "2022-02-13T18:03:18.644003Z",
     "iopub.status.idle": "2022-02-13T18:03:18.680941Z",
     "shell.execute_reply": "2022-02-13T18:03:18.681455Z",
     "shell.execute_reply.started": "2022-02-13T17:45:34.315488Z"
    },
    "papermill": {
     "duration": 0.071228,
     "end_time": "2022-02-13T18:03:18.681622",
     "exception": false,
     "start_time": "2022-02-13T18:03:18.610394",
     "status": "completed"
    },
    "tags": []
   },
   "outputs": [
    {
     "data": {
      "text/plain": [
       "0                                               no issues\n",
       "1       purchased this for my device it worked as adve...\n",
       "2       it works as expected i should have sprung for ...\n",
       "3       this think has worked out greathad a diff bran...\n",
       "4       bought it with retail packaging arrived legit ...\n",
       "                              ...                        \n",
       "4910    i bought this sandisk 16gb class 10 to use wit...\n",
       "4911    used this for extending the capabilities of my...\n",
       "4912    great card that is very fast and reliable it c...\n",
       "4913    good amount of space for the stuff i want to d...\n",
       "4914    ive heard bad things about this 64gb micro sd ...\n",
       "Name: reviewText, Length: 4915, dtype: object"
      ]
     },
     "execution_count": 4,
     "metadata": {},
     "output_type": "execute_result"
    }
   ],
   "source": [
    "###############################\n",
    "# Punctuations\n",
    "###############################\n",
    "\n",
    "df['reviewText'] = df['reviewText'].str.replace('[^\\w\\s]', '')\n",
    "df['reviewText']"
   ]
  },
  {
   "cell_type": "code",
   "execution_count": 5,
   "id": "6b75d2eb",
   "metadata": {
    "execution": {
     "iopub.execute_input": "2022-02-13T18:03:18.749014Z",
     "iopub.status.busy": "2022-02-13T18:03:18.748420Z",
     "iopub.status.idle": "2022-02-13T18:03:18.772189Z",
     "shell.execute_reply": "2022-02-13T18:03:18.772639Z",
     "shell.execute_reply.started": "2022-02-13T17:45:40.116396Z"
    },
    "papermill": {
     "duration": 0.058452,
     "end_time": "2022-02-13T18:03:18.772804",
     "exception": false,
     "start_time": "2022-02-13T18:03:18.714352",
     "status": "completed"
    },
    "tags": []
   },
   "outputs": [
    {
     "data": {
      "text/plain": [
       "0                                               no issues\n",
       "1       purchased this for my device it worked as adve...\n",
       "2       it works as expected i should have sprung for ...\n",
       "3       this think has worked out greathad a diff bran...\n",
       "4       bought it with retail packaging arrived legit ...\n",
       "                              ...                        \n",
       "4910    i bought this sandisk gb class  to use with my...\n",
       "4911    used this for extending the capabilities of my...\n",
       "4912    great card that is very fast and reliable it c...\n",
       "4913    good amount of space for the stuff i want to d...\n",
       "4914    ive heard bad things about this gb micro sd ca...\n",
       "Name: reviewText, Length: 4915, dtype: object"
      ]
     },
     "execution_count": 5,
     "metadata": {},
     "output_type": "execute_result"
    }
   ],
   "source": [
    "###############################\n",
    "# Numbers\n",
    "###############################\n",
    "\n",
    "df['reviewText'] = df['reviewText'].str.replace('\\d', '')\n",
    "df['reviewText']"
   ]
  },
  {
   "cell_type": "code",
   "execution_count": 6,
   "id": "63f04807",
   "metadata": {
    "execution": {
     "iopub.execute_input": "2022-02-13T18:03:18.841209Z",
     "iopub.status.busy": "2022-02-13T18:03:18.840570Z",
     "iopub.status.idle": "2022-02-13T18:03:19.215398Z",
     "shell.execute_reply": "2022-02-13T18:03:19.215956Z",
     "shell.execute_reply.started": "2022-02-13T17:45:45.265637Z"
    },
    "papermill": {
     "duration": 0.411226,
     "end_time": "2022-02-13T18:03:19.216156",
     "exception": false,
     "start_time": "2022-02-13T18:03:18.804930",
     "status": "completed"
    },
    "tags": []
   },
   "outputs": [
    {
     "data": {
      "text/plain": [
       "0                                                  issues\n",
       "1       purchased device worked advertised never much ...\n",
       "2       works expected sprung higher capacity think ma...\n",
       "3       think worked greathad diff bran gb card went s...\n",
       "4       bought retail packaging arrived legit orange e...\n",
       "                              ...                        \n",
       "4910    bought sandisk gb class use htc inspire months...\n",
       "4911    used extending capabilities samsung galaxy not...\n",
       "4912    great card fast reliable comes optional adapte...\n",
       "4913          good amount space stuff want fits gopro say\n",
       "4914    ive heard bad things gb micro sd card crapping...\n",
       "Name: reviewText, Length: 4915, dtype: object"
      ]
     },
     "execution_count": 6,
     "metadata": {},
     "output_type": "execute_result"
    }
   ],
   "source": [
    "###############################\n",
    "# Stopwords\n",
    "###############################\n",
    "\n",
    "import nltk\n",
    "# nltk.download('stopwords')\n",
    "\n",
    "sw = stopwords.words('english')\n",
    "\n",
    "df['reviewText'] = df['reviewText'].apply(lambda x: \" \".join(x for x in str(x).split() if x not in sw))\n",
    "df['reviewText']"
   ]
  },
  {
   "cell_type": "code",
   "execution_count": 7,
   "id": "1257a106",
   "metadata": {
    "execution": {
     "iopub.execute_input": "2022-02-13T18:03:19.284887Z",
     "iopub.status.busy": "2022-02-13T18:03:19.284273Z",
     "iopub.status.idle": "2022-02-13T18:03:19.457699Z",
     "shell.execute_reply": "2022-02-13T18:03:19.458211Z",
     "shell.execute_reply.started": "2022-02-13T17:45:51.630962Z"
    },
    "papermill": {
     "duration": 0.208783,
     "end_time": "2022-02-13T18:03:19.458384",
     "exception": false,
     "start_time": "2022-02-13T18:03:19.249601",
     "status": "completed"
    },
    "tags": []
   },
   "outputs": [
    {
     "data": {
      "text/plain": [
       "0                                                  issues\n",
       "1       purchased device worked advertised never much ...\n",
       "2       works expected higher capacity think made bit ...\n",
       "3       think worked gb card went south one held prett...\n",
       "4       bought retail packaging arrived legit envelope...\n",
       "                              ...                        \n",
       "4910    bought sandisk gb class use htc inspire months...\n",
       "4911    used capabilities samsung galaxy note greatly ...\n",
       "4912    great card fast reliable comes optional adapte...\n",
       "4913          good amount space stuff want fits gopro say\n",
       "4914    ive heard bad things gb micro sd card crapping...\n",
       "Name: reviewText, Length: 4915, dtype: object"
      ]
     },
     "execution_count": 7,
     "metadata": {},
     "output_type": "execute_result"
    }
   ],
   "source": [
    "###############################\n",
    "# Rarewords\n",
    "###############################\n",
    "\n",
    "temp_df = pd.Series(' '.join(df['reviewText']).split()).value_counts()\n",
    "\n",
    "drops = temp_df[temp_df <= 1]\n",
    "\n",
    "df['reviewText'] = df['reviewText'].apply(lambda x: \" \".join(x for x in x.split() if x not in drops))\n",
    "df['reviewText']"
   ]
  },
  {
   "cell_type": "code",
   "execution_count": 8,
   "id": "982de8f2",
   "metadata": {
    "execution": {
     "iopub.execute_input": "2022-02-13T18:03:19.527897Z",
     "iopub.status.busy": "2022-02-13T18:03:19.526942Z",
     "iopub.status.idle": "2022-02-13T18:03:21.332086Z",
     "shell.execute_reply": "2022-02-13T18:03:21.331476Z",
     "shell.execute_reply.started": "2022-02-13T17:46:12.665709Z"
    },
    "papermill": {
     "duration": 1.840997,
     "end_time": "2022-02-13T18:03:21.332246",
     "exception": false,
     "start_time": "2022-02-13T18:03:19.491249",
     "status": "completed"
    },
    "tags": []
   },
   "outputs": [
    {
     "name": "stdout",
     "output_type": "stream",
     "text": [
      "[nltk_data] Downloading package punkt to /usr/share/nltk_data...\n",
      "[nltk_data]   Package punkt is already up-to-date!\n"
     ]
    },
    {
     "data": {
      "text/plain": [
       "0                                                  issues\n",
       "1       purchased device worked advertised never much ...\n",
       "2       works expected higher capacity think made bit ...\n",
       "3       think worked gb card went south one held prett...\n",
       "4       bought retail packaging arrived legit envelope...\n",
       "                              ...                        \n",
       "4910    bought sandisk gb class use htc inspire months...\n",
       "4911    used capabilities samsung galaxy note greatly ...\n",
       "4912    great card fast reliable comes optional adapte...\n",
       "4913          good amount space stuff want fits gopro say\n",
       "4914    ive heard bad things gb micro sd card crapping...\n",
       "Name: reviewText, Length: 4915, dtype: object"
      ]
     },
     "execution_count": 8,
     "metadata": {},
     "output_type": "execute_result"
    }
   ],
   "source": [
    "###############################\n",
    "# Tokenization\n",
    "###############################\n",
    "\n",
    "nltk.download(\"punkt\")\n",
    "\n",
    "df[\"reviewText\"].apply(lambda x: TextBlob(x).words).head()\n",
    "df['reviewText']"
   ]
  },
  {
   "cell_type": "code",
   "execution_count": 9,
   "id": "2021b631",
   "metadata": {
    "execution": {
     "iopub.execute_input": "2022-02-13T18:03:21.403551Z",
     "iopub.status.busy": "2022-02-13T18:03:21.402557Z",
     "iopub.status.idle": "2022-02-13T18:03:23.786081Z",
     "shell.execute_reply": "2022-02-13T18:03:23.786634Z",
     "shell.execute_reply.started": "2022-02-13T17:46:24.870070Z"
    },
    "papermill": {
     "duration": 2.421078,
     "end_time": "2022-02-13T18:03:23.786803",
     "exception": false,
     "start_time": "2022-02-13T18:03:21.365725",
     "status": "completed"
    },
    "tags": []
   },
   "outputs": [
    {
     "name": "stdout",
     "output_type": "stream",
     "text": [
      "[nltk_data] Downloading package wordnet to /usr/share/nltk_data...\n",
      "[nltk_data]   Package wordnet is already up-to-date!\n"
     ]
    },
    {
     "data": {
      "text/plain": [
       "0                                                   issue\n",
       "1       purchased device worked advertised never much ...\n",
       "2       work expected higher capacity think made bit e...\n",
       "3       think worked gb card went south one held prett...\n",
       "4       bought retail packaging arrived legit envelope...\n",
       "                              ...                        \n",
       "4910    bought sandisk gb class use htc inspire month ...\n",
       "4911    used capability samsung galaxy note greatly ex...\n",
       "4912    great card fast reliable come optional adapter...\n",
       "4913           good amount space stuff want fit gopro say\n",
       "4914    ive heard bad thing gb micro sd card crapping ...\n",
       "Name: reviewText, Length: 4915, dtype: object"
      ]
     },
     "execution_count": 9,
     "metadata": {},
     "output_type": "execute_result"
    }
   ],
   "source": [
    "###############################\n",
    "# Lemmatization\n",
    "###############################\n",
    "\n",
    "nltk.download('wordnet')\n",
    "df['reviewText'] = df['reviewText'].apply(lambda x: \" \".join([Word(word).lemmatize() for word in x.split()]))\n",
    "df['reviewText']"
   ]
  },
  {
   "cell_type": "code",
   "execution_count": 10,
   "id": "de327611",
   "metadata": {
    "_cell_guid": "c233d77a-64cf-44cd-a82b-54275631ddbf",
    "_uuid": "369d98f6-ce90-466d-9c2a-0eb711fc5a3d",
    "collapsed": false,
    "execution": {
     "iopub.execute_input": "2022-02-13T18:03:23.858977Z",
     "iopub.status.busy": "2022-02-13T18:03:23.858403Z",
     "iopub.status.idle": "2022-02-13T18:03:23.864021Z",
     "shell.execute_reply": "2022-02-13T18:03:23.864595Z",
     "shell.execute_reply.started": "2022-02-13T17:46:48.267779Z"
    },
    "jupyter": {
     "outputs_hidden": false
    },
    "papermill": {
     "duration": 0.042727,
     "end_time": "2022-02-13T18:03:23.864759",
     "exception": false,
     "start_time": "2022-02-13T18:03:23.822032",
     "status": "completed"
    },
    "tags": []
   },
   "outputs": [
    {
     "data": {
      "text/plain": [
       "0                                                issue\n",
       "1    purchased device worked advertised never much ...\n",
       "2    work expected higher capacity think made bit e...\n",
       "3    think worked gb card went south one held prett...\n",
       "4    bought retail packaging arrived legit envelope...\n",
       "Name: reviewText, dtype: object"
      ]
     },
     "execution_count": 10,
     "metadata": {},
     "output_type": "execute_result"
    }
   ],
   "source": [
    "##################################################\n",
    "# 2. Sentiment Analysis\n",
    "##################################################\n",
    "\n",
    "df[\"reviewText\"].head()"
   ]
  },
  {
   "cell_type": "code",
   "execution_count": 11,
   "id": "d7a54f4b",
   "metadata": {
    "_cell_guid": "c233d77a-64cf-44cd-a82b-54275631ddbf",
    "_uuid": "369d98f6-ce90-466d-9c2a-0eb711fc5a3d",
    "collapsed": false,
    "execution": {
     "iopub.execute_input": "2022-02-13T18:03:23.936215Z",
     "iopub.status.busy": "2022-02-13T18:03:23.935646Z",
     "iopub.status.idle": "2022-02-13T18:03:23.965978Z",
     "shell.execute_reply": "2022-02-13T18:03:23.965546Z",
     "shell.execute_reply.started": "2022-02-13T17:46:59.419922Z"
    },
    "jupyter": {
     "outputs_hidden": false
    },
    "papermill": {
     "duration": 0.067381,
     "end_time": "2022-02-13T18:03:23.966129",
     "exception": false,
     "start_time": "2022-02-13T18:03:23.898748",
     "status": "completed"
    },
    "tags": []
   },
   "outputs": [
    {
     "name": "stdout",
     "output_type": "stream",
     "text": [
      "[nltk_data] Downloading package vader_lexicon to\n",
      "[nltk_data]     /usr/share/nltk_data...\n",
      "[nltk_data]   Package vader_lexicon is already up-to-date!\n"
     ]
    },
    {
     "data": {
      "text/plain": [
       "0    {'neg': 0.0, 'neu': 1.0, 'pos': 0.0, 'compound...\n",
       "1    {'neg': 0.0, 'neu': 1.0, 'pos': 0.0, 'compound...\n",
       "2    {'neg': 0.0, 'neu': 0.803, 'pos': 0.197, 'comp...\n",
       "3    {'neg': 0.0, 'neu': 0.798, 'pos': 0.202, 'comp...\n",
       "4    {'neg': 0.0, 'neu': 0.747, 'pos': 0.253, 'comp...\n",
       "5    {'neg': 0.0, 'neu': 1.0, 'pos': 0.0, 'compound...\n",
       "6    {'neg': 0.108, 'neu': 0.598, 'pos': 0.295, 'co...\n",
       "7    {'neg': 0.077, 'neu': 0.65, 'pos': 0.272, 'com...\n",
       "8    {'neg': 0.0, 'neu': 1.0, 'pos': 0.0, 'compound...\n",
       "9    {'neg': 0.0, 'neu': 0.457, 'pos': 0.543, 'comp...\n",
       "Name: reviewText, dtype: object"
      ]
     },
     "execution_count": 11,
     "metadata": {},
     "output_type": "execute_result"
    }
   ],
   "source": [
    "nltk.download('vader_lexicon')\n",
    "\n",
    "sia = SentimentIntensityAnalyzer()\n",
    "sia.polarity_scores(\"The film was awesome\")\n",
    "\n",
    "\n",
    "sia.polarity_scores(\"I liked this music but it is not good as the other one\")\n",
    "\n",
    "\n",
    "df[\"reviewText\"][0:10].apply(lambda x: sia.polarity_scores(x))"
   ]
  },
  {
   "cell_type": "code",
   "execution_count": 12,
   "id": "952dfa26",
   "metadata": {
    "_cell_guid": "c233d77a-64cf-44cd-a82b-54275631ddbf",
    "_uuid": "369d98f6-ce90-466d-9c2a-0eb711fc5a3d",
    "collapsed": false,
    "execution": {
     "iopub.execute_input": "2022-02-13T18:03:24.046907Z",
     "iopub.status.busy": "2022-02-13T18:03:24.045965Z",
     "iopub.status.idle": "2022-02-13T18:03:24.050153Z",
     "shell.execute_reply": "2022-02-13T18:03:24.050645Z",
     "shell.execute_reply.started": "2022-02-13T17:47:06.884995Z"
    },
    "jupyter": {
     "outputs_hidden": false
    },
    "papermill": {
     "duration": 0.049586,
     "end_time": "2022-02-13T18:03:24.050854",
     "exception": false,
     "start_time": "2022-02-13T18:03:24.001268",
     "status": "completed"
    },
    "tags": []
   },
   "outputs": [
    {
     "data": {
      "text/plain": [
       "0   0.00\n",
       "1   0.00\n",
       "2   0.40\n",
       "3   0.65\n",
       "4   0.86\n",
       "5   0.00\n",
       "6   0.87\n",
       "7   0.82\n",
       "8   0.00\n",
       "9   0.92\n",
       "Name: reviewText, dtype: float64"
      ]
     },
     "execution_count": 12,
     "metadata": {},
     "output_type": "execute_result"
    }
   ],
   "source": [
    "df[\"reviewText\"][0:10].apply(lambda x: sia.polarity_scores(x)[\"compound\"])"
   ]
  },
  {
   "cell_type": "code",
   "execution_count": 13,
   "id": "b812b534",
   "metadata": {
    "_cell_guid": "c233d77a-64cf-44cd-a82b-54275631ddbf",
    "_uuid": "369d98f6-ce90-466d-9c2a-0eb711fc5a3d",
    "collapsed": false,
    "execution": {
     "iopub.execute_input": "2022-02-13T18:03:24.151527Z",
     "iopub.status.busy": "2022-02-13T18:03:24.150570Z",
     "iopub.status.idle": "2022-02-13T18:03:25.698814Z",
     "shell.execute_reply": "2022-02-13T18:03:25.698294Z",
     "shell.execute_reply.started": "2022-02-13T17:47:21.350390Z"
    },
    "jupyter": {
     "outputs_hidden": false
    },
    "papermill": {
     "duration": 1.600527,
     "end_time": "2022-02-13T18:03:25.698954",
     "exception": false,
     "start_time": "2022-02-13T18:03:24.098427",
     "status": "completed"
    },
    "tags": []
   },
   "outputs": [
    {
     "data": {
      "text/plain": [
       "0      0.00\n",
       "1      0.00\n",
       "2      0.40\n",
       "3      0.65\n",
       "4      0.86\n",
       "       ... \n",
       "4910   0.08\n",
       "4911   0.18\n",
       "4912   0.85\n",
       "4913   0.69\n",
       "4914   0.53\n",
       "Name: polarity_score, Length: 4915, dtype: float64"
      ]
     },
     "execution_count": 13,
     "metadata": {},
     "output_type": "execute_result"
    }
   ],
   "source": [
    "df[\"polarity_score\"] = df[\"reviewText\"].apply(lambda x: sia.polarity_scores(x)[\"compound\"])\n",
    "df[\"polarity_score\"]"
   ]
  },
  {
   "cell_type": "code",
   "execution_count": 14,
   "id": "99025d4b",
   "metadata": {
    "_cell_guid": "c233d77a-64cf-44cd-a82b-54275631ddbf",
    "_uuid": "369d98f6-ce90-466d-9c2a-0eb711fc5a3d",
    "collapsed": false,
    "execution": {
     "iopub.execute_input": "2022-02-13T18:03:25.778393Z",
     "iopub.status.busy": "2022-02-13T18:03:25.777673Z",
     "iopub.status.idle": "2022-02-13T18:03:25.782591Z",
     "shell.execute_reply": "2022-02-13T18:03:25.782967Z",
     "shell.execute_reply.started": "2022-02-13T17:48:30.495580Z"
    },
    "jupyter": {
     "outputs_hidden": false
    },
    "papermill": {
     "duration": 0.04932,
     "end_time": "2022-02-13T18:03:25.783183",
     "exception": false,
     "start_time": "2022-02-13T18:03:25.733863",
     "status": "completed"
    },
    "tags": []
   },
   "outputs": [
    {
     "data": {
      "text/plain": [
       "0    neg\n",
       "1    neg\n",
       "2    pos\n",
       "3    pos\n",
       "4    pos\n",
       "5    neg\n",
       "6    pos\n",
       "7    pos\n",
       "8    neg\n",
       "9    pos\n",
       "Name: reviewText, dtype: object"
      ]
     },
     "execution_count": 14,
     "metadata": {},
     "output_type": "execute_result"
    }
   ],
   "source": [
    "###############################\n",
    "# 3. Feature Engineering\n",
    "###############################\n",
    "\n",
    "df[\"reviewText\"][0:10].apply(lambda x: \"pos\" if sia.polarity_scores(x)[\"compound\"] > 0 else \"neg\")"
   ]
  },
  {
   "cell_type": "code",
   "execution_count": 15,
   "id": "d04defcf",
   "metadata": {
    "_cell_guid": "c233d77a-64cf-44cd-a82b-54275631ddbf",
    "_uuid": "369d98f6-ce90-466d-9c2a-0eb711fc5a3d",
    "collapsed": false,
    "execution": {
     "iopub.execute_input": "2022-02-13T18:03:25.858584Z",
     "iopub.status.busy": "2022-02-13T18:03:25.857685Z",
     "iopub.status.idle": "2022-02-13T18:03:27.388813Z",
     "shell.execute_reply": "2022-02-13T18:03:27.389296Z",
     "shell.execute_reply.started": "2022-02-13T17:48:43.568240Z"
    },
    "jupyter": {
     "outputs_hidden": false
    },
    "papermill": {
     "duration": 1.570145,
     "end_time": "2022-02-13T18:03:27.389473",
     "exception": false,
     "start_time": "2022-02-13T18:03:25.819328",
     "status": "completed"
    },
    "tags": []
   },
   "outputs": [
    {
     "data": {
      "text/plain": [
       "0       neg\n",
       "1       neg\n",
       "2       pos\n",
       "3       pos\n",
       "4       pos\n",
       "       ... \n",
       "4910    pos\n",
       "4911    pos\n",
       "4912    pos\n",
       "4913    pos\n",
       "4914    pos\n",
       "Name: sentiment_label, Length: 4915, dtype: object"
      ]
     },
     "execution_count": 15,
     "metadata": {},
     "output_type": "execute_result"
    }
   ],
   "source": [
    "df[\"sentiment_label\"] = df[\"reviewText\"].apply(lambda x: \"pos\" if sia.polarity_scores(x)[\"compound\"] > 0 else \"neg\")\n",
    "df[\"sentiment_label\"] "
   ]
  },
  {
   "cell_type": "code",
   "execution_count": 16,
   "id": "2d650606",
   "metadata": {
    "_cell_guid": "c233d77a-64cf-44cd-a82b-54275631ddbf",
    "_uuid": "369d98f6-ce90-466d-9c2a-0eb711fc5a3d",
    "collapsed": false,
    "execution": {
     "iopub.execute_input": "2022-02-13T18:03:27.466949Z",
     "iopub.status.busy": "2022-02-13T18:03:27.465967Z",
     "iopub.status.idle": "2022-02-13T18:03:27.473804Z",
     "shell.execute_reply": "2022-02-13T18:03:27.473332Z",
     "shell.execute_reply.started": "2022-02-13T17:48:48.528685Z"
    },
    "jupyter": {
     "outputs_hidden": false
    },
    "papermill": {
     "duration": 0.047839,
     "end_time": "2022-02-13T18:03:27.473943",
     "exception": false,
     "start_time": "2022-02-13T18:03:27.426104",
     "status": "completed"
    },
    "tags": []
   },
   "outputs": [
    {
     "data": {
      "text/plain": [
       "pos    3944\n",
       "neg     971\n",
       "Name: sentiment_label, dtype: int64"
      ]
     },
     "execution_count": 16,
     "metadata": {},
     "output_type": "execute_result"
    }
   ],
   "source": [
    "df[\"sentiment_label\"].value_counts()"
   ]
  },
  {
   "cell_type": "code",
   "execution_count": 17,
   "id": "1ef49636",
   "metadata": {
    "_cell_guid": "c233d77a-64cf-44cd-a82b-54275631ddbf",
    "_uuid": "369d98f6-ce90-466d-9c2a-0eb711fc5a3d",
    "collapsed": false,
    "execution": {
     "iopub.execute_input": "2022-02-13T18:03:27.558530Z",
     "iopub.status.busy": "2022-02-13T18:03:27.551914Z",
     "iopub.status.idle": "2022-02-13T18:03:27.560984Z",
     "shell.execute_reply": "2022-02-13T18:03:27.561403Z",
     "shell.execute_reply.started": "2022-02-13T17:48:51.603959Z"
    },
    "jupyter": {
     "outputs_hidden": false
    },
    "papermill": {
     "duration": 0.050699,
     "end_time": "2022-02-13T18:03:27.561576",
     "exception": false,
     "start_time": "2022-02-13T18:03:27.510877",
     "status": "completed"
    },
    "tags": []
   },
   "outputs": [
    {
     "data": {
      "text/plain": [
       "sentiment_label\n",
       "neg   4.09\n",
       "pos   4.71\n",
       "Name: overall, dtype: float64"
      ]
     },
     "execution_count": 17,
     "metadata": {},
     "output_type": "execute_result"
    }
   ],
   "source": [
    "df.groupby(\"sentiment_label\")[\"overall\"].mean()"
   ]
  },
  {
   "cell_type": "code",
   "execution_count": 18,
   "id": "a316e853",
   "metadata": {
    "_cell_guid": "c233d77a-64cf-44cd-a82b-54275631ddbf",
    "_uuid": "369d98f6-ce90-466d-9c2a-0eb711fc5a3d",
    "collapsed": false,
    "execution": {
     "iopub.execute_input": "2022-02-13T18:03:27.641844Z",
     "iopub.status.busy": "2022-02-13T18:03:27.641201Z",
     "iopub.status.idle": "2022-02-13T18:03:27.643270Z",
     "shell.execute_reply": "2022-02-13T18:03:27.643676Z",
     "shell.execute_reply.started": "2022-02-13T17:49:00.444253Z"
    },
    "jupyter": {
     "outputs_hidden": false
    },
    "papermill": {
     "duration": 0.045369,
     "end_time": "2022-02-13T18:03:27.643846",
     "exception": false,
     "start_time": "2022-02-13T18:03:27.598477",
     "status": "completed"
    },
    "tags": []
   },
   "outputs": [],
   "source": [
    "df[\"sentiment_label\"] = LabelEncoder().fit_transform(df[\"sentiment_label\"])\n",
    "\n",
    "y = df[\"sentiment_label\"]\n",
    "X = df[\"reviewText\"]"
   ]
  },
  {
   "cell_type": "code",
   "execution_count": 19,
   "id": "75f192e6",
   "metadata": {
    "_cell_guid": "c233d77a-64cf-44cd-a82b-54275631ddbf",
    "_uuid": "369d98f6-ce90-466d-9c2a-0eb711fc5a3d",
    "collapsed": false,
    "execution": {
     "iopub.execute_input": "2022-02-13T18:03:27.726681Z",
     "iopub.status.busy": "2022-02-13T18:03:27.721939Z",
     "iopub.status.idle": "2022-02-13T18:03:27.729284Z",
     "shell.execute_reply": "2022-02-13T18:03:27.729785Z",
     "shell.execute_reply.started": "2022-02-13T17:49:05.048874Z"
    },
    "jupyter": {
     "outputs_hidden": false
    },
    "papermill": {
     "duration": 0.048008,
     "end_time": "2022-02-13T18:03:27.729947",
     "exception": false,
     "start_time": "2022-02-13T18:03:27.681939",
     "status": "completed"
    },
    "tags": []
   },
   "outputs": [
    {
     "data": {
      "text/plain": [
       "[WordList(['Bu', 'örneği', 'anlaşılabilmesi']),\n",
       " WordList(['örneği', 'anlaşılabilmesi', 'için']),\n",
       " WordList(['anlaşılabilmesi', 'için', 'daha']),\n",
       " WordList(['için', 'daha', 'uzun']),\n",
       " WordList(['daha', 'uzun', 'bir']),\n",
       " WordList(['uzun', 'bir', 'metin']),\n",
       " WordList(['bir', 'metin', 'üzerinden']),\n",
       " WordList(['metin', 'üzerinden', 'göstereceğim']),\n",
       " WordList(['üzerinden', 'göstereceğim', \"N-gram'lar\"]),\n",
       " WordList(['göstereceğim', \"N-gram'lar\", 'birlikte']),\n",
       " WordList([\"N-gram'lar\", 'birlikte', 'kullanılan']),\n",
       " WordList(['birlikte', 'kullanılan', 'kelimelerin']),\n",
       " WordList(['kullanılan', 'kelimelerin', 'kombinasyolarını']),\n",
       " WordList(['kelimelerin', 'kombinasyolarını', 'gösterir']),\n",
       " WordList(['kombinasyolarını', 'gösterir', 've']),\n",
       " WordList(['gösterir', 've', 'feature']),\n",
       " WordList(['ve', 'feature', 'üretmek']),\n",
       " WordList(['feature', 'üretmek', 'için']),\n",
       " WordList(['üretmek', 'için', 'kullanılır'])]"
      ]
     },
     "execution_count": 19,
     "metadata": {},
     "output_type": "execute_result"
    }
   ],
   "source": [
    "###############################\n",
    "# Count Vectors\n",
    "###############################\n",
    "\n",
    "# ngram\n",
    "a = \"\"\"Bu örneği anlaşılabilmesi için daha uzun bir metin üzerinden göstereceğim.\n",
    "N-gram'lar birlikte kullanılan kelimelerin kombinasyolarını gösterir ve feature üretmek için kullanılır\"\"\"\n",
    "\n",
    "TextBlob(a).ngrams(3)"
   ]
  },
  {
   "cell_type": "code",
   "execution_count": 20,
   "id": "d8caffef",
   "metadata": {
    "_cell_guid": "c233d77a-64cf-44cd-a82b-54275631ddbf",
    "_uuid": "369d98f6-ce90-466d-9c2a-0eb711fc5a3d",
    "collapsed": false,
    "execution": {
     "iopub.execute_input": "2022-02-13T18:03:27.807118Z",
     "iopub.status.busy": "2022-02-13T18:03:27.806523Z",
     "iopub.status.idle": "2022-02-13T18:03:27.810223Z",
     "shell.execute_reply": "2022-02-13T18:03:27.810682Z",
     "shell.execute_reply.started": "2022-02-13T17:49:32.743412Z"
    },
    "jupyter": {
     "outputs_hidden": false
    },
    "papermill": {
     "duration": 0.043672,
     "end_time": "2022-02-13T18:03:27.810849",
     "exception": false,
     "start_time": "2022-02-13T18:03:27.767177",
     "status": "completed"
    },
    "tags": []
   },
   "outputs": [],
   "source": [
    "###############################\n",
    "# Count Vectors\n",
    "###############################\n",
    "\n",
    "from sklearn.feature_extraction.text import CountVectorizer\n",
    "\n",
    "corpus = ['This is the first document.',\n",
    "          'This document is the second document.',\n",
    "          'And this is the third one.',\n",
    "          'Is this the first document?']"
   ]
  },
  {
   "cell_type": "code",
   "execution_count": 21,
   "id": "36c2afa7",
   "metadata": {
    "_cell_guid": "c233d77a-64cf-44cd-a82b-54275631ddbf",
    "_uuid": "369d98f6-ce90-466d-9c2a-0eb711fc5a3d",
    "collapsed": false,
    "execution": {
     "iopub.execute_input": "2022-02-13T18:03:27.887782Z",
     "iopub.status.busy": "2022-02-13T18:03:27.887212Z",
     "iopub.status.idle": "2022-02-13T18:03:27.896747Z",
     "shell.execute_reply": "2022-02-13T18:03:27.897316Z",
     "shell.execute_reply.started": "2022-02-13T17:49:40.956868Z"
    },
    "jupyter": {
     "outputs_hidden": false
    },
    "papermill": {
     "duration": 0.049888,
     "end_time": "2022-02-13T18:03:27.897539",
     "exception": false,
     "start_time": "2022-02-13T18:03:27.847651",
     "status": "completed"
    },
    "tags": []
   },
   "outputs": [
    {
     "data": {
      "text/plain": [
       "array([[0, 1, 1, 1, 0, 0, 1, 0, 1],\n",
       "       [0, 2, 0, 1, 0, 1, 1, 0, 1],\n",
       "       [1, 0, 0, 1, 1, 0, 1, 1, 1],\n",
       "       [0, 1, 1, 1, 0, 0, 1, 0, 1]])"
      ]
     },
     "execution_count": 21,
     "metadata": {},
     "output_type": "execute_result"
    }
   ],
   "source": [
    "# word \n",
    "vectorizer = CountVectorizer()\n",
    "X_c = vectorizer.fit_transform(corpus)\n",
    "vectorizer.get_feature_names()\n",
    "X_c.toarray()"
   ]
  },
  {
   "cell_type": "code",
   "execution_count": 22,
   "id": "e04b36da",
   "metadata": {
    "_cell_guid": "c233d77a-64cf-44cd-a82b-54275631ddbf",
    "_uuid": "369d98f6-ce90-466d-9c2a-0eb711fc5a3d",
    "collapsed": false,
    "execution": {
     "iopub.execute_input": "2022-02-13T18:03:27.988335Z",
     "iopub.status.busy": "2022-02-13T18:03:27.987336Z",
     "iopub.status.idle": "2022-02-13T18:03:27.995485Z",
     "shell.execute_reply": "2022-02-13T18:03:27.996024Z",
     "shell.execute_reply.started": "2022-02-13T17:50:02.620695Z"
    },
    "jupyter": {
     "outputs_hidden": false
    },
    "papermill": {
     "duration": 0.061293,
     "end_time": "2022-02-13T18:03:27.996224",
     "exception": false,
     "start_time": "2022-02-13T18:03:27.934931",
     "status": "completed"
    },
    "tags": []
   },
   "outputs": [
    {
     "data": {
      "text/plain": [
       "array([[0, 0, 1, 1, 0, 0, 1, 0, 0, 0, 0, 1, 0],\n",
       "       [0, 1, 0, 1, 0, 1, 0, 1, 0, 0, 1, 0, 0],\n",
       "       [1, 0, 0, 1, 0, 0, 0, 0, 1, 1, 0, 1, 0],\n",
       "       [0, 0, 1, 0, 1, 0, 1, 0, 0, 0, 0, 0, 1]])"
      ]
     },
     "execution_count": 22,
     "metadata": {},
     "output_type": "execute_result"
    }
   ],
   "source": [
    "# n-gram \n",
    "vectorizer2 = CountVectorizer(analyzer='word', ngram_range=(2, 2))\n",
    "X_n = vectorizer2.fit_transform(corpus)\n",
    "vectorizer2.get_feature_names()\n",
    "X_n.toarray()"
   ]
  },
  {
   "cell_type": "code",
   "execution_count": 23,
   "id": "11300436",
   "metadata": {
    "_cell_guid": "c233d77a-64cf-44cd-a82b-54275631ddbf",
    "_uuid": "369d98f6-ce90-466d-9c2a-0eb711fc5a3d",
    "collapsed": false,
    "execution": {
     "iopub.execute_input": "2022-02-13T18:03:28.101867Z",
     "iopub.status.busy": "2022-02-13T18:03:28.100897Z",
     "iopub.status.idle": "2022-02-13T18:03:28.200405Z",
     "shell.execute_reply": "2022-02-13T18:03:28.199814Z",
     "shell.execute_reply.started": "2022-02-13T17:50:18.153381Z"
    },
    "jupyter": {
     "outputs_hidden": false
    },
    "papermill": {
     "duration": 0.151147,
     "end_time": "2022-02-13T18:03:28.200552",
     "exception": false,
     "start_time": "2022-02-13T18:03:28.049405",
     "status": "completed"
    },
    "tags": []
   },
   "outputs": [],
   "source": [
    "vectorizer = CountVectorizer()\n",
    "X_count = vectorizer.fit_transform(X)"
   ]
  },
  {
   "cell_type": "code",
   "execution_count": 24,
   "id": "ec4f4926",
   "metadata": {
    "_cell_guid": "c233d77a-64cf-44cd-a82b-54275631ddbf",
    "_uuid": "369d98f6-ce90-466d-9c2a-0eb711fc5a3d",
    "collapsed": false,
    "execution": {
     "iopub.execute_input": "2022-02-13T18:03:28.283395Z",
     "iopub.status.busy": "2022-02-13T18:03:28.282743Z",
     "iopub.status.idle": "2022-02-13T18:03:28.285191Z",
     "shell.execute_reply": "2022-02-13T18:03:28.285619Z",
     "shell.execute_reply.started": "2022-02-13T17:50:36.508819Z"
    },
    "jupyter": {
     "outputs_hidden": false
    },
    "papermill": {
     "duration": 0.047533,
     "end_time": "2022-02-13T18:03:28.285782",
     "exception": false,
     "start_time": "2022-02-13T18:03:28.238249",
     "status": "completed"
    },
    "tags": []
   },
   "outputs": [
    {
     "data": {
      "text/plain": [
       "['access', 'accessed', 'accessible', 'accessing', 'accessory']"
      ]
     },
     "execution_count": 24,
     "metadata": {},
     "output_type": "execute_result"
    }
   ],
   "source": [
    "vectorizer.get_feature_names()[10:15]"
   ]
  },
  {
   "cell_type": "code",
   "execution_count": 25,
   "id": "f3b3a862",
   "metadata": {
    "_cell_guid": "c233d77a-64cf-44cd-a82b-54275631ddbf",
    "_uuid": "369d98f6-ce90-466d-9c2a-0eb711fc5a3d",
    "collapsed": false,
    "execution": {
     "iopub.execute_input": "2022-02-13T18:03:28.366761Z",
     "iopub.status.busy": "2022-02-13T18:03:28.366036Z",
     "iopub.status.idle": "2022-02-13T18:03:28.453320Z",
     "shell.execute_reply": "2022-02-13T18:03:28.452674Z",
     "shell.execute_reply.started": "2022-02-13T17:50:38.569076Z"
    },
    "jupyter": {
     "outputs_hidden": false
    },
    "papermill": {
     "duration": 0.129879,
     "end_time": "2022-02-13T18:03:28.453483",
     "exception": false,
     "start_time": "2022-02-13T18:03:28.323604",
     "status": "completed"
    },
    "tags": []
   },
   "outputs": [
    {
     "data": {
      "text/plain": [
       "array([[0, 0, 0, ..., 0, 0, 0],\n",
       "       [0, 0, 0, ..., 0, 0, 0],\n",
       "       [0, 0, 0, ..., 0, 0, 0],\n",
       "       [0, 0, 0, ..., 0, 0, 0],\n",
       "       [0, 0, 0, ..., 0, 0, 0]])"
      ]
     },
     "execution_count": 25,
     "metadata": {},
     "output_type": "execute_result"
    }
   ],
   "source": [
    "X_count.toarray()[10:15]"
   ]
  },
  {
   "cell_type": "code",
   "execution_count": 26,
   "id": "87e194f0",
   "metadata": {
    "_cell_guid": "c233d77a-64cf-44cd-a82b-54275631ddbf",
    "_uuid": "369d98f6-ce90-466d-9c2a-0eb711fc5a3d",
    "collapsed": false,
    "execution": {
     "iopub.execute_input": "2022-02-13T18:03:28.572008Z",
     "iopub.status.busy": "2022-02-13T18:03:28.534560Z",
     "iopub.status.idle": "2022-02-13T18:03:28.649618Z",
     "shell.execute_reply": "2022-02-13T18:03:28.649000Z",
     "shell.execute_reply.started": "2022-02-13T17:51:10.443293Z"
    },
    "jupyter": {
     "outputs_hidden": false
    },
    "papermill": {
     "duration": 0.157154,
     "end_time": "2022-02-13T18:03:28.649773",
     "exception": false,
     "start_time": "2022-02-13T18:03:28.492619",
     "status": "completed"
    },
    "tags": []
   },
   "outputs": [],
   "source": [
    "###############################\n",
    "# TF-IDF\n",
    "###############################\n",
    "\n",
    "from sklearn.feature_extraction.text import TfidfVectorizer\n",
    "tf_idf_word_vectorizer = TfidfVectorizer()\n",
    "X_tf_idf_word = tf_idf_word_vectorizer.fit_transform(X)"
   ]
  },
  {
   "cell_type": "code",
   "execution_count": 27,
   "id": "be3508a1",
   "metadata": {
    "_cell_guid": "c233d77a-64cf-44cd-a82b-54275631ddbf",
    "_uuid": "369d98f6-ce90-466d-9c2a-0eb711fc5a3d",
    "collapsed": false,
    "execution": {
     "iopub.execute_input": "2022-02-13T18:03:28.730210Z",
     "iopub.status.busy": "2022-02-13T18:03:28.729293Z",
     "iopub.status.idle": "2022-02-13T18:03:29.489189Z",
     "shell.execute_reply": "2022-02-13T18:03:29.488549Z",
     "shell.execute_reply.started": "2022-02-13T17:51:12.420363Z"
    },
    "jupyter": {
     "outputs_hidden": false
    },
    "papermill": {
     "duration": 0.801132,
     "end_time": "2022-02-13T18:03:29.489334",
     "exception": false,
     "start_time": "2022-02-13T18:03:28.688202",
     "status": "completed"
    },
    "tags": []
   },
   "outputs": [],
   "source": [
    "tf_idf_ngram_vectorizer = TfidfVectorizer(ngram_range=(2, 3))\n",
    "X_tf_idf_ngram = tf_idf_ngram_vectorizer.fit_transform(X)"
   ]
  },
  {
   "cell_type": "code",
   "execution_count": 28,
   "id": "d43f9f82",
   "metadata": {
    "_cell_guid": "c233d77a-64cf-44cd-a82b-54275631ddbf",
    "_uuid": "369d98f6-ce90-466d-9c2a-0eb711fc5a3d",
    "collapsed": false,
    "execution": {
     "iopub.execute_input": "2022-02-13T18:03:29.570195Z",
     "iopub.status.busy": "2022-02-13T18:03:29.569597Z",
     "iopub.status.idle": "2022-02-13T18:03:29.966102Z",
     "shell.execute_reply": "2022-02-13T18:03:29.965567Z",
     "shell.execute_reply.started": "2022-02-13T17:51:59.261333Z"
    },
    "jupyter": {
     "outputs_hidden": false
    },
    "papermill": {
     "duration": 0.437834,
     "end_time": "2022-02-13T18:03:29.966256",
     "exception": false,
     "start_time": "2022-02-13T18:03:29.528422",
     "status": "completed"
    },
    "tags": []
   },
   "outputs": [
    {
     "data": {
      "text/plain": [
       "0.830111902339776"
      ]
     },
     "execution_count": 28,
     "metadata": {},
     "output_type": "execute_result"
    }
   ],
   "source": [
    "###############################\n",
    "# 4. Sentiment Modeling\n",
    "###############################\n",
    "\n",
    "###############################\n",
    "# Logistic Regression\n",
    "###############################\n",
    "\n",
    "log_model = LogisticRegression().fit(X_tf_idf_word, y)\n",
    "\n",
    "cross_val_score(log_model,\n",
    "                X_tf_idf_word,\n",
    "                y,\n",
    "                scoring=\"accuracy\",\n",
    "                cv=5).mean()"
   ]
  },
  {
   "cell_type": "code",
   "execution_count": 29,
   "id": "cf655d30",
   "metadata": {
    "execution": {
     "iopub.execute_input": "2022-02-13T18:03:30.048158Z",
     "iopub.status.busy": "2022-02-13T18:03:30.047524Z",
     "iopub.status.idle": "2022-02-13T18:03:30.159361Z",
     "shell.execute_reply": "2022-02-13T18:03:30.159790Z",
     "shell.execute_reply.started": "2022-02-13T17:52:03.052566Z"
    },
    "papermill": {
     "duration": 0.154897,
     "end_time": "2022-02-13T18:03:30.159980",
     "exception": false,
     "start_time": "2022-02-13T18:03:30.005083",
     "status": "completed"
    },
    "tags": []
   },
   "outputs": [
    {
     "data": {
      "text/plain": [
       "array([1])"
      ]
     },
     "execution_count": 29,
     "metadata": {},
     "output_type": "execute_result"
    }
   ],
   "source": [
    "new_review = pd.Series(\"this product is great\")\n",
    "new_review = TfidfVectorizer().fit(X).transform(new_review)\n",
    "\n",
    "log_model.predict(new_review)"
   ]
  },
  {
   "cell_type": "code",
   "execution_count": 30,
   "id": "392fd115",
   "metadata": {
    "execution": {
     "iopub.execute_input": "2022-02-13T18:03:30.241135Z",
     "iopub.status.busy": "2022-02-13T18:03:30.240498Z",
     "iopub.status.idle": "2022-02-13T18:03:30.354174Z",
     "shell.execute_reply": "2022-02-13T18:03:30.353638Z",
     "shell.execute_reply.started": "2022-02-13T17:52:35.716166Z"
    },
    "papermill": {
     "duration": 0.155514,
     "end_time": "2022-02-13T18:03:30.354317",
     "exception": false,
     "start_time": "2022-02-13T18:03:30.198803",
     "status": "completed"
    },
    "tags": []
   },
   "outputs": [
    {
     "data": {
      "text/plain": [
       "array([0])"
      ]
     },
     "execution_count": 30,
     "metadata": {},
     "output_type": "execute_result"
    }
   ],
   "source": [
    "new_review = pd.Series(\"look at that shit very bad\")\n",
    "new_review = TfidfVectorizer().fit(X).transform(new_review)\n",
    "\n",
    "log_model.predict(new_review)"
   ]
  },
  {
   "cell_type": "code",
   "execution_count": 31,
   "id": "f9fd60b8",
   "metadata": {
    "_cell_guid": "c233d77a-64cf-44cd-a82b-54275631ddbf",
    "_uuid": "369d98f6-ce90-466d-9c2a-0eb711fc5a3d",
    "collapsed": false,
    "execution": {
     "iopub.execute_input": "2022-02-13T18:03:30.436419Z",
     "iopub.status.busy": "2022-02-13T18:03:30.435515Z",
     "iopub.status.idle": "2022-02-13T18:03:30.548202Z",
     "shell.execute_reply": "2022-02-13T18:03:30.548658Z",
     "shell.execute_reply.started": "2022-02-13T17:52:45.399762Z"
    },
    "jupyter": {
     "outputs_hidden": false
    },
    "papermill": {
     "duration": 0.15542,
     "end_time": "2022-02-13T18:03:30.548844",
     "exception": false,
     "start_time": "2022-02-13T18:03:30.393424",
     "status": "completed"
    },
    "tags": []
   },
   "outputs": [
    {
     "data": {
      "text/plain": [
       "array([1])"
      ]
     },
     "execution_count": 31,
     "metadata": {},
     "output_type": "execute_result"
    }
   ],
   "source": [
    "random_review = pd.Series(df[\"reviewText\"].sample(1).values)\n",
    "\n",
    "new_review = TfidfVectorizer().fit(X).transform(random_review)\n",
    "\n",
    "log_model.predict(new_review)"
   ]
  },
  {
   "cell_type": "code",
   "execution_count": 32,
   "id": "1557fe50",
   "metadata": {
    "_cell_guid": "c233d77a-64cf-44cd-a82b-54275631ddbf",
    "_uuid": "369d98f6-ce90-466d-9c2a-0eb711fc5a3d",
    "collapsed": false,
    "execution": {
     "iopub.execute_input": "2022-02-13T18:03:30.630896Z",
     "iopub.status.busy": "2022-02-13T18:03:30.630250Z",
     "iopub.status.idle": "2022-02-13T18:03:40.810674Z",
     "shell.execute_reply": "2022-02-13T18:03:40.810066Z",
     "shell.execute_reply.started": "2022-02-13T17:52:56.871125Z"
    },
    "jupyter": {
     "outputs_hidden": false
    },
    "papermill": {
     "duration": 10.222511,
     "end_time": "2022-02-13T18:03:40.810815",
     "exception": false,
     "start_time": "2022-02-13T18:03:30.588304",
     "status": "completed"
    },
    "tags": []
   },
   "outputs": [
    {
     "data": {
      "text/plain": [
       "0.8425228891149542"
      ]
     },
     "execution_count": 32,
     "metadata": {},
     "output_type": "execute_result"
    }
   ],
   "source": [
    "###############################\n",
    "# Random Forests\n",
    "###############################\n",
    "\n",
    "# Count Vectors\n",
    "rf_model = RandomForestClassifier().fit(X_count, y)\n",
    "cross_val_score(rf_model, X_count, y, cv=5, n_jobs=-1).mean()"
   ]
  },
  {
   "cell_type": "code",
   "execution_count": 33,
   "id": "ae26ab44",
   "metadata": {
    "_cell_guid": "c233d77a-64cf-44cd-a82b-54275631ddbf",
    "_uuid": "369d98f6-ce90-466d-9c2a-0eb711fc5a3d",
    "collapsed": false,
    "execution": {
     "iopub.execute_input": "2022-02-13T18:03:40.896605Z",
     "iopub.status.busy": "2022-02-13T18:03:40.895967Z",
     "iopub.status.idle": "2022-02-13T18:03:48.886180Z",
     "shell.execute_reply": "2022-02-13T18:03:48.886621Z",
     "shell.execute_reply.started": "2022-02-13T17:53:11.232551Z"
    },
    "jupyter": {
     "outputs_hidden": false
    },
    "papermill": {
     "duration": 8.034176,
     "end_time": "2022-02-13T18:03:48.886799",
     "exception": false,
     "start_time": "2022-02-13T18:03:40.852623",
     "status": "completed"
    },
    "tags": []
   },
   "outputs": [
    {
     "data": {
      "text/plain": [
       "0.8295015259409968"
      ]
     },
     "execution_count": 33,
     "metadata": {},
     "output_type": "execute_result"
    }
   ],
   "source": [
    "# TF-IDF Word-Level\n",
    "rf_model = RandomForestClassifier().fit(X_tf_idf_word, y)\n",
    "cross_val_score(rf_model, X_tf_idf_word, y, cv=5, n_jobs=-1).mean()"
   ]
  },
  {
   "cell_type": "code",
   "execution_count": 34,
   "id": "5666a658",
   "metadata": {
    "_cell_guid": "c233d77a-64cf-44cd-a82b-54275631ddbf",
    "_uuid": "369d98f6-ce90-466d-9c2a-0eb711fc5a3d",
    "collapsed": false,
    "execution": {
     "iopub.execute_input": "2022-02-13T18:03:48.973426Z",
     "iopub.status.busy": "2022-02-13T18:03:48.972495Z",
     "iopub.status.idle": "2022-02-13T18:06:32.099281Z",
     "shell.execute_reply": "2022-02-13T18:06:32.099755Z",
     "shell.execute_reply.started": "2022-02-13T17:53:19.884248Z"
    },
    "jupyter": {
     "outputs_hidden": false
    },
    "papermill": {
     "duration": 163.173052,
     "end_time": "2022-02-13T18:06:32.099932",
     "exception": false,
     "start_time": "2022-02-13T18:03:48.926880",
     "status": "completed"
    },
    "tags": []
   },
   "outputs": [
    {
     "data": {
      "text/plain": [
       "0.7869786368260427"
      ]
     },
     "execution_count": 34,
     "metadata": {},
     "output_type": "execute_result"
    }
   ],
   "source": [
    "# TF-IDF N-GRAM\n",
    "rf_model = RandomForestClassifier().fit(X_tf_idf_ngram, y)\n",
    "cross_val_score(rf_model, X_tf_idf_ngram, y, cv=5, n_jobs=-1).mean()"
   ]
  },
  {
   "cell_type": "code",
   "execution_count": 35,
   "id": "e7fef127",
   "metadata": {
    "_cell_guid": "c233d77a-64cf-44cd-a82b-54275631ddbf",
    "_uuid": "369d98f6-ce90-466d-9c2a-0eb711fc5a3d",
    "collapsed": false,
    "execution": {
     "iopub.execute_input": "2022-02-13T18:06:32.188356Z",
     "iopub.status.busy": "2022-02-13T18:06:32.187706Z",
     "iopub.status.idle": "2022-02-13T18:07:41.495962Z",
     "shell.execute_reply": "2022-02-13T18:07:41.496531Z",
     "shell.execute_reply.started": "2022-02-13T17:57:23.689763Z"
    },
    "jupyter": {
     "outputs_hidden": false
    },
    "papermill": {
     "duration": 69.353185,
     "end_time": "2022-02-13T18:07:41.496730",
     "exception": false,
     "start_time": "2022-02-13T18:06:32.143545",
     "status": "completed"
    },
    "tags": []
   },
   "outputs": [
    {
     "name": "stdout",
     "output_type": "stream",
     "text": [
      "Fitting 5 folds for each of 24 candidates, totalling 120 fits\n"
     ]
    },
    {
     "name": "stderr",
     "output_type": "stream",
     "text": [
      "[Parallel(n_jobs=-1)]: Using backend LokyBackend with 4 concurrent workers.\n",
      "[Parallel(n_jobs=-1)]: Done  42 tasks      | elapsed:    6.7s\n",
      "[Parallel(n_jobs=-1)]: Done 120 out of 120 | elapsed:  1.1min finished\n"
     ]
    }
   ],
   "source": [
    "###############################\n",
    "# Hyperparameter Optimization\n",
    "###############################\n",
    "\n",
    "rf_model = RandomForestClassifier(random_state=17)\n",
    "\n",
    "rf_params = {\"max_depth\": [8, None],\n",
    "             \"max_features\": [7, \"auto\"],\n",
    "             \"min_samples_split\": [2, 5, 8],\n",
    "             \"n_estimators\": [100, 200]}\n",
    "\n",
    "rf_best_grid = GridSearchCV(rf_model,\n",
    "                            rf_params,\n",
    "                            cv=5,\n",
    "                            n_jobs=-1,\n",
    "                            verbose=1).fit(X_count, y)"
   ]
  },
  {
   "cell_type": "code",
   "execution_count": 36,
   "id": "a965b854",
   "metadata": {
    "_cell_guid": "c233d77a-64cf-44cd-a82b-54275631ddbf",
    "_uuid": "369d98f6-ce90-466d-9c2a-0eb711fc5a3d",
    "collapsed": false,
    "execution": {
     "iopub.execute_input": "2022-02-13T18:07:41.584234Z",
     "iopub.status.busy": "2022-02-13T18:07:41.583586Z",
     "iopub.status.idle": "2022-02-13T18:07:41.589070Z",
     "shell.execute_reply": "2022-02-13T18:07:41.589617Z",
     "shell.execute_reply.started": "2022-02-13T17:58:36.372416Z"
    },
    "jupyter": {
     "outputs_hidden": false
    },
    "papermill": {
     "duration": 0.050487,
     "end_time": "2022-02-13T18:07:41.589786",
     "exception": false,
     "start_time": "2022-02-13T18:07:41.539299",
     "status": "completed"
    },
    "tags": []
   },
   "outputs": [
    {
     "data": {
      "text/plain": [
       "{'max_depth': None,\n",
       " 'max_features': 'auto',\n",
       " 'min_samples_split': 2,\n",
       " 'n_estimators': 100}"
      ]
     },
     "execution_count": 36,
     "metadata": {},
     "output_type": "execute_result"
    }
   ],
   "source": [
    "rf_best_grid.best_params_"
   ]
  },
  {
   "cell_type": "code",
   "execution_count": 37,
   "id": "8bc5efbc",
   "metadata": {
    "_cell_guid": "c233d77a-64cf-44cd-a82b-54275631ddbf",
    "_uuid": "369d98f6-ce90-466d-9c2a-0eb711fc5a3d",
    "collapsed": false,
    "execution": {
     "iopub.execute_input": "2022-02-13T18:07:41.679242Z",
     "iopub.status.busy": "2022-02-13T18:07:41.676649Z",
     "iopub.status.idle": "2022-02-13T18:07:43.937214Z",
     "shell.execute_reply": "2022-02-13T18:07:43.937670Z",
     "shell.execute_reply.started": "2022-02-13T17:59:09.058023Z"
    },
    "jupyter": {
     "outputs_hidden": false
    },
    "papermill": {
     "duration": 2.306219,
     "end_time": "2022-02-13T18:07:43.937848",
     "exception": false,
     "start_time": "2022-02-13T18:07:41.631629",
     "status": "completed"
    },
    "tags": []
   },
   "outputs": [],
   "source": [
    "rf_final = rf_model.set_params(**rf_best_grid.best_params_, random_state=17).fit(X_count, y)"
   ]
  },
  {
   "cell_type": "code",
   "execution_count": 38,
   "id": "fc977bde",
   "metadata": {
    "_cell_guid": "c233d77a-64cf-44cd-a82b-54275631ddbf",
    "_uuid": "369d98f6-ce90-466d-9c2a-0eb711fc5a3d",
    "collapsed": false,
    "execution": {
     "iopub.execute_input": "2022-02-13T18:07:44.027654Z",
     "iopub.status.busy": "2022-02-13T18:07:44.026931Z",
     "iopub.status.idle": "2022-02-13T18:07:49.309925Z",
     "shell.execute_reply": "2022-02-13T18:07:49.309262Z",
     "shell.execute_reply.started": "2022-02-13T17:59:16.519699Z"
    },
    "jupyter": {
     "outputs_hidden": false
    },
    "papermill": {
     "duration": 5.330264,
     "end_time": "2022-02-13T18:07:49.310099",
     "exception": false,
     "start_time": "2022-02-13T18:07:43.979835",
     "status": "completed"
    },
    "tags": []
   },
   "outputs": [
    {
     "data": {
      "text/plain": [
       "0.8408952187182095"
      ]
     },
     "execution_count": 38,
     "metadata": {},
     "output_type": "execute_result"
    }
   ],
   "source": [
    "cross_val_score(rf_final, X_count, y, cv=5, n_jobs=-1).mean()"
   ]
  }
 ],
 "metadata": {
  "kernelspec": {
   "display_name": "Python 3",
   "language": "python",
   "name": "python3"
  },
  "language_info": {
   "codemirror_mode": {
    "name": "ipython",
    "version": 3
   },
   "file_extension": ".py",
   "mimetype": "text/x-python",
   "name": "python",
   "nbconvert_exporter": "python",
   "pygments_lexer": "ipython3",
   "version": "3.7.12"
  },
  "papermill": {
   "default_parameters": {},
   "duration": 283.252489,
   "end_time": "2022-02-13T18:07:50.569722",
   "environment_variables": {},
   "exception": null,
   "input_path": "__notebook__.ipynb",
   "output_path": "__notebook__.ipynb",
   "parameters": {},
   "start_time": "2022-02-13T18:03:07.317233",
   "version": "2.3.3"
  }
 },
 "nbformat": 4,
 "nbformat_minor": 5
}
